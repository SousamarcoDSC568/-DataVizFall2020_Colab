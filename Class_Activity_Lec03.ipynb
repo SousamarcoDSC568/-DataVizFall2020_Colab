{
  "nbformat": 4,
  "nbformat_minor": 0,
  "metadata": {
    "colab": {
      "name": "Class_Activity_Lec03.ipynb",
      "provenance": [],
      "collapsed_sections": [],
      "include_colab_link": true
    },
    "kernelspec": {
      "name": "python3",
      "display_name": "Python 3"
    }
  },
  "cells": [
    {
      "cell_type": "markdown",
      "metadata": {
        "id": "view-in-github",
        "colab_type": "text"
      },
      "source": [
        "<a href=\"https://colab.research.google.com/github/SousamarcoDSC568/-DataVizFall2020_Colab/blob/master/Class_Activity_Lec03.ipynb\" target=\"_parent\"><img src=\"https://colab.research.google.com/assets/colab-badge.svg\" alt=\"Open In Colab\"/></a>"
      ]
    },
    {
      "cell_type": "markdown",
      "metadata": {
        "id": "Byjnt3sW70g2",
        "colab_type": "text"
      },
      "source": [
        "# Visualize New York times database for COVID-19\n",
        "## Case study Bristol and Suffolk, MA"
      ]
    },
    {
      "cell_type": "markdown",
      "metadata": {
        "id": "-yRKZ88f8Eit",
        "colab_type": "text"
      },
      "source": [
        "## Loading US County Level Data"
      ]
    },
    {
      "cell_type": "code",
      "metadata": {
        "id": "FmC4_RXYRmTQ",
        "colab_type": "code",
        "colab": {}
      },
      "source": [
        "import pandas as pd\n",
        "import matplotlib.pyplot as plt"
      ],
      "execution_count": 234,
      "outputs": []
    },
    {
      "cell_type": "code",
      "metadata": {
        "id": "Zx2TID5Q79vH",
        "colab_type": "code",
        "colab": {}
      },
      "source": [
        "# https://github.com/nytimes/covid-19-data repository location\n",
        "db = \"https://raw.githubusercontent.com/nytimes/covid-19-data/master/us-counties.csv\"\n",
        "## loading data into dataframe\n",
        "df = pd.read_csv(db)"
      ],
      "execution_count": 235,
      "outputs": []
    },
    {
      "cell_type": "markdown",
      "metadata": {
        "id": "Qmo3W6WqZc-o",
        "colab_type": "text"
      },
      "source": [
        "# Explore data"
      ]
    },
    {
      "cell_type": "code",
      "metadata": {
        "id": "1LFMv0CP7vf_",
        "colab_type": "code",
        "colab": {
          "base_uri": "https://localhost:8080/",
          "height": 206
        },
        "outputId": "c5bc5553-9658-46ca-f121-77467cab693d"
      },
      "source": [
        "#View top 5 rows\n",
        "df.head(5)"
      ],
      "execution_count": 236,
      "outputs": [
        {
          "output_type": "execute_result",
          "data": {
            "text/html": [
              "<div>\n",
              "<style scoped>\n",
              "    .dataframe tbody tr th:only-of-type {\n",
              "        vertical-align: middle;\n",
              "    }\n",
              "\n",
              "    .dataframe tbody tr th {\n",
              "        vertical-align: top;\n",
              "    }\n",
              "\n",
              "    .dataframe thead th {\n",
              "        text-align: right;\n",
              "    }\n",
              "</style>\n",
              "<table border=\"1\" class=\"dataframe\">\n",
              "  <thead>\n",
              "    <tr style=\"text-align: right;\">\n",
              "      <th></th>\n",
              "      <th>date</th>\n",
              "      <th>county</th>\n",
              "      <th>state</th>\n",
              "      <th>fips</th>\n",
              "      <th>cases</th>\n",
              "      <th>deaths</th>\n",
              "    </tr>\n",
              "  </thead>\n",
              "  <tbody>\n",
              "    <tr>\n",
              "      <th>0</th>\n",
              "      <td>2020-01-21</td>\n",
              "      <td>Snohomish</td>\n",
              "      <td>Washington</td>\n",
              "      <td>53061.0</td>\n",
              "      <td>1</td>\n",
              "      <td>0</td>\n",
              "    </tr>\n",
              "    <tr>\n",
              "      <th>1</th>\n",
              "      <td>2020-01-22</td>\n",
              "      <td>Snohomish</td>\n",
              "      <td>Washington</td>\n",
              "      <td>53061.0</td>\n",
              "      <td>1</td>\n",
              "      <td>0</td>\n",
              "    </tr>\n",
              "    <tr>\n",
              "      <th>2</th>\n",
              "      <td>2020-01-23</td>\n",
              "      <td>Snohomish</td>\n",
              "      <td>Washington</td>\n",
              "      <td>53061.0</td>\n",
              "      <td>1</td>\n",
              "      <td>0</td>\n",
              "    </tr>\n",
              "    <tr>\n",
              "      <th>3</th>\n",
              "      <td>2020-01-24</td>\n",
              "      <td>Cook</td>\n",
              "      <td>Illinois</td>\n",
              "      <td>17031.0</td>\n",
              "      <td>1</td>\n",
              "      <td>0</td>\n",
              "    </tr>\n",
              "    <tr>\n",
              "      <th>4</th>\n",
              "      <td>2020-01-24</td>\n",
              "      <td>Snohomish</td>\n",
              "      <td>Washington</td>\n",
              "      <td>53061.0</td>\n",
              "      <td>1</td>\n",
              "      <td>0</td>\n",
              "    </tr>\n",
              "  </tbody>\n",
              "</table>\n",
              "</div>"
            ],
            "text/plain": [
              "         date     county       state     fips  cases  deaths\n",
              "0  2020-01-21  Snohomish  Washington  53061.0      1       0\n",
              "1  2020-01-22  Snohomish  Washington  53061.0      1       0\n",
              "2  2020-01-23  Snohomish  Washington  53061.0      1       0\n",
              "3  2020-01-24       Cook    Illinois  17031.0      1       0\n",
              "4  2020-01-24  Snohomish  Washington  53061.0      1       0"
            ]
          },
          "metadata": {
            "tags": []
          },
          "execution_count": 236
        }
      ]
    },
    {
      "cell_type": "code",
      "metadata": {
        "id": "QpoWNDUxZgSJ",
        "colab_type": "code",
        "colab": {
          "base_uri": "https://localhost:8080/",
          "height": 146
        },
        "outputId": "66279527-901d-4919-873d-eb246182dd61"
      },
      "source": [
        "# Question: Display the number of unique values in each (for each) column.\n",
        "uniqueValues = df.nunique()\n",
        "uniqueValues"
      ],
      "execution_count": 239,
      "outputs": [
        {
          "output_type": "execute_result",
          "data": {
            "text/plain": [
              "date        234\n",
              "county     1923\n",
              "state        55\n",
              "fips       3205\n",
              "cases     16026\n",
              "deaths     2381\n",
              "dtype: int64"
            ]
          },
          "metadata": {
            "tags": []
          },
          "execution_count": 239
        }
      ]
    },
    {
      "cell_type": "code",
      "metadata": {
        "id": "n6KHjGs7RwaS",
        "colab_type": "code",
        "colab": {
          "base_uri": "https://localhost:8080/",
          "height": 54
        },
        "outputId": "38ffcdbb-775d-4b08-b7a0-84a1271c376b"
      },
      "source": [
        "# let us get fips for 2 counties  (Bristol and Suffolk, MA)\n",
        "## fips stands for : Federal Information Processing Standards\n",
        "\n",
        "specificDF = df[(df['county'] == 'Bristol') & (df['state']=='Massachusetts')]\n",
        "Bristol_fips = specificDF['fips'].unique()[0]\n",
        "\n",
        "specificDF = df[(df['county'] == 'Suffolk') & (df['state']=='Massachusetts')]\n",
        "Suffolk_fips = specificDF['fips'].unique()[0]\n",
        "\n",
        "print('Bristol_fips = ', Bristol_fips)\n",
        "print('Suffolk_fips = ', Suffolk_fips)"
      ],
      "execution_count": 241,
      "outputs": [
        {
          "output_type": "stream",
          "text": [
            "Bristol_fips =  25005.0\n",
            "Suffolk_fips =  25025.0\n"
          ],
          "name": "stdout"
        }
      ]
    },
    {
      "cell_type": "code",
      "metadata": {
        "id": "Z5FL80D4VjeY",
        "colab_type": "code",
        "colab": {
          "base_uri": "https://localhost:8080/",
          "height": 238
        },
        "outputId": "970ce39b-f7c4-48f1-e028-a9f6942f8be8"
      },
      "source": [
        "#I filter a given dataframe by a given fips value. I then set the date as the index and drop the fips column.\n",
        "\n",
        "def get_county_stat(data,fips_value):\n",
        "  output = data[data['fips'] == fips_value]\n",
        "  output = output.set_index('date')\n",
        "  output = output.drop('fips',axis =1)\n",
        "\n",
        "  return output\n",
        "\n",
        "get_county_stat(df,Bristol_fips).head()"
      ],
      "execution_count": 242,
      "outputs": [
        {
          "output_type": "execute_result",
          "data": {
            "text/html": [
              "<div>\n",
              "<style scoped>\n",
              "    .dataframe tbody tr th:only-of-type {\n",
              "        vertical-align: middle;\n",
              "    }\n",
              "\n",
              "    .dataframe tbody tr th {\n",
              "        vertical-align: top;\n",
              "    }\n",
              "\n",
              "    .dataframe thead th {\n",
              "        text-align: right;\n",
              "    }\n",
              "</style>\n",
              "<table border=\"1\" class=\"dataframe\">\n",
              "  <thead>\n",
              "    <tr style=\"text-align: right;\">\n",
              "      <th></th>\n",
              "      <th>county</th>\n",
              "      <th>state</th>\n",
              "      <th>cases</th>\n",
              "      <th>deaths</th>\n",
              "    </tr>\n",
              "    <tr>\n",
              "      <th>date</th>\n",
              "      <th></th>\n",
              "      <th></th>\n",
              "      <th></th>\n",
              "      <th></th>\n",
              "    </tr>\n",
              "  </thead>\n",
              "  <tbody>\n",
              "    <tr>\n",
              "      <th>2020-03-14</th>\n",
              "      <td>Bristol</td>\n",
              "      <td>Massachusetts</td>\n",
              "      <td>1</td>\n",
              "      <td>0</td>\n",
              "    </tr>\n",
              "    <tr>\n",
              "      <th>2020-03-15</th>\n",
              "      <td>Bristol</td>\n",
              "      <td>Massachusetts</td>\n",
              "      <td>1</td>\n",
              "      <td>0</td>\n",
              "    </tr>\n",
              "    <tr>\n",
              "      <th>2020-03-16</th>\n",
              "      <td>Bristol</td>\n",
              "      <td>Massachusetts</td>\n",
              "      <td>2</td>\n",
              "      <td>0</td>\n",
              "    </tr>\n",
              "    <tr>\n",
              "      <th>2020-03-17</th>\n",
              "      <td>Bristol</td>\n",
              "      <td>Massachusetts</td>\n",
              "      <td>5</td>\n",
              "      <td>0</td>\n",
              "    </tr>\n",
              "    <tr>\n",
              "      <th>2020-03-18</th>\n",
              "      <td>Bristol</td>\n",
              "      <td>Massachusetts</td>\n",
              "      <td>5</td>\n",
              "      <td>0</td>\n",
              "    </tr>\n",
              "  </tbody>\n",
              "</table>\n",
              "</div>"
            ],
            "text/plain": [
              "             county          state  cases  deaths\n",
              "date                                             \n",
              "2020-03-14  Bristol  Massachusetts      1       0\n",
              "2020-03-15  Bristol  Massachusetts      1       0\n",
              "2020-03-16  Bristol  Massachusetts      2       0\n",
              "2020-03-17  Bristol  Massachusetts      5       0\n",
              "2020-03-18  Bristol  Massachusetts      5       0"
            ]
          },
          "metadata": {
            "tags": []
          },
          "execution_count": 242
        }
      ]
    },
    {
      "cell_type": "markdown",
      "metadata": {
        "id": "ZdvAU6NsXmXZ",
        "colab_type": "text"
      },
      "source": [
        "## Explore data type"
      ]
    },
    {
      "cell_type": "code",
      "metadata": {
        "id": "SqrW8_oTXlxH",
        "colab_type": "code",
        "colab": {}
      },
      "source": [
        "df_Bristol = get_county_stat(df,25005)\n",
        "df_Suffolk = get_county_stat(df,25025)"
      ],
      "execution_count": 243,
      "outputs": []
    },
    {
      "cell_type": "code",
      "metadata": {
        "id": "vwRGdYY0S2I1",
        "colab_type": "code",
        "colab": {
          "base_uri": "https://localhost:8080/",
          "height": 455
        },
        "outputId": "b79052fc-ee86-4134-b0d0-a8557b61d46b"
      },
      "source": [
        "df_Bristol.index = pd.to_datetime(df_Bristol.index)\n",
        "df_Bristol"
      ],
      "execution_count": 244,
      "outputs": [
        {
          "output_type": "execute_result",
          "data": {
            "text/html": [
              "<div>\n",
              "<style scoped>\n",
              "    .dataframe tbody tr th:only-of-type {\n",
              "        vertical-align: middle;\n",
              "    }\n",
              "\n",
              "    .dataframe tbody tr th {\n",
              "        vertical-align: top;\n",
              "    }\n",
              "\n",
              "    .dataframe thead th {\n",
              "        text-align: right;\n",
              "    }\n",
              "</style>\n",
              "<table border=\"1\" class=\"dataframe\">\n",
              "  <thead>\n",
              "    <tr style=\"text-align: right;\">\n",
              "      <th></th>\n",
              "      <th>county</th>\n",
              "      <th>state</th>\n",
              "      <th>cases</th>\n",
              "      <th>deaths</th>\n",
              "    </tr>\n",
              "    <tr>\n",
              "      <th>date</th>\n",
              "      <th></th>\n",
              "      <th></th>\n",
              "      <th></th>\n",
              "      <th></th>\n",
              "    </tr>\n",
              "  </thead>\n",
              "  <tbody>\n",
              "    <tr>\n",
              "      <th>2020-03-14</th>\n",
              "      <td>Bristol</td>\n",
              "      <td>Massachusetts</td>\n",
              "      <td>1</td>\n",
              "      <td>0</td>\n",
              "    </tr>\n",
              "    <tr>\n",
              "      <th>2020-03-15</th>\n",
              "      <td>Bristol</td>\n",
              "      <td>Massachusetts</td>\n",
              "      <td>1</td>\n",
              "      <td>0</td>\n",
              "    </tr>\n",
              "    <tr>\n",
              "      <th>2020-03-16</th>\n",
              "      <td>Bristol</td>\n",
              "      <td>Massachusetts</td>\n",
              "      <td>2</td>\n",
              "      <td>0</td>\n",
              "    </tr>\n",
              "    <tr>\n",
              "      <th>2020-03-17</th>\n",
              "      <td>Bristol</td>\n",
              "      <td>Massachusetts</td>\n",
              "      <td>5</td>\n",
              "      <td>0</td>\n",
              "    </tr>\n",
              "    <tr>\n",
              "      <th>2020-03-18</th>\n",
              "      <td>Bristol</td>\n",
              "      <td>Massachusetts</td>\n",
              "      <td>5</td>\n",
              "      <td>0</td>\n",
              "    </tr>\n",
              "    <tr>\n",
              "      <th>...</th>\n",
              "      <td>...</td>\n",
              "      <td>...</td>\n",
              "      <td>...</td>\n",
              "      <td>...</td>\n",
              "    </tr>\n",
              "    <tr>\n",
              "      <th>2020-09-06</th>\n",
              "      <td>Bristol</td>\n",
              "      <td>Massachusetts</td>\n",
              "      <td>9365</td>\n",
              "      <td>664</td>\n",
              "    </tr>\n",
              "    <tr>\n",
              "      <th>2020-09-07</th>\n",
              "      <td>Bristol</td>\n",
              "      <td>Massachusetts</td>\n",
              "      <td>9393</td>\n",
              "      <td>667</td>\n",
              "    </tr>\n",
              "    <tr>\n",
              "      <th>2020-09-08</th>\n",
              "      <td>Bristol</td>\n",
              "      <td>Massachusetts</td>\n",
              "      <td>9409</td>\n",
              "      <td>668</td>\n",
              "    </tr>\n",
              "    <tr>\n",
              "      <th>2020-09-09</th>\n",
              "      <td>Bristol</td>\n",
              "      <td>Massachusetts</td>\n",
              "      <td>9418</td>\n",
              "      <td>668</td>\n",
              "    </tr>\n",
              "    <tr>\n",
              "      <th>2020-09-10</th>\n",
              "      <td>Bristol</td>\n",
              "      <td>Massachusetts</td>\n",
              "      <td>9448</td>\n",
              "      <td>670</td>\n",
              "    </tr>\n",
              "  </tbody>\n",
              "</table>\n",
              "<p>181 rows × 4 columns</p>\n",
              "</div>"
            ],
            "text/plain": [
              "             county          state  cases  deaths\n",
              "date                                             \n",
              "2020-03-14  Bristol  Massachusetts      1       0\n",
              "2020-03-15  Bristol  Massachusetts      1       0\n",
              "2020-03-16  Bristol  Massachusetts      2       0\n",
              "2020-03-17  Bristol  Massachusetts      5       0\n",
              "2020-03-18  Bristol  Massachusetts      5       0\n",
              "...             ...            ...    ...     ...\n",
              "2020-09-06  Bristol  Massachusetts   9365     664\n",
              "2020-09-07  Bristol  Massachusetts   9393     667\n",
              "2020-09-08  Bristol  Massachusetts   9409     668\n",
              "2020-09-09  Bristol  Massachusetts   9418     668\n",
              "2020-09-10  Bristol  Massachusetts   9448     670\n",
              "\n",
              "[181 rows x 4 columns]"
            ]
          },
          "metadata": {
            "tags": []
          },
          "execution_count": 244
        }
      ]
    },
    {
      "cell_type": "code",
      "metadata": {
        "id": "c1lGm3bFTB-K",
        "colab_type": "code",
        "colab": {
          "base_uri": "https://localhost:8080/",
          "height": 455
        },
        "outputId": "6df97f03-21f2-4c76-fe34-946d011cd9e5"
      },
      "source": [
        "df_Suffolk.index = pd.to_datetime(df_Suffolk.index)\n",
        "df_Suffolk"
      ],
      "execution_count": 245,
      "outputs": [
        {
          "output_type": "execute_result",
          "data": {
            "text/html": [
              "<div>\n",
              "<style scoped>\n",
              "    .dataframe tbody tr th:only-of-type {\n",
              "        vertical-align: middle;\n",
              "    }\n",
              "\n",
              "    .dataframe tbody tr th {\n",
              "        vertical-align: top;\n",
              "    }\n",
              "\n",
              "    .dataframe thead th {\n",
              "        text-align: right;\n",
              "    }\n",
              "</style>\n",
              "<table border=\"1\" class=\"dataframe\">\n",
              "  <thead>\n",
              "    <tr style=\"text-align: right;\">\n",
              "      <th></th>\n",
              "      <th>county</th>\n",
              "      <th>state</th>\n",
              "      <th>cases</th>\n",
              "      <th>deaths</th>\n",
              "    </tr>\n",
              "    <tr>\n",
              "      <th>date</th>\n",
              "      <th></th>\n",
              "      <th></th>\n",
              "      <th></th>\n",
              "      <th></th>\n",
              "    </tr>\n",
              "  </thead>\n",
              "  <tbody>\n",
              "    <tr>\n",
              "      <th>2020-02-01</th>\n",
              "      <td>Suffolk</td>\n",
              "      <td>Massachusetts</td>\n",
              "      <td>1</td>\n",
              "      <td>0</td>\n",
              "    </tr>\n",
              "    <tr>\n",
              "      <th>2020-02-02</th>\n",
              "      <td>Suffolk</td>\n",
              "      <td>Massachusetts</td>\n",
              "      <td>1</td>\n",
              "      <td>0</td>\n",
              "    </tr>\n",
              "    <tr>\n",
              "      <th>2020-02-03</th>\n",
              "      <td>Suffolk</td>\n",
              "      <td>Massachusetts</td>\n",
              "      <td>1</td>\n",
              "      <td>0</td>\n",
              "    </tr>\n",
              "    <tr>\n",
              "      <th>2020-02-04</th>\n",
              "      <td>Suffolk</td>\n",
              "      <td>Massachusetts</td>\n",
              "      <td>1</td>\n",
              "      <td>0</td>\n",
              "    </tr>\n",
              "    <tr>\n",
              "      <th>2020-02-05</th>\n",
              "      <td>Suffolk</td>\n",
              "      <td>Massachusetts</td>\n",
              "      <td>1</td>\n",
              "      <td>0</td>\n",
              "    </tr>\n",
              "    <tr>\n",
              "      <th>...</th>\n",
              "      <td>...</td>\n",
              "      <td>...</td>\n",
              "      <td>...</td>\n",
              "      <td>...</td>\n",
              "    </tr>\n",
              "    <tr>\n",
              "      <th>2020-09-06</th>\n",
              "      <td>Suffolk</td>\n",
              "      <td>Massachusetts</td>\n",
              "      <td>22697</td>\n",
              "      <td>1110</td>\n",
              "    </tr>\n",
              "    <tr>\n",
              "      <th>2020-09-07</th>\n",
              "      <td>Suffolk</td>\n",
              "      <td>Massachusetts</td>\n",
              "      <td>22756</td>\n",
              "      <td>1111</td>\n",
              "    </tr>\n",
              "    <tr>\n",
              "      <th>2020-09-08</th>\n",
              "      <td>Suffolk</td>\n",
              "      <td>Massachusetts</td>\n",
              "      <td>22788</td>\n",
              "      <td>1111</td>\n",
              "    </tr>\n",
              "    <tr>\n",
              "      <th>2020-09-09</th>\n",
              "      <td>Suffolk</td>\n",
              "      <td>Massachusetts</td>\n",
              "      <td>22831</td>\n",
              "      <td>1111</td>\n",
              "    </tr>\n",
              "    <tr>\n",
              "      <th>2020-09-10</th>\n",
              "      <td>Suffolk</td>\n",
              "      <td>Massachusetts</td>\n",
              "      <td>22920</td>\n",
              "      <td>1113</td>\n",
              "    </tr>\n",
              "  </tbody>\n",
              "</table>\n",
              "<p>223 rows × 4 columns</p>\n",
              "</div>"
            ],
            "text/plain": [
              "             county          state  cases  deaths\n",
              "date                                             \n",
              "2020-02-01  Suffolk  Massachusetts      1       0\n",
              "2020-02-02  Suffolk  Massachusetts      1       0\n",
              "2020-02-03  Suffolk  Massachusetts      1       0\n",
              "2020-02-04  Suffolk  Massachusetts      1       0\n",
              "2020-02-05  Suffolk  Massachusetts      1       0\n",
              "...             ...            ...    ...     ...\n",
              "2020-09-06  Suffolk  Massachusetts  22697    1110\n",
              "2020-09-07  Suffolk  Massachusetts  22756    1111\n",
              "2020-09-08  Suffolk  Massachusetts  22788    1111\n",
              "2020-09-09  Suffolk  Massachusetts  22831    1111\n",
              "2020-09-10  Suffolk  Massachusetts  22920    1113\n",
              "\n",
              "[223 rows x 4 columns]"
            ]
          },
          "metadata": {
            "tags": []
          },
          "execution_count": 245
        }
      ]
    },
    {
      "cell_type": "code",
      "metadata": {
        "id": "0pYorairfBp7",
        "colab_type": "code",
        "colab": {
          "base_uri": "https://localhost:8080/",
          "height": 299
        },
        "outputId": "ec3604ae-898c-4b4f-8546-4b2b2e6b50ef"
      },
      "source": [
        "\n",
        "plt.plot(df_Bristol.index, df_Bristol.cases, '-.',label = 'bristol cases')\n",
        "plt.plot(df_Bristol.index, df_Bristol.deaths, '-.',label = 'bristol deaths')\n",
        "plt.plot(df_Suffolk.index, df_Suffolk.cases, '-.',label = 'suffolk cases')\n",
        "plt.plot(df_Suffolk.index, df_Suffolk.deaths, '-.',label = 'suffolk deaths')\n",
        "plt.title('Bristol vs Suffolk')\n",
        "plt.legend()\n"
      ],
      "execution_count": 246,
      "outputs": [
        {
          "output_type": "execute_result",
          "data": {
            "text/plain": [
              "<matplotlib.legend.Legend at 0x7ff2ae85d2b0>"
            ]
          },
          "metadata": {
            "tags": []
          },
          "execution_count": 246
        },
        {
          "output_type": "display_data",
          "data": {
            "image/png": "[encoded data removed]",
            "text/plain": [
              "<Figure size 432x288 with 1 Axes>"
            ]
          },
          "metadata": {
            "tags": [],
            "needs_background": "light"
          }
        }
      ]
    },
    {
      "cell_type": "markdown",
      "metadata": {
        "id": "Th28E7Z8q-aj",
        "colab_type": "text"
      },
      "source": [
        "### I had some trouble with the bar plot. The following is junk I tried. ###"
      ]
    },
    {
      "cell_type": "code",
      "metadata": {
        "id": "ch-RxxARM4TZ",
        "colab_type": "code",
        "colab": {
          "base_uri": "https://localhost:8080/",
          "height": 265
        },
        "outputId": "3e8a7364-a5bd-432b-92b2-15be64517088"
      },
      "source": [
        "\n",
        "p1 = plt.bar(df_Bristol.index, df_Bristol.deaths)\n",
        "p2 = plt.bar(df_Suffolk.index, df_Suffolk.deaths)"
      ],
      "execution_count": 169,
      "outputs": [
        {
          "output_type": "display_data",
          "data": {
            "image/png": "[encoded data removed]",
            "text/plain": [
              "<Figure size 432x288 with 1 Axes>"
            ]
          },
          "metadata": {
            "tags": [],
            "needs_background": "light"
          }
        }
      ]
    },
    {
      "cell_type": "code",
      "metadata": {
        "id": "lxqUj32qYUkE",
        "colab_type": "code",
        "colab": {
          "base_uri": "https://localhost:8080/",
          "height": 265
        },
        "outputId": "09e31c88-c0f7-4d3e-d05e-546b5bc724e5"
      },
      "source": [
        "p2 = plt.bar(df_Suffolk.index, df_Suffolk.deaths)"
      ],
      "execution_count": 155,
      "outputs": [
        {
          "output_type": "display_data",
          "data": {
            "image/png": "[encoded data removed]",
            "text/plain": [
              "<Figure size 432x288 with 1 Axes>"
            ]
          },
          "metadata": {
            "tags": [],
            "needs_background": "light"
          }
        }
      ]
    },
    {
      "cell_type": "code",
      "metadata": {
        "id": "G5k4FLqhdBku",
        "colab_type": "code",
        "colab": {
          "base_uri": "https://localhost:8080/",
          "height": 455
        },
        "outputId": "efd9c765-a58b-44db-9baa-64d5b88ec6bd"
      },
      "source": [
        "df4 = df.set_index('date')\n",
        "df4.index = pd.to_datetime(df4.index)\n",
        "df4"
      ],
      "execution_count": 176,
      "outputs": [
        {
          "output_type": "execute_result",
          "data": {
            "text/html": [
              "<div>\n",
              "<style scoped>\n",
              "    .dataframe tbody tr th:only-of-type {\n",
              "        vertical-align: middle;\n",
              "    }\n",
              "\n",
              "    .dataframe tbody tr th {\n",
              "        vertical-align: top;\n",
              "    }\n",
              "\n",
              "    .dataframe thead th {\n",
              "        text-align: right;\n",
              "    }\n",
              "</style>\n",
              "<table border=\"1\" class=\"dataframe\">\n",
              "  <thead>\n",
              "    <tr style=\"text-align: right;\">\n",
              "      <th></th>\n",
              "      <th>county</th>\n",
              "      <th>state</th>\n",
              "      <th>fips</th>\n",
              "      <th>cases</th>\n",
              "      <th>deaths</th>\n",
              "    </tr>\n",
              "    <tr>\n",
              "      <th>date</th>\n",
              "      <th></th>\n",
              "      <th></th>\n",
              "      <th></th>\n",
              "      <th></th>\n",
              "      <th></th>\n",
              "    </tr>\n",
              "  </thead>\n",
              "  <tbody>\n",
              "    <tr>\n",
              "      <th>2020-01-21</th>\n",
              "      <td>Snohomish</td>\n",
              "      <td>Washington</td>\n",
              "      <td>53061.0</td>\n",
              "      <td>1</td>\n",
              "      <td>0</td>\n",
              "    </tr>\n",
              "    <tr>\n",
              "      <th>2020-01-22</th>\n",
              "      <td>Snohomish</td>\n",
              "      <td>Washington</td>\n",
              "      <td>53061.0</td>\n",
              "      <td>1</td>\n",
              "      <td>0</td>\n",
              "    </tr>\n",
              "    <tr>\n",
              "      <th>2020-01-23</th>\n",
              "      <td>Snohomish</td>\n",
              "      <td>Washington</td>\n",
              "      <td>53061.0</td>\n",
              "      <td>1</td>\n",
              "      <td>0</td>\n",
              "    </tr>\n",
              "    <tr>\n",
              "      <th>2020-01-24</th>\n",
              "      <td>Cook</td>\n",
              "      <td>Illinois</td>\n",
              "      <td>17031.0</td>\n",
              "      <td>1</td>\n",
              "      <td>0</td>\n",
              "    </tr>\n",
              "    <tr>\n",
              "      <th>2020-01-24</th>\n",
              "      <td>Snohomish</td>\n",
              "      <td>Washington</td>\n",
              "      <td>53061.0</td>\n",
              "      <td>1</td>\n",
              "      <td>0</td>\n",
              "    </tr>\n",
              "    <tr>\n",
              "      <th>...</th>\n",
              "      <td>...</td>\n",
              "      <td>...</td>\n",
              "      <td>...</td>\n",
              "      <td>...</td>\n",
              "      <td>...</td>\n",
              "    </tr>\n",
              "    <tr>\n",
              "      <th>2020-09-10</th>\n",
              "      <td>Sweetwater</td>\n",
              "      <td>Wyoming</td>\n",
              "      <td>56037.0</td>\n",
              "      <td>319</td>\n",
              "      <td>2</td>\n",
              "    </tr>\n",
              "    <tr>\n",
              "      <th>2020-09-10</th>\n",
              "      <td>Teton</td>\n",
              "      <td>Wyoming</td>\n",
              "      <td>56039.0</td>\n",
              "      <td>453</td>\n",
              "      <td>1</td>\n",
              "    </tr>\n",
              "    <tr>\n",
              "      <th>2020-09-10</th>\n",
              "      <td>Uinta</td>\n",
              "      <td>Wyoming</td>\n",
              "      <td>56041.0</td>\n",
              "      <td>310</td>\n",
              "      <td>2</td>\n",
              "    </tr>\n",
              "    <tr>\n",
              "      <th>2020-09-10</th>\n",
              "      <td>Washakie</td>\n",
              "      <td>Wyoming</td>\n",
              "      <td>56043.0</td>\n",
              "      <td>110</td>\n",
              "      <td>6</td>\n",
              "    </tr>\n",
              "    <tr>\n",
              "      <th>2020-09-10</th>\n",
              "      <td>Weston</td>\n",
              "      <td>Wyoming</td>\n",
              "      <td>56045.0</td>\n",
              "      <td>21</td>\n",
              "      <td>0</td>\n",
              "    </tr>\n",
              "  </tbody>\n",
              "</table>\n",
              "<p>521534 rows × 5 columns</p>\n",
              "</div>"
            ],
            "text/plain": [
              "                county       state     fips  cases  deaths\n",
              "date                                                      \n",
              "2020-01-21   Snohomish  Washington  53061.0      1       0\n",
              "2020-01-22   Snohomish  Washington  53061.0      1       0\n",
              "2020-01-23   Snohomish  Washington  53061.0      1       0\n",
              "2020-01-24        Cook    Illinois  17031.0      1       0\n",
              "2020-01-24   Snohomish  Washington  53061.0      1       0\n",
              "...                ...         ...      ...    ...     ...\n",
              "2020-09-10  Sweetwater     Wyoming  56037.0    319       2\n",
              "2020-09-10       Teton     Wyoming  56039.0    453       1\n",
              "2020-09-10       Uinta     Wyoming  56041.0    310       2\n",
              "2020-09-10    Washakie     Wyoming  56043.0    110       6\n",
              "2020-09-10      Weston     Wyoming  56045.0     21       0\n",
              "\n",
              "[521534 rows x 5 columns]"
            ]
          },
          "metadata": {
            "tags": []
          },
          "execution_count": 176
        }
      ]
    },
    {
      "cell_type": "code",
      "metadata": {
        "id": "Qah7Raczaspn",
        "colab_type": "code",
        "colab": {
          "base_uri": "https://localhost:8080/",
          "height": 401
        },
        "outputId": "50827ee1-bf82-407b-fb14-9885e0186549"
      },
      "source": [
        "#ax = df4.plot(kind='bar', y=df.deaths, x=df_Suffolk.index,bottom=df_Bristol.deaths, stacked=True)\n",
        "\n",
        "df4.plot(kind='bar', x=df4.index, y=df4.deaths, color='red')"
      ],
      "execution_count": 175,
      "outputs": [
        {
          "output_type": "error",
          "ename": "KeyError",
          "evalue": "ignored",
          "traceback": [
            "\u001b[0;31m---------------------------------------------------------------------------\u001b[0m",
            "\u001b[0;31mKeyError\u001b[0m                                  Traceback (most recent call last)",
            "\u001b[0;32m<ipython-input-175-115c71f36346>\u001b[0m in \u001b[0;36m<module>\u001b[0;34m()\u001b[0m\n\u001b[1;32m      1\u001b[0m \u001b[0;31m#ax = df4.plot(kind='bar', y=df.deaths, x=df_Suffolk.index,bottom=df_Bristol.deaths, stacked=True)\u001b[0m\u001b[0;34m\u001b[0m\u001b[0;34m\u001b[0m\u001b[0;34m\u001b[0m\u001b[0m\n\u001b[1;32m      2\u001b[0m \u001b[0;34m\u001b[0m\u001b[0m\n\u001b[0;32m----> 3\u001b[0;31m \u001b[0mdf4\u001b[0m\u001b[0;34m.\u001b[0m\u001b[0mplot\u001b[0m\u001b[0;34m(\u001b[0m\u001b[0mkind\u001b[0m\u001b[0;34m=\u001b[0m\u001b[0;34m'bar'\u001b[0m\u001b[0;34m,\u001b[0m \u001b[0mx\u001b[0m\u001b[0;34m=\u001b[0m\u001b[0mdf4\u001b[0m\u001b[0;34m.\u001b[0m\u001b[0mindex\u001b[0m\u001b[0;34m,\u001b[0m \u001b[0my\u001b[0m\u001b[0;34m=\u001b[0m\u001b[0mdf4\u001b[0m\u001b[0;34m.\u001b[0m\u001b[0mdeaths\u001b[0m\u001b[0;34m,\u001b[0m \u001b[0mcolor\u001b[0m\u001b[0;34m=\u001b[0m\u001b[0;34m'red'\u001b[0m\u001b[0;34m)\u001b[0m\u001b[0;34m\u001b[0m\u001b[0;34m\u001b[0m\u001b[0m\n\u001b[0m",
            "\u001b[0;32m/usr/local/lib/python3.6/dist-packages/pandas/plotting/_core.py\u001b[0m in \u001b[0;36m__call__\u001b[0;34m(self, *args, **kwargs)\u001b[0m\n\u001b[1;32m    810\u001b[0m                 \u001b[0;32mif\u001b[0m \u001b[0mis_integer\u001b[0m\u001b[0;34m(\u001b[0m\u001b[0mx\u001b[0m\u001b[0;34m)\u001b[0m \u001b[0;32mand\u001b[0m \u001b[0;32mnot\u001b[0m \u001b[0mdata\u001b[0m\u001b[0;34m.\u001b[0m\u001b[0mcolumns\u001b[0m\u001b[0;34m.\u001b[0m\u001b[0mholds_integer\u001b[0m\u001b[0;34m(\u001b[0m\u001b[0;34m)\u001b[0m\u001b[0;34m:\u001b[0m\u001b[0;34m\u001b[0m\u001b[0;34m\u001b[0m\u001b[0m\n\u001b[1;32m    811\u001b[0m                     \u001b[0mx\u001b[0m \u001b[0;34m=\u001b[0m \u001b[0mdata_cols\u001b[0m\u001b[0;34m[\u001b[0m\u001b[0mx\u001b[0m\u001b[0;34m]\u001b[0m\u001b[0;34m\u001b[0m\u001b[0;34m\u001b[0m\u001b[0m\n\u001b[0;32m--> 812\u001b[0;31m                 \u001b[0;32melif\u001b[0m \u001b[0;32mnot\u001b[0m \u001b[0misinstance\u001b[0m\u001b[0;34m(\u001b[0m\u001b[0mdata\u001b[0m\u001b[0;34m[\u001b[0m\u001b[0mx\u001b[0m\u001b[0;34m]\u001b[0m\u001b[0;34m,\u001b[0m \u001b[0mABCSeries\u001b[0m\u001b[0;34m)\u001b[0m\u001b[0;34m:\u001b[0m\u001b[0;34m\u001b[0m\u001b[0;34m\u001b[0m\u001b[0m\n\u001b[0m\u001b[1;32m    813\u001b[0m                     \u001b[0;32mraise\u001b[0m \u001b[0mValueError\u001b[0m\u001b[0;34m(\u001b[0m\u001b[0;34m\"x must be a label or position\"\u001b[0m\u001b[0;34m)\u001b[0m\u001b[0;34m\u001b[0m\u001b[0;34m\u001b[0m\u001b[0m\n\u001b[1;32m    814\u001b[0m                 \u001b[0mdata\u001b[0m \u001b[0;34m=\u001b[0m \u001b[0mdata\u001b[0m\u001b[0;34m.\u001b[0m\u001b[0mset_index\u001b[0m\u001b[0;34m(\u001b[0m\u001b[0mx\u001b[0m\u001b[0;34m)\u001b[0m\u001b[0;34m\u001b[0m\u001b[0;34m\u001b[0m\u001b[0m\n",
            "\u001b[0;32m/usr/local/lib/python3.6/dist-packages/pandas/core/frame.py\u001b[0m in \u001b[0;36m__getitem__\u001b[0;34m(self, key)\u001b[0m\n\u001b[1;32m   2804\u001b[0m             \u001b[0;32mif\u001b[0m \u001b[0mis_iterator\u001b[0m\u001b[0;34m(\u001b[0m\u001b[0mkey\u001b[0m\u001b[0;34m)\u001b[0m\u001b[0;34m:\u001b[0m\u001b[0;34m\u001b[0m\u001b[0;34m\u001b[0m\u001b[0m\n\u001b[1;32m   2805\u001b[0m                 \u001b[0mkey\u001b[0m \u001b[0;34m=\u001b[0m \u001b[0mlist\u001b[0m\u001b[0;34m(\u001b[0m\u001b[0mkey\u001b[0m\u001b[0;34m)\u001b[0m\u001b[0;34m\u001b[0m\u001b[0;34m\u001b[0m\u001b[0m\n\u001b[0;32m-> 2806\u001b[0;31m             \u001b[0mindexer\u001b[0m \u001b[0;34m=\u001b[0m \u001b[0mself\u001b[0m\u001b[0;34m.\u001b[0m\u001b[0mloc\u001b[0m\u001b[0;34m.\u001b[0m\u001b[0m_get_listlike_indexer\u001b[0m\u001b[0;34m(\u001b[0m\u001b[0mkey\u001b[0m\u001b[0;34m,\u001b[0m \u001b[0maxis\u001b[0m\u001b[0;34m=\u001b[0m\u001b[0;36m1\u001b[0m\u001b[0;34m,\u001b[0m \u001b[0mraise_missing\u001b[0m\u001b[0;34m=\u001b[0m\u001b[0;32mTrue\u001b[0m\u001b[0;34m)\u001b[0m\u001b[0;34m[\u001b[0m\u001b[0;36m1\u001b[0m\u001b[0;34m]\u001b[0m\u001b[0;34m\u001b[0m\u001b[0;34m\u001b[0m\u001b[0m\n\u001b[0m\u001b[1;32m   2807\u001b[0m \u001b[0;34m\u001b[0m\u001b[0m\n\u001b[1;32m   2808\u001b[0m         \u001b[0;31m# take() does not accept boolean indexers\u001b[0m\u001b[0;34m\u001b[0m\u001b[0;34m\u001b[0m\u001b[0;34m\u001b[0m\u001b[0m\n",
            "\u001b[0;32m/usr/local/lib/python3.6/dist-packages/pandas/core/indexing.py\u001b[0m in \u001b[0;36m_get_listlike_indexer\u001b[0;34m(self, key, axis, raise_missing)\u001b[0m\n\u001b[1;32m   1551\u001b[0m \u001b[0;34m\u001b[0m\u001b[0m\n\u001b[1;32m   1552\u001b[0m         self._validate_read_indexer(\n\u001b[0;32m-> 1553\u001b[0;31m             \u001b[0mkeyarr\u001b[0m\u001b[0;34m,\u001b[0m \u001b[0mindexer\u001b[0m\u001b[0;34m,\u001b[0m \u001b[0mo\u001b[0m\u001b[0;34m.\u001b[0m\u001b[0m_get_axis_number\u001b[0m\u001b[0;34m(\u001b[0m\u001b[0maxis\u001b[0m\u001b[0;34m)\u001b[0m\u001b[0;34m,\u001b[0m \u001b[0mraise_missing\u001b[0m\u001b[0;34m=\u001b[0m\u001b[0mraise_missing\u001b[0m\u001b[0;34m\u001b[0m\u001b[0;34m\u001b[0m\u001b[0m\n\u001b[0m\u001b[1;32m   1554\u001b[0m         )\n\u001b[1;32m   1555\u001b[0m         \u001b[0;32mreturn\u001b[0m \u001b[0mkeyarr\u001b[0m\u001b[0;34m,\u001b[0m \u001b[0mindexer\u001b[0m\u001b[0;34m\u001b[0m\u001b[0;34m\u001b[0m\u001b[0m\n",
            "\u001b[0;32m/usr/local/lib/python3.6/dist-packages/pandas/core/indexing.py\u001b[0m in \u001b[0;36m_validate_read_indexer\u001b[0;34m(self, key, indexer, axis, raise_missing)\u001b[0m\n\u001b[1;32m   1638\u001b[0m             \u001b[0;32mif\u001b[0m \u001b[0mmissing\u001b[0m \u001b[0;34m==\u001b[0m \u001b[0mlen\u001b[0m\u001b[0;34m(\u001b[0m\u001b[0mindexer\u001b[0m\u001b[0;34m)\u001b[0m\u001b[0;34m:\u001b[0m\u001b[0;34m\u001b[0m\u001b[0;34m\u001b[0m\u001b[0m\n\u001b[1;32m   1639\u001b[0m                 \u001b[0maxis_name\u001b[0m \u001b[0;34m=\u001b[0m \u001b[0mself\u001b[0m\u001b[0;34m.\u001b[0m\u001b[0mobj\u001b[0m\u001b[0;34m.\u001b[0m\u001b[0m_get_axis_name\u001b[0m\u001b[0;34m(\u001b[0m\u001b[0maxis\u001b[0m\u001b[0;34m)\u001b[0m\u001b[0;34m\u001b[0m\u001b[0;34m\u001b[0m\u001b[0m\n\u001b[0;32m-> 1640\u001b[0;31m                 \u001b[0;32mraise\u001b[0m \u001b[0mKeyError\u001b[0m\u001b[0;34m(\u001b[0m\u001b[0;34mf\"None of [{key}] are in the [{axis_name}]\"\u001b[0m\u001b[0;34m)\u001b[0m\u001b[0;34m\u001b[0m\u001b[0;34m\u001b[0m\u001b[0m\n\u001b[0m\u001b[1;32m   1641\u001b[0m \u001b[0;34m\u001b[0m\u001b[0m\n\u001b[1;32m   1642\u001b[0m             \u001b[0;31m# We (temporarily) allow for some missing keys with .loc, except in\u001b[0m\u001b[0;34m\u001b[0m\u001b[0;34m\u001b[0m\u001b[0;34m\u001b[0m\u001b[0m\n",
            "\u001b[0;31mKeyError\u001b[0m: \"None of [DatetimeIndex(['2020-01-21', '2020-01-22', '2020-01-23', '2020-01-24',\\n               '2020-01-24', '2020-01-25', '2020-01-25', '2020-01-25',\\n               '2020-01-26', '2020-01-26',\\n               ...\\n               '2020-09-10', '2020-09-10', '2020-09-10', '2020-09-10',\\n               '2020-09-10', '2020-09-10', '2020-09-10', '2020-09-10',\\n               '2020-09-10', '2020-09-10'],\\n              dtype='datetime64[ns]', name='date', length=521534, freq=None)] are in the [columns]\""
          ]
        }
      ]
    },
    {
      "cell_type": "code",
      "metadata": {
        "id": "OeqysuZ8c2UP",
        "colab_type": "code",
        "colab": {
          "base_uri": "https://localhost:8080/",
          "height": 345
        },
        "outputId": "387736b0-747d-488e-86c2-0e2dac626ce0"
      },
      "source": [
        "ax = df_Suffolk.plot(kind='bar', y=df.deaths, x=df.date)"
      ],
      "execution_count": 165,
      "outputs": [
        {
          "output_type": "error",
          "ename": "KeyError",
          "evalue": "ignored",
          "traceback": [
            "\u001b[0;31m---------------------------------------------------------------------------\u001b[0m",
            "\u001b[0;31mKeyError\u001b[0m                                  Traceback (most recent call last)",
            "\u001b[0;32m<ipython-input-165-ebe1927cb3a2>\u001b[0m in \u001b[0;36m<module>\u001b[0;34m()\u001b[0m\n\u001b[0;32m----> 1\u001b[0;31m \u001b[0max\u001b[0m \u001b[0;34m=\u001b[0m \u001b[0mdf\u001b[0m\u001b[0;34m.\u001b[0m\u001b[0mplot\u001b[0m\u001b[0;34m(\u001b[0m\u001b[0mkind\u001b[0m\u001b[0;34m=\u001b[0m\u001b[0;34m'bar'\u001b[0m\u001b[0;34m,\u001b[0m \u001b[0my\u001b[0m\u001b[0;34m=\u001b[0m\u001b[0mdf\u001b[0m\u001b[0;34m.\u001b[0m\u001b[0mdeaths\u001b[0m\u001b[0;34m,\u001b[0m \u001b[0mx\u001b[0m\u001b[0;34m=\u001b[0m\u001b[0mdf\u001b[0m\u001b[0;34m.\u001b[0m\u001b[0mdate\u001b[0m\u001b[0;34m)\u001b[0m\u001b[0;34m\u001b[0m\u001b[0;34m\u001b[0m\u001b[0m\n\u001b[0m",
            "\u001b[0;32m/usr/local/lib/python3.6/dist-packages/pandas/plotting/_core.py\u001b[0m in \u001b[0;36m__call__\u001b[0;34m(self, *args, **kwargs)\u001b[0m\n\u001b[1;32m    810\u001b[0m                 \u001b[0;32mif\u001b[0m \u001b[0mis_integer\u001b[0m\u001b[0;34m(\u001b[0m\u001b[0mx\u001b[0m\u001b[0;34m)\u001b[0m \u001b[0;32mand\u001b[0m \u001b[0;32mnot\u001b[0m \u001b[0mdata\u001b[0m\u001b[0;34m.\u001b[0m\u001b[0mcolumns\u001b[0m\u001b[0;34m.\u001b[0m\u001b[0mholds_integer\u001b[0m\u001b[0;34m(\u001b[0m\u001b[0;34m)\u001b[0m\u001b[0;34m:\u001b[0m\u001b[0;34m\u001b[0m\u001b[0;34m\u001b[0m\u001b[0m\n\u001b[1;32m    811\u001b[0m                     \u001b[0mx\u001b[0m \u001b[0;34m=\u001b[0m \u001b[0mdata_cols\u001b[0m\u001b[0;34m[\u001b[0m\u001b[0mx\u001b[0m\u001b[0;34m]\u001b[0m\u001b[0;34m\u001b[0m\u001b[0;34m\u001b[0m\u001b[0m\n\u001b[0;32m--> 812\u001b[0;31m                 \u001b[0;32melif\u001b[0m \u001b[0;32mnot\u001b[0m \u001b[0misinstance\u001b[0m\u001b[0;34m(\u001b[0m\u001b[0mdata\u001b[0m\u001b[0;34m[\u001b[0m\u001b[0mx\u001b[0m\u001b[0;34m]\u001b[0m\u001b[0;34m,\u001b[0m \u001b[0mABCSeries\u001b[0m\u001b[0;34m)\u001b[0m\u001b[0;34m:\u001b[0m\u001b[0;34m\u001b[0m\u001b[0;34m\u001b[0m\u001b[0m\n\u001b[0m\u001b[1;32m    813\u001b[0m                     \u001b[0;32mraise\u001b[0m \u001b[0mValueError\u001b[0m\u001b[0;34m(\u001b[0m\u001b[0;34m\"x must be a label or position\"\u001b[0m\u001b[0;34m)\u001b[0m\u001b[0;34m\u001b[0m\u001b[0;34m\u001b[0m\u001b[0m\n\u001b[1;32m    814\u001b[0m                 \u001b[0mdata\u001b[0m \u001b[0;34m=\u001b[0m \u001b[0mdata\u001b[0m\u001b[0;34m.\u001b[0m\u001b[0mset_index\u001b[0m\u001b[0;34m(\u001b[0m\u001b[0mx\u001b[0m\u001b[0;34m)\u001b[0m\u001b[0;34m\u001b[0m\u001b[0;34m\u001b[0m\u001b[0m\n",
            "\u001b[0;32m/usr/local/lib/python3.6/dist-packages/pandas/core/frame.py\u001b[0m in \u001b[0;36m__getitem__\u001b[0;34m(self, key)\u001b[0m\n\u001b[1;32m   2804\u001b[0m             \u001b[0;32mif\u001b[0m \u001b[0mis_iterator\u001b[0m\u001b[0;34m(\u001b[0m\u001b[0mkey\u001b[0m\u001b[0;34m)\u001b[0m\u001b[0;34m:\u001b[0m\u001b[0;34m\u001b[0m\u001b[0;34m\u001b[0m\u001b[0m\n\u001b[1;32m   2805\u001b[0m                 \u001b[0mkey\u001b[0m \u001b[0;34m=\u001b[0m \u001b[0mlist\u001b[0m\u001b[0;34m(\u001b[0m\u001b[0mkey\u001b[0m\u001b[0;34m)\u001b[0m\u001b[0;34m\u001b[0m\u001b[0;34m\u001b[0m\u001b[0m\n\u001b[0;32m-> 2806\u001b[0;31m             \u001b[0mindexer\u001b[0m \u001b[0;34m=\u001b[0m \u001b[0mself\u001b[0m\u001b[0;34m.\u001b[0m\u001b[0mloc\u001b[0m\u001b[0;34m.\u001b[0m\u001b[0m_get_listlike_indexer\u001b[0m\u001b[0;34m(\u001b[0m\u001b[0mkey\u001b[0m\u001b[0;34m,\u001b[0m \u001b[0maxis\u001b[0m\u001b[0;34m=\u001b[0m\u001b[0;36m1\u001b[0m\u001b[0;34m,\u001b[0m \u001b[0mraise_missing\u001b[0m\u001b[0;34m=\u001b[0m\u001b[0;32mTrue\u001b[0m\u001b[0;34m)\u001b[0m\u001b[0;34m[\u001b[0m\u001b[0;36m1\u001b[0m\u001b[0;34m]\u001b[0m\u001b[0;34m\u001b[0m\u001b[0;34m\u001b[0m\u001b[0m\n\u001b[0m\u001b[1;32m   2807\u001b[0m \u001b[0;34m\u001b[0m\u001b[0m\n\u001b[1;32m   2808\u001b[0m         \u001b[0;31m# take() does not accept boolean indexers\u001b[0m\u001b[0;34m\u001b[0m\u001b[0;34m\u001b[0m\u001b[0;34m\u001b[0m\u001b[0m\n",
            "\u001b[0;32m/usr/local/lib/python3.6/dist-packages/pandas/core/indexing.py\u001b[0m in \u001b[0;36m_get_listlike_indexer\u001b[0;34m(self, key, axis, raise_missing)\u001b[0m\n\u001b[1;32m   1551\u001b[0m \u001b[0;34m\u001b[0m\u001b[0m\n\u001b[1;32m   1552\u001b[0m         self._validate_read_indexer(\n\u001b[0;32m-> 1553\u001b[0;31m             \u001b[0mkeyarr\u001b[0m\u001b[0;34m,\u001b[0m \u001b[0mindexer\u001b[0m\u001b[0;34m,\u001b[0m \u001b[0mo\u001b[0m\u001b[0;34m.\u001b[0m\u001b[0m_get_axis_number\u001b[0m\u001b[0;34m(\u001b[0m\u001b[0maxis\u001b[0m\u001b[0;34m)\u001b[0m\u001b[0;34m,\u001b[0m \u001b[0mraise_missing\u001b[0m\u001b[0;34m=\u001b[0m\u001b[0mraise_missing\u001b[0m\u001b[0;34m\u001b[0m\u001b[0;34m\u001b[0m\u001b[0m\n\u001b[0m\u001b[1;32m   1554\u001b[0m         )\n\u001b[1;32m   1555\u001b[0m         \u001b[0;32mreturn\u001b[0m \u001b[0mkeyarr\u001b[0m\u001b[0;34m,\u001b[0m \u001b[0mindexer\u001b[0m\u001b[0;34m\u001b[0m\u001b[0;34m\u001b[0m\u001b[0m\n",
            "\u001b[0;32m/usr/local/lib/python3.6/dist-packages/pandas/core/indexing.py\u001b[0m in \u001b[0;36m_validate_read_indexer\u001b[0;34m(self, key, indexer, axis, raise_missing)\u001b[0m\n\u001b[1;32m   1638\u001b[0m             \u001b[0;32mif\u001b[0m \u001b[0mmissing\u001b[0m \u001b[0;34m==\u001b[0m \u001b[0mlen\u001b[0m\u001b[0;34m(\u001b[0m\u001b[0mindexer\u001b[0m\u001b[0;34m)\u001b[0m\u001b[0;34m:\u001b[0m\u001b[0;34m\u001b[0m\u001b[0;34m\u001b[0m\u001b[0m\n\u001b[1;32m   1639\u001b[0m                 \u001b[0maxis_name\u001b[0m \u001b[0;34m=\u001b[0m \u001b[0mself\u001b[0m\u001b[0;34m.\u001b[0m\u001b[0mobj\u001b[0m\u001b[0;34m.\u001b[0m\u001b[0m_get_axis_name\u001b[0m\u001b[0;34m(\u001b[0m\u001b[0maxis\u001b[0m\u001b[0;34m)\u001b[0m\u001b[0;34m\u001b[0m\u001b[0;34m\u001b[0m\u001b[0m\n\u001b[0;32m-> 1640\u001b[0;31m                 \u001b[0;32mraise\u001b[0m \u001b[0mKeyError\u001b[0m\u001b[0;34m(\u001b[0m\u001b[0;34mf\"None of [{key}] are in the [{axis_name}]\"\u001b[0m\u001b[0;34m)\u001b[0m\u001b[0;34m\u001b[0m\u001b[0;34m\u001b[0m\u001b[0m\n\u001b[0m\u001b[1;32m   1641\u001b[0m \u001b[0;34m\u001b[0m\u001b[0m\n\u001b[1;32m   1642\u001b[0m             \u001b[0;31m# We (temporarily) allow for some missing keys with .loc, except in\u001b[0m\u001b[0;34m\u001b[0m\u001b[0;34m\u001b[0m\u001b[0;34m\u001b[0m\u001b[0m\n",
            "\u001b[0;31mKeyError\u001b[0m: \"None of [Index(['2020-01-21', '2020-01-22', '2020-01-23', '2020-01-24', '2020-01-24',\\n       '2020-01-25', '2020-01-25', '2020-01-25', '2020-01-26', '2020-01-26',\\n       ...\\n       '2020-09-10', '2020-09-10', '2020-09-10', '2020-09-10', '2020-09-10',\\n       '2020-09-10', '2020-09-10', '2020-09-10', '2020-09-10', '2020-09-10'],\\n      dtype='object', length=521534)] are in the [columns]\""
          ]
        }
      ]
    },
    {
      "cell_type": "code",
      "metadata": {
        "id": "pvwkK_bxZvA2",
        "colab_type": "code",
        "colab": {
          "base_uri": "https://localhost:8080/",
          "height": 135
        },
        "outputId": "7894ea1c-fed4-4a6a-a44d-08b3962c3536"
      },
      "source": [
        "f,ax = plt.subplots(1,2,figsize=(18,6))\n",
        "#bottom part command\n"
      ],
      "execution_count": null,
      "outputs": [
        {
          "output_type": "error",
          "ename": "SyntaxError",
          "evalue": "ignored",
          "traceback": [
            "\u001b[0;36m  File \u001b[0;32m\"<ipython-input-96-9c8ca1ebd31b>\"\u001b[0;36m, line \u001b[0;32m2\u001b[0m\n\u001b[0;31m    ADD CODE HERE - (4)\u001b[0m\n\u001b[0m           ^\u001b[0m\n\u001b[0;31mSyntaxError\u001b[0m\u001b[0;31m:\u001b[0m invalid syntax\n"
          ]
        }
      ]
    },
    {
      "cell_type": "markdown",
      "metadata": {
        "id": "3Ir7AQGfSrl7",
        "colab_type": "text"
      },
      "source": [
        "## Top 10 counties by number of cases and deaths \n",
        "\n",
        "\n",
        "\n",
        "```\n",
        "# This is formatted as code\n",
        "```\n",
        "\n",
        "\n",
        "\n"
      ]
    },
    {
      "cell_type": "code",
      "metadata": {
        "id": "vPd1vUXxGPJ4",
        "colab_type": "code",
        "colab": {
          "base_uri": "https://localhost:8080/",
          "height": 395
        },
        "outputId": "5abc6f28-55db-418e-c693-d96af5eaade5"
      },
      "source": [
        "#Cases. I take the most recent date. I think these are cumulative?\n",
        "\n",
        "df2 = df[df.date == '2020-09-10']\n",
        "df2  = df2.set_index(['county','date'])\n",
        "df2.sort_values('cases',ascending=False).head(10)"
      ],
      "execution_count": 257,
      "outputs": [
        {
          "output_type": "execute_result",
          "data": {
            "text/html": [
              "<div>\n",
              "<style scoped>\n",
              "    .dataframe tbody tr th:only-of-type {\n",
              "        vertical-align: middle;\n",
              "    }\n",
              "\n",
              "    .dataframe tbody tr th {\n",
              "        vertical-align: top;\n",
              "    }\n",
              "\n",
              "    .dataframe thead th {\n",
              "        text-align: right;\n",
              "    }\n",
              "</style>\n",
              "<table border=\"1\" class=\"dataframe\">\n",
              "  <thead>\n",
              "    <tr style=\"text-align: right;\">\n",
              "      <th></th>\n",
              "      <th></th>\n",
              "      <th>state</th>\n",
              "      <th>fips</th>\n",
              "      <th>cases</th>\n",
              "      <th>deaths</th>\n",
              "    </tr>\n",
              "    <tr>\n",
              "      <th>county</th>\n",
              "      <th>date</th>\n",
              "      <th></th>\n",
              "      <th></th>\n",
              "      <th></th>\n",
              "      <th></th>\n",
              "    </tr>\n",
              "  </thead>\n",
              "  <tbody>\n",
              "    <tr>\n",
              "      <th>Los Angeles</th>\n",
              "      <th>2020-09-10</th>\n",
              "      <td>California</td>\n",
              "      <td>6037.0</td>\n",
              "      <td>251024</td>\n",
              "      <td>6128</td>\n",
              "    </tr>\n",
              "    <tr>\n",
              "      <th>New York City</th>\n",
              "      <th>2020-09-10</th>\n",
              "      <td>New York</td>\n",
              "      <td>NaN</td>\n",
              "      <td>241686</td>\n",
              "      <td>23741</td>\n",
              "    </tr>\n",
              "    <tr>\n",
              "      <th>Miami-Dade</th>\n",
              "      <th>2020-09-10</th>\n",
              "      <td>Florida</td>\n",
              "      <td>12086.0</td>\n",
              "      <td>162893</td>\n",
              "      <td>2789</td>\n",
              "    </tr>\n",
              "    <tr>\n",
              "      <th>Maricopa</th>\n",
              "      <th>2020-09-10</th>\n",
              "      <td>Arizona</td>\n",
              "      <td>4013.0</td>\n",
              "      <td>136571</td>\n",
              "      <td>3133</td>\n",
              "    </tr>\n",
              "    <tr>\n",
              "      <th>Cook</th>\n",
              "      <th>2020-09-10</th>\n",
              "      <td>Illinois</td>\n",
              "      <td>17031.0</td>\n",
              "      <td>132966</td>\n",
              "      <td>5103</td>\n",
              "    </tr>\n",
              "    <tr>\n",
              "      <th>Harris</th>\n",
              "      <th>2020-09-10</th>\n",
              "      <td>Texas</td>\n",
              "      <td>48201.0</td>\n",
              "      <td>113504</td>\n",
              "      <td>2363</td>\n",
              "    </tr>\n",
              "    <tr>\n",
              "      <th>Dallas</th>\n",
              "      <th>2020-09-10</th>\n",
              "      <td>Texas</td>\n",
              "      <td>48113.0</td>\n",
              "      <td>77948</td>\n",
              "      <td>1021</td>\n",
              "    </tr>\n",
              "    <tr>\n",
              "      <th>Broward</th>\n",
              "      <th>2020-09-10</th>\n",
              "      <td>Florida</td>\n",
              "      <td>12011.0</td>\n",
              "      <td>73869</td>\n",
              "      <td>1258</td>\n",
              "    </tr>\n",
              "    <tr>\n",
              "      <th>Clark</th>\n",
              "      <th>2020-09-10</th>\n",
              "      <td>Nevada</td>\n",
              "      <td>32003.0</td>\n",
              "      <td>61871</td>\n",
              "      <td>1240</td>\n",
              "    </tr>\n",
              "    <tr>\n",
              "      <th>Riverside</th>\n",
              "      <th>2020-09-10</th>\n",
              "      <td>California</td>\n",
              "      <td>6065.0</td>\n",
              "      <td>54868</td>\n",
              "      <td>1094</td>\n",
              "    </tr>\n",
              "  </tbody>\n",
              "</table>\n",
              "</div>"
            ],
            "text/plain": [
              "                               state     fips   cases  deaths\n",
              "county        date                                           \n",
              "Los Angeles   2020-09-10  California   6037.0  251024    6128\n",
              "New York City 2020-09-10    New York      NaN  241686   23741\n",
              "Miami-Dade    2020-09-10     Florida  12086.0  162893    2789\n",
              "Maricopa      2020-09-10     Arizona   4013.0  136571    3133\n",
              "Cook          2020-09-10    Illinois  17031.0  132966    5103\n",
              "Harris        2020-09-10       Texas  48201.0  113504    2363\n",
              "Dallas        2020-09-10       Texas  48113.0   77948    1021\n",
              "Broward       2020-09-10     Florida  12011.0   73869    1258\n",
              "Clark         2020-09-10      Nevada  32003.0   61871    1240\n",
              "Riverside     2020-09-10  California   6065.0   54868    1094"
            ]
          },
          "metadata": {
            "tags": []
          },
          "execution_count": 257
        }
      ]
    },
    {
      "cell_type": "code",
      "metadata": {
        "id": "gERPtpveF_4l",
        "colab_type": "code",
        "colab": {
          "base_uri": "https://localhost:8080/",
          "height": 395
        },
        "outputId": "ce448fae-84e5-42db-abb1-fe504e950ec3"
      },
      "source": [
        "#Deaths.\n",
        "\n",
        "df2 = df[df.date == '2020-09-10']\n",
        "df2  = df2.set_index(['county','date'])\n",
        "df2.sort_values('deaths',ascending=False).head(10)"
      ],
      "execution_count": 256,
      "outputs": [
        {
          "output_type": "execute_result",
          "data": {
            "text/html": [
              "<div>\n",
              "<style scoped>\n",
              "    .dataframe tbody tr th:only-of-type {\n",
              "        vertical-align: middle;\n",
              "    }\n",
              "\n",
              "    .dataframe tbody tr th {\n",
              "        vertical-align: top;\n",
              "    }\n",
              "\n",
              "    .dataframe thead th {\n",
              "        text-align: right;\n",
              "    }\n",
              "</style>\n",
              "<table border=\"1\" class=\"dataframe\">\n",
              "  <thead>\n",
              "    <tr style=\"text-align: right;\">\n",
              "      <th></th>\n",
              "      <th></th>\n",
              "      <th>state</th>\n",
              "      <th>fips</th>\n",
              "      <th>cases</th>\n",
              "      <th>deaths</th>\n",
              "    </tr>\n",
              "    <tr>\n",
              "      <th>county</th>\n",
              "      <th>date</th>\n",
              "      <th></th>\n",
              "      <th></th>\n",
              "      <th></th>\n",
              "      <th></th>\n",
              "    </tr>\n",
              "  </thead>\n",
              "  <tbody>\n",
              "    <tr>\n",
              "      <th>New York City</th>\n",
              "      <th>2020-09-10</th>\n",
              "      <td>New York</td>\n",
              "      <td>NaN</td>\n",
              "      <td>241686</td>\n",
              "      <td>23741</td>\n",
              "    </tr>\n",
              "    <tr>\n",
              "      <th>Los Angeles</th>\n",
              "      <th>2020-09-10</th>\n",
              "      <td>California</td>\n",
              "      <td>6037.0</td>\n",
              "      <td>251024</td>\n",
              "      <td>6128</td>\n",
              "    </tr>\n",
              "    <tr>\n",
              "      <th>Cook</th>\n",
              "      <th>2020-09-10</th>\n",
              "      <td>Illinois</td>\n",
              "      <td>17031.0</td>\n",
              "      <td>132966</td>\n",
              "      <td>5103</td>\n",
              "    </tr>\n",
              "    <tr>\n",
              "      <th>Maricopa</th>\n",
              "      <th>2020-09-10</th>\n",
              "      <td>Arizona</td>\n",
              "      <td>4013.0</td>\n",
              "      <td>136571</td>\n",
              "      <td>3133</td>\n",
              "    </tr>\n",
              "    <tr>\n",
              "      <th>Wayne</th>\n",
              "      <th>2020-09-10</th>\n",
              "      <td>Michigan</td>\n",
              "      <td>26163.0</td>\n",
              "      <td>32877</td>\n",
              "      <td>2941</td>\n",
              "    </tr>\n",
              "    <tr>\n",
              "      <th>Miami-Dade</th>\n",
              "      <th>2020-09-10</th>\n",
              "      <td>Florida</td>\n",
              "      <td>12086.0</td>\n",
              "      <td>162893</td>\n",
              "      <td>2789</td>\n",
              "    </tr>\n",
              "    <tr>\n",
              "      <th>Harris</th>\n",
              "      <th>2020-09-10</th>\n",
              "      <td>Texas</td>\n",
              "      <td>48201.0</td>\n",
              "      <td>113504</td>\n",
              "      <td>2363</td>\n",
              "    </tr>\n",
              "    <tr>\n",
              "      <th>Nassau</th>\n",
              "      <th>2020-09-10</th>\n",
              "      <td>New York</td>\n",
              "      <td>36059.0</td>\n",
              "      <td>45445</td>\n",
              "      <td>2199</td>\n",
              "    </tr>\n",
              "    <tr>\n",
              "      <th>Essex</th>\n",
              "      <th>2020-09-10</th>\n",
              "      <td>New Jersey</td>\n",
              "      <td>34013.0</td>\n",
              "      <td>20820</td>\n",
              "      <td>2121</td>\n",
              "    </tr>\n",
              "    <tr>\n",
              "      <th>Middlesex</th>\n",
              "      <th>2020-09-10</th>\n",
              "      <td>Massachusetts</td>\n",
              "      <td>25017.0</td>\n",
              "      <td>25931</td>\n",
              "      <td>2094</td>\n",
              "    </tr>\n",
              "  </tbody>\n",
              "</table>\n",
              "</div>"
            ],
            "text/plain": [
              "                                  state     fips   cases  deaths\n",
              "county        date                                              \n",
              "New York City 2020-09-10       New York      NaN  241686   23741\n",
              "Los Angeles   2020-09-10     California   6037.0  251024    6128\n",
              "Cook          2020-09-10       Illinois  17031.0  132966    5103\n",
              "Maricopa      2020-09-10        Arizona   4013.0  136571    3133\n",
              "Wayne         2020-09-10       Michigan  26163.0   32877    2941\n",
              "Miami-Dade    2020-09-10        Florida  12086.0  162893    2789\n",
              "Harris        2020-09-10          Texas  48201.0  113504    2363\n",
              "Nassau        2020-09-10       New York  36059.0   45445    2199\n",
              "Essex         2020-09-10     New Jersey  34013.0   20820    2121\n",
              "Middlesex     2020-09-10  Massachusetts  25017.0   25931    2094"
            ]
          },
          "metadata": {
            "tags": []
          },
          "execution_count": 256
        }
      ]
    },
    {
      "cell_type": "markdown",
      "metadata": {
        "id": "aHvTcmdfgy38",
        "colab_type": "text"
      },
      "source": [
        "## Death rate Per FIPS "
      ]
    },
    {
      "cell_type": "code",
      "metadata": {
        "id": "9fNijuO8R9Hx",
        "colab_type": "code",
        "colab": {
          "base_uri": "https://localhost:8080/",
          "height": 363
        },
        "outputId": "c61c9cf7-7f6d-4b16-b7bb-c1c85039d2b1"
      },
      "source": [
        "df3 = df\n",
        "df3['ratePerFIPS'] = df3['deaths']/df3['fips']\n",
        "df3.sort_values('ratePerFIPS',ascending=False,inplace=False).head(10)"
      ],
      "execution_count": 258,
      "outputs": [
        {
          "output_type": "execute_result",
          "data": {
            "text/html": [
              "<div>\n",
              "<style scoped>\n",
              "    .dataframe tbody tr th:only-of-type {\n",
              "        vertical-align: middle;\n",
              "    }\n",
              "\n",
              "    .dataframe tbody tr th {\n",
              "        vertical-align: top;\n",
              "    }\n",
              "\n",
              "    .dataframe thead th {\n",
              "        text-align: right;\n",
              "    }\n",
              "</style>\n",
              "<table border=\"1\" class=\"dataframe\">\n",
              "  <thead>\n",
              "    <tr style=\"text-align: right;\">\n",
              "      <th></th>\n",
              "      <th>date</th>\n",
              "      <th>county</th>\n",
              "      <th>state</th>\n",
              "      <th>fips</th>\n",
              "      <th>cases</th>\n",
              "      <th>deaths</th>\n",
              "      <th>ratePerFIPS</th>\n",
              "    </tr>\n",
              "  </thead>\n",
              "  <tbody>\n",
              "    <tr>\n",
              "      <th>518500</th>\n",
              "      <td>2020-09-10</td>\n",
              "      <td>Los Angeles</td>\n",
              "      <td>California</td>\n",
              "      <td>6037.0</td>\n",
              "      <td>251024</td>\n",
              "      <td>6128</td>\n",
              "      <td>1.015074</td>\n",
              "    </tr>\n",
              "    <tr>\n",
              "      <th>515265</th>\n",
              "      <td>2020-09-09</td>\n",
              "      <td>Los Angeles</td>\n",
              "      <td>California</td>\n",
              "      <td>6037.0</td>\n",
              "      <td>249859</td>\n",
              "      <td>6090</td>\n",
              "      <td>1.008779</td>\n",
              "    </tr>\n",
              "    <tr>\n",
              "      <th>512032</th>\n",
              "      <td>2020-09-08</td>\n",
              "      <td>Los Angeles</td>\n",
              "      <td>California</td>\n",
              "      <td>6037.0</td>\n",
              "      <td>249241</td>\n",
              "      <td>6036</td>\n",
              "      <td>0.999834</td>\n",
              "    </tr>\n",
              "    <tr>\n",
              "      <th>508799</th>\n",
              "      <td>2020-09-07</td>\n",
              "      <td>Los Angeles</td>\n",
              "      <td>California</td>\n",
              "      <td>6037.0</td>\n",
              "      <td>248821</td>\n",
              "      <td>6030</td>\n",
              "      <td>0.998840</td>\n",
              "    </tr>\n",
              "    <tr>\n",
              "      <th>505567</th>\n",
              "      <td>2020-09-06</td>\n",
              "      <td>Los Angeles</td>\n",
              "      <td>California</td>\n",
              "      <td>6037.0</td>\n",
              "      <td>248334</td>\n",
              "      <td>6005</td>\n",
              "      <td>0.994699</td>\n",
              "    </tr>\n",
              "    <tr>\n",
              "      <th>502333</th>\n",
              "      <td>2020-09-05</td>\n",
              "      <td>Los Angeles</td>\n",
              "      <td>California</td>\n",
              "      <td>6037.0</td>\n",
              "      <td>247542</td>\n",
              "      <td>6000</td>\n",
              "      <td>0.993871</td>\n",
              "    </tr>\n",
              "    <tr>\n",
              "      <th>499099</th>\n",
              "      <td>2020-09-04</td>\n",
              "      <td>Los Angeles</td>\n",
              "      <td>California</td>\n",
              "      <td>6037.0</td>\n",
              "      <td>246407</td>\n",
              "      <td>5977</td>\n",
              "      <td>0.990061</td>\n",
              "    </tr>\n",
              "    <tr>\n",
              "      <th>495866</th>\n",
              "      <td>2020-09-03</td>\n",
              "      <td>Los Angeles</td>\n",
              "      <td>California</td>\n",
              "      <td>6037.0</td>\n",
              "      <td>244999</td>\n",
              "      <td>5932</td>\n",
              "      <td>0.982607</td>\n",
              "    </tr>\n",
              "    <tr>\n",
              "      <th>492632</th>\n",
              "      <td>2020-09-02</td>\n",
              "      <td>Los Angeles</td>\n",
              "      <td>California</td>\n",
              "      <td>6037.0</td>\n",
              "      <td>243935</td>\n",
              "      <td>5878</td>\n",
              "      <td>0.973662</td>\n",
              "    </tr>\n",
              "    <tr>\n",
              "      <th>489399</th>\n",
              "      <td>2020-09-01</td>\n",
              "      <td>Los Angeles</td>\n",
              "      <td>California</td>\n",
              "      <td>6037.0</td>\n",
              "      <td>242521</td>\n",
              "      <td>5829</td>\n",
              "      <td>0.965546</td>\n",
              "    </tr>\n",
              "  </tbody>\n",
              "</table>\n",
              "</div>"
            ],
            "text/plain": [
              "              date       county       state  ...   cases  deaths  ratePerFIPS\n",
              "518500  2020-09-10  Los Angeles  California  ...  251024    6128     1.015074\n",
              "515265  2020-09-09  Los Angeles  California  ...  249859    6090     1.008779\n",
              "512032  2020-09-08  Los Angeles  California  ...  249241    6036     0.999834\n",
              "508799  2020-09-07  Los Angeles  California  ...  248821    6030     0.998840\n",
              "505567  2020-09-06  Los Angeles  California  ...  248334    6005     0.994699\n",
              "502333  2020-09-05  Los Angeles  California  ...  247542    6000     0.993871\n",
              "499099  2020-09-04  Los Angeles  California  ...  246407    5977     0.990061\n",
              "495866  2020-09-03  Los Angeles  California  ...  244999    5932     0.982607\n",
              "492632  2020-09-02  Los Angeles  California  ...  243935    5878     0.973662\n",
              "489399  2020-09-01  Los Angeles  California  ...  242521    5829     0.965546\n",
              "\n",
              "[10 rows x 7 columns]"
            ]
          },
          "metadata": {
            "tags": []
          },
          "execution_count": 258
        }
      ]
    },
    {
      "cell_type": "code",
      "metadata": {
        "id": "1lJmC-FEhhY-",
        "colab_type": "code",
        "colab": {}
      },
      "source": [
        ""
      ],
      "execution_count": 132,
      "outputs": []
    },
    {
      "cell_type": "markdown",
      "metadata": {
        "id": "FqTGKtk5hQ-I",
        "colab_type": "text"
      },
      "source": [
        "## <font color = red> Bonus Point</font>\n",
        "\n",
        "### Displaying bristol vs Suffolk and Deaths comparison as line and stacked bar charts using altair\n"
      ]
    },
    {
      "cell_type": "code",
      "metadata": {
        "id": "Qi9EZlbmhPh2",
        "colab_type": "code",
        "colab": {
          "base_uri": "https://localhost:8080/",
          "height": 35
        },
        "outputId": "7c8866a9-078b-4471-cd70-ebd338a7c020"
      },
      "source": [
        "import altair as alt\n",
        "alt.data_transformers.disable_max_rows()"
      ],
      "execution_count": 259,
      "outputs": [
        {
          "output_type": "execute_result",
          "data": {
            "text/plain": [
              "DataTransformerRegistry.enable('default')"
            ]
          },
          "metadata": {
            "tags": []
          },
          "execution_count": 259
        }
      ]
    },
    {
      "cell_type": "markdown",
      "metadata": {
        "id": "kkEbahdpstnF",
        "colab_type": "text"
      },
      "source": [
        "There are better ways of doing this, but I was lazy. I had to filter. Note that altair doesn't read index."
      ]
    },
    {
      "cell_type": "code",
      "metadata": {
        "id": "zEpn6DsZCUsh",
        "colab_type": "code",
        "colab": {
          "base_uri": "https://localhost:8080/",
          "height": 424
        },
        "outputId": "32a583be-d40b-4f36-87bd-530f8308f4ba"
      },
      "source": [
        "df_filtered = df[((df['county'] == 'Bristol') & (df['state'] == 'Massachusetts') ) | ( (df['county'] == 'Suffolk') & (df['state'] == 'Massachusetts') )]\n",
        "df_filtered"
      ],
      "execution_count": 215,
      "outputs": [
        {
          "output_type": "execute_result",
          "data": {
            "text/html": [
              "<div>\n",
              "<style scoped>\n",
              "    .dataframe tbody tr th:only-of-type {\n",
              "        vertical-align: middle;\n",
              "    }\n",
              "\n",
              "    .dataframe tbody tr th {\n",
              "        vertical-align: top;\n",
              "    }\n",
              "\n",
              "    .dataframe thead th {\n",
              "        text-align: right;\n",
              "    }\n",
              "</style>\n",
              "<table border=\"1\" class=\"dataframe\">\n",
              "  <thead>\n",
              "    <tr style=\"text-align: right;\">\n",
              "      <th></th>\n",
              "      <th>date</th>\n",
              "      <th>county</th>\n",
              "      <th>state</th>\n",
              "      <th>fips</th>\n",
              "      <th>cases</th>\n",
              "      <th>deaths</th>\n",
              "    </tr>\n",
              "  </thead>\n",
              "  <tbody>\n",
              "    <tr>\n",
              "      <th>44</th>\n",
              "      <td>2020-02-01</td>\n",
              "      <td>Suffolk</td>\n",
              "      <td>Massachusetts</td>\n",
              "      <td>25025.0</td>\n",
              "      <td>1</td>\n",
              "      <td>0</td>\n",
              "    </tr>\n",
              "    <tr>\n",
              "      <th>52</th>\n",
              "      <td>2020-02-02</td>\n",
              "      <td>Suffolk</td>\n",
              "      <td>Massachusetts</td>\n",
              "      <td>25025.0</td>\n",
              "      <td>1</td>\n",
              "      <td>0</td>\n",
              "    </tr>\n",
              "    <tr>\n",
              "      <th>60</th>\n",
              "      <td>2020-02-03</td>\n",
              "      <td>Suffolk</td>\n",
              "      <td>Massachusetts</td>\n",
              "      <td>25025.0</td>\n",
              "      <td>1</td>\n",
              "      <td>0</td>\n",
              "    </tr>\n",
              "    <tr>\n",
              "      <th>68</th>\n",
              "      <td>2020-02-04</td>\n",
              "      <td>Suffolk</td>\n",
              "      <td>Massachusetts</td>\n",
              "      <td>25025.0</td>\n",
              "      <td>1</td>\n",
              "      <td>0</td>\n",
              "    </tr>\n",
              "    <tr>\n",
              "      <th>76</th>\n",
              "      <td>2020-02-05</td>\n",
              "      <td>Suffolk</td>\n",
              "      <td>Massachusetts</td>\n",
              "      <td>25025.0</td>\n",
              "      <td>1</td>\n",
              "      <td>0</td>\n",
              "    </tr>\n",
              "    <tr>\n",
              "      <th>...</th>\n",
              "      <td>...</td>\n",
              "      <td>...</td>\n",
              "      <td>...</td>\n",
              "      <td>...</td>\n",
              "      <td>...</td>\n",
              "      <td>...</td>\n",
              "    </tr>\n",
              "    <tr>\n",
              "      <th>513064</th>\n",
              "      <td>2020-09-08</td>\n",
              "      <td>Suffolk</td>\n",
              "      <td>Massachusetts</td>\n",
              "      <td>25025.0</td>\n",
              "      <td>22788</td>\n",
              "      <td>1111</td>\n",
              "    </tr>\n",
              "    <tr>\n",
              "      <th>516288</th>\n",
              "      <td>2020-09-09</td>\n",
              "      <td>Bristol</td>\n",
              "      <td>Massachusetts</td>\n",
              "      <td>25005.0</td>\n",
              "      <td>9418</td>\n",
              "      <td>668</td>\n",
              "    </tr>\n",
              "    <tr>\n",
              "      <th>516298</th>\n",
              "      <td>2020-09-09</td>\n",
              "      <td>Suffolk</td>\n",
              "      <td>Massachusetts</td>\n",
              "      <td>25025.0</td>\n",
              "      <td>22831</td>\n",
              "      <td>1111</td>\n",
              "    </tr>\n",
              "    <tr>\n",
              "      <th>519523</th>\n",
              "      <td>2020-09-10</td>\n",
              "      <td>Bristol</td>\n",
              "      <td>Massachusetts</td>\n",
              "      <td>25005.0</td>\n",
              "      <td>9448</td>\n",
              "      <td>670</td>\n",
              "    </tr>\n",
              "    <tr>\n",
              "      <th>519533</th>\n",
              "      <td>2020-09-10</td>\n",
              "      <td>Suffolk</td>\n",
              "      <td>Massachusetts</td>\n",
              "      <td>25025.0</td>\n",
              "      <td>22920</td>\n",
              "      <td>1113</td>\n",
              "    </tr>\n",
              "  </tbody>\n",
              "</table>\n",
              "<p>404 rows × 6 columns</p>\n",
              "</div>"
            ],
            "text/plain": [
              "             date   county          state     fips  cases  deaths\n",
              "44     2020-02-01  Suffolk  Massachusetts  25025.0      1       0\n",
              "52     2020-02-02  Suffolk  Massachusetts  25025.0      1       0\n",
              "60     2020-02-03  Suffolk  Massachusetts  25025.0      1       0\n",
              "68     2020-02-04  Suffolk  Massachusetts  25025.0      1       0\n",
              "76     2020-02-05  Suffolk  Massachusetts  25025.0      1       0\n",
              "...           ...      ...            ...      ...    ...     ...\n",
              "513064 2020-09-08  Suffolk  Massachusetts  25025.0  22788    1111\n",
              "516288 2020-09-09  Bristol  Massachusetts  25005.0   9418     668\n",
              "516298 2020-09-09  Suffolk  Massachusetts  25025.0  22831    1111\n",
              "519523 2020-09-10  Bristol  Massachusetts  25005.0   9448     670\n",
              "519533 2020-09-10  Suffolk  Massachusetts  25025.0  22920    1113\n",
              "\n",
              "[404 rows x 6 columns]"
            ]
          },
          "metadata": {
            "tags": []
          },
          "execution_count": 215
        }
      ]
    },
    {
      "cell_type": "code",
      "metadata": {
        "id": "S26pjijMEx2k",
        "colab_type": "code",
        "colab": {
          "base_uri": "https://localhost:8080/",
          "height": 481
        },
        "outputId": "dca23d8a-989e-4dd5-f4be-1cc66ba8c1ea"
      },
      "source": [
        "\n",
        "\n",
        "from altair import datum\n",
        "\n",
        "alt.Chart(df_filtered).mark_bar().encode(\n",
        "    x='date:O',\n",
        "    y='deaths:Q',\n",
        "    color = 'county',\n",
        "    tooltip=['deaths']\n",
        ").transform_filter(\n",
        "    datum.date >'2020-04-06'\n",
        ").interactive()"
      ],
      "execution_count": 224,
      "outputs": [
        {
          "output_type": "execute_result",
          "data": {
            "text/plain": [
              "alt.Chart(...)"
            ],
            "text/html": [
              "\n",
              "<div id=\"altair-viz-4f89195636034b78b1e7e73f50d068d7\"></div>\n",
              "<script type=\"text/javascript\">\n",
              "  (function(spec, embedOpt){\n",
              "    let outputDiv = document.currentScript.previousElementSibling;\n",
              "    if (outputDiv.id !== \"altair-viz-4f89195636034b78b1e7e73f50d068d7\") {\n",
              "      outputDiv = document.getElementById(\"altair-viz-4f89195636034b78b1e7e73f50d068d7\");\n",
              "    }\n",
              "    const paths = {\n",
              "      \"vega\": \"https://cdn.jsdelivr.net/npm//vega@5?noext\",\n",
              "      \"vega-lib\": \"https://cdn.jsdelivr.net/npm//vega-lib?noext\",\n",
              "      \"vega-lite\": \"https://cdn.jsdelivr.net/npm//vega-lite@4.8.1?noext\",\n",
              "      \"vega-embed\": \"https://cdn.jsdelivr.net/npm//vega-embed@6?noext\",\n",
              "    };\n",
              "\n",
              "    function loadScript(lib) {\n",
              "      return new Promise(function(resolve, reject) {\n",
              "        var s = document.createElement('script');\n",
              "        s.src = paths[lib];\n",
              "        s.async = true;\n",
              "        s.onload = () => resolve(paths[lib]);\n",
              "        s.onerror = () => reject(`Error loading script: ${paths[lib]}`);\n",
              "        document.getElementsByTagName(\"head\")[0].appendChild(s);\n",
              "      });\n",
              "    }\n",
              "\n",
              "    function showError(err) {\n",
              "      outputDiv.innerHTML = `<div class=\"error\" style=\"color:red;\">${err}</div>`;\n",
              "      throw err;\n",
              "    }\n",
              "\n",
              "    function displayChart(vegaEmbed) {\n",
              "      vegaEmbed(outputDiv, spec, embedOpt)\n",
              "        .catch(err => showError(`Javascript Error: ${err.message}<br>This usually means there's a typo in your chart specification. See the javascript console for the full traceback.`));\n",
              "    }\n",
              "\n",
              "    if(typeof define === \"function\" && define.amd) {\n",
              "      requirejs.config({paths});\n",
              "      require([\"vega-embed\"], displayChart, err => showError(`Error loading script: ${err.message}`));\n",
              "    } else if (typeof vegaEmbed === \"function\") {\n",
              "      displayChart(vegaEmbed);\n",
              "    } else {\n",
              "      loadScript(\"vega\")\n",
              "        .then(() => loadScript(\"vega-lite\"))\n",
              "        .then(() => loadScript(\"vega-embed\"))\n",
              "        .catch(showError)\n",
              "        .then(() => displayChart(vegaEmbed));\n",
              "    }\n",
              "  })({\"config\": {\"view\": {\"continuousWidth\": 400, \"continuousHeight\": 300}}, \"data\": {\"name\": \"data-76c5b8a05186b494bd136f78a16ae898\"}, \"mark\": \"bar\", \"encoding\": {\"color\": {\"type\": \"nominal\", \"field\": \"county\"}, \"tooltip\": [{\"type\": \"quantitative\", \"field\": \"deaths\"}], \"x\": {\"type\": \"ordinal\", \"field\": \"date\"}, \"y\": {\"type\": \"quantitative\", \"field\": \"deaths\"}}, \"selection\": {\"selector004\": {\"type\": \"interval\", \"bind\": \"scales\", \"encodings\": [\"x\", \"y\"]}}, \"transform\": [{\"filter\": \"(datum.date > '2020-04-06')\"}], \"$schema\": \"https://vega.github.io/schema/vega-lite/v4.8.1.json\", \"datasets\": {\"data-76c5b8a05186b494bd136f78a16ae898\": [{\"date\": \"2020-02-01T00:00:00\", \"county\": \"Suffolk\", \"state\": \"Massachusetts\", \"fips\": 25025.0, \"cases\": 1, \"deaths\": 0}, {\"date\": \"2020-02-02T00:00:00\", \"county\": \"Suffolk\", \"state\": \"Massachusetts\", \"fips\": 25025.0, \"cases\": 1, \"deaths\": 0}, {\"date\": \"2020-02-03T00:00:00\", \"county\": \"Suffolk\", \"state\": \"Massachusetts\", \"fips\": 25025.0, \"cases\": 1, \"deaths\": 0}, {\"date\": \"2020-02-04T00:00:00\", \"county\": \"Suffolk\", \"state\": \"Massachusetts\", \"fips\": 25025.0, \"cases\": 1, \"deaths\": 0}, {\"date\": \"2020-02-05T00:00:00\", \"county\": \"Suffolk\", \"state\": \"Massachusetts\", \"fips\": 25025.0, \"cases\": 1, \"deaths\": 0}, {\"date\": \"2020-02-06T00:00:00\", \"county\": \"Suffolk\", \"state\": \"Massachusetts\", \"fips\": 25025.0, \"cases\": 1, \"deaths\": 0}, {\"date\": \"2020-02-07T00:00:00\", \"county\": \"Suffolk\", \"state\": \"Massachusetts\", \"fips\": 25025.0, \"cases\": 1, \"deaths\": 0}, {\"date\": \"2020-02-08T00:00:00\", \"county\": \"Suffolk\", \"state\": \"Massachusetts\", \"fips\": 25025.0, \"cases\": 1, \"deaths\": 0}, {\"date\": \"2020-02-09T00:00:00\", \"county\": \"Suffolk\", \"state\": \"Massachusetts\", \"fips\": 25025.0, \"cases\": 1, \"deaths\": 0}, {\"date\": \"2020-02-10T00:00:00\", \"county\": \"Suffolk\", \"state\": \"Massachusetts\", \"fips\": 25025.0, \"cases\": 1, \"deaths\": 0}, {\"date\": \"2020-02-11T00:00:00\", \"county\": \"Suffolk\", \"state\": \"Massachusetts\", \"fips\": 25025.0, \"cases\": 1, \"deaths\": 0}, {\"date\": \"2020-02-12T00:00:00\", \"county\": \"Suffolk\", \"state\": \"Massachusetts\", \"fips\": 25025.0, \"cases\": 1, \"deaths\": 0}, {\"date\": \"2020-02-13T00:00:00\", \"county\": \"Suffolk\", \"state\": \"Massachusetts\", \"fips\": 25025.0, \"cases\": 1, \"deaths\": 0}, {\"date\": \"2020-02-14T00:00:00\", \"county\": \"Suffolk\", \"state\": \"Massachusetts\", \"fips\": 25025.0, \"cases\": 1, \"deaths\": 0}, {\"date\": \"2020-02-15T00:00:00\", \"county\": \"Suffolk\", \"state\": \"Massachusetts\", \"fips\": 25025.0, \"cases\": 1, \"deaths\": 0}, {\"date\": \"2020-02-16T00:00:00\", \"county\": \"Suffolk\", \"state\": \"Massachusetts\", \"fips\": 25025.0, \"cases\": 1, \"deaths\": 0}, {\"date\": \"2020-02-17T00:00:00\", \"county\": \"Suffolk\", \"state\": \"Massachusetts\", \"fips\": 25025.0, \"cases\": 1, \"deaths\": 0}, {\"date\": \"2020-02-18T00:00:00\", \"county\": \"Suffolk\", \"state\": \"Massachusetts\", \"fips\": 25025.0, \"cases\": 1, \"deaths\": 0}, {\"date\": \"2020-02-19T00:00:00\", \"county\": \"Suffolk\", \"state\": \"Massachusetts\", \"fips\": 25025.0, \"cases\": 1, \"deaths\": 0}, {\"date\": \"2020-02-20T00:00:00\", \"county\": \"Suffolk\", \"state\": \"Massachusetts\", \"fips\": 25025.0, \"cases\": 1, \"deaths\": 0}, {\"date\": \"2020-02-21T00:00:00\", \"county\": \"Suffolk\", \"state\": \"Massachusetts\", \"fips\": 25025.0, \"cases\": 1, \"deaths\": 0}, {\"date\": \"2020-02-22T00:00:00\", \"county\": \"Suffolk\", \"state\": \"Massachusetts\", \"fips\": 25025.0, \"cases\": 1, \"deaths\": 0}, {\"date\": \"2020-02-23T00:00:00\", \"county\": \"Suffolk\", \"state\": \"Massachusetts\", \"fips\": 25025.0, \"cases\": 1, \"deaths\": 0}, {\"date\": \"2020-02-24T00:00:00\", \"county\": \"Suffolk\", \"state\": \"Massachusetts\", \"fips\": 25025.0, \"cases\": 1, \"deaths\": 0}, {\"date\": \"2020-02-25T00:00:00\", \"county\": \"Suffolk\", \"state\": \"Massachusetts\", \"fips\": 25025.0, \"cases\": 1, \"deaths\": 0}, {\"date\": \"2020-02-26T00:00:00\", \"county\": \"Suffolk\", \"state\": \"Massachusetts\", \"fips\": 25025.0, \"cases\": 1, \"deaths\": 0}, {\"date\": \"2020-02-27T00:00:00\", \"county\": \"Suffolk\", \"state\": \"Massachusetts\", \"fips\": 25025.0, \"cases\": 1, \"deaths\": 0}, {\"date\": \"2020-02-28T00:00:00\", \"county\": \"Suffolk\", \"state\": \"Massachusetts\", \"fips\": 25025.0, \"cases\": 1, \"deaths\": 0}, {\"date\": \"2020-02-29T00:00:00\", \"county\": \"Suffolk\", \"state\": \"Massachusetts\", \"fips\": 25025.0, \"cases\": 1, \"deaths\": 0}, {\"date\": \"2020-03-01T00:00:00\", \"county\": \"Suffolk\", \"state\": \"Massachusetts\", \"fips\": 25025.0, \"cases\": 1, \"deaths\": 0}, {\"date\": \"2020-03-02T00:00:00\", \"county\": \"Suffolk\", \"state\": \"Massachusetts\", \"fips\": 25025.0, \"cases\": 1, \"deaths\": 0}, {\"date\": \"2020-03-03T00:00:00\", \"county\": \"Suffolk\", \"state\": \"Massachusetts\", \"fips\": 25025.0, \"cases\": 1, \"deaths\": 0}, {\"date\": \"2020-03-04T00:00:00\", \"county\": \"Suffolk\", \"state\": \"Massachusetts\", \"fips\": 25025.0, \"cases\": 1, \"deaths\": 0}, {\"date\": \"2020-03-05T00:00:00\", \"county\": \"Suffolk\", \"state\": \"Massachusetts\", \"fips\": 25025.0, \"cases\": 1, \"deaths\": 0}, {\"date\": \"2020-03-06T00:00:00\", \"county\": \"Suffolk\", \"state\": \"Massachusetts\", \"fips\": 25025.0, \"cases\": 4, \"deaths\": 0}, {\"date\": \"2020-03-07T00:00:00\", \"county\": \"Suffolk\", \"state\": \"Massachusetts\", \"fips\": 25025.0, \"cases\": 4, \"deaths\": 0}, {\"date\": \"2020-03-08T00:00:00\", \"county\": \"Suffolk\", \"state\": \"Massachusetts\", \"fips\": 25025.0, \"cases\": 9, \"deaths\": 0}, {\"date\": \"2020-03-09T00:00:00\", \"county\": \"Suffolk\", \"state\": \"Massachusetts\", \"fips\": 25025.0, \"cases\": 10, \"deaths\": 0}, {\"date\": \"2020-03-10T00:00:00\", \"county\": \"Suffolk\", \"state\": \"Massachusetts\", \"fips\": 25025.0, \"cases\": 20, \"deaths\": 0}, {\"date\": \"2020-03-11T00:00:00\", \"county\": \"Suffolk\", \"state\": \"Massachusetts\", \"fips\": 25025.0, \"cases\": 20, \"deaths\": 0}, {\"date\": \"2020-03-12T00:00:00\", \"county\": \"Suffolk\", \"state\": \"Massachusetts\", \"fips\": 25025.0, \"cases\": 22, \"deaths\": 0}, {\"date\": \"2020-03-13T00:00:00\", \"county\": \"Suffolk\", \"state\": \"Massachusetts\", \"fips\": 25025.0, \"cases\": 26, \"deaths\": 0}, {\"date\": \"2020-03-14T00:00:00\", \"county\": \"Bristol\", \"state\": \"Massachusetts\", \"fips\": 25005.0, \"cases\": 1, \"deaths\": 0}, {\"date\": \"2020-03-14T00:00:00\", \"county\": \"Suffolk\", \"state\": \"Massachusetts\", \"fips\": 25025.0, \"cases\": 27, \"deaths\": 0}, {\"date\": \"2020-03-15T00:00:00\", \"county\": \"Bristol\", \"state\": \"Massachusetts\", \"fips\": 25005.0, \"cases\": 1, \"deaths\": 0}, {\"date\": \"2020-03-15T00:00:00\", \"county\": \"Suffolk\", \"state\": \"Massachusetts\", \"fips\": 25025.0, \"cases\": 31, \"deaths\": 0}, {\"date\": \"2020-03-16T00:00:00\", \"county\": \"Bristol\", \"state\": \"Massachusetts\", \"fips\": 25005.0, \"cases\": 2, \"deaths\": 0}, {\"date\": \"2020-03-16T00:00:00\", \"county\": \"Suffolk\", \"state\": \"Massachusetts\", \"fips\": 25025.0, \"cases\": 42, \"deaths\": 0}, {\"date\": \"2020-03-17T00:00:00\", \"county\": \"Bristol\", \"state\": \"Massachusetts\", \"fips\": 25005.0, \"cases\": 5, \"deaths\": 0}, {\"date\": \"2020-03-17T00:00:00\", \"county\": \"Suffolk\", \"state\": \"Massachusetts\", \"fips\": 25025.0, \"cases\": 42, \"deaths\": 0}, {\"date\": \"2020-03-18T00:00:00\", \"county\": \"Bristol\", \"state\": \"Massachusetts\", \"fips\": 25005.0, \"cases\": 5, \"deaths\": 0}, {\"date\": \"2020-03-18T00:00:00\", \"county\": \"Suffolk\", \"state\": \"Massachusetts\", \"fips\": 25025.0, \"cases\": 51, \"deaths\": 0}, {\"date\": \"2020-03-19T00:00:00\", \"county\": \"Bristol\", \"state\": \"Massachusetts\", \"fips\": 25005.0, \"cases\": 6, \"deaths\": 0}, {\"date\": \"2020-03-19T00:00:00\", \"county\": \"Suffolk\", \"state\": \"Massachusetts\", \"fips\": 25025.0, \"cases\": 72, \"deaths\": 0}, {\"date\": \"2020-03-20T00:00:00\", \"county\": \"Bristol\", \"state\": \"Massachusetts\", \"fips\": 25005.0, \"cases\": 6, \"deaths\": 0}, {\"date\": \"2020-03-20T00:00:00\", \"county\": \"Suffolk\", \"state\": \"Massachusetts\", \"fips\": 25025.0, \"cases\": 87, \"deaths\": 1}, {\"date\": \"2020-03-21T00:00:00\", \"county\": \"Bristol\", \"state\": \"Massachusetts\", \"fips\": 25005.0, \"cases\": 14, \"deaths\": 0}, {\"date\": \"2020-03-21T00:00:00\", \"county\": \"Suffolk\", \"state\": \"Massachusetts\", \"fips\": 25025.0, \"cases\": 108, \"deaths\": 1}, {\"date\": \"2020-03-22T00:00:00\", \"county\": \"Bristol\", \"state\": \"Massachusetts\", \"fips\": 25005.0, \"cases\": 24, \"deaths\": 0}, {\"date\": \"2020-03-22T00:00:00\", \"county\": \"Suffolk\", \"state\": \"Massachusetts\", \"fips\": 25025.0, \"cases\": 126, \"deaths\": 2}, {\"date\": \"2020-03-23T00:00:00\", \"county\": \"Bristol\", \"state\": \"Massachusetts\", \"fips\": 25005.0, \"cases\": 25, \"deaths\": 0}, {\"date\": \"2020-03-23T00:00:00\", \"county\": \"Suffolk\", \"state\": \"Massachusetts\", \"fips\": 25025.0, \"cases\": 154, \"deaths\": 3}, {\"date\": \"2020-03-24T00:00:00\", \"county\": \"Bristol\", \"state\": \"Massachusetts\", \"fips\": 25005.0, \"cases\": 31, \"deaths\": 0}, {\"date\": \"2020-03-24T00:00:00\", \"county\": \"Suffolk\", \"state\": \"Massachusetts\", \"fips\": 25025.0, \"cases\": 234, \"deaths\": 3}, {\"date\": \"2020-03-25T00:00:00\", \"county\": \"Bristol\", \"state\": \"Massachusetts\", \"fips\": 25005.0, \"cases\": 67, \"deaths\": 0}, {\"date\": \"2020-03-25T00:00:00\", \"county\": \"Suffolk\", \"state\": \"Massachusetts\", \"fips\": 25025.0, \"cases\": 342, \"deaths\": 3}, {\"date\": \"2020-03-26T00:00:00\", \"county\": \"Bristol\", \"state\": \"Massachusetts\", \"fips\": 25005.0, \"cases\": 90, \"deaths\": 0}, {\"date\": \"2020-03-26T00:00:00\", \"county\": \"Suffolk\", \"state\": \"Massachusetts\", \"fips\": 25025.0, \"cases\": 448, \"deaths\": 4}, {\"date\": \"2020-03-27T00:00:00\", \"county\": \"Bristol\", \"state\": \"Massachusetts\", \"fips\": 25005.0, \"cases\": 129, \"deaths\": 1}, {\"date\": \"2020-03-27T00:00:00\", \"county\": \"Suffolk\", \"state\": \"Massachusetts\", \"fips\": 25025.0, \"cases\": 631, \"deaths\": 4}, {\"date\": \"2020-03-28T00:00:00\", \"county\": \"Bristol\", \"state\": \"Massachusetts\", \"fips\": 25005.0, \"cases\": 179, \"deaths\": 1}, {\"date\": \"2020-03-28T00:00:00\", \"county\": \"Suffolk\", \"state\": \"Massachusetts\", \"fips\": 25025.0, \"cases\": 843, \"deaths\": 5}, {\"date\": \"2020-03-29T00:00:00\", \"county\": \"Bristol\", \"state\": \"Massachusetts\", \"fips\": 25005.0, \"cases\": 208, \"deaths\": 1}, {\"date\": \"2020-03-29T00:00:00\", \"county\": \"Suffolk\", \"state\": \"Massachusetts\", \"fips\": 25025.0, \"cases\": 940, \"deaths\": 5}, {\"date\": \"2020-03-30T00:00:00\", \"county\": \"Bristol\", \"state\": \"Massachusetts\", \"fips\": 25005.0, \"cases\": 263, \"deaths\": 2}, {\"date\": \"2020-03-30T00:00:00\", \"county\": \"Suffolk\", \"state\": \"Massachusetts\", \"fips\": 25025.0, \"cases\": 1115, \"deaths\": 7}, {\"date\": \"2020-03-31T00:00:00\", \"county\": \"Bristol\", \"state\": \"Massachusetts\", \"fips\": 25005.0, \"cases\": 306, \"deaths\": 2}, {\"date\": \"2020-03-31T00:00:00\", \"county\": \"Suffolk\", \"state\": \"Massachusetts\", \"fips\": 25025.0, \"cases\": 1373, \"deaths\": 8}, {\"date\": \"2020-04-01T00:00:00\", \"county\": \"Bristol\", \"state\": \"Massachusetts\", \"fips\": 25005.0, \"cases\": 366, \"deaths\": 3}, {\"date\": \"2020-04-01T00:00:00\", \"county\": \"Suffolk\", \"state\": \"Massachusetts\", \"fips\": 25025.0, \"cases\": 1624, \"deaths\": 15}, {\"date\": \"2020-04-02T00:00:00\", \"county\": \"Bristol\", \"state\": \"Massachusetts\", \"fips\": 25005.0, \"cases\": 424, \"deaths\": 3}, {\"date\": \"2020-04-02T00:00:00\", \"county\": \"Suffolk\", \"state\": \"Massachusetts\", \"fips\": 25025.0, \"cases\": 1896, \"deaths\": 21}, {\"date\": \"2020-04-03T00:00:00\", \"county\": \"Bristol\", \"state\": \"Massachusetts\", \"fips\": 25005.0, \"cases\": 517, \"deaths\": 4}, {\"date\": \"2020-04-03T00:00:00\", \"county\": \"Suffolk\", \"state\": \"Massachusetts\", \"fips\": 25025.0, \"cases\": 2183, \"deaths\": 23}, {\"date\": \"2020-04-04T00:00:00\", \"county\": \"Bristol\", \"state\": \"Massachusetts\", \"fips\": 25005.0, \"cases\": 601, \"deaths\": 5}, {\"date\": \"2020-04-04T00:00:00\", \"county\": \"Suffolk\", \"state\": \"Massachusetts\", \"fips\": 25025.0, \"cases\": 2429, \"deaths\": 28}, {\"date\": \"2020-04-05T00:00:00\", \"county\": \"Bristol\", \"state\": \"Massachusetts\", \"fips\": 25005.0, \"cases\": 659, \"deaths\": 8}, {\"date\": \"2020-04-05T00:00:00\", \"county\": \"Suffolk\", \"state\": \"Massachusetts\", \"fips\": 25025.0, \"cases\": 2658, \"deaths\": 29}, {\"date\": \"2020-04-06T00:00:00\", \"county\": \"Bristol\", \"state\": \"Massachusetts\", \"fips\": 25005.0, \"cases\": 722, \"deaths\": 8}, {\"date\": \"2020-04-06T00:00:00\", \"county\": \"Suffolk\", \"state\": \"Massachusetts\", \"fips\": 25025.0, \"cases\": 2929, \"deaths\": 33}, {\"date\": \"2020-04-07T00:00:00\", \"county\": \"Bristol\", \"state\": \"Massachusetts\", \"fips\": 25005.0, \"cases\": 768, \"deaths\": 16}, {\"date\": \"2020-04-07T00:00:00\", \"county\": \"Suffolk\", \"state\": \"Massachusetts\", \"fips\": 25025.0, \"cases\": 3245, \"deaths\": 42}, {\"date\": \"2020-04-08T00:00:00\", \"county\": \"Bristol\", \"state\": \"Massachusetts\", \"fips\": 25005.0, \"cases\": 835, \"deaths\": 23}, {\"date\": \"2020-04-08T00:00:00\", \"county\": \"Suffolk\", \"state\": \"Massachusetts\", \"fips\": 25025.0, \"cases\": 3600, \"deaths\": 50}, {\"date\": \"2020-04-09T00:00:00\", \"county\": \"Bristol\", \"state\": \"Massachusetts\", \"fips\": 25005.0, \"cases\": 994, \"deaths\": 28}, {\"date\": \"2020-04-09T00:00:00\", \"county\": \"Suffolk\", \"state\": \"Massachusetts\", \"fips\": 25025.0, \"cases\": 4041, \"deaths\": 56}, {\"date\": \"2020-04-10T00:00:00\", \"county\": \"Bristol\", \"state\": \"Massachusetts\", \"fips\": 25005.0, \"cases\": 1086, \"deaths\": 33}, {\"date\": \"2020-04-10T00:00:00\", \"county\": \"Suffolk\", \"state\": \"Massachusetts\", \"fips\": 25025.0, \"cases\": 4534, \"deaths\": 73}, {\"date\": \"2020-04-11T00:00:00\", \"county\": \"Bristol\", \"state\": \"Massachusetts\", \"fips\": 25005.0, \"cases\": 1191, \"deaths\": 39}, {\"date\": \"2020-04-11T00:00:00\", \"county\": \"Suffolk\", \"state\": \"Massachusetts\", \"fips\": 25025.0, \"cases\": 4926, \"deaths\": 81}, {\"date\": \"2020-04-12T00:00:00\", \"county\": \"Bristol\", \"state\": \"Massachusetts\", \"fips\": 25005.0, \"cases\": 1327, \"deaths\": 43}, {\"date\": \"2020-04-12T00:00:00\", \"county\": \"Suffolk\", \"state\": \"Massachusetts\", \"fips\": 25025.0, \"cases\": 5359, \"deaths\": 88}, {\"date\": \"2020-04-13T00:00:00\", \"county\": \"Bristol\", \"state\": \"Massachusetts\", \"fips\": 25005.0, \"cases\": 1394, \"deaths\": 46}, {\"date\": \"2020-04-13T00:00:00\", \"county\": \"Suffolk\", \"state\": \"Massachusetts\", \"fips\": 25025.0, \"cases\": 5579, \"deaths\": 106}, {\"date\": \"2020-04-14T00:00:00\", \"county\": \"Bristol\", \"state\": \"Massachusetts\", \"fips\": 25005.0, \"cases\": 1435, \"deaths\": 53}, {\"date\": \"2020-04-14T00:00:00\", \"county\": \"Suffolk\", \"state\": \"Massachusetts\", \"fips\": 25025.0, \"cases\": 5872, \"deaths\": 120}, {\"date\": \"2020-04-15T00:00:00\", \"county\": \"Bristol\", \"state\": \"Massachusetts\", \"fips\": 25005.0, \"cases\": 1508, \"deaths\": 56}, {\"date\": \"2020-04-15T00:00:00\", \"county\": \"Suffolk\", \"state\": \"Massachusetts\", \"fips\": 25025.0, \"cases\": 6279, \"deaths\": 147}, {\"date\": \"2020-04-16T00:00:00\", \"county\": \"Bristol\", \"state\": \"Massachusetts\", \"fips\": 25005.0, \"cases\": 1605, \"deaths\": 63}, {\"date\": \"2020-04-16T00:00:00\", \"county\": \"Suffolk\", \"state\": \"Massachusetts\", \"fips\": 25025.0, \"cases\": 6820, \"deaths\": 166}, {\"date\": \"2020-04-17T00:00:00\", \"county\": \"Bristol\", \"state\": \"Massachusetts\", \"fips\": 25005.0, \"cases\": 1659, \"deaths\": 75}, {\"date\": \"2020-04-17T00:00:00\", \"county\": \"Suffolk\", \"state\": \"Massachusetts\", \"fips\": 25025.0, \"cases\": 7272, \"deaths\": 190}, {\"date\": \"2020-04-18T00:00:00\", \"county\": \"Bristol\", \"state\": \"Massachusetts\", \"fips\": 25005.0, \"cases\": 1698, \"deaths\": 83}, {\"date\": \"2020-04-18T00:00:00\", \"county\": \"Suffolk\", \"state\": \"Massachusetts\", \"fips\": 25025.0, \"cases\": 7696, \"deaths\": 214}, {\"date\": \"2020-04-19T00:00:00\", \"county\": \"Bristol\", \"state\": \"Massachusetts\", \"fips\": 25005.0, \"cases\": 1731, \"deaths\": 87}, {\"date\": \"2020-04-19T00:00:00\", \"county\": \"Suffolk\", \"state\": \"Massachusetts\", \"fips\": 25025.0, \"cases\": 8074, \"deaths\": 238}, {\"date\": \"2020-04-20T00:00:00\", \"county\": \"Bristol\", \"state\": \"Massachusetts\", \"fips\": 25005.0, \"cases\": 1779, \"deaths\": 88}, {\"date\": \"2020-04-20T00:00:00\", \"county\": \"Suffolk\", \"state\": \"Massachusetts\", \"fips\": 25025.0, \"cases\": 8314, \"deaths\": 263}, {\"date\": \"2020-04-21T00:00:00\", \"county\": \"Bristol\", \"state\": \"Massachusetts\", \"fips\": 25005.0, \"cases\": 1852, \"deaths\": 96}, {\"date\": \"2020-04-21T00:00:00\", \"county\": \"Suffolk\", \"state\": \"Massachusetts\", \"fips\": 25025.0, \"cases\": 8669, \"deaths\": 285}, {\"date\": \"2020-04-22T00:00:00\", \"county\": \"Bristol\", \"state\": \"Massachusetts\", \"fips\": 25005.0, \"cases\": 1908, \"deaths\": 104}, {\"date\": \"2020-04-22T00:00:00\", \"county\": \"Suffolk\", \"state\": \"Massachusetts\", \"fips\": 25025.0, \"cases\": 9060, \"deaths\": 318}, {\"date\": \"2020-04-23T00:00:00\", \"county\": \"Bristol\", \"state\": \"Massachusetts\", \"fips\": 25005.0, \"cases\": 2181, \"deaths\": 109}, {\"date\": \"2020-04-23T00:00:00\", \"county\": \"Suffolk\", \"state\": \"Massachusetts\", \"fips\": 25025.0, \"cases\": 9739, \"deaths\": 346}, {\"date\": \"2020-04-24T00:00:00\", \"county\": \"Bristol\", \"state\": \"Massachusetts\", \"fips\": 25005.0, \"cases\": 2697, \"deaths\": 126}, {\"date\": \"2020-04-24T00:00:00\", \"county\": \"Suffolk\", \"state\": \"Massachusetts\", \"fips\": 25025.0, \"cases\": 10724, \"deaths\": 372}, {\"date\": \"2020-04-25T00:00:00\", \"county\": \"Bristol\", \"state\": \"Massachusetts\", \"fips\": 25005.0, \"cases\": 2829, \"deaths\": 130}, {\"date\": \"2020-04-25T00:00:00\", \"county\": \"Suffolk\", \"state\": \"Massachusetts\", \"fips\": 25025.0, \"cases\": 11218, \"deaths\": 391}, {\"date\": \"2020-04-26T00:00:00\", \"county\": \"Bristol\", \"state\": \"Massachusetts\", \"fips\": 25005.0, \"cases\": 2923, \"deaths\": 134}, {\"date\": \"2020-04-26T00:00:00\", \"county\": \"Suffolk\", \"state\": \"Massachusetts\", \"fips\": 25025.0, \"cases\": 11543, \"deaths\": 424}, {\"date\": \"2020-04-27T00:00:00\", \"county\": \"Bristol\", \"state\": \"Massachusetts\", \"fips\": 25005.0, \"cases\": 3068, \"deaths\": 137}, {\"date\": \"2020-04-27T00:00:00\", \"county\": \"Suffolk\", \"state\": \"Massachusetts\", \"fips\": 25025.0, \"cases\": 11883, \"deaths\": 448}, {\"date\": \"2020-04-28T00:00:00\", \"county\": \"Bristol\", \"state\": \"Massachusetts\", \"fips\": 25005.0, \"cases\": 3270, \"deaths\": 155}, {\"date\": \"2020-04-28T00:00:00\", \"county\": \"Suffolk\", \"state\": \"Massachusetts\", \"fips\": 25025.0, \"cases\": 12140, \"deaths\": 469}, {\"date\": \"2020-04-29T00:00:00\", \"county\": \"Bristol\", \"state\": \"Massachusetts\", \"fips\": 25005.0, \"cases\": 3429, \"deaths\": 165}, {\"date\": \"2020-04-29T00:00:00\", \"county\": \"Suffolk\", \"state\": \"Massachusetts\", \"fips\": 25025.0, \"cases\": 12539, \"deaths\": 504}, {\"date\": \"2020-04-30T00:00:00\", \"county\": \"Bristol\", \"state\": \"Massachusetts\", \"fips\": 25005.0, \"cases\": 3580, \"deaths\": 172}, {\"date\": \"2020-04-30T00:00:00\", \"county\": \"Suffolk\", \"state\": \"Massachusetts\", \"fips\": 25025.0, \"cases\": 12890, \"deaths\": 524}, {\"date\": \"2020-05-01T00:00:00\", \"county\": \"Bristol\", \"state\": \"Massachusetts\", \"fips\": 25005.0, \"cases\": 3792, \"deaths\": 182}, {\"date\": \"2020-05-01T00:00:00\", \"county\": \"Suffolk\", \"state\": \"Massachusetts\", \"fips\": 25025.0, \"cases\": 13295, \"deaths\": 550}, {\"date\": \"2020-05-02T00:00:00\", \"county\": \"Bristol\", \"state\": \"Massachusetts\", \"fips\": 25005.0, \"cases\": 3916, \"deaths\": 187}, {\"date\": \"2020-05-02T00:00:00\", \"county\": \"Suffolk\", \"state\": \"Massachusetts\", \"fips\": 25025.0, \"cases\": 13606, \"deaths\": 569}, {\"date\": \"2020-05-03T00:00:00\", \"county\": \"Bristol\", \"state\": \"Massachusetts\", \"fips\": 25005.0, \"cases\": 4019, \"deaths\": 198}, {\"date\": \"2020-05-03T00:00:00\", \"county\": \"Suffolk\", \"state\": \"Massachusetts\", \"fips\": 25025.0, \"cases\": 13777, \"deaths\": 588}, {\"date\": \"2020-05-04T00:00:00\", \"county\": \"Bristol\", \"state\": \"Massachusetts\", \"fips\": 25005.0, \"cases\": 4103, \"deaths\": 205}, {\"date\": \"2020-05-04T00:00:00\", \"county\": \"Suffolk\", \"state\": \"Massachusetts\", \"fips\": 25025.0, \"cases\": 13941, \"deaths\": 596}, {\"date\": \"2020-05-05T00:00:00\", \"county\": \"Bristol\", \"state\": \"Massachusetts\", \"fips\": 25005.0, \"cases\": 4235, \"deaths\": 210}, {\"date\": \"2020-05-05T00:00:00\", \"county\": \"Suffolk\", \"state\": \"Massachusetts\", \"fips\": 25025.0, \"cases\": 14173, \"deaths\": 609}, {\"date\": \"2020-05-06T00:00:00\", \"county\": \"Bristol\", \"state\": \"Massachusetts\", \"fips\": 25005.0, \"cases\": 4380, \"deaths\": 223}, {\"date\": \"2020-05-06T00:00:00\", \"county\": \"Suffolk\", \"state\": \"Massachusetts\", \"fips\": 25025.0, \"cases\": 14476, \"deaths\": 642}, {\"date\": \"2020-05-07T00:00:00\", \"county\": \"Bristol\", \"state\": \"Massachusetts\", \"fips\": 25005.0, \"cases\": 4529, \"deaths\": 232}, {\"date\": \"2020-05-07T00:00:00\", \"county\": \"Suffolk\", \"state\": \"Massachusetts\", \"fips\": 25025.0, \"cases\": 14732, \"deaths\": 663}, {\"date\": \"2020-05-08T00:00:00\", \"county\": \"Bristol\", \"state\": \"Massachusetts\", \"fips\": 25005.0, \"cases\": 4670, \"deaths\": 252}, {\"date\": \"2020-05-08T00:00:00\", \"county\": \"Suffolk\", \"state\": \"Massachusetts\", \"fips\": 25025.0, \"cases\": 14944, \"deaths\": 683}, {\"date\": \"2020-05-09T00:00:00\", \"county\": \"Bristol\", \"state\": \"Massachusetts\", \"fips\": 25005.0, \"cases\": 4847, \"deaths\": 260}, {\"date\": \"2020-05-09T00:00:00\", \"county\": \"Suffolk\", \"state\": \"Massachusetts\", \"fips\": 25025.0, \"cases\": 15119, \"deaths\": 703}, {\"date\": \"2020-05-10T00:00:00\", \"county\": \"Bristol\", \"state\": \"Massachusetts\", \"fips\": 25005.0, \"cases\": 4931, \"deaths\": 266}, {\"date\": \"2020-05-10T00:00:00\", \"county\": \"Suffolk\", \"state\": \"Massachusetts\", \"fips\": 25025.0, \"cases\": 15279, \"deaths\": 718}, {\"date\": \"2020-05-11T00:00:00\", \"county\": \"Bristol\", \"state\": \"Massachusetts\", \"fips\": 25005.0, \"cases\": 4999, \"deaths\": 274}, {\"date\": \"2020-05-11T00:00:00\", \"county\": \"Suffolk\", \"state\": \"Massachusetts\", \"fips\": 25025.0, \"cases\": 15356, \"deaths\": 731}, {\"date\": \"2020-05-12T00:00:00\", \"county\": \"Bristol\", \"state\": \"Massachusetts\", \"fips\": 25005.0, \"cases\": 5125, \"deaths\": 278}, {\"date\": \"2020-05-12T00:00:00\", \"county\": \"Suffolk\", \"state\": \"Massachusetts\", \"fips\": 25025.0, \"cases\": 15454, \"deaths\": 732}, {\"date\": \"2020-05-13T00:00:00\", \"county\": \"Bristol\", \"state\": \"Massachusetts\", \"fips\": 25005.0, \"cases\": 5249, \"deaths\": 288}, {\"date\": \"2020-05-13T00:00:00\", \"county\": \"Suffolk\", \"state\": \"Massachusetts\", \"fips\": 25025.0, \"cases\": 15587, \"deaths\": 749}, {\"date\": \"2020-05-14T00:00:00\", \"county\": \"Bristol\", \"state\": \"Massachusetts\", \"fips\": 25005.0, \"cases\": 5440, \"deaths\": 297}, {\"date\": \"2020-05-14T00:00:00\", \"county\": \"Suffolk\", \"state\": \"Massachusetts\", \"fips\": 25025.0, \"cases\": 15881, \"deaths\": 759}, {\"date\": \"2020-05-15T00:00:00\", \"county\": \"Bristol\", \"state\": \"Massachusetts\", \"fips\": 25005.0, \"cases\": 5590, \"deaths\": 303}, {\"date\": \"2020-05-15T00:00:00\", \"county\": \"Suffolk\", \"state\": \"Massachusetts\", \"fips\": 25025.0, \"cases\": 15996, \"deaths\": 768}, {\"date\": \"2020-05-16T00:00:00\", \"county\": \"Bristol\", \"state\": \"Massachusetts\", \"fips\": 25005.0, \"cases\": 5748, \"deaths\": 313}, {\"date\": \"2020-05-16T00:00:00\", \"county\": \"Suffolk\", \"state\": \"Massachusetts\", \"fips\": 25025.0, \"cases\": 16346, \"deaths\": 778}, {\"date\": \"2020-05-17T00:00:00\", \"county\": \"Bristol\", \"state\": \"Massachusetts\", \"fips\": 25005.0, \"cases\": 5870, \"deaths\": 320}, {\"date\": \"2020-05-17T00:00:00\", \"county\": \"Suffolk\", \"state\": \"Massachusetts\", \"fips\": 25025.0, \"cases\": 16479, \"deaths\": 787}, {\"date\": \"2020-05-18T00:00:00\", \"county\": \"Bristol\", \"state\": \"Massachusetts\", \"fips\": 25005.0, \"cases\": 5996, \"deaths\": 324}, {\"date\": \"2020-05-18T00:00:00\", \"county\": \"Suffolk\", \"state\": \"Massachusetts\", \"fips\": 25025.0, \"cases\": 16671, \"deaths\": 793}, {\"date\": \"2020-05-19T00:00:00\", \"county\": \"Bristol\", \"state\": \"Massachusetts\", \"fips\": 25005.0, \"cases\": 6080, \"deaths\": 330}, {\"date\": \"2020-05-19T00:00:00\", \"county\": \"Suffolk\", \"state\": \"Massachusetts\", \"fips\": 25025.0, \"cases\": 16825, \"deaths\": 797}, {\"date\": \"2020-05-20T00:00:00\", \"county\": \"Bristol\", \"state\": \"Massachusetts\", \"fips\": 25005.0, \"cases\": 6165, \"deaths\": 338}, {\"date\": \"2020-05-20T00:00:00\", \"county\": \"Suffolk\", \"state\": \"Massachusetts\", \"fips\": 25025.0, \"cases\": 16962, \"deaths\": 807}, {\"date\": \"2020-05-21T00:00:00\", \"county\": \"Bristol\", \"state\": \"Massachusetts\", \"fips\": 25005.0, \"cases\": 6286, \"deaths\": 345}, {\"date\": \"2020-05-21T00:00:00\", \"county\": \"Suffolk\", \"state\": \"Massachusetts\", \"fips\": 25025.0, \"cases\": 17089, \"deaths\": 813}, {\"date\": \"2020-05-22T00:00:00\", \"county\": \"Bristol\", \"state\": \"Massachusetts\", \"fips\": 25005.0, \"cases\": 6362, \"deaths\": 353}, {\"date\": \"2020-05-22T00:00:00\", \"county\": \"Suffolk\", \"state\": \"Massachusetts\", \"fips\": 25025.0, \"cases\": 17180, \"deaths\": 818}, {\"date\": \"2020-05-23T00:00:00\", \"county\": \"Bristol\", \"state\": \"Massachusetts\", \"fips\": 25005.0, \"cases\": 6426, \"deaths\": 362}, {\"date\": \"2020-05-23T00:00:00\", \"county\": \"Suffolk\", \"state\": \"Massachusetts\", \"fips\": 25025.0, \"cases\": 17291, \"deaths\": 827}, {\"date\": \"2020-05-24T00:00:00\", \"county\": \"Bristol\", \"state\": \"Massachusetts\", \"fips\": 25005.0, \"cases\": 6596, \"deaths\": 369}, {\"date\": \"2020-05-24T00:00:00\", \"county\": \"Suffolk\", \"state\": \"Massachusetts\", \"fips\": 25025.0, \"cases\": 17417, \"deaths\": 838}, {\"date\": \"2020-05-25T00:00:00\", \"county\": \"Bristol\", \"state\": \"Massachusetts\", \"fips\": 25005.0, \"cases\": 6681, \"deaths\": 375}, {\"date\": \"2020-05-25T00:00:00\", \"county\": \"Suffolk\", \"state\": \"Massachusetts\", \"fips\": 25025.0, \"cases\": 17480, \"deaths\": 839}, {\"date\": \"2020-05-26T00:00:00\", \"county\": \"Bristol\", \"state\": \"Massachusetts\", \"fips\": 25005.0, \"cases\": 6733, \"deaths\": 382}, {\"date\": \"2020-05-26T00:00:00\", \"county\": \"Suffolk\", \"state\": \"Massachusetts\", \"fips\": 25025.0, \"cases\": 17533, \"deaths\": 844}, {\"date\": \"2020-05-27T00:00:00\", \"county\": \"Bristol\", \"state\": \"Massachusetts\", \"fips\": 25005.0, \"cases\": 6779, \"deaths\": 390}, {\"date\": \"2020-05-27T00:00:00\", \"county\": \"Suffolk\", \"state\": \"Massachusetts\", \"fips\": 25025.0, \"cases\": 17596, \"deaths\": 850}, {\"date\": \"2020-05-28T00:00:00\", \"county\": \"Bristol\", \"state\": \"Massachusetts\", \"fips\": 25005.0, \"cases\": 6852, \"deaths\": 399}, {\"date\": \"2020-05-28T00:00:00\", \"county\": \"Suffolk\", \"state\": \"Massachusetts\", \"fips\": 25025.0, \"cases\": 17698, \"deaths\": 852}, {\"date\": \"2020-05-29T00:00:00\", \"county\": \"Bristol\", \"state\": \"Massachusetts\", \"fips\": 25005.0, \"cases\": 6930, \"deaths\": 404}, {\"date\": \"2020-05-29T00:00:00\", \"county\": \"Suffolk\", \"state\": \"Massachusetts\", \"fips\": 25025.0, \"cases\": 17786, \"deaths\": 861}, {\"date\": \"2020-05-30T00:00:00\", \"county\": \"Bristol\", \"state\": \"Massachusetts\", \"fips\": 25005.0, \"cases\": 7089, \"deaths\": 410}, {\"date\": \"2020-05-30T00:00:00\", \"county\": \"Suffolk\", \"state\": \"Massachusetts\", \"fips\": 25025.0, \"cases\": 17873, \"deaths\": 868}, {\"date\": \"2020-05-31T00:00:00\", \"county\": \"Bristol\", \"state\": \"Massachusetts\", \"fips\": 25005.0, \"cases\": 7159, \"deaths\": 415}, {\"date\": \"2020-05-31T00:00:00\", \"county\": \"Suffolk\", \"state\": \"Massachusetts\", \"fips\": 25025.0, \"cases\": 17936, \"deaths\": 871}, {\"date\": \"2020-06-01T00:00:00\", \"county\": \"Bristol\", \"state\": \"Massachusetts\", \"fips\": 25005.0, \"cases\": 7348, \"deaths\": 429}, {\"date\": \"2020-06-01T00:00:00\", \"county\": \"Suffolk\", \"state\": \"Massachusetts\", \"fips\": 25025.0, \"cases\": 18581, \"deaths\": 896}, {\"date\": \"2020-06-02T00:00:00\", \"county\": \"Bristol\", \"state\": \"Massachusetts\", \"fips\": 25005.0, \"cases\": 7380, \"deaths\": 435}, {\"date\": \"2020-06-02T00:00:00\", \"county\": \"Suffolk\", \"state\": \"Massachusetts\", \"fips\": 25025.0, \"cases\": 18636, \"deaths\": 902}, {\"date\": \"2020-06-03T00:00:00\", \"county\": \"Bristol\", \"state\": \"Massachusetts\", \"fips\": 25005.0, \"cases\": 7453, \"deaths\": 441}, {\"date\": \"2020-06-03T00:00:00\", \"county\": \"Suffolk\", \"state\": \"Massachusetts\", \"fips\": 25025.0, \"cases\": 18733, \"deaths\": 908}, {\"date\": \"2020-06-04T00:00:00\", \"county\": \"Bristol\", \"state\": \"Massachusetts\", \"fips\": 25005.0, \"cases\": 7508, \"deaths\": 452}, {\"date\": \"2020-06-04T00:00:00\", \"county\": \"Suffolk\", \"state\": \"Massachusetts\", \"fips\": 25025.0, \"cases\": 18790, \"deaths\": 913}, {\"date\": \"2020-06-05T00:00:00\", \"county\": \"Bristol\", \"state\": \"Massachusetts\", \"fips\": 25005.0, \"cases\": 7573, \"deaths\": 455}, {\"date\": \"2020-06-05T00:00:00\", \"county\": \"Suffolk\", \"state\": \"Massachusetts\", \"fips\": 25025.0, \"cases\": 18858, \"deaths\": 922}, {\"date\": \"2020-06-06T00:00:00\", \"county\": \"Bristol\", \"state\": \"Massachusetts\", \"fips\": 25005.0, \"cases\": 7635, \"deaths\": 467}, {\"date\": \"2020-06-06T00:00:00\", \"county\": \"Suffolk\", \"state\": \"Massachusetts\", \"fips\": 25025.0, \"cases\": 18955, \"deaths\": 923}, {\"date\": \"2020-06-07T00:00:00\", \"county\": \"Bristol\", \"state\": \"Massachusetts\", \"fips\": 25005.0, \"cases\": 7683, \"deaths\": 469}, {\"date\": \"2020-06-07T00:00:00\", \"county\": \"Suffolk\", \"state\": \"Massachusetts\", \"fips\": 25025.0, \"cases\": 19001, \"deaths\": 924}, {\"date\": \"2020-06-08T00:00:00\", \"county\": \"Bristol\", \"state\": \"Massachusetts\", \"fips\": 25005.0, \"cases\": 7698, \"deaths\": 473}, {\"date\": \"2020-06-08T00:00:00\", \"county\": \"Suffolk\", \"state\": \"Massachusetts\", \"fips\": 25025.0, \"cases\": 19028, \"deaths\": 931}, {\"date\": \"2020-06-09T00:00:00\", \"county\": \"Bristol\", \"state\": \"Massachusetts\", \"fips\": 25005.0, \"cases\": 7728, \"deaths\": 481}, {\"date\": \"2020-06-09T00:00:00\", \"county\": \"Suffolk\", \"state\": \"Massachusetts\", \"fips\": 25025.0, \"cases\": 19067, \"deaths\": 935}, {\"date\": \"2020-06-10T00:00:00\", \"county\": \"Bristol\", \"state\": \"Massachusetts\", \"fips\": 25005.0, \"cases\": 7754, \"deaths\": 487}, {\"date\": \"2020-06-10T00:00:00\", \"county\": \"Suffolk\", \"state\": \"Massachusetts\", \"fips\": 25025.0, \"cases\": 19099, \"deaths\": 936}, {\"date\": \"2020-06-11T00:00:00\", \"county\": \"Bristol\", \"state\": \"Massachusetts\", \"fips\": 25005.0, \"cases\": 7793, \"deaths\": 492}, {\"date\": \"2020-06-11T00:00:00\", \"county\": \"Suffolk\", \"state\": \"Massachusetts\", \"fips\": 25025.0, \"cases\": 19195, \"deaths\": 938}, {\"date\": \"2020-06-12T00:00:00\", \"county\": \"Bristol\", \"state\": \"Massachusetts\", \"fips\": 25005.0, \"cases\": 7872, \"deaths\": 496}, {\"date\": \"2020-06-12T00:00:00\", \"county\": \"Suffolk\", \"state\": \"Massachusetts\", \"fips\": 25025.0, \"cases\": 19249, \"deaths\": 941}, {\"date\": \"2020-06-13T00:00:00\", \"county\": \"Bristol\", \"state\": \"Massachusetts\", \"fips\": 25005.0, \"cases\": 7906, \"deaths\": 507}, {\"date\": \"2020-06-13T00:00:00\", \"county\": \"Suffolk\", \"state\": \"Massachusetts\", \"fips\": 25025.0, \"cases\": 19299, \"deaths\": 943}, {\"date\": \"2020-06-14T00:00:00\", \"county\": \"Bristol\", \"state\": \"Massachusetts\", \"fips\": 25005.0, \"cases\": 7933, \"deaths\": 516}, {\"date\": \"2020-06-14T00:00:00\", \"county\": \"Suffolk\", \"state\": \"Massachusetts\", \"fips\": 25025.0, \"cases\": 19335, \"deaths\": 950}, {\"date\": \"2020-06-15T00:00:00\", \"county\": \"Bristol\", \"state\": \"Massachusetts\", \"fips\": 25005.0, \"cases\": 7925, \"deaths\": 518}, {\"date\": \"2020-06-15T00:00:00\", \"county\": \"Suffolk\", \"state\": \"Massachusetts\", \"fips\": 25025.0, \"cases\": 19334, \"deaths\": 951}, {\"date\": \"2020-06-16T00:00:00\", \"county\": \"Bristol\", \"state\": \"Massachusetts\", \"fips\": 25005.0, \"cases\": 7940, \"deaths\": 520}, {\"date\": \"2020-06-16T00:00:00\", \"county\": \"Suffolk\", \"state\": \"Massachusetts\", \"fips\": 25025.0, \"cases\": 19367, \"deaths\": 952}, {\"date\": \"2020-06-17T00:00:00\", \"county\": \"Bristol\", \"state\": \"Massachusetts\", \"fips\": 25005.0, \"cases\": 7956, \"deaths\": 528}, {\"date\": \"2020-06-17T00:00:00\", \"county\": \"Suffolk\", \"state\": \"Massachusetts\", \"fips\": 25025.0, \"cases\": 19434, \"deaths\": 959}, {\"date\": \"2020-06-18T00:00:00\", \"county\": \"Bristol\", \"state\": \"Massachusetts\", \"fips\": 25005.0, \"cases\": 7979, \"deaths\": 534}, {\"date\": \"2020-06-18T00:00:00\", \"county\": \"Suffolk\", \"state\": \"Massachusetts\", \"fips\": 25025.0, \"cases\": 19477, \"deaths\": 963}, {\"date\": \"2020-06-19T00:00:00\", \"county\": \"Bristol\", \"state\": \"Massachusetts\", \"fips\": 25005.0, \"cases\": 8002, \"deaths\": 537}, {\"date\": \"2020-06-19T00:00:00\", \"county\": \"Suffolk\", \"state\": \"Massachusetts\", \"fips\": 25025.0, \"cases\": 19493, \"deaths\": 971}, {\"date\": \"2020-06-20T00:00:00\", \"county\": \"Bristol\", \"state\": \"Massachusetts\", \"fips\": 25005.0, \"cases\": 8028, \"deaths\": 539}, {\"date\": \"2020-06-20T00:00:00\", \"county\": \"Suffolk\", \"state\": \"Massachusetts\", \"fips\": 25025.0, \"cases\": 19528, \"deaths\": 973}, {\"date\": \"2020-06-21T00:00:00\", \"county\": \"Bristol\", \"state\": \"Massachusetts\", \"fips\": 25005.0, \"cases\": 8035, \"deaths\": 542}, {\"date\": \"2020-06-21T00:00:00\", \"county\": \"Suffolk\", \"state\": \"Massachusetts\", \"fips\": 25025.0, \"cases\": 19551, \"deaths\": 978}, {\"date\": \"2020-06-22T00:00:00\", \"county\": \"Bristol\", \"state\": \"Massachusetts\", \"fips\": 25005.0, \"cases\": 8057, \"deaths\": 546}, {\"date\": \"2020-06-22T00:00:00\", \"county\": \"Suffolk\", \"state\": \"Massachusetts\", \"fips\": 25025.0, \"cases\": 19567, \"deaths\": 979}, {\"date\": \"2020-06-23T00:00:00\", \"county\": \"Bristol\", \"state\": \"Massachusetts\", \"fips\": 25005.0, \"cases\": 8081, \"deaths\": 548}, {\"date\": \"2020-06-23T00:00:00\", \"county\": \"Suffolk\", \"state\": \"Massachusetts\", \"fips\": 25025.0, \"cases\": 19601, \"deaths\": 976}, {\"date\": \"2020-06-24T00:00:00\", \"county\": \"Bristol\", \"state\": \"Massachusetts\", \"fips\": 25005.0, \"cases\": 8086, \"deaths\": 555}, {\"date\": \"2020-06-24T00:00:00\", \"county\": \"Suffolk\", \"state\": \"Massachusetts\", \"fips\": 25025.0, \"cases\": 19628, \"deaths\": 984}, {\"date\": \"2020-06-25T00:00:00\", \"county\": \"Bristol\", \"state\": \"Massachusetts\", \"fips\": 25005.0, \"cases\": 8107, \"deaths\": 558}, {\"date\": \"2020-06-25T00:00:00\", \"county\": \"Suffolk\", \"state\": \"Massachusetts\", \"fips\": 25025.0, \"cases\": 19664, \"deaths\": 990}, {\"date\": \"2020-06-26T00:00:00\", \"county\": \"Bristol\", \"state\": \"Massachusetts\", \"fips\": 25005.0, \"cases\": 8142, \"deaths\": 565}, {\"date\": \"2020-06-26T00:00:00\", \"county\": \"Suffolk\", \"state\": \"Massachusetts\", \"fips\": 25025.0, \"cases\": 19707, \"deaths\": 997}, {\"date\": \"2020-06-27T00:00:00\", \"county\": \"Bristol\", \"state\": \"Massachusetts\", \"fips\": 25005.0, \"cases\": 8176, \"deaths\": 567}, {\"date\": \"2020-06-27T00:00:00\", \"county\": \"Suffolk\", \"state\": \"Massachusetts\", \"fips\": 25025.0, \"cases\": 19764, \"deaths\": 1004}, {\"date\": \"2020-06-28T00:00:00\", \"county\": \"Bristol\", \"state\": \"Massachusetts\", \"fips\": 25005.0, \"cases\": 8198, \"deaths\": 568}, {\"date\": \"2020-06-28T00:00:00\", \"county\": \"Suffolk\", \"state\": \"Massachusetts\", \"fips\": 25025.0, \"cases\": 19795, \"deaths\": 1004}, {\"date\": \"2020-06-29T00:00:00\", \"county\": \"Bristol\", \"state\": \"Massachusetts\", \"fips\": 25005.0, \"cases\": 8208, \"deaths\": 575}, {\"date\": \"2020-06-29T00:00:00\", \"county\": \"Suffolk\", \"state\": \"Massachusetts\", \"fips\": 25025.0, \"cases\": 19795, \"deaths\": 1007}, {\"date\": \"2020-06-30T00:00:00\", \"county\": \"Bristol\", \"state\": \"Massachusetts\", \"fips\": 25005.0, \"cases\": 8225, \"deaths\": 574}, {\"date\": \"2020-06-30T00:00:00\", \"county\": \"Suffolk\", \"state\": \"Massachusetts\", \"fips\": 25025.0, \"cases\": 19819, \"deaths\": 1002}, {\"date\": \"2020-07-01T00:00:00\", \"county\": \"Bristol\", \"state\": \"Massachusetts\", \"fips\": 25005.0, \"cases\": 8236, \"deaths\": 575}, {\"date\": \"2020-07-01T00:00:00\", \"county\": \"Suffolk\", \"state\": \"Massachusetts\", \"fips\": 25025.0, \"cases\": 19853, \"deaths\": 1004}, {\"date\": \"2020-07-02T00:00:00\", \"county\": \"Bristol\", \"state\": \"Massachusetts\", \"fips\": 25005.0, \"cases\": 8264, \"deaths\": 587}, {\"date\": \"2020-07-02T00:00:00\", \"county\": \"Suffolk\", \"state\": \"Massachusetts\", \"fips\": 25025.0, \"cases\": 19892, \"deaths\": 1008}, {\"date\": \"2020-07-03T00:00:00\", \"county\": \"Bristol\", \"state\": \"Massachusetts\", \"fips\": 25005.0, \"cases\": 8295, \"deaths\": 587}, {\"date\": \"2020-07-03T00:00:00\", \"county\": \"Suffolk\", \"state\": \"Massachusetts\", \"fips\": 25025.0, \"cases\": 19936, \"deaths\": 1009}, {\"date\": \"2020-07-04T00:00:00\", \"county\": \"Bristol\", \"state\": \"Massachusetts\", \"fips\": 25005.0, \"cases\": 8311, \"deaths\": 590}, {\"date\": \"2020-07-04T00:00:00\", \"county\": \"Suffolk\", \"state\": \"Massachusetts\", \"fips\": 25025.0, \"cases\": 19972, \"deaths\": 1008}, {\"date\": \"2020-07-05T00:00:00\", \"county\": \"Bristol\", \"state\": \"Massachusetts\", \"fips\": 25005.0, \"cases\": 8321, \"deaths\": 590}, {\"date\": \"2020-07-05T00:00:00\", \"county\": \"Suffolk\", \"state\": \"Massachusetts\", \"fips\": 25025.0, \"cases\": 19985, \"deaths\": 1007}, {\"date\": \"2020-07-06T00:00:00\", \"county\": \"Bristol\", \"state\": \"Massachusetts\", \"fips\": 25005.0, \"cases\": 8331, \"deaths\": 592}, {\"date\": \"2020-07-06T00:00:00\", \"county\": \"Suffolk\", \"state\": \"Massachusetts\", \"fips\": 25025.0, \"cases\": 20014, \"deaths\": 1008}, {\"date\": \"2020-07-07T00:00:00\", \"county\": \"Bristol\", \"state\": \"Massachusetts\", \"fips\": 25005.0, \"cases\": 8348, \"deaths\": 592}, {\"date\": \"2020-07-07T00:00:00\", \"county\": \"Suffolk\", \"state\": \"Massachusetts\", \"fips\": 25025.0, \"cases\": 20048, \"deaths\": 1008}, {\"date\": \"2020-07-08T00:00:00\", \"county\": \"Bristol\", \"state\": \"Massachusetts\", \"fips\": 25005.0, \"cases\": 8365, \"deaths\": 592}, {\"date\": \"2020-07-08T00:00:00\", \"county\": \"Suffolk\", \"state\": \"Massachusetts\", \"fips\": 25025.0, \"cases\": 20120, \"deaths\": 1012}, {\"date\": \"2020-07-09T00:00:00\", \"county\": \"Bristol\", \"state\": \"Massachusetts\", \"fips\": 25005.0, \"cases\": 8399, \"deaths\": 594}, {\"date\": \"2020-07-09T00:00:00\", \"county\": \"Suffolk\", \"state\": \"Massachusetts\", \"fips\": 25025.0, \"cases\": 20172, \"deaths\": 1013}, {\"date\": \"2020-07-10T00:00:00\", \"county\": \"Bristol\", \"state\": \"Massachusetts\", \"fips\": 25005.0, \"cases\": 8426, \"deaths\": 596}, {\"date\": \"2020-07-10T00:00:00\", \"county\": \"Suffolk\", \"state\": \"Massachusetts\", \"fips\": 25025.0, \"cases\": 20228, \"deaths\": 1016}, {\"date\": \"2020-07-11T00:00:00\", \"county\": \"Bristol\", \"state\": \"Massachusetts\", \"fips\": 25005.0, \"cases\": 8442, \"deaths\": 598}, {\"date\": \"2020-07-11T00:00:00\", \"county\": \"Suffolk\", \"state\": \"Massachusetts\", \"fips\": 25025.0, \"cases\": 20272, \"deaths\": 1018}, {\"date\": \"2020-07-12T00:00:00\", \"county\": \"Bristol\", \"state\": \"Massachusetts\", \"fips\": 25005.0, \"cases\": 8460, \"deaths\": 601}, {\"date\": \"2020-07-12T00:00:00\", \"county\": \"Suffolk\", \"state\": \"Massachusetts\", \"fips\": 25025.0, \"cases\": 20301, \"deaths\": 1020}, {\"date\": \"2020-07-13T00:00:00\", \"county\": \"Bristol\", \"state\": \"Massachusetts\", \"fips\": 25005.0, \"cases\": 8491, \"deaths\": 601}, {\"date\": \"2020-07-13T00:00:00\", \"county\": \"Suffolk\", \"state\": \"Massachusetts\", \"fips\": 25025.0, \"cases\": 20342, \"deaths\": 1020}, {\"date\": \"2020-07-14T00:00:00\", \"county\": \"Bristol\", \"state\": \"Massachusetts\", \"fips\": 25005.0, \"cases\": 8527, \"deaths\": 601}, {\"date\": \"2020-07-14T00:00:00\", \"county\": \"Suffolk\", \"state\": \"Massachusetts\", \"fips\": 25025.0, \"cases\": 20386, \"deaths\": 1022}, {\"date\": \"2020-07-15T00:00:00\", \"county\": \"Bristol\", \"state\": \"Massachusetts\", \"fips\": 25005.0, \"cases\": 8558, \"deaths\": 603}, {\"date\": \"2020-07-15T00:00:00\", \"county\": \"Suffolk\", \"state\": \"Massachusetts\", \"fips\": 25025.0, \"cases\": 20411, \"deaths\": 1024}, {\"date\": \"2020-07-16T00:00:00\", \"county\": \"Bristol\", \"state\": \"Massachusetts\", \"fips\": 25005.0, \"cases\": 8593, \"deaths\": 603}, {\"date\": \"2020-07-16T00:00:00\", \"county\": \"Suffolk\", \"state\": \"Massachusetts\", \"fips\": 25025.0, \"cases\": 20445, \"deaths\": 1027}, {\"date\": \"2020-07-17T00:00:00\", \"county\": \"Bristol\", \"state\": \"Massachusetts\", \"fips\": 25005.0, \"cases\": 8637, \"deaths\": 607}, {\"date\": \"2020-07-17T00:00:00\", \"county\": \"Suffolk\", \"state\": \"Massachusetts\", \"fips\": 25025.0, \"cases\": 20499, \"deaths\": 1030}, {\"date\": \"2020-07-18T00:00:00\", \"county\": \"Bristol\", \"state\": \"Massachusetts\", \"fips\": 25005.0, \"cases\": 8653, \"deaths\": 608}, {\"date\": \"2020-07-18T00:00:00\", \"county\": \"Suffolk\", \"state\": \"Massachusetts\", \"fips\": 25025.0, \"cases\": 20555, \"deaths\": 1035}, {\"date\": \"2020-07-19T00:00:00\", \"county\": \"Bristol\", \"state\": \"Massachusetts\", \"fips\": 25005.0, \"cases\": 8681, \"deaths\": 609}, {\"date\": \"2020-07-19T00:00:00\", \"county\": \"Suffolk\", \"state\": \"Massachusetts\", \"fips\": 25025.0, \"cases\": 20601, \"deaths\": 1035}, {\"date\": \"2020-07-20T00:00:00\", \"county\": \"Bristol\", \"state\": \"Massachusetts\", \"fips\": 25005.0, \"cases\": 8719, \"deaths\": 610}, {\"date\": \"2020-07-20T00:00:00\", \"county\": \"Suffolk\", \"state\": \"Massachusetts\", \"fips\": 25025.0, \"cases\": 20621, \"deaths\": 1035}, {\"date\": \"2020-07-21T00:00:00\", \"county\": \"Bristol\", \"state\": \"Massachusetts\", \"fips\": 25005.0, \"cases\": 8745, \"deaths\": 613}, {\"date\": \"2020-07-21T00:00:00\", \"county\": \"Suffolk\", \"state\": \"Massachusetts\", \"fips\": 25025.0, \"cases\": 20650, \"deaths\": 1039}, {\"date\": \"2020-07-22T00:00:00\", \"county\": \"Bristol\", \"state\": \"Massachusetts\", \"fips\": 25005.0, \"cases\": 8761, \"deaths\": 615}, {\"date\": \"2020-07-22T00:00:00\", \"county\": \"Suffolk\", \"state\": \"Massachusetts\", \"fips\": 25025.0, \"cases\": 20678, \"deaths\": 1039}, {\"date\": \"2020-07-23T00:00:00\", \"county\": \"Bristol\", \"state\": \"Massachusetts\", \"fips\": 25005.0, \"cases\": 8788, \"deaths\": 615}, {\"date\": \"2020-07-23T00:00:00\", \"county\": \"Suffolk\", \"state\": \"Massachusetts\", \"fips\": 25025.0, \"cases\": 20732, \"deaths\": 1042}, {\"date\": \"2020-07-24T00:00:00\", \"county\": \"Bristol\", \"state\": \"Massachusetts\", \"fips\": 25005.0, \"cases\": 8816, \"deaths\": 616}, {\"date\": \"2020-07-24T00:00:00\", \"county\": \"Suffolk\", \"state\": \"Massachusetts\", \"fips\": 25025.0, \"cases\": 20793, \"deaths\": 1044}, {\"date\": \"2020-07-25T00:00:00\", \"county\": \"Bristol\", \"state\": \"Massachusetts\", \"fips\": 25005.0, \"cases\": 8843, \"deaths\": 616}, {\"date\": \"2020-07-25T00:00:00\", \"county\": \"Suffolk\", \"state\": \"Massachusetts\", \"fips\": 25025.0, \"cases\": 20827, \"deaths\": 1046}, {\"date\": \"2020-07-26T00:00:00\", \"county\": \"Bristol\", \"state\": \"Massachusetts\", \"fips\": 25005.0, \"cases\": 8882, \"deaths\": 617}, {\"date\": \"2020-07-26T00:00:00\", \"county\": \"Suffolk\", \"state\": \"Massachusetts\", \"fips\": 25025.0, \"cases\": 20896, \"deaths\": 1048}, {\"date\": \"2020-07-27T00:00:00\", \"county\": \"Bristol\", \"state\": \"Massachusetts\", \"fips\": 25005.0, \"cases\": 8907, \"deaths\": 617}, {\"date\": \"2020-07-27T00:00:00\", \"county\": \"Suffolk\", \"state\": \"Massachusetts\", \"fips\": 25025.0, \"cases\": 20914, \"deaths\": 1048}, {\"date\": \"2020-07-28T00:00:00\", \"county\": \"Bristol\", \"state\": \"Massachusetts\", \"fips\": 25005.0, \"cases\": 8932, \"deaths\": 621}, {\"date\": \"2020-07-28T00:00:00\", \"county\": \"Suffolk\", \"state\": \"Massachusetts\", \"fips\": 25025.0, \"cases\": 20960, \"deaths\": 1052}, {\"date\": \"2020-07-29T00:00:00\", \"county\": \"Bristol\", \"state\": \"Massachusetts\", \"fips\": 25005.0, \"cases\": 8987, \"deaths\": 622}, {\"date\": \"2020-07-29T00:00:00\", \"county\": \"Suffolk\", \"state\": \"Massachusetts\", \"fips\": 25025.0, \"cases\": 21030, \"deaths\": 1054}, {\"date\": \"2020-07-30T00:00:00\", \"county\": \"Bristol\", \"state\": \"Massachusetts\", \"fips\": 25005.0, \"cases\": 9029, \"deaths\": 623}, {\"date\": \"2020-07-30T00:00:00\", \"county\": \"Suffolk\", \"state\": \"Massachusetts\", \"fips\": 25025.0, \"cases\": 21113, \"deaths\": 1055}, {\"date\": \"2020-07-31T00:00:00\", \"county\": \"Bristol\", \"state\": \"Massachusetts\", \"fips\": 25005.0, \"cases\": 9073, \"deaths\": 623}, {\"date\": \"2020-07-31T00:00:00\", \"county\": \"Suffolk\", \"state\": \"Massachusetts\", \"fips\": 25025.0, \"cases\": 21222, \"deaths\": 1055}, {\"date\": \"2020-08-01T00:00:00\", \"county\": \"Bristol\", \"state\": \"Massachusetts\", \"fips\": 25005.0, \"cases\": 9088, \"deaths\": 623}, {\"date\": \"2020-08-01T00:00:00\", \"county\": \"Suffolk\", \"state\": \"Massachusetts\", \"fips\": 25025.0, \"cases\": 21279, \"deaths\": 1057}, {\"date\": \"2020-08-02T00:00:00\", \"county\": \"Bristol\", \"state\": \"Massachusetts\", \"fips\": 25005.0, \"cases\": 9124, \"deaths\": 625}, {\"date\": \"2020-08-02T00:00:00\", \"county\": \"Suffolk\", \"state\": \"Massachusetts\", \"fips\": 25025.0, \"cases\": 21355, \"deaths\": 1058}, {\"date\": \"2020-08-03T00:00:00\", \"county\": \"Bristol\", \"state\": \"Massachusetts\", \"fips\": 25005.0, \"cases\": 9153, \"deaths\": 626}, {\"date\": \"2020-08-03T00:00:00\", \"county\": \"Suffolk\", \"state\": \"Massachusetts\", \"fips\": 25025.0, \"cases\": 21378, \"deaths\": 1059}, {\"date\": \"2020-08-04T00:00:00\", \"county\": \"Bristol\", \"state\": \"Massachusetts\", \"fips\": 25005.0, \"cases\": 9224, \"deaths\": 626}, {\"date\": \"2020-08-04T00:00:00\", \"county\": \"Suffolk\", \"state\": \"Massachusetts\", \"fips\": 25025.0, \"cases\": 21481, \"deaths\": 1062}, {\"date\": \"2020-08-05T00:00:00\", \"county\": \"Bristol\", \"state\": \"Massachusetts\", \"fips\": 25005.0, \"cases\": 9255, \"deaths\": 626}, {\"date\": \"2020-08-05T00:00:00\", \"county\": \"Suffolk\", \"state\": \"Massachusetts\", \"fips\": 25025.0, \"cases\": 21579, \"deaths\": 1063}, {\"date\": \"2020-08-06T00:00:00\", \"county\": \"Bristol\", \"state\": \"Massachusetts\", \"fips\": 25005.0, \"cases\": 9272, \"deaths\": 629}, {\"date\": \"2020-08-06T00:00:00\", \"county\": \"Suffolk\", \"state\": \"Massachusetts\", \"fips\": 25025.0, \"cases\": 21631, \"deaths\": 1066}, {\"date\": \"2020-08-07T00:00:00\", \"county\": \"Bristol\", \"state\": \"Massachusetts\", \"fips\": 25005.0, \"cases\": 9295, \"deaths\": 632}, {\"date\": \"2020-08-07T00:00:00\", \"county\": \"Suffolk\", \"state\": \"Massachusetts\", \"fips\": 25025.0, \"cases\": 21717, \"deaths\": 1071}, {\"date\": \"2020-08-08T00:00:00\", \"county\": \"Bristol\", \"state\": \"Massachusetts\", \"fips\": 25005.0, \"cases\": 9324, \"deaths\": 632}, {\"date\": \"2020-08-08T00:00:00\", \"county\": \"Suffolk\", \"state\": \"Massachusetts\", \"fips\": 25025.0, \"cases\": 21778, \"deaths\": 1073}, {\"date\": \"2020-08-09T00:00:00\", \"county\": \"Bristol\", \"state\": \"Massachusetts\", \"fips\": 25005.0, \"cases\": 9355, \"deaths\": 634}, {\"date\": \"2020-08-09T00:00:00\", \"county\": \"Suffolk\", \"state\": \"Massachusetts\", \"fips\": 25025.0, \"cases\": 21849, \"deaths\": 1074}, {\"date\": \"2020-08-10T00:00:00\", \"county\": \"Bristol\", \"state\": \"Massachusetts\", \"fips\": 25005.0, \"cases\": 9371, \"deaths\": 635}, {\"date\": \"2020-08-10T00:00:00\", \"county\": \"Suffolk\", \"state\": \"Massachusetts\", \"fips\": 25025.0, \"cases\": 21929, \"deaths\": 1074}, {\"date\": \"2020-08-11T00:00:00\", \"county\": \"Bristol\", \"state\": \"Massachusetts\", \"fips\": 25005.0, \"cases\": 9408, \"deaths\": 637}, {\"date\": \"2020-08-11T00:00:00\", \"county\": \"Suffolk\", \"state\": \"Massachusetts\", \"fips\": 25025.0, \"cases\": 22017, \"deaths\": 1076}, {\"date\": \"2020-08-12T00:00:00\", \"county\": \"Bristol\", \"state\": \"Massachusetts\", \"fips\": 25005.0, \"cases\": 9408, \"deaths\": 637}, {\"date\": \"2020-08-12T00:00:00\", \"county\": \"Suffolk\", \"state\": \"Massachusetts\", \"fips\": 25025.0, \"cases\": 22017, \"deaths\": 1076}, {\"date\": \"2020-08-13T00:00:00\", \"county\": \"Bristol\", \"state\": \"Massachusetts\", \"fips\": 25005.0, \"cases\": 9408, \"deaths\": 637}, {\"date\": \"2020-08-13T00:00:00\", \"county\": \"Suffolk\", \"state\": \"Massachusetts\", \"fips\": 25025.0, \"cases\": 22017, \"deaths\": 1076}, {\"date\": \"2020-08-14T00:00:00\", \"county\": \"Bristol\", \"state\": \"Massachusetts\", \"fips\": 25005.0, \"cases\": 9408, \"deaths\": 637}, {\"date\": \"2020-08-14T00:00:00\", \"county\": \"Suffolk\", \"state\": \"Massachusetts\", \"fips\": 25025.0, \"cases\": 22017, \"deaths\": 1076}, {\"date\": \"2020-08-15T00:00:00\", \"county\": \"Bristol\", \"state\": \"Massachusetts\", \"fips\": 25005.0, \"cases\": 9408, \"deaths\": 637}, {\"date\": \"2020-08-15T00:00:00\", \"county\": \"Suffolk\", \"state\": \"Massachusetts\", \"fips\": 25025.0, \"cases\": 22017, \"deaths\": 1076}, {\"date\": \"2020-08-16T00:00:00\", \"county\": \"Bristol\", \"state\": \"Massachusetts\", \"fips\": 25005.0, \"cases\": 9408, \"deaths\": 637}, {\"date\": \"2020-08-16T00:00:00\", \"county\": \"Suffolk\", \"state\": \"Massachusetts\", \"fips\": 25025.0, \"cases\": 22017, \"deaths\": 1076}, {\"date\": \"2020-08-17T00:00:00\", \"county\": \"Bristol\", \"state\": \"Massachusetts\", \"fips\": 25005.0, \"cases\": 9408, \"deaths\": 637}, {\"date\": \"2020-08-17T00:00:00\", \"county\": \"Suffolk\", \"state\": \"Massachusetts\", \"fips\": 25025.0, \"cases\": 22017, \"deaths\": 1076}, {\"date\": \"2020-08-18T00:00:00\", \"county\": \"Bristol\", \"state\": \"Massachusetts\", \"fips\": 25005.0, \"cases\": 9408, \"deaths\": 637}, {\"date\": \"2020-08-18T00:00:00\", \"county\": \"Suffolk\", \"state\": \"Massachusetts\", \"fips\": 25025.0, \"cases\": 22017, \"deaths\": 1076}, {\"date\": \"2020-08-19T00:00:00\", \"county\": \"Bristol\", \"state\": \"Massachusetts\", \"fips\": 25005.0, \"cases\": 9513, \"deaths\": 644}, {\"date\": \"2020-08-19T00:00:00\", \"county\": \"Suffolk\", \"state\": \"Massachusetts\", \"fips\": 25025.0, \"cases\": 22511, \"deaths\": 1090}, {\"date\": \"2020-08-20T00:00:00\", \"county\": \"Bristol\", \"state\": \"Massachusetts\", \"fips\": 25005.0, \"cases\": 9528, \"deaths\": 645}, {\"date\": \"2020-08-20T00:00:00\", \"county\": \"Suffolk\", \"state\": \"Massachusetts\", \"fips\": 25025.0, \"cases\": 22577, \"deaths\": 1091}, {\"date\": \"2020-08-21T00:00:00\", \"county\": \"Bristol\", \"state\": \"Massachusetts\", \"fips\": 25005.0, \"cases\": 9564, \"deaths\": 649}, {\"date\": \"2020-08-21T00:00:00\", \"county\": \"Suffolk\", \"state\": \"Massachusetts\", \"fips\": 25025.0, \"cases\": 22694, \"deaths\": 1092}, {\"date\": \"2020-08-22T00:00:00\", \"county\": \"Bristol\", \"state\": \"Massachusetts\", \"fips\": 25005.0, \"cases\": 9568, \"deaths\": 650}, {\"date\": \"2020-08-22T00:00:00\", \"county\": \"Suffolk\", \"state\": \"Massachusetts\", \"fips\": 25025.0, \"cases\": 22706, \"deaths\": 1093}, {\"date\": \"2020-08-23T00:00:00\", \"county\": \"Bristol\", \"state\": \"Massachusetts\", \"fips\": 25005.0, \"cases\": 9568, \"deaths\": 650}, {\"date\": \"2020-08-23T00:00:00\", \"county\": \"Suffolk\", \"state\": \"Massachusetts\", \"fips\": 25025.0, \"cases\": 22706, \"deaths\": 1093}, {\"date\": \"2020-08-24T00:00:00\", \"county\": \"Bristol\", \"state\": \"Massachusetts\", \"fips\": 25005.0, \"cases\": 9603, \"deaths\": 650}, {\"date\": \"2020-08-24T00:00:00\", \"county\": \"Suffolk\", \"state\": \"Massachusetts\", \"fips\": 25025.0, \"cases\": 22904, \"deaths\": 1095}, {\"date\": \"2020-08-25T00:00:00\", \"county\": \"Bristol\", \"state\": \"Massachusetts\", \"fips\": 25005.0, \"cases\": 9621, \"deaths\": 652}, {\"date\": \"2020-08-25T00:00:00\", \"county\": \"Suffolk\", \"state\": \"Massachusetts\", \"fips\": 25025.0, \"cases\": 22973, \"deaths\": 1097}, {\"date\": \"2020-08-26T00:00:00\", \"county\": \"Bristol\", \"state\": \"Massachusetts\", \"fips\": 25005.0, \"cases\": 9642, \"deaths\": 653}, {\"date\": \"2020-08-26T00:00:00\", \"county\": \"Suffolk\", \"state\": \"Massachusetts\", \"fips\": 25025.0, \"cases\": 23064, \"deaths\": 1101}, {\"date\": \"2020-08-27T00:00:00\", \"county\": \"Bristol\", \"state\": \"Massachusetts\", \"fips\": 25005.0, \"cases\": 9671, \"deaths\": 655}, {\"date\": \"2020-08-27T00:00:00\", \"county\": \"Suffolk\", \"state\": \"Massachusetts\", \"fips\": 25025.0, \"cases\": 23154, \"deaths\": 1105}, {\"date\": \"2020-08-28T00:00:00\", \"county\": \"Bristol\", \"state\": \"Massachusetts\", \"fips\": 25005.0, \"cases\": 9699, \"deaths\": 657}, {\"date\": \"2020-08-28T00:00:00\", \"county\": \"Suffolk\", \"state\": \"Massachusetts\", \"fips\": 25025.0, \"cases\": 23261, \"deaths\": 1106}, {\"date\": \"2020-08-29T00:00:00\", \"county\": \"Bristol\", \"state\": \"Massachusetts\", \"fips\": 25005.0, \"cases\": 9744, \"deaths\": 657}, {\"date\": \"2020-08-29T00:00:00\", \"county\": \"Suffolk\", \"state\": \"Massachusetts\", \"fips\": 25025.0, \"cases\": 23350, \"deaths\": 1107}, {\"date\": \"2020-08-30T00:00:00\", \"county\": \"Bristol\", \"state\": \"Massachusetts\", \"fips\": 25005.0, \"cases\": 9757, \"deaths\": 659}, {\"date\": \"2020-08-30T00:00:00\", \"county\": \"Suffolk\", \"state\": \"Massachusetts\", \"fips\": 25025.0, \"cases\": 23403, \"deaths\": 1107}, {\"date\": \"2020-08-31T00:00:00\", \"county\": \"Bristol\", \"state\": \"Massachusetts\", \"fips\": 25005.0, \"cases\": 9790, \"deaths\": 659}, {\"date\": \"2020-08-31T00:00:00\", \"county\": \"Suffolk\", \"state\": \"Massachusetts\", \"fips\": 25025.0, \"cases\": 23472, \"deaths\": 1109}, {\"date\": \"2020-09-01T00:00:00\", \"county\": \"Bristol\", \"state\": \"Massachusetts\", \"fips\": 25005.0, \"cases\": 9824, \"deaths\": 659}, {\"date\": \"2020-09-01T00:00:00\", \"county\": \"Suffolk\", \"state\": \"Massachusetts\", \"fips\": 25025.0, \"cases\": 23552, \"deaths\": 1110}, {\"date\": \"2020-09-02T00:00:00\", \"county\": \"Bristol\", \"state\": \"Massachusetts\", \"fips\": 25005.0, \"cases\": 9211, \"deaths\": 655}, {\"date\": \"2020-09-02T00:00:00\", \"county\": \"Suffolk\", \"state\": \"Massachusetts\", \"fips\": 25025.0, \"cases\": 22508, \"deaths\": 1104}, {\"date\": \"2020-09-03T00:00:00\", \"county\": \"Bristol\", \"state\": \"Massachusetts\", \"fips\": 25005.0, \"cases\": 9252, \"deaths\": 659}, {\"date\": \"2020-09-03T00:00:00\", \"county\": \"Suffolk\", \"state\": \"Massachusetts\", \"fips\": 25025.0, \"cases\": 22593, \"deaths\": 1106}, {\"date\": \"2020-09-04T00:00:00\", \"county\": \"Bristol\", \"state\": \"Massachusetts\", \"fips\": 25005.0, \"cases\": 9296, \"deaths\": 661}, {\"date\": \"2020-09-04T00:00:00\", \"county\": \"Suffolk\", \"state\": \"Massachusetts\", \"fips\": 25025.0, \"cases\": 22529, \"deaths\": 1107}, {\"date\": \"2020-09-05T00:00:00\", \"county\": \"Bristol\", \"state\": \"Massachusetts\", \"fips\": 25005.0, \"cases\": 9340, \"deaths\": 662}, {\"date\": \"2020-09-05T00:00:00\", \"county\": \"Suffolk\", \"state\": \"Massachusetts\", \"fips\": 25025.0, \"cases\": 22623, \"deaths\": 1110}, {\"date\": \"2020-09-06T00:00:00\", \"county\": \"Bristol\", \"state\": \"Massachusetts\", \"fips\": 25005.0, \"cases\": 9365, \"deaths\": 664}, {\"date\": \"2020-09-06T00:00:00\", \"county\": \"Suffolk\", \"state\": \"Massachusetts\", \"fips\": 25025.0, \"cases\": 22697, \"deaths\": 1110}, {\"date\": \"2020-09-07T00:00:00\", \"county\": \"Bristol\", \"state\": \"Massachusetts\", \"fips\": 25005.0, \"cases\": 9393, \"deaths\": 667}, {\"date\": \"2020-09-07T00:00:00\", \"county\": \"Suffolk\", \"state\": \"Massachusetts\", \"fips\": 25025.0, \"cases\": 22756, \"deaths\": 1111}, {\"date\": \"2020-09-08T00:00:00\", \"county\": \"Bristol\", \"state\": \"Massachusetts\", \"fips\": 25005.0, \"cases\": 9409, \"deaths\": 668}, {\"date\": \"2020-09-08T00:00:00\", \"county\": \"Suffolk\", \"state\": \"Massachusetts\", \"fips\": 25025.0, \"cases\": 22788, \"deaths\": 1111}, {\"date\": \"2020-09-09T00:00:00\", \"county\": \"Bristol\", \"state\": \"Massachusetts\", \"fips\": 25005.0, \"cases\": 9418, \"deaths\": 668}, {\"date\": \"2020-09-09T00:00:00\", \"county\": \"Suffolk\", \"state\": \"Massachusetts\", \"fips\": 25025.0, \"cases\": 22831, \"deaths\": 1111}, {\"date\": \"2020-09-10T00:00:00\", \"county\": \"Bristol\", \"state\": \"Massachusetts\", \"fips\": 25005.0, \"cases\": 9448, \"deaths\": 670}, {\"date\": \"2020-09-10T00:00:00\", \"county\": \"Suffolk\", \"state\": \"Massachusetts\", \"fips\": 25025.0, \"cases\": 22920, \"deaths\": 1113}]}}, {\"mode\": \"vega-lite\"});\n",
              "</script>"
            ]
          },
          "metadata": {
            "tags": []
          },
          "execution_count": 224
        }
      ]
    },
    {
      "cell_type": "code",
      "metadata": {
        "id": "ET-dYAXAmAF0",
        "colab_type": "code",
        "colab": {
          "base_uri": "https://localhost:8080/",
          "height": 378
        },
        "outputId": "28997fad-8c82-4f8f-ef24-bb227cf63b89"
      },
      "source": [
        "\n",
        "#I looked into plotting 'multiple columns' (deaths and cases) on the same axis. Jake responded that while it is not impossible (can use procedures like melting, or layering graphs), it is not the natural way to use altair\n",
        "#We discuss the particulars of Altair's data format here: https://altair-viz.github.io/user_guide/data.html?highlight=wide#long-form-vs-wide-form-data\n",
        "#jakevdp: In short, the only way to plot multiple columns on the same chart is to use layers, as you have found.\n",
        "\n",
        "\n",
        "alt.Chart(df_filtered).mark_line().encode(\n",
        "    x='month(date):O',\n",
        "    y='deaths:Q',\n",
        "    color='county',\n",
        ")\n",
        "\n",
        "\n"
      ],
      "execution_count": 227,
      "outputs": [
        {
          "output_type": "execute_result",
          "data": {
            "text/plain": [
              "alt.Chart(...)"
            ],
            "text/html": [
              "\n",
              "<div id=\"altair-viz-0c62452b745f4bfaae3b005f1150973b\"></div>\n",
              "<script type=\"text/javascript\">\n",
              "  (function(spec, embedOpt){\n",
              "    let outputDiv = document.currentScript.previousElementSibling;\n",
              "    if (outputDiv.id !== \"altair-viz-0c62452b745f4bfaae3b005f1150973b\") {\n",
              "      outputDiv = document.getElementById(\"altair-viz-0c62452b745f4bfaae3b005f1150973b\");\n",
              "    }\n",
              "    const paths = {\n",
              "      \"vega\": \"https://cdn.jsdelivr.net/npm//vega@5?noext\",\n",
              "      \"vega-lib\": \"https://cdn.jsdelivr.net/npm//vega-lib?noext\",\n",
              "      \"vega-lite\": \"https://cdn.jsdelivr.net/npm//vega-lite@4.8.1?noext\",\n",
              "      \"vega-embed\": \"https://cdn.jsdelivr.net/npm//vega-embed@6?noext\",\n",
              "    };\n",
              "\n",
              "    function loadScript(lib) {\n",
              "      return new Promise(function(resolve, reject) {\n",
              "        var s = document.createElement('script');\n",
              "        s.src = paths[lib];\n",
              "        s.async = true;\n",
              "        s.onload = () => resolve(paths[lib]);\n",
              "        s.onerror = () => reject(`Error loading script: ${paths[lib]}`);\n",
              "        document.getElementsByTagName(\"head\")[0].appendChild(s);\n",
              "      });\n",
              "    }\n",
              "\n",
              "    function showError(err) {\n",
              "      outputDiv.innerHTML = `<div class=\"error\" style=\"color:red;\">${err}</div>`;\n",
              "      throw err;\n",
              "    }\n",
              "\n",
              "    function displayChart(vegaEmbed) {\n",
              "      vegaEmbed(outputDiv, spec, embedOpt)\n",
              "        .catch(err => showError(`Javascript Error: ${err.message}<br>This usually means there's a typo in your chart specification. See the javascript console for the full traceback.`));\n",
              "    }\n",
              "\n",
              "    if(typeof define === \"function\" && define.amd) {\n",
              "      requirejs.config({paths});\n",
              "      require([\"vega-embed\"], displayChart, err => showError(`Error loading script: ${err.message}`));\n",
              "    } else if (typeof vegaEmbed === \"function\") {\n",
              "      displayChart(vegaEmbed);\n",
              "    } else {\n",
              "      loadScript(\"vega\")\n",
              "        .then(() => loadScript(\"vega-lite\"))\n",
              "        .then(() => loadScript(\"vega-embed\"))\n",
              "        .catch(showError)\n",
              "        .then(() => displayChart(vegaEmbed));\n",
              "    }\n",
              "  })({\"config\": {\"view\": {\"continuousWidth\": 400, \"continuousHeight\": 300}}, \"data\": {\"name\": \"data-76c5b8a05186b494bd136f78a16ae898\"}, \"mark\": \"line\", \"encoding\": {\"color\": {\"type\": \"nominal\", \"field\": \"county\"}, \"x\": {\"type\": \"ordinal\", \"field\": \"date\", \"timeUnit\": \"month\"}, \"y\": {\"type\": \"quantitative\", \"field\": \"deaths\"}}, \"$schema\": \"https://vega.github.io/schema/vega-lite/v4.8.1.json\", \"datasets\": {\"data-76c5b8a05186b494bd136f78a16ae898\": [{\"date\": \"2020-02-01T00:00:00\", \"county\": \"Suffolk\", \"state\": \"Massachusetts\", \"fips\": 25025.0, \"cases\": 1, \"deaths\": 0}, {\"date\": \"2020-02-02T00:00:00\", \"county\": \"Suffolk\", \"state\": \"Massachusetts\", \"fips\": 25025.0, \"cases\": 1, \"deaths\": 0}, {\"date\": \"2020-02-03T00:00:00\", \"county\": \"Suffolk\", \"state\": \"Massachusetts\", \"fips\": 25025.0, \"cases\": 1, \"deaths\": 0}, {\"date\": \"2020-02-04T00:00:00\", \"county\": \"Suffolk\", \"state\": \"Massachusetts\", \"fips\": 25025.0, \"cases\": 1, \"deaths\": 0}, {\"date\": \"2020-02-05T00:00:00\", \"county\": \"Suffolk\", \"state\": \"Massachusetts\", \"fips\": 25025.0, \"cases\": 1, \"deaths\": 0}, {\"date\": \"2020-02-06T00:00:00\", \"county\": \"Suffolk\", \"state\": \"Massachusetts\", \"fips\": 25025.0, \"cases\": 1, \"deaths\": 0}, {\"date\": \"2020-02-07T00:00:00\", \"county\": \"Suffolk\", \"state\": \"Massachusetts\", \"fips\": 25025.0, \"cases\": 1, \"deaths\": 0}, {\"date\": \"2020-02-08T00:00:00\", \"county\": \"Suffolk\", \"state\": \"Massachusetts\", \"fips\": 25025.0, \"cases\": 1, \"deaths\": 0}, {\"date\": \"2020-02-09T00:00:00\", \"county\": \"Suffolk\", \"state\": \"Massachusetts\", \"fips\": 25025.0, \"cases\": 1, \"deaths\": 0}, {\"date\": \"2020-02-10T00:00:00\", \"county\": \"Suffolk\", \"state\": \"Massachusetts\", \"fips\": 25025.0, \"cases\": 1, \"deaths\": 0}, {\"date\": \"2020-02-11T00:00:00\", \"county\": \"Suffolk\", \"state\": \"Massachusetts\", \"fips\": 25025.0, \"cases\": 1, \"deaths\": 0}, {\"date\": \"2020-02-12T00:00:00\", \"county\": \"Suffolk\", \"state\": \"Massachusetts\", \"fips\": 25025.0, \"cases\": 1, \"deaths\": 0}, {\"date\": \"2020-02-13T00:00:00\", \"county\": \"Suffolk\", \"state\": \"Massachusetts\", \"fips\": 25025.0, \"cases\": 1, \"deaths\": 0}, {\"date\": \"2020-02-14T00:00:00\", \"county\": \"Suffolk\", \"state\": \"Massachusetts\", \"fips\": 25025.0, \"cases\": 1, \"deaths\": 0}, {\"date\": \"2020-02-15T00:00:00\", \"county\": \"Suffolk\", \"state\": \"Massachusetts\", \"fips\": 25025.0, \"cases\": 1, \"deaths\": 0}, {\"date\": \"2020-02-16T00:00:00\", \"county\": \"Suffolk\", \"state\": \"Massachusetts\", \"fips\": 25025.0, \"cases\": 1, \"deaths\": 0}, {\"date\": \"2020-02-17T00:00:00\", \"county\": \"Suffolk\", \"state\": \"Massachusetts\", \"fips\": 25025.0, \"cases\": 1, \"deaths\": 0}, {\"date\": \"2020-02-18T00:00:00\", \"county\": \"Suffolk\", \"state\": \"Massachusetts\", \"fips\": 25025.0, \"cases\": 1, \"deaths\": 0}, {\"date\": \"2020-02-19T00:00:00\", \"county\": \"Suffolk\", \"state\": \"Massachusetts\", \"fips\": 25025.0, \"cases\": 1, \"deaths\": 0}, {\"date\": \"2020-02-20T00:00:00\", \"county\": \"Suffolk\", \"state\": \"Massachusetts\", \"fips\": 25025.0, \"cases\": 1, \"deaths\": 0}, {\"date\": \"2020-02-21T00:00:00\", \"county\": \"Suffolk\", \"state\": \"Massachusetts\", \"fips\": 25025.0, \"cases\": 1, \"deaths\": 0}, {\"date\": \"2020-02-22T00:00:00\", \"county\": \"Suffolk\", \"state\": \"Massachusetts\", \"fips\": 25025.0, \"cases\": 1, \"deaths\": 0}, {\"date\": \"2020-02-23T00:00:00\", \"county\": \"Suffolk\", \"state\": \"Massachusetts\", \"fips\": 25025.0, \"cases\": 1, \"deaths\": 0}, {\"date\": \"2020-02-24T00:00:00\", \"county\": \"Suffolk\", \"state\": \"Massachusetts\", \"fips\": 25025.0, \"cases\": 1, \"deaths\": 0}, {\"date\": \"2020-02-25T00:00:00\", \"county\": \"Suffolk\", \"state\": \"Massachusetts\", \"fips\": 25025.0, \"cases\": 1, \"deaths\": 0}, {\"date\": \"2020-02-26T00:00:00\", \"county\": \"Suffolk\", \"state\": \"Massachusetts\", \"fips\": 25025.0, \"cases\": 1, \"deaths\": 0}, {\"date\": \"2020-02-27T00:00:00\", \"county\": \"Suffolk\", \"state\": \"Massachusetts\", \"fips\": 25025.0, \"cases\": 1, \"deaths\": 0}, {\"date\": \"2020-02-28T00:00:00\", \"county\": \"Suffolk\", \"state\": \"Massachusetts\", \"fips\": 25025.0, \"cases\": 1, \"deaths\": 0}, {\"date\": \"2020-02-29T00:00:00\", \"county\": \"Suffolk\", \"state\": \"Massachusetts\", \"fips\": 25025.0, \"cases\": 1, \"deaths\": 0}, {\"date\": \"2020-03-01T00:00:00\", \"county\": \"Suffolk\", \"state\": \"Massachusetts\", \"fips\": 25025.0, \"cases\": 1, \"deaths\": 0}, {\"date\": \"2020-03-02T00:00:00\", \"county\": \"Suffolk\", \"state\": \"Massachusetts\", \"fips\": 25025.0, \"cases\": 1, \"deaths\": 0}, {\"date\": \"2020-03-03T00:00:00\", \"county\": \"Suffolk\", \"state\": \"Massachusetts\", \"fips\": 25025.0, \"cases\": 1, \"deaths\": 0}, {\"date\": \"2020-03-04T00:00:00\", \"county\": \"Suffolk\", \"state\": \"Massachusetts\", \"fips\": 25025.0, \"cases\": 1, \"deaths\": 0}, {\"date\": \"2020-03-05T00:00:00\", \"county\": \"Suffolk\", \"state\": \"Massachusetts\", \"fips\": 25025.0, \"cases\": 1, \"deaths\": 0}, {\"date\": \"2020-03-06T00:00:00\", \"county\": \"Suffolk\", \"state\": \"Massachusetts\", \"fips\": 25025.0, \"cases\": 4, \"deaths\": 0}, {\"date\": \"2020-03-07T00:00:00\", \"county\": \"Suffolk\", \"state\": \"Massachusetts\", \"fips\": 25025.0, \"cases\": 4, \"deaths\": 0}, {\"date\": \"2020-03-08T00:00:00\", \"county\": \"Suffolk\", \"state\": \"Massachusetts\", \"fips\": 25025.0, \"cases\": 9, \"deaths\": 0}, {\"date\": \"2020-03-09T00:00:00\", \"county\": \"Suffolk\", \"state\": \"Massachusetts\", \"fips\": 25025.0, \"cases\": 10, \"deaths\": 0}, {\"date\": \"2020-03-10T00:00:00\", \"county\": \"Suffolk\", \"state\": \"Massachusetts\", \"fips\": 25025.0, \"cases\": 20, \"deaths\": 0}, {\"date\": \"2020-03-11T00:00:00\", \"county\": \"Suffolk\", \"state\": \"Massachusetts\", \"fips\": 25025.0, \"cases\": 20, \"deaths\": 0}, {\"date\": \"2020-03-12T00:00:00\", \"county\": \"Suffolk\", \"state\": \"Massachusetts\", \"fips\": 25025.0, \"cases\": 22, \"deaths\": 0}, {\"date\": \"2020-03-13T00:00:00\", \"county\": \"Suffolk\", \"state\": \"Massachusetts\", \"fips\": 25025.0, \"cases\": 26, \"deaths\": 0}, {\"date\": \"2020-03-14T00:00:00\", \"county\": \"Bristol\", \"state\": \"Massachusetts\", \"fips\": 25005.0, \"cases\": 1, \"deaths\": 0}, {\"date\": \"2020-03-14T00:00:00\", \"county\": \"Suffolk\", \"state\": \"Massachusetts\", \"fips\": 25025.0, \"cases\": 27, \"deaths\": 0}, {\"date\": \"2020-03-15T00:00:00\", \"county\": \"Bristol\", \"state\": \"Massachusetts\", \"fips\": 25005.0, \"cases\": 1, \"deaths\": 0}, {\"date\": \"2020-03-15T00:00:00\", \"county\": \"Suffolk\", \"state\": \"Massachusetts\", \"fips\": 25025.0, \"cases\": 31, \"deaths\": 0}, {\"date\": \"2020-03-16T00:00:00\", \"county\": \"Bristol\", \"state\": \"Massachusetts\", \"fips\": 25005.0, \"cases\": 2, \"deaths\": 0}, {\"date\": \"2020-03-16T00:00:00\", \"county\": \"Suffolk\", \"state\": \"Massachusetts\", \"fips\": 25025.0, \"cases\": 42, \"deaths\": 0}, {\"date\": \"2020-03-17T00:00:00\", \"county\": \"Bristol\", \"state\": \"Massachusetts\", \"fips\": 25005.0, \"cases\": 5, \"deaths\": 0}, {\"date\": \"2020-03-17T00:00:00\", \"county\": \"Suffolk\", \"state\": \"Massachusetts\", \"fips\": 25025.0, \"cases\": 42, \"deaths\": 0}, {\"date\": \"2020-03-18T00:00:00\", \"county\": \"Bristol\", \"state\": \"Massachusetts\", \"fips\": 25005.0, \"cases\": 5, \"deaths\": 0}, {\"date\": \"2020-03-18T00:00:00\", \"county\": \"Suffolk\", \"state\": \"Massachusetts\", \"fips\": 25025.0, \"cases\": 51, \"deaths\": 0}, {\"date\": \"2020-03-19T00:00:00\", \"county\": \"Bristol\", \"state\": \"Massachusetts\", \"fips\": 25005.0, \"cases\": 6, \"deaths\": 0}, {\"date\": \"2020-03-19T00:00:00\", \"county\": \"Suffolk\", \"state\": \"Massachusetts\", \"fips\": 25025.0, \"cases\": 72, \"deaths\": 0}, {\"date\": \"2020-03-20T00:00:00\", \"county\": \"Bristol\", \"state\": \"Massachusetts\", \"fips\": 25005.0, \"cases\": 6, \"deaths\": 0}, {\"date\": \"2020-03-20T00:00:00\", \"county\": \"Suffolk\", \"state\": \"Massachusetts\", \"fips\": 25025.0, \"cases\": 87, \"deaths\": 1}, {\"date\": \"2020-03-21T00:00:00\", \"county\": \"Bristol\", \"state\": \"Massachusetts\", \"fips\": 25005.0, \"cases\": 14, \"deaths\": 0}, {\"date\": \"2020-03-21T00:00:00\", \"county\": \"Suffolk\", \"state\": \"Massachusetts\", \"fips\": 25025.0, \"cases\": 108, \"deaths\": 1}, {\"date\": \"2020-03-22T00:00:00\", \"county\": \"Bristol\", \"state\": \"Massachusetts\", \"fips\": 25005.0, \"cases\": 24, \"deaths\": 0}, {\"date\": \"2020-03-22T00:00:00\", \"county\": \"Suffolk\", \"state\": \"Massachusetts\", \"fips\": 25025.0, \"cases\": 126, \"deaths\": 2}, {\"date\": \"2020-03-23T00:00:00\", \"county\": \"Bristol\", \"state\": \"Massachusetts\", \"fips\": 25005.0, \"cases\": 25, \"deaths\": 0}, {\"date\": \"2020-03-23T00:00:00\", \"county\": \"Suffolk\", \"state\": \"Massachusetts\", \"fips\": 25025.0, \"cases\": 154, \"deaths\": 3}, {\"date\": \"2020-03-24T00:00:00\", \"county\": \"Bristol\", \"state\": \"Massachusetts\", \"fips\": 25005.0, \"cases\": 31, \"deaths\": 0}, {\"date\": \"2020-03-24T00:00:00\", \"county\": \"Suffolk\", \"state\": \"Massachusetts\", \"fips\": 25025.0, \"cases\": 234, \"deaths\": 3}, {\"date\": \"2020-03-25T00:00:00\", \"county\": \"Bristol\", \"state\": \"Massachusetts\", \"fips\": 25005.0, \"cases\": 67, \"deaths\": 0}, {\"date\": \"2020-03-25T00:00:00\", \"county\": \"Suffolk\", \"state\": \"Massachusetts\", \"fips\": 25025.0, \"cases\": 342, \"deaths\": 3}, {\"date\": \"2020-03-26T00:00:00\", \"county\": \"Bristol\", \"state\": \"Massachusetts\", \"fips\": 25005.0, \"cases\": 90, \"deaths\": 0}, {\"date\": \"2020-03-26T00:00:00\", \"county\": \"Suffolk\", \"state\": \"Massachusetts\", \"fips\": 25025.0, \"cases\": 448, \"deaths\": 4}, {\"date\": \"2020-03-27T00:00:00\", \"county\": \"Bristol\", \"state\": \"Massachusetts\", \"fips\": 25005.0, \"cases\": 129, \"deaths\": 1}, {\"date\": \"2020-03-27T00:00:00\", \"county\": \"Suffolk\", \"state\": \"Massachusetts\", \"fips\": 25025.0, \"cases\": 631, \"deaths\": 4}, {\"date\": \"2020-03-28T00:00:00\", \"county\": \"Bristol\", \"state\": \"Massachusetts\", \"fips\": 25005.0, \"cases\": 179, \"deaths\": 1}, {\"date\": \"2020-03-28T00:00:00\", \"county\": \"Suffolk\", \"state\": \"Massachusetts\", \"fips\": 25025.0, \"cases\": 843, \"deaths\": 5}, {\"date\": \"2020-03-29T00:00:00\", \"county\": \"Bristol\", \"state\": \"Massachusetts\", \"fips\": 25005.0, \"cases\": 208, \"deaths\": 1}, {\"date\": \"2020-03-29T00:00:00\", \"county\": \"Suffolk\", \"state\": \"Massachusetts\", \"fips\": 25025.0, \"cases\": 940, \"deaths\": 5}, {\"date\": \"2020-03-30T00:00:00\", \"county\": \"Bristol\", \"state\": \"Massachusetts\", \"fips\": 25005.0, \"cases\": 263, \"deaths\": 2}, {\"date\": \"2020-03-30T00:00:00\", \"county\": \"Suffolk\", \"state\": \"Massachusetts\", \"fips\": 25025.0, \"cases\": 1115, \"deaths\": 7}, {\"date\": \"2020-03-31T00:00:00\", \"county\": \"Bristol\", \"state\": \"Massachusetts\", \"fips\": 25005.0, \"cases\": 306, \"deaths\": 2}, {\"date\": \"2020-03-31T00:00:00\", \"county\": \"Suffolk\", \"state\": \"Massachusetts\", \"fips\": 25025.0, \"cases\": 1373, \"deaths\": 8}, {\"date\": \"2020-04-01T00:00:00\", \"county\": \"Bristol\", \"state\": \"Massachusetts\", \"fips\": 25005.0, \"cases\": 366, \"deaths\": 3}, {\"date\": \"2020-04-01T00:00:00\", \"county\": \"Suffolk\", \"state\": \"Massachusetts\", \"fips\": 25025.0, \"cases\": 1624, \"deaths\": 15}, {\"date\": \"2020-04-02T00:00:00\", \"county\": \"Bristol\", \"state\": \"Massachusetts\", \"fips\": 25005.0, \"cases\": 424, \"deaths\": 3}, {\"date\": \"2020-04-02T00:00:00\", \"county\": \"Suffolk\", \"state\": \"Massachusetts\", \"fips\": 25025.0, \"cases\": 1896, \"deaths\": 21}, {\"date\": \"2020-04-03T00:00:00\", \"county\": \"Bristol\", \"state\": \"Massachusetts\", \"fips\": 25005.0, \"cases\": 517, \"deaths\": 4}, {\"date\": \"2020-04-03T00:00:00\", \"county\": \"Suffolk\", \"state\": \"Massachusetts\", \"fips\": 25025.0, \"cases\": 2183, \"deaths\": 23}, {\"date\": \"2020-04-04T00:00:00\", \"county\": \"Bristol\", \"state\": \"Massachusetts\", \"fips\": 25005.0, \"cases\": 601, \"deaths\": 5}, {\"date\": \"2020-04-04T00:00:00\", \"county\": \"Suffolk\", \"state\": \"Massachusetts\", \"fips\": 25025.0, \"cases\": 2429, \"deaths\": 28}, {\"date\": \"2020-04-05T00:00:00\", \"county\": \"Bristol\", \"state\": \"Massachusetts\", \"fips\": 25005.0, \"cases\": 659, \"deaths\": 8}, {\"date\": \"2020-04-05T00:00:00\", \"county\": \"Suffolk\", \"state\": \"Massachusetts\", \"fips\": 25025.0, \"cases\": 2658, \"deaths\": 29}, {\"date\": \"2020-04-06T00:00:00\", \"county\": \"Bristol\", \"state\": \"Massachusetts\", \"fips\": 25005.0, \"cases\": 722, \"deaths\": 8}, {\"date\": \"2020-04-06T00:00:00\", \"county\": \"Suffolk\", \"state\": \"Massachusetts\", \"fips\": 25025.0, \"cases\": 2929, \"deaths\": 33}, {\"date\": \"2020-04-07T00:00:00\", \"county\": \"Bristol\", \"state\": \"Massachusetts\", \"fips\": 25005.0, \"cases\": 768, \"deaths\": 16}, {\"date\": \"2020-04-07T00:00:00\", \"county\": \"Suffolk\", \"state\": \"Massachusetts\", \"fips\": 25025.0, \"cases\": 3245, \"deaths\": 42}, {\"date\": \"2020-04-08T00:00:00\", \"county\": \"Bristol\", \"state\": \"Massachusetts\", \"fips\": 25005.0, \"cases\": 835, \"deaths\": 23}, {\"date\": \"2020-04-08T00:00:00\", \"county\": \"Suffolk\", \"state\": \"Massachusetts\", \"fips\": 25025.0, \"cases\": 3600, \"deaths\": 50}, {\"date\": \"2020-04-09T00:00:00\", \"county\": \"Bristol\", \"state\": \"Massachusetts\", \"fips\": 25005.0, \"cases\": 994, \"deaths\": 28}, {\"date\": \"2020-04-09T00:00:00\", \"county\": \"Suffolk\", \"state\": \"Massachusetts\", \"fips\": 25025.0, \"cases\": 4041, \"deaths\": 56}, {\"date\": \"2020-04-10T00:00:00\", \"county\": \"Bristol\", \"state\": \"Massachusetts\", \"fips\": 25005.0, \"cases\": 1086, \"deaths\": 33}, {\"date\": \"2020-04-10T00:00:00\", \"county\": \"Suffolk\", \"state\": \"Massachusetts\", \"fips\": 25025.0, \"cases\": 4534, \"deaths\": 73}, {\"date\": \"2020-04-11T00:00:00\", \"county\": \"Bristol\", \"state\": \"Massachusetts\", \"fips\": 25005.0, \"cases\": 1191, \"deaths\": 39}, {\"date\": \"2020-04-11T00:00:00\", \"county\": \"Suffolk\", \"state\": \"Massachusetts\", \"fips\": 25025.0, \"cases\": 4926, \"deaths\": 81}, {\"date\": \"2020-04-12T00:00:00\", \"county\": \"Bristol\", \"state\": \"Massachusetts\", \"fips\": 25005.0, \"cases\": 1327, \"deaths\": 43}, {\"date\": \"2020-04-12T00:00:00\", \"county\": \"Suffolk\", \"state\": \"Massachusetts\", \"fips\": 25025.0, \"cases\": 5359, \"deaths\": 88}, {\"date\": \"2020-04-13T00:00:00\", \"county\": \"Bristol\", \"state\": \"Massachusetts\", \"fips\": 25005.0, \"cases\": 1394, \"deaths\": 46}, {\"date\": \"2020-04-13T00:00:00\", \"county\": \"Suffolk\", \"state\": \"Massachusetts\", \"fips\": 25025.0, \"cases\": 5579, \"deaths\": 106}, {\"date\": \"2020-04-14T00:00:00\", \"county\": \"Bristol\", \"state\": \"Massachusetts\", \"fips\": 25005.0, \"cases\": 1435, \"deaths\": 53}, {\"date\": \"2020-04-14T00:00:00\", \"county\": \"Suffolk\", \"state\": \"Massachusetts\", \"fips\": 25025.0, \"cases\": 5872, \"deaths\": 120}, {\"date\": \"2020-04-15T00:00:00\", \"county\": \"Bristol\", \"state\": \"Massachusetts\", \"fips\": 25005.0, \"cases\": 1508, \"deaths\": 56}, {\"date\": \"2020-04-15T00:00:00\", \"county\": \"Suffolk\", \"state\": \"Massachusetts\", \"fips\": 25025.0, \"cases\": 6279, \"deaths\": 147}, {\"date\": \"2020-04-16T00:00:00\", \"county\": \"Bristol\", \"state\": \"Massachusetts\", \"fips\": 25005.0, \"cases\": 1605, \"deaths\": 63}, {\"date\": \"2020-04-16T00:00:00\", \"county\": \"Suffolk\", \"state\": \"Massachusetts\", \"fips\": 25025.0, \"cases\": 6820, \"deaths\": 166}, {\"date\": \"2020-04-17T00:00:00\", \"county\": \"Bristol\", \"state\": \"Massachusetts\", \"fips\": 25005.0, \"cases\": 1659, \"deaths\": 75}, {\"date\": \"2020-04-17T00:00:00\", \"county\": \"Suffolk\", \"state\": \"Massachusetts\", \"fips\": 25025.0, \"cases\": 7272, \"deaths\": 190}, {\"date\": \"2020-04-18T00:00:00\", \"county\": \"Bristol\", \"state\": \"Massachusetts\", \"fips\": 25005.0, \"cases\": 1698, \"deaths\": 83}, {\"date\": \"2020-04-18T00:00:00\", \"county\": \"Suffolk\", \"state\": \"Massachusetts\", \"fips\": 25025.0, \"cases\": 7696, \"deaths\": 214}, {\"date\": \"2020-04-19T00:00:00\", \"county\": \"Bristol\", \"state\": \"Massachusetts\", \"fips\": 25005.0, \"cases\": 1731, \"deaths\": 87}, {\"date\": \"2020-04-19T00:00:00\", \"county\": \"Suffolk\", \"state\": \"Massachusetts\", \"fips\": 25025.0, \"cases\": 8074, \"deaths\": 238}, {\"date\": \"2020-04-20T00:00:00\", \"county\": \"Bristol\", \"state\": \"Massachusetts\", \"fips\": 25005.0, \"cases\": 1779, \"deaths\": 88}, {\"date\": \"2020-04-20T00:00:00\", \"county\": \"Suffolk\", \"state\": \"Massachusetts\", \"fips\": 25025.0, \"cases\": 8314, \"deaths\": 263}, {\"date\": \"2020-04-21T00:00:00\", \"county\": \"Bristol\", \"state\": \"Massachusetts\", \"fips\": 25005.0, \"cases\": 1852, \"deaths\": 96}, {\"date\": \"2020-04-21T00:00:00\", \"county\": \"Suffolk\", \"state\": \"Massachusetts\", \"fips\": 25025.0, \"cases\": 8669, \"deaths\": 285}, {\"date\": \"2020-04-22T00:00:00\", \"county\": \"Bristol\", \"state\": \"Massachusetts\", \"fips\": 25005.0, \"cases\": 1908, \"deaths\": 104}, {\"date\": \"2020-04-22T00:00:00\", \"county\": \"Suffolk\", \"state\": \"Massachusetts\", \"fips\": 25025.0, \"cases\": 9060, \"deaths\": 318}, {\"date\": \"2020-04-23T00:00:00\", \"county\": \"Bristol\", \"state\": \"Massachusetts\", \"fips\": 25005.0, \"cases\": 2181, \"deaths\": 109}, {\"date\": \"2020-04-23T00:00:00\", \"county\": \"Suffolk\", \"state\": \"Massachusetts\", \"fips\": 25025.0, \"cases\": 9739, \"deaths\": 346}, {\"date\": \"2020-04-24T00:00:00\", \"county\": \"Bristol\", \"state\": \"Massachusetts\", \"fips\": 25005.0, \"cases\": 2697, \"deaths\": 126}, {\"date\": \"2020-04-24T00:00:00\", \"county\": \"Suffolk\", \"state\": \"Massachusetts\", \"fips\": 25025.0, \"cases\": 10724, \"deaths\": 372}, {\"date\": \"2020-04-25T00:00:00\", \"county\": \"Bristol\", \"state\": \"Massachusetts\", \"fips\": 25005.0, \"cases\": 2829, \"deaths\": 130}, {\"date\": \"2020-04-25T00:00:00\", \"county\": \"Suffolk\", \"state\": \"Massachusetts\", \"fips\": 25025.0, \"cases\": 11218, \"deaths\": 391}, {\"date\": \"2020-04-26T00:00:00\", \"county\": \"Bristol\", \"state\": \"Massachusetts\", \"fips\": 25005.0, \"cases\": 2923, \"deaths\": 134}, {\"date\": \"2020-04-26T00:00:00\", \"county\": \"Suffolk\", \"state\": \"Massachusetts\", \"fips\": 25025.0, \"cases\": 11543, \"deaths\": 424}, {\"date\": \"2020-04-27T00:00:00\", \"county\": \"Bristol\", \"state\": \"Massachusetts\", \"fips\": 25005.0, \"cases\": 3068, \"deaths\": 137}, {\"date\": \"2020-04-27T00:00:00\", \"county\": \"Suffolk\", \"state\": \"Massachusetts\", \"fips\": 25025.0, \"cases\": 11883, \"deaths\": 448}, {\"date\": \"2020-04-28T00:00:00\", \"county\": \"Bristol\", \"state\": \"Massachusetts\", \"fips\": 25005.0, \"cases\": 3270, \"deaths\": 155}, {\"date\": \"2020-04-28T00:00:00\", \"county\": \"Suffolk\", \"state\": \"Massachusetts\", \"fips\": 25025.0, \"cases\": 12140, \"deaths\": 469}, {\"date\": \"2020-04-29T00:00:00\", \"county\": \"Bristol\", \"state\": \"Massachusetts\", \"fips\": 25005.0, \"cases\": 3429, \"deaths\": 165}, {\"date\": \"2020-04-29T00:00:00\", \"county\": \"Suffolk\", \"state\": \"Massachusetts\", \"fips\": 25025.0, \"cases\": 12539, \"deaths\": 504}, {\"date\": \"2020-04-30T00:00:00\", \"county\": \"Bristol\", \"state\": \"Massachusetts\", \"fips\": 25005.0, \"cases\": 3580, \"deaths\": 172}, {\"date\": \"2020-04-30T00:00:00\", \"county\": \"Suffolk\", \"state\": \"Massachusetts\", \"fips\": 25025.0, \"cases\": 12890, \"deaths\": 524}, {\"date\": \"2020-05-01T00:00:00\", \"county\": \"Bristol\", \"state\": \"Massachusetts\", \"fips\": 25005.0, \"cases\": 3792, \"deaths\": 182}, {\"date\": \"2020-05-01T00:00:00\", \"county\": \"Suffolk\", \"state\": \"Massachusetts\", \"fips\": 25025.0, \"cases\": 13295, \"deaths\": 550}, {\"date\": \"2020-05-02T00:00:00\", \"county\": \"Bristol\", \"state\": \"Massachusetts\", \"fips\": 25005.0, \"cases\": 3916, \"deaths\": 187}, {\"date\": \"2020-05-02T00:00:00\", \"county\": \"Suffolk\", \"state\": \"Massachusetts\", \"fips\": 25025.0, \"cases\": 13606, \"deaths\": 569}, {\"date\": \"2020-05-03T00:00:00\", \"county\": \"Bristol\", \"state\": \"Massachusetts\", \"fips\": 25005.0, \"cases\": 4019, \"deaths\": 198}, {\"date\": \"2020-05-03T00:00:00\", \"county\": \"Suffolk\", \"state\": \"Massachusetts\", \"fips\": 25025.0, \"cases\": 13777, \"deaths\": 588}, {\"date\": \"2020-05-04T00:00:00\", \"county\": \"Bristol\", \"state\": \"Massachusetts\", \"fips\": 25005.0, \"cases\": 4103, \"deaths\": 205}, {\"date\": \"2020-05-04T00:00:00\", \"county\": \"Suffolk\", \"state\": \"Massachusetts\", \"fips\": 25025.0, \"cases\": 13941, \"deaths\": 596}, {\"date\": \"2020-05-05T00:00:00\", \"county\": \"Bristol\", \"state\": \"Massachusetts\", \"fips\": 25005.0, \"cases\": 4235, \"deaths\": 210}, {\"date\": \"2020-05-05T00:00:00\", \"county\": \"Suffolk\", \"state\": \"Massachusetts\", \"fips\": 25025.0, \"cases\": 14173, \"deaths\": 609}, {\"date\": \"2020-05-06T00:00:00\", \"county\": \"Bristol\", \"state\": \"Massachusetts\", \"fips\": 25005.0, \"cases\": 4380, \"deaths\": 223}, {\"date\": \"2020-05-06T00:00:00\", \"county\": \"Suffolk\", \"state\": \"Massachusetts\", \"fips\": 25025.0, \"cases\": 14476, \"deaths\": 642}, {\"date\": \"2020-05-07T00:00:00\", \"county\": \"Bristol\", \"state\": \"Massachusetts\", \"fips\": 25005.0, \"cases\": 4529, \"deaths\": 232}, {\"date\": \"2020-05-07T00:00:00\", \"county\": \"Suffolk\", \"state\": \"Massachusetts\", \"fips\": 25025.0, \"cases\": 14732, \"deaths\": 663}, {\"date\": \"2020-05-08T00:00:00\", \"county\": \"Bristol\", \"state\": \"Massachusetts\", \"fips\": 25005.0, \"cases\": 4670, \"deaths\": 252}, {\"date\": \"2020-05-08T00:00:00\", \"county\": \"Suffolk\", \"state\": \"Massachusetts\", \"fips\": 25025.0, \"cases\": 14944, \"deaths\": 683}, {\"date\": \"2020-05-09T00:00:00\", \"county\": \"Bristol\", \"state\": \"Massachusetts\", \"fips\": 25005.0, \"cases\": 4847, \"deaths\": 260}, {\"date\": \"2020-05-09T00:00:00\", \"county\": \"Suffolk\", \"state\": \"Massachusetts\", \"fips\": 25025.0, \"cases\": 15119, \"deaths\": 703}, {\"date\": \"2020-05-10T00:00:00\", \"county\": \"Bristol\", \"state\": \"Massachusetts\", \"fips\": 25005.0, \"cases\": 4931, \"deaths\": 266}, {\"date\": \"2020-05-10T00:00:00\", \"county\": \"Suffolk\", \"state\": \"Massachusetts\", \"fips\": 25025.0, \"cases\": 15279, \"deaths\": 718}, {\"date\": \"2020-05-11T00:00:00\", \"county\": \"Bristol\", \"state\": \"Massachusetts\", \"fips\": 25005.0, \"cases\": 4999, \"deaths\": 274}, {\"date\": \"2020-05-11T00:00:00\", \"county\": \"Suffolk\", \"state\": \"Massachusetts\", \"fips\": 25025.0, \"cases\": 15356, \"deaths\": 731}, {\"date\": \"2020-05-12T00:00:00\", \"county\": \"Bristol\", \"state\": \"Massachusetts\", \"fips\": 25005.0, \"cases\": 5125, \"deaths\": 278}, {\"date\": \"2020-05-12T00:00:00\", \"county\": \"Suffolk\", \"state\": \"Massachusetts\", \"fips\": 25025.0, \"cases\": 15454, \"deaths\": 732}, {\"date\": \"2020-05-13T00:00:00\", \"county\": \"Bristol\", \"state\": \"Massachusetts\", \"fips\": 25005.0, \"cases\": 5249, \"deaths\": 288}, {\"date\": \"2020-05-13T00:00:00\", \"county\": \"Suffolk\", \"state\": \"Massachusetts\", \"fips\": 25025.0, \"cases\": 15587, \"deaths\": 749}, {\"date\": \"2020-05-14T00:00:00\", \"county\": \"Bristol\", \"state\": \"Massachusetts\", \"fips\": 25005.0, \"cases\": 5440, \"deaths\": 297}, {\"date\": \"2020-05-14T00:00:00\", \"county\": \"Suffolk\", \"state\": \"Massachusetts\", \"fips\": 25025.0, \"cases\": 15881, \"deaths\": 759}, {\"date\": \"2020-05-15T00:00:00\", \"county\": \"Bristol\", \"state\": \"Massachusetts\", \"fips\": 25005.0, \"cases\": 5590, \"deaths\": 303}, {\"date\": \"2020-05-15T00:00:00\", \"county\": \"Suffolk\", \"state\": \"Massachusetts\", \"fips\": 25025.0, \"cases\": 15996, \"deaths\": 768}, {\"date\": \"2020-05-16T00:00:00\", \"county\": \"Bristol\", \"state\": \"Massachusetts\", \"fips\": 25005.0, \"cases\": 5748, \"deaths\": 313}, {\"date\": \"2020-05-16T00:00:00\", \"county\": \"Suffolk\", \"state\": \"Massachusetts\", \"fips\": 25025.0, \"cases\": 16346, \"deaths\": 778}, {\"date\": \"2020-05-17T00:00:00\", \"county\": \"Bristol\", \"state\": \"Massachusetts\", \"fips\": 25005.0, \"cases\": 5870, \"deaths\": 320}, {\"date\": \"2020-05-17T00:00:00\", \"county\": \"Suffolk\", \"state\": \"Massachusetts\", \"fips\": 25025.0, \"cases\": 16479, \"deaths\": 787}, {\"date\": \"2020-05-18T00:00:00\", \"county\": \"Bristol\", \"state\": \"Massachusetts\", \"fips\": 25005.0, \"cases\": 5996, \"deaths\": 324}, {\"date\": \"2020-05-18T00:00:00\", \"county\": \"Suffolk\", \"state\": \"Massachusetts\", \"fips\": 25025.0, \"cases\": 16671, \"deaths\": 793}, {\"date\": \"2020-05-19T00:00:00\", \"county\": \"Bristol\", \"state\": \"Massachusetts\", \"fips\": 25005.0, \"cases\": 6080, \"deaths\": 330}, {\"date\": \"2020-05-19T00:00:00\", \"county\": \"Suffolk\", \"state\": \"Massachusetts\", \"fips\": 25025.0, \"cases\": 16825, \"deaths\": 797}, {\"date\": \"2020-05-20T00:00:00\", \"county\": \"Bristol\", \"state\": \"Massachusetts\", \"fips\": 25005.0, \"cases\": 6165, \"deaths\": 338}, {\"date\": \"2020-05-20T00:00:00\", \"county\": \"Suffolk\", \"state\": \"Massachusetts\", \"fips\": 25025.0, \"cases\": 16962, \"deaths\": 807}, {\"date\": \"2020-05-21T00:00:00\", \"county\": \"Bristol\", \"state\": \"Massachusetts\", \"fips\": 25005.0, \"cases\": 6286, \"deaths\": 345}, {\"date\": \"2020-05-21T00:00:00\", \"county\": \"Suffolk\", \"state\": \"Massachusetts\", \"fips\": 25025.0, \"cases\": 17089, \"deaths\": 813}, {\"date\": \"2020-05-22T00:00:00\", \"county\": \"Bristol\", \"state\": \"Massachusetts\", \"fips\": 25005.0, \"cases\": 6362, \"deaths\": 353}, {\"date\": \"2020-05-22T00:00:00\", \"county\": \"Suffolk\", \"state\": \"Massachusetts\", \"fips\": 25025.0, \"cases\": 17180, \"deaths\": 818}, {\"date\": \"2020-05-23T00:00:00\", \"county\": \"Bristol\", \"state\": \"Massachusetts\", \"fips\": 25005.0, \"cases\": 6426, \"deaths\": 362}, {\"date\": \"2020-05-23T00:00:00\", \"county\": \"Suffolk\", \"state\": \"Massachusetts\", \"fips\": 25025.0, \"cases\": 17291, \"deaths\": 827}, {\"date\": \"2020-05-24T00:00:00\", \"county\": \"Bristol\", \"state\": \"Massachusetts\", \"fips\": 25005.0, \"cases\": 6596, \"deaths\": 369}, {\"date\": \"2020-05-24T00:00:00\", \"county\": \"Suffolk\", \"state\": \"Massachusetts\", \"fips\": 25025.0, \"cases\": 17417, \"deaths\": 838}, {\"date\": \"2020-05-25T00:00:00\", \"county\": \"Bristol\", \"state\": \"Massachusetts\", \"fips\": 25005.0, \"cases\": 6681, \"deaths\": 375}, {\"date\": \"2020-05-25T00:00:00\", \"county\": \"Suffolk\", \"state\": \"Massachusetts\", \"fips\": 25025.0, \"cases\": 17480, \"deaths\": 839}, {\"date\": \"2020-05-26T00:00:00\", \"county\": \"Bristol\", \"state\": \"Massachusetts\", \"fips\": 25005.0, \"cases\": 6733, \"deaths\": 382}, {\"date\": \"2020-05-26T00:00:00\", \"county\": \"Suffolk\", \"state\": \"Massachusetts\", \"fips\": 25025.0, \"cases\": 17533, \"deaths\": 844}, {\"date\": \"2020-05-27T00:00:00\", \"county\": \"Bristol\", \"state\": \"Massachusetts\", \"fips\": 25005.0, \"cases\": 6779, \"deaths\": 390}, {\"date\": \"2020-05-27T00:00:00\", \"county\": \"Suffolk\", \"state\": \"Massachusetts\", \"fips\": 25025.0, \"cases\": 17596, \"deaths\": 850}, {\"date\": \"2020-05-28T00:00:00\", \"county\": \"Bristol\", \"state\": \"Massachusetts\", \"fips\": 25005.0, \"cases\": 6852, \"deaths\": 399}, {\"date\": \"2020-05-28T00:00:00\", \"county\": \"Suffolk\", \"state\": \"Massachusetts\", \"fips\": 25025.0, \"cases\": 17698, \"deaths\": 852}, {\"date\": \"2020-05-29T00:00:00\", \"county\": \"Bristol\", \"state\": \"Massachusetts\", \"fips\": 25005.0, \"cases\": 6930, \"deaths\": 404}, {\"date\": \"2020-05-29T00:00:00\", \"county\": \"Suffolk\", \"state\": \"Massachusetts\", \"fips\": 25025.0, \"cases\": 17786, \"deaths\": 861}, {\"date\": \"2020-05-30T00:00:00\", \"county\": \"Bristol\", \"state\": \"Massachusetts\", \"fips\": 25005.0, \"cases\": 7089, \"deaths\": 410}, {\"date\": \"2020-05-30T00:00:00\", \"county\": \"Suffolk\", \"state\": \"Massachusetts\", \"fips\": 25025.0, \"cases\": 17873, \"deaths\": 868}, {\"date\": \"2020-05-31T00:00:00\", \"county\": \"Bristol\", \"state\": \"Massachusetts\", \"fips\": 25005.0, \"cases\": 7159, \"deaths\": 415}, {\"date\": \"2020-05-31T00:00:00\", \"county\": \"Suffolk\", \"state\": \"Massachusetts\", \"fips\": 25025.0, \"cases\": 17936, \"deaths\": 871}, {\"date\": \"2020-06-01T00:00:00\", \"county\": \"Bristol\", \"state\": \"Massachusetts\", \"fips\": 25005.0, \"cases\": 7348, \"deaths\": 429}, {\"date\": \"2020-06-01T00:00:00\", \"county\": \"Suffolk\", \"state\": \"Massachusetts\", \"fips\": 25025.0, \"cases\": 18581, \"deaths\": 896}, {\"date\": \"2020-06-02T00:00:00\", \"county\": \"Bristol\", \"state\": \"Massachusetts\", \"fips\": 25005.0, \"cases\": 7380, \"deaths\": 435}, {\"date\": \"2020-06-02T00:00:00\", \"county\": \"Suffolk\", \"state\": \"Massachusetts\", \"fips\": 25025.0, \"cases\": 18636, \"deaths\": 902}, {\"date\": \"2020-06-03T00:00:00\", \"county\": \"Bristol\", \"state\": \"Massachusetts\", \"fips\": 25005.0, \"cases\": 7453, \"deaths\": 441}, {\"date\": \"2020-06-03T00:00:00\", \"county\": \"Suffolk\", \"state\": \"Massachusetts\", \"fips\": 25025.0, \"cases\": 18733, \"deaths\": 908}, {\"date\": \"2020-06-04T00:00:00\", \"county\": \"Bristol\", \"state\": \"Massachusetts\", \"fips\": 25005.0, \"cases\": 7508, \"deaths\": 452}, {\"date\": \"2020-06-04T00:00:00\", \"county\": \"Suffolk\", \"state\": \"Massachusetts\", \"fips\": 25025.0, \"cases\": 18790, \"deaths\": 913}, {\"date\": \"2020-06-05T00:00:00\", \"county\": \"Bristol\", \"state\": \"Massachusetts\", \"fips\": 25005.0, \"cases\": 7573, \"deaths\": 455}, {\"date\": \"2020-06-05T00:00:00\", \"county\": \"Suffolk\", \"state\": \"Massachusetts\", \"fips\": 25025.0, \"cases\": 18858, \"deaths\": 922}, {\"date\": \"2020-06-06T00:00:00\", \"county\": \"Bristol\", \"state\": \"Massachusetts\", \"fips\": 25005.0, \"cases\": 7635, \"deaths\": 467}, {\"date\": \"2020-06-06T00:00:00\", \"county\": \"Suffolk\", \"state\": \"Massachusetts\", \"fips\": 25025.0, \"cases\": 18955, \"deaths\": 923}, {\"date\": \"2020-06-07T00:00:00\", \"county\": \"Bristol\", \"state\": \"Massachusetts\", \"fips\": 25005.0, \"cases\": 7683, \"deaths\": 469}, {\"date\": \"2020-06-07T00:00:00\", \"county\": \"Suffolk\", \"state\": \"Massachusetts\", \"fips\": 25025.0, \"cases\": 19001, \"deaths\": 924}, {\"date\": \"2020-06-08T00:00:00\", \"county\": \"Bristol\", \"state\": \"Massachusetts\", \"fips\": 25005.0, \"cases\": 7698, \"deaths\": 473}, {\"date\": \"2020-06-08T00:00:00\", \"county\": \"Suffolk\", \"state\": \"Massachusetts\", \"fips\": 25025.0, \"cases\": 19028, \"deaths\": 931}, {\"date\": \"2020-06-09T00:00:00\", \"county\": \"Bristol\", \"state\": \"Massachusetts\", \"fips\": 25005.0, \"cases\": 7728, \"deaths\": 481}, {\"date\": \"2020-06-09T00:00:00\", \"county\": \"Suffolk\", \"state\": \"Massachusetts\", \"fips\": 25025.0, \"cases\": 19067, \"deaths\": 935}, {\"date\": \"2020-06-10T00:00:00\", \"county\": \"Bristol\", \"state\": \"Massachusetts\", \"fips\": 25005.0, \"cases\": 7754, \"deaths\": 487}, {\"date\": \"2020-06-10T00:00:00\", \"county\": \"Suffolk\", \"state\": \"Massachusetts\", \"fips\": 25025.0, \"cases\": 19099, \"deaths\": 936}, {\"date\": \"2020-06-11T00:00:00\", \"county\": \"Bristol\", \"state\": \"Massachusetts\", \"fips\": 25005.0, \"cases\": 7793, \"deaths\": 492}, {\"date\": \"2020-06-11T00:00:00\", \"county\": \"Suffolk\", \"state\": \"Massachusetts\", \"fips\": 25025.0, \"cases\": 19195, \"deaths\": 938}, {\"date\": \"2020-06-12T00:00:00\", \"county\": \"Bristol\", \"state\": \"Massachusetts\", \"fips\": 25005.0, \"cases\": 7872, \"deaths\": 496}, {\"date\": \"2020-06-12T00:00:00\", \"county\": \"Suffolk\", \"state\": \"Massachusetts\", \"fips\": 25025.0, \"cases\": 19249, \"deaths\": 941}, {\"date\": \"2020-06-13T00:00:00\", \"county\": \"Bristol\", \"state\": \"Massachusetts\", \"fips\": 25005.0, \"cases\": 7906, \"deaths\": 507}, {\"date\": \"2020-06-13T00:00:00\", \"county\": \"Suffolk\", \"state\": \"Massachusetts\", \"fips\": 25025.0, \"cases\": 19299, \"deaths\": 943}, {\"date\": \"2020-06-14T00:00:00\", \"county\": \"Bristol\", \"state\": \"Massachusetts\", \"fips\": 25005.0, \"cases\": 7933, \"deaths\": 516}, {\"date\": \"2020-06-14T00:00:00\", \"county\": \"Suffolk\", \"state\": \"Massachusetts\", \"fips\": 25025.0, \"cases\": 19335, \"deaths\": 950}, {\"date\": \"2020-06-15T00:00:00\", \"county\": \"Bristol\", \"state\": \"Massachusetts\", \"fips\": 25005.0, \"cases\": 7925, \"deaths\": 518}, {\"date\": \"2020-06-15T00:00:00\", \"county\": \"Suffolk\", \"state\": \"Massachusetts\", \"fips\": 25025.0, \"cases\": 19334, \"deaths\": 951}, {\"date\": \"2020-06-16T00:00:00\", \"county\": \"Bristol\", \"state\": \"Massachusetts\", \"fips\": 25005.0, \"cases\": 7940, \"deaths\": 520}, {\"date\": \"2020-06-16T00:00:00\", \"county\": \"Suffolk\", \"state\": \"Massachusetts\", \"fips\": 25025.0, \"cases\": 19367, \"deaths\": 952}, {\"date\": \"2020-06-17T00:00:00\", \"county\": \"Bristol\", \"state\": \"Massachusetts\", \"fips\": 25005.0, \"cases\": 7956, \"deaths\": 528}, {\"date\": \"2020-06-17T00:00:00\", \"county\": \"Suffolk\", \"state\": \"Massachusetts\", \"fips\": 25025.0, \"cases\": 19434, \"deaths\": 959}, {\"date\": \"2020-06-18T00:00:00\", \"county\": \"Bristol\", \"state\": \"Massachusetts\", \"fips\": 25005.0, \"cases\": 7979, \"deaths\": 534}, {\"date\": \"2020-06-18T00:00:00\", \"county\": \"Suffolk\", \"state\": \"Massachusetts\", \"fips\": 25025.0, \"cases\": 19477, \"deaths\": 963}, {\"date\": \"2020-06-19T00:00:00\", \"county\": \"Bristol\", \"state\": \"Massachusetts\", \"fips\": 25005.0, \"cases\": 8002, \"deaths\": 537}, {\"date\": \"2020-06-19T00:00:00\", \"county\": \"Suffolk\", \"state\": \"Massachusetts\", \"fips\": 25025.0, \"cases\": 19493, \"deaths\": 971}, {\"date\": \"2020-06-20T00:00:00\", \"county\": \"Bristol\", \"state\": \"Massachusetts\", \"fips\": 25005.0, \"cases\": 8028, \"deaths\": 539}, {\"date\": \"2020-06-20T00:00:00\", \"county\": \"Suffolk\", \"state\": \"Massachusetts\", \"fips\": 25025.0, \"cases\": 19528, \"deaths\": 973}, {\"date\": \"2020-06-21T00:00:00\", \"county\": \"Bristol\", \"state\": \"Massachusetts\", \"fips\": 25005.0, \"cases\": 8035, \"deaths\": 542}, {\"date\": \"2020-06-21T00:00:00\", \"county\": \"Suffolk\", \"state\": \"Massachusetts\", \"fips\": 25025.0, \"cases\": 19551, \"deaths\": 978}, {\"date\": \"2020-06-22T00:00:00\", \"county\": \"Bristol\", \"state\": \"Massachusetts\", \"fips\": 25005.0, \"cases\": 8057, \"deaths\": 546}, {\"date\": \"2020-06-22T00:00:00\", \"county\": \"Suffolk\", \"state\": \"Massachusetts\", \"fips\": 25025.0, \"cases\": 19567, \"deaths\": 979}, {\"date\": \"2020-06-23T00:00:00\", \"county\": \"Bristol\", \"state\": \"Massachusetts\", \"fips\": 25005.0, \"cases\": 8081, \"deaths\": 548}, {\"date\": \"2020-06-23T00:00:00\", \"county\": \"Suffolk\", \"state\": \"Massachusetts\", \"fips\": 25025.0, \"cases\": 19601, \"deaths\": 976}, {\"date\": \"2020-06-24T00:00:00\", \"county\": \"Bristol\", \"state\": \"Massachusetts\", \"fips\": 25005.0, \"cases\": 8086, \"deaths\": 555}, {\"date\": \"2020-06-24T00:00:00\", \"county\": \"Suffolk\", \"state\": \"Massachusetts\", \"fips\": 25025.0, \"cases\": 19628, \"deaths\": 984}, {\"date\": \"2020-06-25T00:00:00\", \"county\": \"Bristol\", \"state\": \"Massachusetts\", \"fips\": 25005.0, \"cases\": 8107, \"deaths\": 558}, {\"date\": \"2020-06-25T00:00:00\", \"county\": \"Suffolk\", \"state\": \"Massachusetts\", \"fips\": 25025.0, \"cases\": 19664, \"deaths\": 990}, {\"date\": \"2020-06-26T00:00:00\", \"county\": \"Bristol\", \"state\": \"Massachusetts\", \"fips\": 25005.0, \"cases\": 8142, \"deaths\": 565}, {\"date\": \"2020-06-26T00:00:00\", \"county\": \"Suffolk\", \"state\": \"Massachusetts\", \"fips\": 25025.0, \"cases\": 19707, \"deaths\": 997}, {\"date\": \"2020-06-27T00:00:00\", \"county\": \"Bristol\", \"state\": \"Massachusetts\", \"fips\": 25005.0, \"cases\": 8176, \"deaths\": 567}, {\"date\": \"2020-06-27T00:00:00\", \"county\": \"Suffolk\", \"state\": \"Massachusetts\", \"fips\": 25025.0, \"cases\": 19764, \"deaths\": 1004}, {\"date\": \"2020-06-28T00:00:00\", \"county\": \"Bristol\", \"state\": \"Massachusetts\", \"fips\": 25005.0, \"cases\": 8198, \"deaths\": 568}, {\"date\": \"2020-06-28T00:00:00\", \"county\": \"Suffolk\", \"state\": \"Massachusetts\", \"fips\": 25025.0, \"cases\": 19795, \"deaths\": 1004}, {\"date\": \"2020-06-29T00:00:00\", \"county\": \"Bristol\", \"state\": \"Massachusetts\", \"fips\": 25005.0, \"cases\": 8208, \"deaths\": 575}, {\"date\": \"2020-06-29T00:00:00\", \"county\": \"Suffolk\", \"state\": \"Massachusetts\", \"fips\": 25025.0, \"cases\": 19795, \"deaths\": 1007}, {\"date\": \"2020-06-30T00:00:00\", \"county\": \"Bristol\", \"state\": \"Massachusetts\", \"fips\": 25005.0, \"cases\": 8225, \"deaths\": 574}, {\"date\": \"2020-06-30T00:00:00\", \"county\": \"Suffolk\", \"state\": \"Massachusetts\", \"fips\": 25025.0, \"cases\": 19819, \"deaths\": 1002}, {\"date\": \"2020-07-01T00:00:00\", \"county\": \"Bristol\", \"state\": \"Massachusetts\", \"fips\": 25005.0, \"cases\": 8236, \"deaths\": 575}, {\"date\": \"2020-07-01T00:00:00\", \"county\": \"Suffolk\", \"state\": \"Massachusetts\", \"fips\": 25025.0, \"cases\": 19853, \"deaths\": 1004}, {\"date\": \"2020-07-02T00:00:00\", \"county\": \"Bristol\", \"state\": \"Massachusetts\", \"fips\": 25005.0, \"cases\": 8264, \"deaths\": 587}, {\"date\": \"2020-07-02T00:00:00\", \"county\": \"Suffolk\", \"state\": \"Massachusetts\", \"fips\": 25025.0, \"cases\": 19892, \"deaths\": 1008}, {\"date\": \"2020-07-03T00:00:00\", \"county\": \"Bristol\", \"state\": \"Massachusetts\", \"fips\": 25005.0, \"cases\": 8295, \"deaths\": 587}, {\"date\": \"2020-07-03T00:00:00\", \"county\": \"Suffolk\", \"state\": \"Massachusetts\", \"fips\": 25025.0, \"cases\": 19936, \"deaths\": 1009}, {\"date\": \"2020-07-04T00:00:00\", \"county\": \"Bristol\", \"state\": \"Massachusetts\", \"fips\": 25005.0, \"cases\": 8311, \"deaths\": 590}, {\"date\": \"2020-07-04T00:00:00\", \"county\": \"Suffolk\", \"state\": \"Massachusetts\", \"fips\": 25025.0, \"cases\": 19972, \"deaths\": 1008}, {\"date\": \"2020-07-05T00:00:00\", \"county\": \"Bristol\", \"state\": \"Massachusetts\", \"fips\": 25005.0, \"cases\": 8321, \"deaths\": 590}, {\"date\": \"2020-07-05T00:00:00\", \"county\": \"Suffolk\", \"state\": \"Massachusetts\", \"fips\": 25025.0, \"cases\": 19985, \"deaths\": 1007}, {\"date\": \"2020-07-06T00:00:00\", \"county\": \"Bristol\", \"state\": \"Massachusetts\", \"fips\": 25005.0, \"cases\": 8331, \"deaths\": 592}, {\"date\": \"2020-07-06T00:00:00\", \"county\": \"Suffolk\", \"state\": \"Massachusetts\", \"fips\": 25025.0, \"cases\": 20014, \"deaths\": 1008}, {\"date\": \"2020-07-07T00:00:00\", \"county\": \"Bristol\", \"state\": \"Massachusetts\", \"fips\": 25005.0, \"cases\": 8348, \"deaths\": 592}, {\"date\": \"2020-07-07T00:00:00\", \"county\": \"Suffolk\", \"state\": \"Massachusetts\", \"fips\": 25025.0, \"cases\": 20048, \"deaths\": 1008}, {\"date\": \"2020-07-08T00:00:00\", \"county\": \"Bristol\", \"state\": \"Massachusetts\", \"fips\": 25005.0, \"cases\": 8365, \"deaths\": 592}, {\"date\": \"2020-07-08T00:00:00\", \"county\": \"Suffolk\", \"state\": \"Massachusetts\", \"fips\": 25025.0, \"cases\": 20120, \"deaths\": 1012}, {\"date\": \"2020-07-09T00:00:00\", \"county\": \"Bristol\", \"state\": \"Massachusetts\", \"fips\": 25005.0, \"cases\": 8399, \"deaths\": 594}, {\"date\": \"2020-07-09T00:00:00\", \"county\": \"Suffolk\", \"state\": \"Massachusetts\", \"fips\": 25025.0, \"cases\": 20172, \"deaths\": 1013}, {\"date\": \"2020-07-10T00:00:00\", \"county\": \"Bristol\", \"state\": \"Massachusetts\", \"fips\": 25005.0, \"cases\": 8426, \"deaths\": 596}, {\"date\": \"2020-07-10T00:00:00\", \"county\": \"Suffolk\", \"state\": \"Massachusetts\", \"fips\": 25025.0, \"cases\": 20228, \"deaths\": 1016}, {\"date\": \"2020-07-11T00:00:00\", \"county\": \"Bristol\", \"state\": \"Massachusetts\", \"fips\": 25005.0, \"cases\": 8442, \"deaths\": 598}, {\"date\": \"2020-07-11T00:00:00\", \"county\": \"Suffolk\", \"state\": \"Massachusetts\", \"fips\": 25025.0, \"cases\": 20272, \"deaths\": 1018}, {\"date\": \"2020-07-12T00:00:00\", \"county\": \"Bristol\", \"state\": \"Massachusetts\", \"fips\": 25005.0, \"cases\": 8460, \"deaths\": 601}, {\"date\": \"2020-07-12T00:00:00\", \"county\": \"Suffolk\", \"state\": \"Massachusetts\", \"fips\": 25025.0, \"cases\": 20301, \"deaths\": 1020}, {\"date\": \"2020-07-13T00:00:00\", \"county\": \"Bristol\", \"state\": \"Massachusetts\", \"fips\": 25005.0, \"cases\": 8491, \"deaths\": 601}, {\"date\": \"2020-07-13T00:00:00\", \"county\": \"Suffolk\", \"state\": \"Massachusetts\", \"fips\": 25025.0, \"cases\": 20342, \"deaths\": 1020}, {\"date\": \"2020-07-14T00:00:00\", \"county\": \"Bristol\", \"state\": \"Massachusetts\", \"fips\": 25005.0, \"cases\": 8527, \"deaths\": 601}, {\"date\": \"2020-07-14T00:00:00\", \"county\": \"Suffolk\", \"state\": \"Massachusetts\", \"fips\": 25025.0, \"cases\": 20386, \"deaths\": 1022}, {\"date\": \"2020-07-15T00:00:00\", \"county\": \"Bristol\", \"state\": \"Massachusetts\", \"fips\": 25005.0, \"cases\": 8558, \"deaths\": 603}, {\"date\": \"2020-07-15T00:00:00\", \"county\": \"Suffolk\", \"state\": \"Massachusetts\", \"fips\": 25025.0, \"cases\": 20411, \"deaths\": 1024}, {\"date\": \"2020-07-16T00:00:00\", \"county\": \"Bristol\", \"state\": \"Massachusetts\", \"fips\": 25005.0, \"cases\": 8593, \"deaths\": 603}, {\"date\": \"2020-07-16T00:00:00\", \"county\": \"Suffolk\", \"state\": \"Massachusetts\", \"fips\": 25025.0, \"cases\": 20445, \"deaths\": 1027}, {\"date\": \"2020-07-17T00:00:00\", \"county\": \"Bristol\", \"state\": \"Massachusetts\", \"fips\": 25005.0, \"cases\": 8637, \"deaths\": 607}, {\"date\": \"2020-07-17T00:00:00\", \"county\": \"Suffolk\", \"state\": \"Massachusetts\", \"fips\": 25025.0, \"cases\": 20499, \"deaths\": 1030}, {\"date\": \"2020-07-18T00:00:00\", \"county\": \"Bristol\", \"state\": \"Massachusetts\", \"fips\": 25005.0, \"cases\": 8653, \"deaths\": 608}, {\"date\": \"2020-07-18T00:00:00\", \"county\": \"Suffolk\", \"state\": \"Massachusetts\", \"fips\": 25025.0, \"cases\": 20555, \"deaths\": 1035}, {\"date\": \"2020-07-19T00:00:00\", \"county\": \"Bristol\", \"state\": \"Massachusetts\", \"fips\": 25005.0, \"cases\": 8681, \"deaths\": 609}, {\"date\": \"2020-07-19T00:00:00\", \"county\": \"Suffolk\", \"state\": \"Massachusetts\", \"fips\": 25025.0, \"cases\": 20601, \"deaths\": 1035}, {\"date\": \"2020-07-20T00:00:00\", \"county\": \"Bristol\", \"state\": \"Massachusetts\", \"fips\": 25005.0, \"cases\": 8719, \"deaths\": 610}, {\"date\": \"2020-07-20T00:00:00\", \"county\": \"Suffolk\", \"state\": \"Massachusetts\", \"fips\": 25025.0, \"cases\": 20621, \"deaths\": 1035}, {\"date\": \"2020-07-21T00:00:00\", \"county\": \"Bristol\", \"state\": \"Massachusetts\", \"fips\": 25005.0, \"cases\": 8745, \"deaths\": 613}, {\"date\": \"2020-07-21T00:00:00\", \"county\": \"Suffolk\", \"state\": \"Massachusetts\", \"fips\": 25025.0, \"cases\": 20650, \"deaths\": 1039}, {\"date\": \"2020-07-22T00:00:00\", \"county\": \"Bristol\", \"state\": \"Massachusetts\", \"fips\": 25005.0, \"cases\": 8761, \"deaths\": 615}, {\"date\": \"2020-07-22T00:00:00\", \"county\": \"Suffolk\", \"state\": \"Massachusetts\", \"fips\": 25025.0, \"cases\": 20678, \"deaths\": 1039}, {\"date\": \"2020-07-23T00:00:00\", \"county\": \"Bristol\", \"state\": \"Massachusetts\", \"fips\": 25005.0, \"cases\": 8788, \"deaths\": 615}, {\"date\": \"2020-07-23T00:00:00\", \"county\": \"Suffolk\", \"state\": \"Massachusetts\", \"fips\": 25025.0, \"cases\": 20732, \"deaths\": 1042}, {\"date\": \"2020-07-24T00:00:00\", \"county\": \"Bristol\", \"state\": \"Massachusetts\", \"fips\": 25005.0, \"cases\": 8816, \"deaths\": 616}, {\"date\": \"2020-07-24T00:00:00\", \"county\": \"Suffolk\", \"state\": \"Massachusetts\", \"fips\": 25025.0, \"cases\": 20793, \"deaths\": 1044}, {\"date\": \"2020-07-25T00:00:00\", \"county\": \"Bristol\", \"state\": \"Massachusetts\", \"fips\": 25005.0, \"cases\": 8843, \"deaths\": 616}, {\"date\": \"2020-07-25T00:00:00\", \"county\": \"Suffolk\", \"state\": \"Massachusetts\", \"fips\": 25025.0, \"cases\": 20827, \"deaths\": 1046}, {\"date\": \"2020-07-26T00:00:00\", \"county\": \"Bristol\", \"state\": \"Massachusetts\", \"fips\": 25005.0, \"cases\": 8882, \"deaths\": 617}, {\"date\": \"2020-07-26T00:00:00\", \"county\": \"Suffolk\", \"state\": \"Massachusetts\", \"fips\": 25025.0, \"cases\": 20896, \"deaths\": 1048}, {\"date\": \"2020-07-27T00:00:00\", \"county\": \"Bristol\", \"state\": \"Massachusetts\", \"fips\": 25005.0, \"cases\": 8907, \"deaths\": 617}, {\"date\": \"2020-07-27T00:00:00\", \"county\": \"Suffolk\", \"state\": \"Massachusetts\", \"fips\": 25025.0, \"cases\": 20914, \"deaths\": 1048}, {\"date\": \"2020-07-28T00:00:00\", \"county\": \"Bristol\", \"state\": \"Massachusetts\", \"fips\": 25005.0, \"cases\": 8932, \"deaths\": 621}, {\"date\": \"2020-07-28T00:00:00\", \"county\": \"Suffolk\", \"state\": \"Massachusetts\", \"fips\": 25025.0, \"cases\": 20960, \"deaths\": 1052}, {\"date\": \"2020-07-29T00:00:00\", \"county\": \"Bristol\", \"state\": \"Massachusetts\", \"fips\": 25005.0, \"cases\": 8987, \"deaths\": 622}, {\"date\": \"2020-07-29T00:00:00\", \"county\": \"Suffolk\", \"state\": \"Massachusetts\", \"fips\": 25025.0, \"cases\": 21030, \"deaths\": 1054}, {\"date\": \"2020-07-30T00:00:00\", \"county\": \"Bristol\", \"state\": \"Massachusetts\", \"fips\": 25005.0, \"cases\": 9029, \"deaths\": 623}, {\"date\": \"2020-07-30T00:00:00\", \"county\": \"Suffolk\", \"state\": \"Massachusetts\", \"fips\": 25025.0, \"cases\": 21113, \"deaths\": 1055}, {\"date\": \"2020-07-31T00:00:00\", \"county\": \"Bristol\", \"state\": \"Massachusetts\", \"fips\": 25005.0, \"cases\": 9073, \"deaths\": 623}, {\"date\": \"2020-07-31T00:00:00\", \"county\": \"Suffolk\", \"state\": \"Massachusetts\", \"fips\": 25025.0, \"cases\": 21222, \"deaths\": 1055}, {\"date\": \"2020-08-01T00:00:00\", \"county\": \"Bristol\", \"state\": \"Massachusetts\", \"fips\": 25005.0, \"cases\": 9088, \"deaths\": 623}, {\"date\": \"2020-08-01T00:00:00\", \"county\": \"Suffolk\", \"state\": \"Massachusetts\", \"fips\": 25025.0, \"cases\": 21279, \"deaths\": 1057}, {\"date\": \"2020-08-02T00:00:00\", \"county\": \"Bristol\", \"state\": \"Massachusetts\", \"fips\": 25005.0, \"cases\": 9124, \"deaths\": 625}, {\"date\": \"2020-08-02T00:00:00\", \"county\": \"Suffolk\", \"state\": \"Massachusetts\", \"fips\": 25025.0, \"cases\": 21355, \"deaths\": 1058}, {\"date\": \"2020-08-03T00:00:00\", \"county\": \"Bristol\", \"state\": \"Massachusetts\", \"fips\": 25005.0, \"cases\": 9153, \"deaths\": 626}, {\"date\": \"2020-08-03T00:00:00\", \"county\": \"Suffolk\", \"state\": \"Massachusetts\", \"fips\": 25025.0, \"cases\": 21378, \"deaths\": 1059}, {\"date\": \"2020-08-04T00:00:00\", \"county\": \"Bristol\", \"state\": \"Massachusetts\", \"fips\": 25005.0, \"cases\": 9224, \"deaths\": 626}, {\"date\": \"2020-08-04T00:00:00\", \"county\": \"Suffolk\", \"state\": \"Massachusetts\", \"fips\": 25025.0, \"cases\": 21481, \"deaths\": 1062}, {\"date\": \"2020-08-05T00:00:00\", \"county\": \"Bristol\", \"state\": \"Massachusetts\", \"fips\": 25005.0, \"cases\": 9255, \"deaths\": 626}, {\"date\": \"2020-08-05T00:00:00\", \"county\": \"Suffolk\", \"state\": \"Massachusetts\", \"fips\": 25025.0, \"cases\": 21579, \"deaths\": 1063}, {\"date\": \"2020-08-06T00:00:00\", \"county\": \"Bristol\", \"state\": \"Massachusetts\", \"fips\": 25005.0, \"cases\": 9272, \"deaths\": 629}, {\"date\": \"2020-08-06T00:00:00\", \"county\": \"Suffolk\", \"state\": \"Massachusetts\", \"fips\": 25025.0, \"cases\": 21631, \"deaths\": 1066}, {\"date\": \"2020-08-07T00:00:00\", \"county\": \"Bristol\", \"state\": \"Massachusetts\", \"fips\": 25005.0, \"cases\": 9295, \"deaths\": 632}, {\"date\": \"2020-08-07T00:00:00\", \"county\": \"Suffolk\", \"state\": \"Massachusetts\", \"fips\": 25025.0, \"cases\": 21717, \"deaths\": 1071}, {\"date\": \"2020-08-08T00:00:00\", \"county\": \"Bristol\", \"state\": \"Massachusetts\", \"fips\": 25005.0, \"cases\": 9324, \"deaths\": 632}, {\"date\": \"2020-08-08T00:00:00\", \"county\": \"Suffolk\", \"state\": \"Massachusetts\", \"fips\": 25025.0, \"cases\": 21778, \"deaths\": 1073}, {\"date\": \"2020-08-09T00:00:00\", \"county\": \"Bristol\", \"state\": \"Massachusetts\", \"fips\": 25005.0, \"cases\": 9355, \"deaths\": 634}, {\"date\": \"2020-08-09T00:00:00\", \"county\": \"Suffolk\", \"state\": \"Massachusetts\", \"fips\": 25025.0, \"cases\": 21849, \"deaths\": 1074}, {\"date\": \"2020-08-10T00:00:00\", \"county\": \"Bristol\", \"state\": \"Massachusetts\", \"fips\": 25005.0, \"cases\": 9371, \"deaths\": 635}, {\"date\": \"2020-08-10T00:00:00\", \"county\": \"Suffolk\", \"state\": \"Massachusetts\", \"fips\": 25025.0, \"cases\": 21929, \"deaths\": 1074}, {\"date\": \"2020-08-11T00:00:00\", \"county\": \"Bristol\", \"state\": \"Massachusetts\", \"fips\": 25005.0, \"cases\": 9408, \"deaths\": 637}, {\"date\": \"2020-08-11T00:00:00\", \"county\": \"Suffolk\", \"state\": \"Massachusetts\", \"fips\": 25025.0, \"cases\": 22017, \"deaths\": 1076}, {\"date\": \"2020-08-12T00:00:00\", \"county\": \"Bristol\", \"state\": \"Massachusetts\", \"fips\": 25005.0, \"cases\": 9408, \"deaths\": 637}, {\"date\": \"2020-08-12T00:00:00\", \"county\": \"Suffolk\", \"state\": \"Massachusetts\", \"fips\": 25025.0, \"cases\": 22017, \"deaths\": 1076}, {\"date\": \"2020-08-13T00:00:00\", \"county\": \"Bristol\", \"state\": \"Massachusetts\", \"fips\": 25005.0, \"cases\": 9408, \"deaths\": 637}, {\"date\": \"2020-08-13T00:00:00\", \"county\": \"Suffolk\", \"state\": \"Massachusetts\", \"fips\": 25025.0, \"cases\": 22017, \"deaths\": 1076}, {\"date\": \"2020-08-14T00:00:00\", \"county\": \"Bristol\", \"state\": \"Massachusetts\", \"fips\": 25005.0, \"cases\": 9408, \"deaths\": 637}, {\"date\": \"2020-08-14T00:00:00\", \"county\": \"Suffolk\", \"state\": \"Massachusetts\", \"fips\": 25025.0, \"cases\": 22017, \"deaths\": 1076}, {\"date\": \"2020-08-15T00:00:00\", \"county\": \"Bristol\", \"state\": \"Massachusetts\", \"fips\": 25005.0, \"cases\": 9408, \"deaths\": 637}, {\"date\": \"2020-08-15T00:00:00\", \"county\": \"Suffolk\", \"state\": \"Massachusetts\", \"fips\": 25025.0, \"cases\": 22017, \"deaths\": 1076}, {\"date\": \"2020-08-16T00:00:00\", \"county\": \"Bristol\", \"state\": \"Massachusetts\", \"fips\": 25005.0, \"cases\": 9408, \"deaths\": 637}, {\"date\": \"2020-08-16T00:00:00\", \"county\": \"Suffolk\", \"state\": \"Massachusetts\", \"fips\": 25025.0, \"cases\": 22017, \"deaths\": 1076}, {\"date\": \"2020-08-17T00:00:00\", \"county\": \"Bristol\", \"state\": \"Massachusetts\", \"fips\": 25005.0, \"cases\": 9408, \"deaths\": 637}, {\"date\": \"2020-08-17T00:00:00\", \"county\": \"Suffolk\", \"state\": \"Massachusetts\", \"fips\": 25025.0, \"cases\": 22017, \"deaths\": 1076}, {\"date\": \"2020-08-18T00:00:00\", \"county\": \"Bristol\", \"state\": \"Massachusetts\", \"fips\": 25005.0, \"cases\": 9408, \"deaths\": 637}, {\"date\": \"2020-08-18T00:00:00\", \"county\": \"Suffolk\", \"state\": \"Massachusetts\", \"fips\": 25025.0, \"cases\": 22017, \"deaths\": 1076}, {\"date\": \"2020-08-19T00:00:00\", \"county\": \"Bristol\", \"state\": \"Massachusetts\", \"fips\": 25005.0, \"cases\": 9513, \"deaths\": 644}, {\"date\": \"2020-08-19T00:00:00\", \"county\": \"Suffolk\", \"state\": \"Massachusetts\", \"fips\": 25025.0, \"cases\": 22511, \"deaths\": 1090}, {\"date\": \"2020-08-20T00:00:00\", \"county\": \"Bristol\", \"state\": \"Massachusetts\", \"fips\": 25005.0, \"cases\": 9528, \"deaths\": 645}, {\"date\": \"2020-08-20T00:00:00\", \"county\": \"Suffolk\", \"state\": \"Massachusetts\", \"fips\": 25025.0, \"cases\": 22577, \"deaths\": 1091}, {\"date\": \"2020-08-21T00:00:00\", \"county\": \"Bristol\", \"state\": \"Massachusetts\", \"fips\": 25005.0, \"cases\": 9564, \"deaths\": 649}, {\"date\": \"2020-08-21T00:00:00\", \"county\": \"Suffolk\", \"state\": \"Massachusetts\", \"fips\": 25025.0, \"cases\": 22694, \"deaths\": 1092}, {\"date\": \"2020-08-22T00:00:00\", \"county\": \"Bristol\", \"state\": \"Massachusetts\", \"fips\": 25005.0, \"cases\": 9568, \"deaths\": 650}, {\"date\": \"2020-08-22T00:00:00\", \"county\": \"Suffolk\", \"state\": \"Massachusetts\", \"fips\": 25025.0, \"cases\": 22706, \"deaths\": 1093}, {\"date\": \"2020-08-23T00:00:00\", \"county\": \"Bristol\", \"state\": \"Massachusetts\", \"fips\": 25005.0, \"cases\": 9568, \"deaths\": 650}, {\"date\": \"2020-08-23T00:00:00\", \"county\": \"Suffolk\", \"state\": \"Massachusetts\", \"fips\": 25025.0, \"cases\": 22706, \"deaths\": 1093}, {\"date\": \"2020-08-24T00:00:00\", \"county\": \"Bristol\", \"state\": \"Massachusetts\", \"fips\": 25005.0, \"cases\": 9603, \"deaths\": 650}, {\"date\": \"2020-08-24T00:00:00\", \"county\": \"Suffolk\", \"state\": \"Massachusetts\", \"fips\": 25025.0, \"cases\": 22904, \"deaths\": 1095}, {\"date\": \"2020-08-25T00:00:00\", \"county\": \"Bristol\", \"state\": \"Massachusetts\", \"fips\": 25005.0, \"cases\": 9621, \"deaths\": 652}, {\"date\": \"2020-08-25T00:00:00\", \"county\": \"Suffolk\", \"state\": \"Massachusetts\", \"fips\": 25025.0, \"cases\": 22973, \"deaths\": 1097}, {\"date\": \"2020-08-26T00:00:00\", \"county\": \"Bristol\", \"state\": \"Massachusetts\", \"fips\": 25005.0, \"cases\": 9642, \"deaths\": 653}, {\"date\": \"2020-08-26T00:00:00\", \"county\": \"Suffolk\", \"state\": \"Massachusetts\", \"fips\": 25025.0, \"cases\": 23064, \"deaths\": 1101}, {\"date\": \"2020-08-27T00:00:00\", \"county\": \"Bristol\", \"state\": \"Massachusetts\", \"fips\": 25005.0, \"cases\": 9671, \"deaths\": 655}, {\"date\": \"2020-08-27T00:00:00\", \"county\": \"Suffolk\", \"state\": \"Massachusetts\", \"fips\": 25025.0, \"cases\": 23154, \"deaths\": 1105}, {\"date\": \"2020-08-28T00:00:00\", \"county\": \"Bristol\", \"state\": \"Massachusetts\", \"fips\": 25005.0, \"cases\": 9699, \"deaths\": 657}, {\"date\": \"2020-08-28T00:00:00\", \"county\": \"Suffolk\", \"state\": \"Massachusetts\", \"fips\": 25025.0, \"cases\": 23261, \"deaths\": 1106}, {\"date\": \"2020-08-29T00:00:00\", \"county\": \"Bristol\", \"state\": \"Massachusetts\", \"fips\": 25005.0, \"cases\": 9744, \"deaths\": 657}, {\"date\": \"2020-08-29T00:00:00\", \"county\": \"Suffolk\", \"state\": \"Massachusetts\", \"fips\": 25025.0, \"cases\": 23350, \"deaths\": 1107}, {\"date\": \"2020-08-30T00:00:00\", \"county\": \"Bristol\", \"state\": \"Massachusetts\", \"fips\": 25005.0, \"cases\": 9757, \"deaths\": 659}, {\"date\": \"2020-08-30T00:00:00\", \"county\": \"Suffolk\", \"state\": \"Massachusetts\", \"fips\": 25025.0, \"cases\": 23403, \"deaths\": 1107}, {\"date\": \"2020-08-31T00:00:00\", \"county\": \"Bristol\", \"state\": \"Massachusetts\", \"fips\": 25005.0, \"cases\": 9790, \"deaths\": 659}, {\"date\": \"2020-08-31T00:00:00\", \"county\": \"Suffolk\", \"state\": \"Massachusetts\", \"fips\": 25025.0, \"cases\": 23472, \"deaths\": 1109}, {\"date\": \"2020-09-01T00:00:00\", \"county\": \"Bristol\", \"state\": \"Massachusetts\", \"fips\": 25005.0, \"cases\": 9824, \"deaths\": 659}, {\"date\": \"2020-09-01T00:00:00\", \"county\": \"Suffolk\", \"state\": \"Massachusetts\", \"fips\": 25025.0, \"cases\": 23552, \"deaths\": 1110}, {\"date\": \"2020-09-02T00:00:00\", \"county\": \"Bristol\", \"state\": \"Massachusetts\", \"fips\": 25005.0, \"cases\": 9211, \"deaths\": 655}, {\"date\": \"2020-09-02T00:00:00\", \"county\": \"Suffolk\", \"state\": \"Massachusetts\", \"fips\": 25025.0, \"cases\": 22508, \"deaths\": 1104}, {\"date\": \"2020-09-03T00:00:00\", \"county\": \"Bristol\", \"state\": \"Massachusetts\", \"fips\": 25005.0, \"cases\": 9252, \"deaths\": 659}, {\"date\": \"2020-09-03T00:00:00\", \"county\": \"Suffolk\", \"state\": \"Massachusetts\", \"fips\": 25025.0, \"cases\": 22593, \"deaths\": 1106}, {\"date\": \"2020-09-04T00:00:00\", \"county\": \"Bristol\", \"state\": \"Massachusetts\", \"fips\": 25005.0, \"cases\": 9296, \"deaths\": 661}, {\"date\": \"2020-09-04T00:00:00\", \"county\": \"Suffolk\", \"state\": \"Massachusetts\", \"fips\": 25025.0, \"cases\": 22529, \"deaths\": 1107}, {\"date\": \"2020-09-05T00:00:00\", \"county\": \"Bristol\", \"state\": \"Massachusetts\", \"fips\": 25005.0, \"cases\": 9340, \"deaths\": 662}, {\"date\": \"2020-09-05T00:00:00\", \"county\": \"Suffolk\", \"state\": \"Massachusetts\", \"fips\": 25025.0, \"cases\": 22623, \"deaths\": 1110}, {\"date\": \"2020-09-06T00:00:00\", \"county\": \"Bristol\", \"state\": \"Massachusetts\", \"fips\": 25005.0, \"cases\": 9365, \"deaths\": 664}, {\"date\": \"2020-09-06T00:00:00\", \"county\": \"Suffolk\", \"state\": \"Massachusetts\", \"fips\": 25025.0, \"cases\": 22697, \"deaths\": 1110}, {\"date\": \"2020-09-07T00:00:00\", \"county\": \"Bristol\", \"state\": \"Massachusetts\", \"fips\": 25005.0, \"cases\": 9393, \"deaths\": 667}, {\"date\": \"2020-09-07T00:00:00\", \"county\": \"Suffolk\", \"state\": \"Massachusetts\", \"fips\": 25025.0, \"cases\": 22756, \"deaths\": 1111}, {\"date\": \"2020-09-08T00:00:00\", \"county\": \"Bristol\", \"state\": \"Massachusetts\", \"fips\": 25005.0, \"cases\": 9409, \"deaths\": 668}, {\"date\": \"2020-09-08T00:00:00\", \"county\": \"Suffolk\", \"state\": \"Massachusetts\", \"fips\": 25025.0, \"cases\": 22788, \"deaths\": 1111}, {\"date\": \"2020-09-09T00:00:00\", \"county\": \"Bristol\", \"state\": \"Massachusetts\", \"fips\": 25005.0, \"cases\": 9418, \"deaths\": 668}, {\"date\": \"2020-09-09T00:00:00\", \"county\": \"Suffolk\", \"state\": \"Massachusetts\", \"fips\": 25025.0, \"cases\": 22831, \"deaths\": 1111}, {\"date\": \"2020-09-10T00:00:00\", \"county\": \"Bristol\", \"state\": \"Massachusetts\", \"fips\": 25005.0, \"cases\": 9448, \"deaths\": 670}, {\"date\": \"2020-09-10T00:00:00\", \"county\": \"Suffolk\", \"state\": \"Massachusetts\", \"fips\": 25025.0, \"cases\": 22920, \"deaths\": 1113}]}}, {\"mode\": \"vega-lite\"});\n",
              "</script>"
            ]
          },
          "metadata": {
            "tags": []
          },
          "execution_count": 227
        }
      ]
    },
    {
      "cell_type": "code",
      "metadata": {
        "id": "AVEiRwxrmWE6",
        "colab_type": "code",
        "colab": {
          "base_uri": "https://localhost:8080/",
          "height": 481
        },
        "outputId": "9fad46af-582a-4edb-fd3c-f46ddb4ea423"
      },
      "source": [
        "alt.Chart(df_filtered).mark_line().encode(\n",
        "    x='date:O',\n",
        "    y='deaths:Q',\n",
        "    color='county',\n",
        "    tooltip=['deaths']\n",
        ").transform_filter(\n",
        "    datum.date >'2020-04-06'\n",
        ").interactive()"
      ],
      "execution_count": 232,
      "outputs": [
        {
          "output_type": "execute_result",
          "data": {
            "text/plain": [
              "alt.Chart(...)"
            ],
            "text/html": [
              "\n",
              "<div id=\"altair-viz-5d80a1d67cf14fe7a68c1dac56c186ff\"></div>\n",
              "<script type=\"text/javascript\">\n",
              "  (function(spec, embedOpt){\n",
              "    let outputDiv = document.currentScript.previousElementSibling;\n",
              "    if (outputDiv.id !== \"altair-viz-5d80a1d67cf14fe7a68c1dac56c186ff\") {\n",
              "      outputDiv = document.getElementById(\"altair-viz-5d80a1d67cf14fe7a68c1dac56c186ff\");\n",
              "    }\n",
              "    const paths = {\n",
              "      \"vega\": \"https://cdn.jsdelivr.net/npm//vega@5?noext\",\n",
              "      \"vega-lib\": \"https://cdn.jsdelivr.net/npm//vega-lib?noext\",\n",
              "      \"vega-lite\": \"https://cdn.jsdelivr.net/npm//vega-lite@4.8.1?noext\",\n",
              "      \"vega-embed\": \"https://cdn.jsdelivr.net/npm//vega-embed@6?noext\",\n",
              "    };\n",
              "\n",
              "    function loadScript(lib) {\n",
              "      return new Promise(function(resolve, reject) {\n",
              "        var s = document.createElement('script');\n",
              "        s.src = paths[lib];\n",
              "        s.async = true;\n",
              "        s.onload = () => resolve(paths[lib]);\n",
              "        s.onerror = () => reject(`Error loading script: ${paths[lib]}`);\n",
              "        document.getElementsByTagName(\"head\")[0].appendChild(s);\n",
              "      });\n",
              "    }\n",
              "\n",
              "    function showError(err) {\n",
              "      outputDiv.innerHTML = `<div class=\"error\" style=\"color:red;\">${err}</div>`;\n",
              "      throw err;\n",
              "    }\n",
              "\n",
              "    function displayChart(vegaEmbed) {\n",
              "      vegaEmbed(outputDiv, spec, embedOpt)\n",
              "        .catch(err => showError(`Javascript Error: ${err.message}<br>This usually means there's a typo in your chart specification. See the javascript console for the full traceback.`));\n",
              "    }\n",
              "\n",
              "    if(typeof define === \"function\" && define.amd) {\n",
              "      requirejs.config({paths});\n",
              "      require([\"vega-embed\"], displayChart, err => showError(`Error loading script: ${err.message}`));\n",
              "    } else if (typeof vegaEmbed === \"function\") {\n",
              "      displayChart(vegaEmbed);\n",
              "    } else {\n",
              "      loadScript(\"vega\")\n",
              "        .then(() => loadScript(\"vega-lite\"))\n",
              "        .then(() => loadScript(\"vega-embed\"))\n",
              "        .catch(showError)\n",
              "        .then(() => displayChart(vegaEmbed));\n",
              "    }\n",
              "  })({\"config\": {\"view\": {\"continuousWidth\": 400, \"continuousHeight\": 300}}, \"data\": {\"name\": \"data-76c5b8a05186b494bd136f78a16ae898\"}, \"mark\": \"line\", \"encoding\": {\"color\": {\"type\": \"nominal\", \"field\": \"county\"}, \"tooltip\": [{\"type\": \"quantitative\", \"field\": \"deaths\"}], \"x\": {\"type\": \"ordinal\", \"field\": \"date\"}, \"y\": {\"type\": \"quantitative\", \"field\": \"deaths\"}}, \"selection\": {\"selector007\": {\"type\": \"interval\", \"bind\": \"scales\", \"encodings\": [\"x\", \"y\"]}}, \"transform\": [{\"filter\": \"(datum.date > '2020-04-06')\"}], \"$schema\": \"https://vega.github.io/schema/vega-lite/v4.8.1.json\", \"datasets\": {\"data-76c5b8a05186b494bd136f78a16ae898\": [{\"date\": \"2020-02-01T00:00:00\", \"county\": \"Suffolk\", \"state\": \"Massachusetts\", \"fips\": 25025.0, \"cases\": 1, \"deaths\": 0}, {\"date\": \"2020-02-02T00:00:00\", \"county\": \"Suffolk\", \"state\": \"Massachusetts\", \"fips\": 25025.0, \"cases\": 1, \"deaths\": 0}, {\"date\": \"2020-02-03T00:00:00\", \"county\": \"Suffolk\", \"state\": \"Massachusetts\", \"fips\": 25025.0, \"cases\": 1, \"deaths\": 0}, {\"date\": \"2020-02-04T00:00:00\", \"county\": \"Suffolk\", \"state\": \"Massachusetts\", \"fips\": 25025.0, \"cases\": 1, \"deaths\": 0}, {\"date\": \"2020-02-05T00:00:00\", \"county\": \"Suffolk\", \"state\": \"Massachusetts\", \"fips\": 25025.0, \"cases\": 1, \"deaths\": 0}, {\"date\": \"2020-02-06T00:00:00\", \"county\": \"Suffolk\", \"state\": \"Massachusetts\", \"fips\": 25025.0, \"cases\": 1, \"deaths\": 0}, {\"date\": \"2020-02-07T00:00:00\", \"county\": \"Suffolk\", \"state\": \"Massachusetts\", \"fips\": 25025.0, \"cases\": 1, \"deaths\": 0}, {\"date\": \"2020-02-08T00:00:00\", \"county\": \"Suffolk\", \"state\": \"Massachusetts\", \"fips\": 25025.0, \"cases\": 1, \"deaths\": 0}, {\"date\": \"2020-02-09T00:00:00\", \"county\": \"Suffolk\", \"state\": \"Massachusetts\", \"fips\": 25025.0, \"cases\": 1, \"deaths\": 0}, {\"date\": \"2020-02-10T00:00:00\", \"county\": \"Suffolk\", \"state\": \"Massachusetts\", \"fips\": 25025.0, \"cases\": 1, \"deaths\": 0}, {\"date\": \"2020-02-11T00:00:00\", \"county\": \"Suffolk\", \"state\": \"Massachusetts\", \"fips\": 25025.0, \"cases\": 1, \"deaths\": 0}, {\"date\": \"2020-02-12T00:00:00\", \"county\": \"Suffolk\", \"state\": \"Massachusetts\", \"fips\": 25025.0, \"cases\": 1, \"deaths\": 0}, {\"date\": \"2020-02-13T00:00:00\", \"county\": \"Suffolk\", \"state\": \"Massachusetts\", \"fips\": 25025.0, \"cases\": 1, \"deaths\": 0}, {\"date\": \"2020-02-14T00:00:00\", \"county\": \"Suffolk\", \"state\": \"Massachusetts\", \"fips\": 25025.0, \"cases\": 1, \"deaths\": 0}, {\"date\": \"2020-02-15T00:00:00\", \"county\": \"Suffolk\", \"state\": \"Massachusetts\", \"fips\": 25025.0, \"cases\": 1, \"deaths\": 0}, {\"date\": \"2020-02-16T00:00:00\", \"county\": \"Suffolk\", \"state\": \"Massachusetts\", \"fips\": 25025.0, \"cases\": 1, \"deaths\": 0}, {\"date\": \"2020-02-17T00:00:00\", \"county\": \"Suffolk\", \"state\": \"Massachusetts\", \"fips\": 25025.0, \"cases\": 1, \"deaths\": 0}, {\"date\": \"2020-02-18T00:00:00\", \"county\": \"Suffolk\", \"state\": \"Massachusetts\", \"fips\": 25025.0, \"cases\": 1, \"deaths\": 0}, {\"date\": \"2020-02-19T00:00:00\", \"county\": \"Suffolk\", \"state\": \"Massachusetts\", \"fips\": 25025.0, \"cases\": 1, \"deaths\": 0}, {\"date\": \"2020-02-20T00:00:00\", \"county\": \"Suffolk\", \"state\": \"Massachusetts\", \"fips\": 25025.0, \"cases\": 1, \"deaths\": 0}, {\"date\": \"2020-02-21T00:00:00\", \"county\": \"Suffolk\", \"state\": \"Massachusetts\", \"fips\": 25025.0, \"cases\": 1, \"deaths\": 0}, {\"date\": \"2020-02-22T00:00:00\", \"county\": \"Suffolk\", \"state\": \"Massachusetts\", \"fips\": 25025.0, \"cases\": 1, \"deaths\": 0}, {\"date\": \"2020-02-23T00:00:00\", \"county\": \"Suffolk\", \"state\": \"Massachusetts\", \"fips\": 25025.0, \"cases\": 1, \"deaths\": 0}, {\"date\": \"2020-02-24T00:00:00\", \"county\": \"Suffolk\", \"state\": \"Massachusetts\", \"fips\": 25025.0, \"cases\": 1, \"deaths\": 0}, {\"date\": \"2020-02-25T00:00:00\", \"county\": \"Suffolk\", \"state\": \"Massachusetts\", \"fips\": 25025.0, \"cases\": 1, \"deaths\": 0}, {\"date\": \"2020-02-26T00:00:00\", \"county\": \"Suffolk\", \"state\": \"Massachusetts\", \"fips\": 25025.0, \"cases\": 1, \"deaths\": 0}, {\"date\": \"2020-02-27T00:00:00\", \"county\": \"Suffolk\", \"state\": \"Massachusetts\", \"fips\": 25025.0, \"cases\": 1, \"deaths\": 0}, {\"date\": \"2020-02-28T00:00:00\", \"county\": \"Suffolk\", \"state\": \"Massachusetts\", \"fips\": 25025.0, \"cases\": 1, \"deaths\": 0}, {\"date\": \"2020-02-29T00:00:00\", \"county\": \"Suffolk\", \"state\": \"Massachusetts\", \"fips\": 25025.0, \"cases\": 1, \"deaths\": 0}, {\"date\": \"2020-03-01T00:00:00\", \"county\": \"Suffolk\", \"state\": \"Massachusetts\", \"fips\": 25025.0, \"cases\": 1, \"deaths\": 0}, {\"date\": \"2020-03-02T00:00:00\", \"county\": \"Suffolk\", \"state\": \"Massachusetts\", \"fips\": 25025.0, \"cases\": 1, \"deaths\": 0}, {\"date\": \"2020-03-03T00:00:00\", \"county\": \"Suffolk\", \"state\": \"Massachusetts\", \"fips\": 25025.0, \"cases\": 1, \"deaths\": 0}, {\"date\": \"2020-03-04T00:00:00\", \"county\": \"Suffolk\", \"state\": \"Massachusetts\", \"fips\": 25025.0, \"cases\": 1, \"deaths\": 0}, {\"date\": \"2020-03-05T00:00:00\", \"county\": \"Suffolk\", \"state\": \"Massachusetts\", \"fips\": 25025.0, \"cases\": 1, \"deaths\": 0}, {\"date\": \"2020-03-06T00:00:00\", \"county\": \"Suffolk\", \"state\": \"Massachusetts\", \"fips\": 25025.0, \"cases\": 4, \"deaths\": 0}, {\"date\": \"2020-03-07T00:00:00\", \"county\": \"Suffolk\", \"state\": \"Massachusetts\", \"fips\": 25025.0, \"cases\": 4, \"deaths\": 0}, {\"date\": \"2020-03-08T00:00:00\", \"county\": \"Suffolk\", \"state\": \"Massachusetts\", \"fips\": 25025.0, \"cases\": 9, \"deaths\": 0}, {\"date\": \"2020-03-09T00:00:00\", \"county\": \"Suffolk\", \"state\": \"Massachusetts\", \"fips\": 25025.0, \"cases\": 10, \"deaths\": 0}, {\"date\": \"2020-03-10T00:00:00\", \"county\": \"Suffolk\", \"state\": \"Massachusetts\", \"fips\": 25025.0, \"cases\": 20, \"deaths\": 0}, {\"date\": \"2020-03-11T00:00:00\", \"county\": \"Suffolk\", \"state\": \"Massachusetts\", \"fips\": 25025.0, \"cases\": 20, \"deaths\": 0}, {\"date\": \"2020-03-12T00:00:00\", \"county\": \"Suffolk\", \"state\": \"Massachusetts\", \"fips\": 25025.0, \"cases\": 22, \"deaths\": 0}, {\"date\": \"2020-03-13T00:00:00\", \"county\": \"Suffolk\", \"state\": \"Massachusetts\", \"fips\": 25025.0, \"cases\": 26, \"deaths\": 0}, {\"date\": \"2020-03-14T00:00:00\", \"county\": \"Bristol\", \"state\": \"Massachusetts\", \"fips\": 25005.0, \"cases\": 1, \"deaths\": 0}, {\"date\": \"2020-03-14T00:00:00\", \"county\": \"Suffolk\", \"state\": \"Massachusetts\", \"fips\": 25025.0, \"cases\": 27, \"deaths\": 0}, {\"date\": \"2020-03-15T00:00:00\", \"county\": \"Bristol\", \"state\": \"Massachusetts\", \"fips\": 25005.0, \"cases\": 1, \"deaths\": 0}, {\"date\": \"2020-03-15T00:00:00\", \"county\": \"Suffolk\", \"state\": \"Massachusetts\", \"fips\": 25025.0, \"cases\": 31, \"deaths\": 0}, {\"date\": \"2020-03-16T00:00:00\", \"county\": \"Bristol\", \"state\": \"Massachusetts\", \"fips\": 25005.0, \"cases\": 2, \"deaths\": 0}, {\"date\": \"2020-03-16T00:00:00\", \"county\": \"Suffolk\", \"state\": \"Massachusetts\", \"fips\": 25025.0, \"cases\": 42, \"deaths\": 0}, {\"date\": \"2020-03-17T00:00:00\", \"county\": \"Bristol\", \"state\": \"Massachusetts\", \"fips\": 25005.0, \"cases\": 5, \"deaths\": 0}, {\"date\": \"2020-03-17T00:00:00\", \"county\": \"Suffolk\", \"state\": \"Massachusetts\", \"fips\": 25025.0, \"cases\": 42, \"deaths\": 0}, {\"date\": \"2020-03-18T00:00:00\", \"county\": \"Bristol\", \"state\": \"Massachusetts\", \"fips\": 25005.0, \"cases\": 5, \"deaths\": 0}, {\"date\": \"2020-03-18T00:00:00\", \"county\": \"Suffolk\", \"state\": \"Massachusetts\", \"fips\": 25025.0, \"cases\": 51, \"deaths\": 0}, {\"date\": \"2020-03-19T00:00:00\", \"county\": \"Bristol\", \"state\": \"Massachusetts\", \"fips\": 25005.0, \"cases\": 6, \"deaths\": 0}, {\"date\": \"2020-03-19T00:00:00\", \"county\": \"Suffolk\", \"state\": \"Massachusetts\", \"fips\": 25025.0, \"cases\": 72, \"deaths\": 0}, {\"date\": \"2020-03-20T00:00:00\", \"county\": \"Bristol\", \"state\": \"Massachusetts\", \"fips\": 25005.0, \"cases\": 6, \"deaths\": 0}, {\"date\": \"2020-03-20T00:00:00\", \"county\": \"Suffolk\", \"state\": \"Massachusetts\", \"fips\": 25025.0, \"cases\": 87, \"deaths\": 1}, {\"date\": \"2020-03-21T00:00:00\", \"county\": \"Bristol\", \"state\": \"Massachusetts\", \"fips\": 25005.0, \"cases\": 14, \"deaths\": 0}, {\"date\": \"2020-03-21T00:00:00\", \"county\": \"Suffolk\", \"state\": \"Massachusetts\", \"fips\": 25025.0, \"cases\": 108, \"deaths\": 1}, {\"date\": \"2020-03-22T00:00:00\", \"county\": \"Bristol\", \"state\": \"Massachusetts\", \"fips\": 25005.0, \"cases\": 24, \"deaths\": 0}, {\"date\": \"2020-03-22T00:00:00\", \"county\": \"Suffolk\", \"state\": \"Massachusetts\", \"fips\": 25025.0, \"cases\": 126, \"deaths\": 2}, {\"date\": \"2020-03-23T00:00:00\", \"county\": \"Bristol\", \"state\": \"Massachusetts\", \"fips\": 25005.0, \"cases\": 25, \"deaths\": 0}, {\"date\": \"2020-03-23T00:00:00\", \"county\": \"Suffolk\", \"state\": \"Massachusetts\", \"fips\": 25025.0, \"cases\": 154, \"deaths\": 3}, {\"date\": \"2020-03-24T00:00:00\", \"county\": \"Bristol\", \"state\": \"Massachusetts\", \"fips\": 25005.0, \"cases\": 31, \"deaths\": 0}, {\"date\": \"2020-03-24T00:00:00\", \"county\": \"Suffolk\", \"state\": \"Massachusetts\", \"fips\": 25025.0, \"cases\": 234, \"deaths\": 3}, {\"date\": \"2020-03-25T00:00:00\", \"county\": \"Bristol\", \"state\": \"Massachusetts\", \"fips\": 25005.0, \"cases\": 67, \"deaths\": 0}, {\"date\": \"2020-03-25T00:00:00\", \"county\": \"Suffolk\", \"state\": \"Massachusetts\", \"fips\": 25025.0, \"cases\": 342, \"deaths\": 3}, {\"date\": \"2020-03-26T00:00:00\", \"county\": \"Bristol\", \"state\": \"Massachusetts\", \"fips\": 25005.0, \"cases\": 90, \"deaths\": 0}, {\"date\": \"2020-03-26T00:00:00\", \"county\": \"Suffolk\", \"state\": \"Massachusetts\", \"fips\": 25025.0, \"cases\": 448, \"deaths\": 4}, {\"date\": \"2020-03-27T00:00:00\", \"county\": \"Bristol\", \"state\": \"Massachusetts\", \"fips\": 25005.0, \"cases\": 129, \"deaths\": 1}, {\"date\": \"2020-03-27T00:00:00\", \"county\": \"Suffolk\", \"state\": \"Massachusetts\", \"fips\": 25025.0, \"cases\": 631, \"deaths\": 4}, {\"date\": \"2020-03-28T00:00:00\", \"county\": \"Bristol\", \"state\": \"Massachusetts\", \"fips\": 25005.0, \"cases\": 179, \"deaths\": 1}, {\"date\": \"2020-03-28T00:00:00\", \"county\": \"Suffolk\", \"state\": \"Massachusetts\", \"fips\": 25025.0, \"cases\": 843, \"deaths\": 5}, {\"date\": \"2020-03-29T00:00:00\", \"county\": \"Bristol\", \"state\": \"Massachusetts\", \"fips\": 25005.0, \"cases\": 208, \"deaths\": 1}, {\"date\": \"2020-03-29T00:00:00\", \"county\": \"Suffolk\", \"state\": \"Massachusetts\", \"fips\": 25025.0, \"cases\": 940, \"deaths\": 5}, {\"date\": \"2020-03-30T00:00:00\", \"county\": \"Bristol\", \"state\": \"Massachusetts\", \"fips\": 25005.0, \"cases\": 263, \"deaths\": 2}, {\"date\": \"2020-03-30T00:00:00\", \"county\": \"Suffolk\", \"state\": \"Massachusetts\", \"fips\": 25025.0, \"cases\": 1115, \"deaths\": 7}, {\"date\": \"2020-03-31T00:00:00\", \"county\": \"Bristol\", \"state\": \"Massachusetts\", \"fips\": 25005.0, \"cases\": 306, \"deaths\": 2}, {\"date\": \"2020-03-31T00:00:00\", \"county\": \"Suffolk\", \"state\": \"Massachusetts\", \"fips\": 25025.0, \"cases\": 1373, \"deaths\": 8}, {\"date\": \"2020-04-01T00:00:00\", \"county\": \"Bristol\", \"state\": \"Massachusetts\", \"fips\": 25005.0, \"cases\": 366, \"deaths\": 3}, {\"date\": \"2020-04-01T00:00:00\", \"county\": \"Suffolk\", \"state\": \"Massachusetts\", \"fips\": 25025.0, \"cases\": 1624, \"deaths\": 15}, {\"date\": \"2020-04-02T00:00:00\", \"county\": \"Bristol\", \"state\": \"Massachusetts\", \"fips\": 25005.0, \"cases\": 424, \"deaths\": 3}, {\"date\": \"2020-04-02T00:00:00\", \"county\": \"Suffolk\", \"state\": \"Massachusetts\", \"fips\": 25025.0, \"cases\": 1896, \"deaths\": 21}, {\"date\": \"2020-04-03T00:00:00\", \"county\": \"Bristol\", \"state\": \"Massachusetts\", \"fips\": 25005.0, \"cases\": 517, \"deaths\": 4}, {\"date\": \"2020-04-03T00:00:00\", \"county\": \"Suffolk\", \"state\": \"Massachusetts\", \"fips\": 25025.0, \"cases\": 2183, \"deaths\": 23}, {\"date\": \"2020-04-04T00:00:00\", \"county\": \"Bristol\", \"state\": \"Massachusetts\", \"fips\": 25005.0, \"cases\": 601, \"deaths\": 5}, {\"date\": \"2020-04-04T00:00:00\", \"county\": \"Suffolk\", \"state\": \"Massachusetts\", \"fips\": 25025.0, \"cases\": 2429, \"deaths\": 28}, {\"date\": \"2020-04-05T00:00:00\", \"county\": \"Bristol\", \"state\": \"Massachusetts\", \"fips\": 25005.0, \"cases\": 659, \"deaths\": 8}, {\"date\": \"2020-04-05T00:00:00\", \"county\": \"Suffolk\", \"state\": \"Massachusetts\", \"fips\": 25025.0, \"cases\": 2658, \"deaths\": 29}, {\"date\": \"2020-04-06T00:00:00\", \"county\": \"Bristol\", \"state\": \"Massachusetts\", \"fips\": 25005.0, \"cases\": 722, \"deaths\": 8}, {\"date\": \"2020-04-06T00:00:00\", \"county\": \"Suffolk\", \"state\": \"Massachusetts\", \"fips\": 25025.0, \"cases\": 2929, \"deaths\": 33}, {\"date\": \"2020-04-07T00:00:00\", \"county\": \"Bristol\", \"state\": \"Massachusetts\", \"fips\": 25005.0, \"cases\": 768, \"deaths\": 16}, {\"date\": \"2020-04-07T00:00:00\", \"county\": \"Suffolk\", \"state\": \"Massachusetts\", \"fips\": 25025.0, \"cases\": 3245, \"deaths\": 42}, {\"date\": \"2020-04-08T00:00:00\", \"county\": \"Bristol\", \"state\": \"Massachusetts\", \"fips\": 25005.0, \"cases\": 835, \"deaths\": 23}, {\"date\": \"2020-04-08T00:00:00\", \"county\": \"Suffolk\", \"state\": \"Massachusetts\", \"fips\": 25025.0, \"cases\": 3600, \"deaths\": 50}, {\"date\": \"2020-04-09T00:00:00\", \"county\": \"Bristol\", \"state\": \"Massachusetts\", \"fips\": 25005.0, \"cases\": 994, \"deaths\": 28}, {\"date\": \"2020-04-09T00:00:00\", \"county\": \"Suffolk\", \"state\": \"Massachusetts\", \"fips\": 25025.0, \"cases\": 4041, \"deaths\": 56}, {\"date\": \"2020-04-10T00:00:00\", \"county\": \"Bristol\", \"state\": \"Massachusetts\", \"fips\": 25005.0, \"cases\": 1086, \"deaths\": 33}, {\"date\": \"2020-04-10T00:00:00\", \"county\": \"Suffolk\", \"state\": \"Massachusetts\", \"fips\": 25025.0, \"cases\": 4534, \"deaths\": 73}, {\"date\": \"2020-04-11T00:00:00\", \"county\": \"Bristol\", \"state\": \"Massachusetts\", \"fips\": 25005.0, \"cases\": 1191, \"deaths\": 39}, {\"date\": \"2020-04-11T00:00:00\", \"county\": \"Suffolk\", \"state\": \"Massachusetts\", \"fips\": 25025.0, \"cases\": 4926, \"deaths\": 81}, {\"date\": \"2020-04-12T00:00:00\", \"county\": \"Bristol\", \"state\": \"Massachusetts\", \"fips\": 25005.0, \"cases\": 1327, \"deaths\": 43}, {\"date\": \"2020-04-12T00:00:00\", \"county\": \"Suffolk\", \"state\": \"Massachusetts\", \"fips\": 25025.0, \"cases\": 5359, \"deaths\": 88}, {\"date\": \"2020-04-13T00:00:00\", \"county\": \"Bristol\", \"state\": \"Massachusetts\", \"fips\": 25005.0, \"cases\": 1394, \"deaths\": 46}, {\"date\": \"2020-04-13T00:00:00\", \"county\": \"Suffolk\", \"state\": \"Massachusetts\", \"fips\": 25025.0, \"cases\": 5579, \"deaths\": 106}, {\"date\": \"2020-04-14T00:00:00\", \"county\": \"Bristol\", \"state\": \"Massachusetts\", \"fips\": 25005.0, \"cases\": 1435, \"deaths\": 53}, {\"date\": \"2020-04-14T00:00:00\", \"county\": \"Suffolk\", \"state\": \"Massachusetts\", \"fips\": 25025.0, \"cases\": 5872, \"deaths\": 120}, {\"date\": \"2020-04-15T00:00:00\", \"county\": \"Bristol\", \"state\": \"Massachusetts\", \"fips\": 25005.0, \"cases\": 1508, \"deaths\": 56}, {\"date\": \"2020-04-15T00:00:00\", \"county\": \"Suffolk\", \"state\": \"Massachusetts\", \"fips\": 25025.0, \"cases\": 6279, \"deaths\": 147}, {\"date\": \"2020-04-16T00:00:00\", \"county\": \"Bristol\", \"state\": \"Massachusetts\", \"fips\": 25005.0, \"cases\": 1605, \"deaths\": 63}, {\"date\": \"2020-04-16T00:00:00\", \"county\": \"Suffolk\", \"state\": \"Massachusetts\", \"fips\": 25025.0, \"cases\": 6820, \"deaths\": 166}, {\"date\": \"2020-04-17T00:00:00\", \"county\": \"Bristol\", \"state\": \"Massachusetts\", \"fips\": 25005.0, \"cases\": 1659, \"deaths\": 75}, {\"date\": \"2020-04-17T00:00:00\", \"county\": \"Suffolk\", \"state\": \"Massachusetts\", \"fips\": 25025.0, \"cases\": 7272, \"deaths\": 190}, {\"date\": \"2020-04-18T00:00:00\", \"county\": \"Bristol\", \"state\": \"Massachusetts\", \"fips\": 25005.0, \"cases\": 1698, \"deaths\": 83}, {\"date\": \"2020-04-18T00:00:00\", \"county\": \"Suffolk\", \"state\": \"Massachusetts\", \"fips\": 25025.0, \"cases\": 7696, \"deaths\": 214}, {\"date\": \"2020-04-19T00:00:00\", \"county\": \"Bristol\", \"state\": \"Massachusetts\", \"fips\": 25005.0, \"cases\": 1731, \"deaths\": 87}, {\"date\": \"2020-04-19T00:00:00\", \"county\": \"Suffolk\", \"state\": \"Massachusetts\", \"fips\": 25025.0, \"cases\": 8074, \"deaths\": 238}, {\"date\": \"2020-04-20T00:00:00\", \"county\": \"Bristol\", \"state\": \"Massachusetts\", \"fips\": 25005.0, \"cases\": 1779, \"deaths\": 88}, {\"date\": \"2020-04-20T00:00:00\", \"county\": \"Suffolk\", \"state\": \"Massachusetts\", \"fips\": 25025.0, \"cases\": 8314, \"deaths\": 263}, {\"date\": \"2020-04-21T00:00:00\", \"county\": \"Bristol\", \"state\": \"Massachusetts\", \"fips\": 25005.0, \"cases\": 1852, \"deaths\": 96}, {\"date\": \"2020-04-21T00:00:00\", \"county\": \"Suffolk\", \"state\": \"Massachusetts\", \"fips\": 25025.0, \"cases\": 8669, \"deaths\": 285}, {\"date\": \"2020-04-22T00:00:00\", \"county\": \"Bristol\", \"state\": \"Massachusetts\", \"fips\": 25005.0, \"cases\": 1908, \"deaths\": 104}, {\"date\": \"2020-04-22T00:00:00\", \"county\": \"Suffolk\", \"state\": \"Massachusetts\", \"fips\": 25025.0, \"cases\": 9060, \"deaths\": 318}, {\"date\": \"2020-04-23T00:00:00\", \"county\": \"Bristol\", \"state\": \"Massachusetts\", \"fips\": 25005.0, \"cases\": 2181, \"deaths\": 109}, {\"date\": \"2020-04-23T00:00:00\", \"county\": \"Suffolk\", \"state\": \"Massachusetts\", \"fips\": 25025.0, \"cases\": 9739, \"deaths\": 346}, {\"date\": \"2020-04-24T00:00:00\", \"county\": \"Bristol\", \"state\": \"Massachusetts\", \"fips\": 25005.0, \"cases\": 2697, \"deaths\": 126}, {\"date\": \"2020-04-24T00:00:00\", \"county\": \"Suffolk\", \"state\": \"Massachusetts\", \"fips\": 25025.0, \"cases\": 10724, \"deaths\": 372}, {\"date\": \"2020-04-25T00:00:00\", \"county\": \"Bristol\", \"state\": \"Massachusetts\", \"fips\": 25005.0, \"cases\": 2829, \"deaths\": 130}, {\"date\": \"2020-04-25T00:00:00\", \"county\": \"Suffolk\", \"state\": \"Massachusetts\", \"fips\": 25025.0, \"cases\": 11218, \"deaths\": 391}, {\"date\": \"2020-04-26T00:00:00\", \"county\": \"Bristol\", \"state\": \"Massachusetts\", \"fips\": 25005.0, \"cases\": 2923, \"deaths\": 134}, {\"date\": \"2020-04-26T00:00:00\", \"county\": \"Suffolk\", \"state\": \"Massachusetts\", \"fips\": 25025.0, \"cases\": 11543, \"deaths\": 424}, {\"date\": \"2020-04-27T00:00:00\", \"county\": \"Bristol\", \"state\": \"Massachusetts\", \"fips\": 25005.0, \"cases\": 3068, \"deaths\": 137}, {\"date\": \"2020-04-27T00:00:00\", \"county\": \"Suffolk\", \"state\": \"Massachusetts\", \"fips\": 25025.0, \"cases\": 11883, \"deaths\": 448}, {\"date\": \"2020-04-28T00:00:00\", \"county\": \"Bristol\", \"state\": \"Massachusetts\", \"fips\": 25005.0, \"cases\": 3270, \"deaths\": 155}, {\"date\": \"2020-04-28T00:00:00\", \"county\": \"Suffolk\", \"state\": \"Massachusetts\", \"fips\": 25025.0, \"cases\": 12140, \"deaths\": 469}, {\"date\": \"2020-04-29T00:00:00\", \"county\": \"Bristol\", \"state\": \"Massachusetts\", \"fips\": 25005.0, \"cases\": 3429, \"deaths\": 165}, {\"date\": \"2020-04-29T00:00:00\", \"county\": \"Suffolk\", \"state\": \"Massachusetts\", \"fips\": 25025.0, \"cases\": 12539, \"deaths\": 504}, {\"date\": \"2020-04-30T00:00:00\", \"county\": \"Bristol\", \"state\": \"Massachusetts\", \"fips\": 25005.0, \"cases\": 3580, \"deaths\": 172}, {\"date\": \"2020-04-30T00:00:00\", \"county\": \"Suffolk\", \"state\": \"Massachusetts\", \"fips\": 25025.0, \"cases\": 12890, \"deaths\": 524}, {\"date\": \"2020-05-01T00:00:00\", \"county\": \"Bristol\", \"state\": \"Massachusetts\", \"fips\": 25005.0, \"cases\": 3792, \"deaths\": 182}, {\"date\": \"2020-05-01T00:00:00\", \"county\": \"Suffolk\", \"state\": \"Massachusetts\", \"fips\": 25025.0, \"cases\": 13295, \"deaths\": 550}, {\"date\": \"2020-05-02T00:00:00\", \"county\": \"Bristol\", \"state\": \"Massachusetts\", \"fips\": 25005.0, \"cases\": 3916, \"deaths\": 187}, {\"date\": \"2020-05-02T00:00:00\", \"county\": \"Suffolk\", \"state\": \"Massachusetts\", \"fips\": 25025.0, \"cases\": 13606, \"deaths\": 569}, {\"date\": \"2020-05-03T00:00:00\", \"county\": \"Bristol\", \"state\": \"Massachusetts\", \"fips\": 25005.0, \"cases\": 4019, \"deaths\": 198}, {\"date\": \"2020-05-03T00:00:00\", \"county\": \"Suffolk\", \"state\": \"Massachusetts\", \"fips\": 25025.0, \"cases\": 13777, \"deaths\": 588}, {\"date\": \"2020-05-04T00:00:00\", \"county\": \"Bristol\", \"state\": \"Massachusetts\", \"fips\": 25005.0, \"cases\": 4103, \"deaths\": 205}, {\"date\": \"2020-05-04T00:00:00\", \"county\": \"Suffolk\", \"state\": \"Massachusetts\", \"fips\": 25025.0, \"cases\": 13941, \"deaths\": 596}, {\"date\": \"2020-05-05T00:00:00\", \"county\": \"Bristol\", \"state\": \"Massachusetts\", \"fips\": 25005.0, \"cases\": 4235, \"deaths\": 210}, {\"date\": \"2020-05-05T00:00:00\", \"county\": \"Suffolk\", \"state\": \"Massachusetts\", \"fips\": 25025.0, \"cases\": 14173, \"deaths\": 609}, {\"date\": \"2020-05-06T00:00:00\", \"county\": \"Bristol\", \"state\": \"Massachusetts\", \"fips\": 25005.0, \"cases\": 4380, \"deaths\": 223}, {\"date\": \"2020-05-06T00:00:00\", \"county\": \"Suffolk\", \"state\": \"Massachusetts\", \"fips\": 25025.0, \"cases\": 14476, \"deaths\": 642}, {\"date\": \"2020-05-07T00:00:00\", \"county\": \"Bristol\", \"state\": \"Massachusetts\", \"fips\": 25005.0, \"cases\": 4529, \"deaths\": 232}, {\"date\": \"2020-05-07T00:00:00\", \"county\": \"Suffolk\", \"state\": \"Massachusetts\", \"fips\": 25025.0, \"cases\": 14732, \"deaths\": 663}, {\"date\": \"2020-05-08T00:00:00\", \"county\": \"Bristol\", \"state\": \"Massachusetts\", \"fips\": 25005.0, \"cases\": 4670, \"deaths\": 252}, {\"date\": \"2020-05-08T00:00:00\", \"county\": \"Suffolk\", \"state\": \"Massachusetts\", \"fips\": 25025.0, \"cases\": 14944, \"deaths\": 683}, {\"date\": \"2020-05-09T00:00:00\", \"county\": \"Bristol\", \"state\": \"Massachusetts\", \"fips\": 25005.0, \"cases\": 4847, \"deaths\": 260}, {\"date\": \"2020-05-09T00:00:00\", \"county\": \"Suffolk\", \"state\": \"Massachusetts\", \"fips\": 25025.0, \"cases\": 15119, \"deaths\": 703}, {\"date\": \"2020-05-10T00:00:00\", \"county\": \"Bristol\", \"state\": \"Massachusetts\", \"fips\": 25005.0, \"cases\": 4931, \"deaths\": 266}, {\"date\": \"2020-05-10T00:00:00\", \"county\": \"Suffolk\", \"state\": \"Massachusetts\", \"fips\": 25025.0, \"cases\": 15279, \"deaths\": 718}, {\"date\": \"2020-05-11T00:00:00\", \"county\": \"Bristol\", \"state\": \"Massachusetts\", \"fips\": 25005.0, \"cases\": 4999, \"deaths\": 274}, {\"date\": \"2020-05-11T00:00:00\", \"county\": \"Suffolk\", \"state\": \"Massachusetts\", \"fips\": 25025.0, \"cases\": 15356, \"deaths\": 731}, {\"date\": \"2020-05-12T00:00:00\", \"county\": \"Bristol\", \"state\": \"Massachusetts\", \"fips\": 25005.0, \"cases\": 5125, \"deaths\": 278}, {\"date\": \"2020-05-12T00:00:00\", \"county\": \"Suffolk\", \"state\": \"Massachusetts\", \"fips\": 25025.0, \"cases\": 15454, \"deaths\": 732}, {\"date\": \"2020-05-13T00:00:00\", \"county\": \"Bristol\", \"state\": \"Massachusetts\", \"fips\": 25005.0, \"cases\": 5249, \"deaths\": 288}, {\"date\": \"2020-05-13T00:00:00\", \"county\": \"Suffolk\", \"state\": \"Massachusetts\", \"fips\": 25025.0, \"cases\": 15587, \"deaths\": 749}, {\"date\": \"2020-05-14T00:00:00\", \"county\": \"Bristol\", \"state\": \"Massachusetts\", \"fips\": 25005.0, \"cases\": 5440, \"deaths\": 297}, {\"date\": \"2020-05-14T00:00:00\", \"county\": \"Suffolk\", \"state\": \"Massachusetts\", \"fips\": 25025.0, \"cases\": 15881, \"deaths\": 759}, {\"date\": \"2020-05-15T00:00:00\", \"county\": \"Bristol\", \"state\": \"Massachusetts\", \"fips\": 25005.0, \"cases\": 5590, \"deaths\": 303}, {\"date\": \"2020-05-15T00:00:00\", \"county\": \"Suffolk\", \"state\": \"Massachusetts\", \"fips\": 25025.0, \"cases\": 15996, \"deaths\": 768}, {\"date\": \"2020-05-16T00:00:00\", \"county\": \"Bristol\", \"state\": \"Massachusetts\", \"fips\": 25005.0, \"cases\": 5748, \"deaths\": 313}, {\"date\": \"2020-05-16T00:00:00\", \"county\": \"Suffolk\", \"state\": \"Massachusetts\", \"fips\": 25025.0, \"cases\": 16346, \"deaths\": 778}, {\"date\": \"2020-05-17T00:00:00\", \"county\": \"Bristol\", \"state\": \"Massachusetts\", \"fips\": 25005.0, \"cases\": 5870, \"deaths\": 320}, {\"date\": \"2020-05-17T00:00:00\", \"county\": \"Suffolk\", \"state\": \"Massachusetts\", \"fips\": 25025.0, \"cases\": 16479, \"deaths\": 787}, {\"date\": \"2020-05-18T00:00:00\", \"county\": \"Bristol\", \"state\": \"Massachusetts\", \"fips\": 25005.0, \"cases\": 5996, \"deaths\": 324}, {\"date\": \"2020-05-18T00:00:00\", \"county\": \"Suffolk\", \"state\": \"Massachusetts\", \"fips\": 25025.0, \"cases\": 16671, \"deaths\": 793}, {\"date\": \"2020-05-19T00:00:00\", \"county\": \"Bristol\", \"state\": \"Massachusetts\", \"fips\": 25005.0, \"cases\": 6080, \"deaths\": 330}, {\"date\": \"2020-05-19T00:00:00\", \"county\": \"Suffolk\", \"state\": \"Massachusetts\", \"fips\": 25025.0, \"cases\": 16825, \"deaths\": 797}, {\"date\": \"2020-05-20T00:00:00\", \"county\": \"Bristol\", \"state\": \"Massachusetts\", \"fips\": 25005.0, \"cases\": 6165, \"deaths\": 338}, {\"date\": \"2020-05-20T00:00:00\", \"county\": \"Suffolk\", \"state\": \"Massachusetts\", \"fips\": 25025.0, \"cases\": 16962, \"deaths\": 807}, {\"date\": \"2020-05-21T00:00:00\", \"county\": \"Bristol\", \"state\": \"Massachusetts\", \"fips\": 25005.0, \"cases\": 6286, \"deaths\": 345}, {\"date\": \"2020-05-21T00:00:00\", \"county\": \"Suffolk\", \"state\": \"Massachusetts\", \"fips\": 25025.0, \"cases\": 17089, \"deaths\": 813}, {\"date\": \"2020-05-22T00:00:00\", \"county\": \"Bristol\", \"state\": \"Massachusetts\", \"fips\": 25005.0, \"cases\": 6362, \"deaths\": 353}, {\"date\": \"2020-05-22T00:00:00\", \"county\": \"Suffolk\", \"state\": \"Massachusetts\", \"fips\": 25025.0, \"cases\": 17180, \"deaths\": 818}, {\"date\": \"2020-05-23T00:00:00\", \"county\": \"Bristol\", \"state\": \"Massachusetts\", \"fips\": 25005.0, \"cases\": 6426, \"deaths\": 362}, {\"date\": \"2020-05-23T00:00:00\", \"county\": \"Suffolk\", \"state\": \"Massachusetts\", \"fips\": 25025.0, \"cases\": 17291, \"deaths\": 827}, {\"date\": \"2020-05-24T00:00:00\", \"county\": \"Bristol\", \"state\": \"Massachusetts\", \"fips\": 25005.0, \"cases\": 6596, \"deaths\": 369}, {\"date\": \"2020-05-24T00:00:00\", \"county\": \"Suffolk\", \"state\": \"Massachusetts\", \"fips\": 25025.0, \"cases\": 17417, \"deaths\": 838}, {\"date\": \"2020-05-25T00:00:00\", \"county\": \"Bristol\", \"state\": \"Massachusetts\", \"fips\": 25005.0, \"cases\": 6681, \"deaths\": 375}, {\"date\": \"2020-05-25T00:00:00\", \"county\": \"Suffolk\", \"state\": \"Massachusetts\", \"fips\": 25025.0, \"cases\": 17480, \"deaths\": 839}, {\"date\": \"2020-05-26T00:00:00\", \"county\": \"Bristol\", \"state\": \"Massachusetts\", \"fips\": 25005.0, \"cases\": 6733, \"deaths\": 382}, {\"date\": \"2020-05-26T00:00:00\", \"county\": \"Suffolk\", \"state\": \"Massachusetts\", \"fips\": 25025.0, \"cases\": 17533, \"deaths\": 844}, {\"date\": \"2020-05-27T00:00:00\", \"county\": \"Bristol\", \"state\": \"Massachusetts\", \"fips\": 25005.0, \"cases\": 6779, \"deaths\": 390}, {\"date\": \"2020-05-27T00:00:00\", \"county\": \"Suffolk\", \"state\": \"Massachusetts\", \"fips\": 25025.0, \"cases\": 17596, \"deaths\": 850}, {\"date\": \"2020-05-28T00:00:00\", \"county\": \"Bristol\", \"state\": \"Massachusetts\", \"fips\": 25005.0, \"cases\": 6852, \"deaths\": 399}, {\"date\": \"2020-05-28T00:00:00\", \"county\": \"Suffolk\", \"state\": \"Massachusetts\", \"fips\": 25025.0, \"cases\": 17698, \"deaths\": 852}, {\"date\": \"2020-05-29T00:00:00\", \"county\": \"Bristol\", \"state\": \"Massachusetts\", \"fips\": 25005.0, \"cases\": 6930, \"deaths\": 404}, {\"date\": \"2020-05-29T00:00:00\", \"county\": \"Suffolk\", \"state\": \"Massachusetts\", \"fips\": 25025.0, \"cases\": 17786, \"deaths\": 861}, {\"date\": \"2020-05-30T00:00:00\", \"county\": \"Bristol\", \"state\": \"Massachusetts\", \"fips\": 25005.0, \"cases\": 7089, \"deaths\": 410}, {\"date\": \"2020-05-30T00:00:00\", \"county\": \"Suffolk\", \"state\": \"Massachusetts\", \"fips\": 25025.0, \"cases\": 17873, \"deaths\": 868}, {\"date\": \"2020-05-31T00:00:00\", \"county\": \"Bristol\", \"state\": \"Massachusetts\", \"fips\": 25005.0, \"cases\": 7159, \"deaths\": 415}, {\"date\": \"2020-05-31T00:00:00\", \"county\": \"Suffolk\", \"state\": \"Massachusetts\", \"fips\": 25025.0, \"cases\": 17936, \"deaths\": 871}, {\"date\": \"2020-06-01T00:00:00\", \"county\": \"Bristol\", \"state\": \"Massachusetts\", \"fips\": 25005.0, \"cases\": 7348, \"deaths\": 429}, {\"date\": \"2020-06-01T00:00:00\", \"county\": \"Suffolk\", \"state\": \"Massachusetts\", \"fips\": 25025.0, \"cases\": 18581, \"deaths\": 896}, {\"date\": \"2020-06-02T00:00:00\", \"county\": \"Bristol\", \"state\": \"Massachusetts\", \"fips\": 25005.0, \"cases\": 7380, \"deaths\": 435}, {\"date\": \"2020-06-02T00:00:00\", \"county\": \"Suffolk\", \"state\": \"Massachusetts\", \"fips\": 25025.0, \"cases\": 18636, \"deaths\": 902}, {\"date\": \"2020-06-03T00:00:00\", \"county\": \"Bristol\", \"state\": \"Massachusetts\", \"fips\": 25005.0, \"cases\": 7453, \"deaths\": 441}, {\"date\": \"2020-06-03T00:00:00\", \"county\": \"Suffolk\", \"state\": \"Massachusetts\", \"fips\": 25025.0, \"cases\": 18733, \"deaths\": 908}, {\"date\": \"2020-06-04T00:00:00\", \"county\": \"Bristol\", \"state\": \"Massachusetts\", \"fips\": 25005.0, \"cases\": 7508, \"deaths\": 452}, {\"date\": \"2020-06-04T00:00:00\", \"county\": \"Suffolk\", \"state\": \"Massachusetts\", \"fips\": 25025.0, \"cases\": 18790, \"deaths\": 913}, {\"date\": \"2020-06-05T00:00:00\", \"county\": \"Bristol\", \"state\": \"Massachusetts\", \"fips\": 25005.0, \"cases\": 7573, \"deaths\": 455}, {\"date\": \"2020-06-05T00:00:00\", \"county\": \"Suffolk\", \"state\": \"Massachusetts\", \"fips\": 25025.0, \"cases\": 18858, \"deaths\": 922}, {\"date\": \"2020-06-06T00:00:00\", \"county\": \"Bristol\", \"state\": \"Massachusetts\", \"fips\": 25005.0, \"cases\": 7635, \"deaths\": 467}, {\"date\": \"2020-06-06T00:00:00\", \"county\": \"Suffolk\", \"state\": \"Massachusetts\", \"fips\": 25025.0, \"cases\": 18955, \"deaths\": 923}, {\"date\": \"2020-06-07T00:00:00\", \"county\": \"Bristol\", \"state\": \"Massachusetts\", \"fips\": 25005.0, \"cases\": 7683, \"deaths\": 469}, {\"date\": \"2020-06-07T00:00:00\", \"county\": \"Suffolk\", \"state\": \"Massachusetts\", \"fips\": 25025.0, \"cases\": 19001, \"deaths\": 924}, {\"date\": \"2020-06-08T00:00:00\", \"county\": \"Bristol\", \"state\": \"Massachusetts\", \"fips\": 25005.0, \"cases\": 7698, \"deaths\": 473}, {\"date\": \"2020-06-08T00:00:00\", \"county\": \"Suffolk\", \"state\": \"Massachusetts\", \"fips\": 25025.0, \"cases\": 19028, \"deaths\": 931}, {\"date\": \"2020-06-09T00:00:00\", \"county\": \"Bristol\", \"state\": \"Massachusetts\", \"fips\": 25005.0, \"cases\": 7728, \"deaths\": 481}, {\"date\": \"2020-06-09T00:00:00\", \"county\": \"Suffolk\", \"state\": \"Massachusetts\", \"fips\": 25025.0, \"cases\": 19067, \"deaths\": 935}, {\"date\": \"2020-06-10T00:00:00\", \"county\": \"Bristol\", \"state\": \"Massachusetts\", \"fips\": 25005.0, \"cases\": 7754, \"deaths\": 487}, {\"date\": \"2020-06-10T00:00:00\", \"county\": \"Suffolk\", \"state\": \"Massachusetts\", \"fips\": 25025.0, \"cases\": 19099, \"deaths\": 936}, {\"date\": \"2020-06-11T00:00:00\", \"county\": \"Bristol\", \"state\": \"Massachusetts\", \"fips\": 25005.0, \"cases\": 7793, \"deaths\": 492}, {\"date\": \"2020-06-11T00:00:00\", \"county\": \"Suffolk\", \"state\": \"Massachusetts\", \"fips\": 25025.0, \"cases\": 19195, \"deaths\": 938}, {\"date\": \"2020-06-12T00:00:00\", \"county\": \"Bristol\", \"state\": \"Massachusetts\", \"fips\": 25005.0, \"cases\": 7872, \"deaths\": 496}, {\"date\": \"2020-06-12T00:00:00\", \"county\": \"Suffolk\", \"state\": \"Massachusetts\", \"fips\": 25025.0, \"cases\": 19249, \"deaths\": 941}, {\"date\": \"2020-06-13T00:00:00\", \"county\": \"Bristol\", \"state\": \"Massachusetts\", \"fips\": 25005.0, \"cases\": 7906, \"deaths\": 507}, {\"date\": \"2020-06-13T00:00:00\", \"county\": \"Suffolk\", \"state\": \"Massachusetts\", \"fips\": 25025.0, \"cases\": 19299, \"deaths\": 943}, {\"date\": \"2020-06-14T00:00:00\", \"county\": \"Bristol\", \"state\": \"Massachusetts\", \"fips\": 25005.0, \"cases\": 7933, \"deaths\": 516}, {\"date\": \"2020-06-14T00:00:00\", \"county\": \"Suffolk\", \"state\": \"Massachusetts\", \"fips\": 25025.0, \"cases\": 19335, \"deaths\": 950}, {\"date\": \"2020-06-15T00:00:00\", \"county\": \"Bristol\", \"state\": \"Massachusetts\", \"fips\": 25005.0, \"cases\": 7925, \"deaths\": 518}, {\"date\": \"2020-06-15T00:00:00\", \"county\": \"Suffolk\", \"state\": \"Massachusetts\", \"fips\": 25025.0, \"cases\": 19334, \"deaths\": 951}, {\"date\": \"2020-06-16T00:00:00\", \"county\": \"Bristol\", \"state\": \"Massachusetts\", \"fips\": 25005.0, \"cases\": 7940, \"deaths\": 520}, {\"date\": \"2020-06-16T00:00:00\", \"county\": \"Suffolk\", \"state\": \"Massachusetts\", \"fips\": 25025.0, \"cases\": 19367, \"deaths\": 952}, {\"date\": \"2020-06-17T00:00:00\", \"county\": \"Bristol\", \"state\": \"Massachusetts\", \"fips\": 25005.0, \"cases\": 7956, \"deaths\": 528}, {\"date\": \"2020-06-17T00:00:00\", \"county\": \"Suffolk\", \"state\": \"Massachusetts\", \"fips\": 25025.0, \"cases\": 19434, \"deaths\": 959}, {\"date\": \"2020-06-18T00:00:00\", \"county\": \"Bristol\", \"state\": \"Massachusetts\", \"fips\": 25005.0, \"cases\": 7979, \"deaths\": 534}, {\"date\": \"2020-06-18T00:00:00\", \"county\": \"Suffolk\", \"state\": \"Massachusetts\", \"fips\": 25025.0, \"cases\": 19477, \"deaths\": 963}, {\"date\": \"2020-06-19T00:00:00\", \"county\": \"Bristol\", \"state\": \"Massachusetts\", \"fips\": 25005.0, \"cases\": 8002, \"deaths\": 537}, {\"date\": \"2020-06-19T00:00:00\", \"county\": \"Suffolk\", \"state\": \"Massachusetts\", \"fips\": 25025.0, \"cases\": 19493, \"deaths\": 971}, {\"date\": \"2020-06-20T00:00:00\", \"county\": \"Bristol\", \"state\": \"Massachusetts\", \"fips\": 25005.0, \"cases\": 8028, \"deaths\": 539}, {\"date\": \"2020-06-20T00:00:00\", \"county\": \"Suffolk\", \"state\": \"Massachusetts\", \"fips\": 25025.0, \"cases\": 19528, \"deaths\": 973}, {\"date\": \"2020-06-21T00:00:00\", \"county\": \"Bristol\", \"state\": \"Massachusetts\", \"fips\": 25005.0, \"cases\": 8035, \"deaths\": 542}, {\"date\": \"2020-06-21T00:00:00\", \"county\": \"Suffolk\", \"state\": \"Massachusetts\", \"fips\": 25025.0, \"cases\": 19551, \"deaths\": 978}, {\"date\": \"2020-06-22T00:00:00\", \"county\": \"Bristol\", \"state\": \"Massachusetts\", \"fips\": 25005.0, \"cases\": 8057, \"deaths\": 546}, {\"date\": \"2020-06-22T00:00:00\", \"county\": \"Suffolk\", \"state\": \"Massachusetts\", \"fips\": 25025.0, \"cases\": 19567, \"deaths\": 979}, {\"date\": \"2020-06-23T00:00:00\", \"county\": \"Bristol\", \"state\": \"Massachusetts\", \"fips\": 25005.0, \"cases\": 8081, \"deaths\": 548}, {\"date\": \"2020-06-23T00:00:00\", \"county\": \"Suffolk\", \"state\": \"Massachusetts\", \"fips\": 25025.0, \"cases\": 19601, \"deaths\": 976}, {\"date\": \"2020-06-24T00:00:00\", \"county\": \"Bristol\", \"state\": \"Massachusetts\", \"fips\": 25005.0, \"cases\": 8086, \"deaths\": 555}, {\"date\": \"2020-06-24T00:00:00\", \"county\": \"Suffolk\", \"state\": \"Massachusetts\", \"fips\": 25025.0, \"cases\": 19628, \"deaths\": 984}, {\"date\": \"2020-06-25T00:00:00\", \"county\": \"Bristol\", \"state\": \"Massachusetts\", \"fips\": 25005.0, \"cases\": 8107, \"deaths\": 558}, {\"date\": \"2020-06-25T00:00:00\", \"county\": \"Suffolk\", \"state\": \"Massachusetts\", \"fips\": 25025.0, \"cases\": 19664, \"deaths\": 990}, {\"date\": \"2020-06-26T00:00:00\", \"county\": \"Bristol\", \"state\": \"Massachusetts\", \"fips\": 25005.0, \"cases\": 8142, \"deaths\": 565}, {\"date\": \"2020-06-26T00:00:00\", \"county\": \"Suffolk\", \"state\": \"Massachusetts\", \"fips\": 25025.0, \"cases\": 19707, \"deaths\": 997}, {\"date\": \"2020-06-27T00:00:00\", \"county\": \"Bristol\", \"state\": \"Massachusetts\", \"fips\": 25005.0, \"cases\": 8176, \"deaths\": 567}, {\"date\": \"2020-06-27T00:00:00\", \"county\": \"Suffolk\", \"state\": \"Massachusetts\", \"fips\": 25025.0, \"cases\": 19764, \"deaths\": 1004}, {\"date\": \"2020-06-28T00:00:00\", \"county\": \"Bristol\", \"state\": \"Massachusetts\", \"fips\": 25005.0, \"cases\": 8198, \"deaths\": 568}, {\"date\": \"2020-06-28T00:00:00\", \"county\": \"Suffolk\", \"state\": \"Massachusetts\", \"fips\": 25025.0, \"cases\": 19795, \"deaths\": 1004}, {\"date\": \"2020-06-29T00:00:00\", \"county\": \"Bristol\", \"state\": \"Massachusetts\", \"fips\": 25005.0, \"cases\": 8208, \"deaths\": 575}, {\"date\": \"2020-06-29T00:00:00\", \"county\": \"Suffolk\", \"state\": \"Massachusetts\", \"fips\": 25025.0, \"cases\": 19795, \"deaths\": 1007}, {\"date\": \"2020-06-30T00:00:00\", \"county\": \"Bristol\", \"state\": \"Massachusetts\", \"fips\": 25005.0, \"cases\": 8225, \"deaths\": 574}, {\"date\": \"2020-06-30T00:00:00\", \"county\": \"Suffolk\", \"state\": \"Massachusetts\", \"fips\": 25025.0, \"cases\": 19819, \"deaths\": 1002}, {\"date\": \"2020-07-01T00:00:00\", \"county\": \"Bristol\", \"state\": \"Massachusetts\", \"fips\": 25005.0, \"cases\": 8236, \"deaths\": 575}, {\"date\": \"2020-07-01T00:00:00\", \"county\": \"Suffolk\", \"state\": \"Massachusetts\", \"fips\": 25025.0, \"cases\": 19853, \"deaths\": 1004}, {\"date\": \"2020-07-02T00:00:00\", \"county\": \"Bristol\", \"state\": \"Massachusetts\", \"fips\": 25005.0, \"cases\": 8264, \"deaths\": 587}, {\"date\": \"2020-07-02T00:00:00\", \"county\": \"Suffolk\", \"state\": \"Massachusetts\", \"fips\": 25025.0, \"cases\": 19892, \"deaths\": 1008}, {\"date\": \"2020-07-03T00:00:00\", \"county\": \"Bristol\", \"state\": \"Massachusetts\", \"fips\": 25005.0, \"cases\": 8295, \"deaths\": 587}, {\"date\": \"2020-07-03T00:00:00\", \"county\": \"Suffolk\", \"state\": \"Massachusetts\", \"fips\": 25025.0, \"cases\": 19936, \"deaths\": 1009}, {\"date\": \"2020-07-04T00:00:00\", \"county\": \"Bristol\", \"state\": \"Massachusetts\", \"fips\": 25005.0, \"cases\": 8311, \"deaths\": 590}, {\"date\": \"2020-07-04T00:00:00\", \"county\": \"Suffolk\", \"state\": \"Massachusetts\", \"fips\": 25025.0, \"cases\": 19972, \"deaths\": 1008}, {\"date\": \"2020-07-05T00:00:00\", \"county\": \"Bristol\", \"state\": \"Massachusetts\", \"fips\": 25005.0, \"cases\": 8321, \"deaths\": 590}, {\"date\": \"2020-07-05T00:00:00\", \"county\": \"Suffolk\", \"state\": \"Massachusetts\", \"fips\": 25025.0, \"cases\": 19985, \"deaths\": 1007}, {\"date\": \"2020-07-06T00:00:00\", \"county\": \"Bristol\", \"state\": \"Massachusetts\", \"fips\": 25005.0, \"cases\": 8331, \"deaths\": 592}, {\"date\": \"2020-07-06T00:00:00\", \"county\": \"Suffolk\", \"state\": \"Massachusetts\", \"fips\": 25025.0, \"cases\": 20014, \"deaths\": 1008}, {\"date\": \"2020-07-07T00:00:00\", \"county\": \"Bristol\", \"state\": \"Massachusetts\", \"fips\": 25005.0, \"cases\": 8348, \"deaths\": 592}, {\"date\": \"2020-07-07T00:00:00\", \"county\": \"Suffolk\", \"state\": \"Massachusetts\", \"fips\": 25025.0, \"cases\": 20048, \"deaths\": 1008}, {\"date\": \"2020-07-08T00:00:00\", \"county\": \"Bristol\", \"state\": \"Massachusetts\", \"fips\": 25005.0, \"cases\": 8365, \"deaths\": 592}, {\"date\": \"2020-07-08T00:00:00\", \"county\": \"Suffolk\", \"state\": \"Massachusetts\", \"fips\": 25025.0, \"cases\": 20120, \"deaths\": 1012}, {\"date\": \"2020-07-09T00:00:00\", \"county\": \"Bristol\", \"state\": \"Massachusetts\", \"fips\": 25005.0, \"cases\": 8399, \"deaths\": 594}, {\"date\": \"2020-07-09T00:00:00\", \"county\": \"Suffolk\", \"state\": \"Massachusetts\", \"fips\": 25025.0, \"cases\": 20172, \"deaths\": 1013}, {\"date\": \"2020-07-10T00:00:00\", \"county\": \"Bristol\", \"state\": \"Massachusetts\", \"fips\": 25005.0, \"cases\": 8426, \"deaths\": 596}, {\"date\": \"2020-07-10T00:00:00\", \"county\": \"Suffolk\", \"state\": \"Massachusetts\", \"fips\": 25025.0, \"cases\": 20228, \"deaths\": 1016}, {\"date\": \"2020-07-11T00:00:00\", \"county\": \"Bristol\", \"state\": \"Massachusetts\", \"fips\": 25005.0, \"cases\": 8442, \"deaths\": 598}, {\"date\": \"2020-07-11T00:00:00\", \"county\": \"Suffolk\", \"state\": \"Massachusetts\", \"fips\": 25025.0, \"cases\": 20272, \"deaths\": 1018}, {\"date\": \"2020-07-12T00:00:00\", \"county\": \"Bristol\", \"state\": \"Massachusetts\", \"fips\": 25005.0, \"cases\": 8460, \"deaths\": 601}, {\"date\": \"2020-07-12T00:00:00\", \"county\": \"Suffolk\", \"state\": \"Massachusetts\", \"fips\": 25025.0, \"cases\": 20301, \"deaths\": 1020}, {\"date\": \"2020-07-13T00:00:00\", \"county\": \"Bristol\", \"state\": \"Massachusetts\", \"fips\": 25005.0, \"cases\": 8491, \"deaths\": 601}, {\"date\": \"2020-07-13T00:00:00\", \"county\": \"Suffolk\", \"state\": \"Massachusetts\", \"fips\": 25025.0, \"cases\": 20342, \"deaths\": 1020}, {\"date\": \"2020-07-14T00:00:00\", \"county\": \"Bristol\", \"state\": \"Massachusetts\", \"fips\": 25005.0, \"cases\": 8527, \"deaths\": 601}, {\"date\": \"2020-07-14T00:00:00\", \"county\": \"Suffolk\", \"state\": \"Massachusetts\", \"fips\": 25025.0, \"cases\": 20386, \"deaths\": 1022}, {\"date\": \"2020-07-15T00:00:00\", \"county\": \"Bristol\", \"state\": \"Massachusetts\", \"fips\": 25005.0, \"cases\": 8558, \"deaths\": 603}, {\"date\": \"2020-07-15T00:00:00\", \"county\": \"Suffolk\", \"state\": \"Massachusetts\", \"fips\": 25025.0, \"cases\": 20411, \"deaths\": 1024}, {\"date\": \"2020-07-16T00:00:00\", \"county\": \"Bristol\", \"state\": \"Massachusetts\", \"fips\": 25005.0, \"cases\": 8593, \"deaths\": 603}, {\"date\": \"2020-07-16T00:00:00\", \"county\": \"Suffolk\", \"state\": \"Massachusetts\", \"fips\": 25025.0, \"cases\": 20445, \"deaths\": 1027}, {\"date\": \"2020-07-17T00:00:00\", \"county\": \"Bristol\", \"state\": \"Massachusetts\", \"fips\": 25005.0, \"cases\": 8637, \"deaths\": 607}, {\"date\": \"2020-07-17T00:00:00\", \"county\": \"Suffolk\", \"state\": \"Massachusetts\", \"fips\": 25025.0, \"cases\": 20499, \"deaths\": 1030}, {\"date\": \"2020-07-18T00:00:00\", \"county\": \"Bristol\", \"state\": \"Massachusetts\", \"fips\": 25005.0, \"cases\": 8653, \"deaths\": 608}, {\"date\": \"2020-07-18T00:00:00\", \"county\": \"Suffolk\", \"state\": \"Massachusetts\", \"fips\": 25025.0, \"cases\": 20555, \"deaths\": 1035}, {\"date\": \"2020-07-19T00:00:00\", \"county\": \"Bristol\", \"state\": \"Massachusetts\", \"fips\": 25005.0, \"cases\": 8681, \"deaths\": 609}, {\"date\": \"2020-07-19T00:00:00\", \"county\": \"Suffolk\", \"state\": \"Massachusetts\", \"fips\": 25025.0, \"cases\": 20601, \"deaths\": 1035}, {\"date\": \"2020-07-20T00:00:00\", \"county\": \"Bristol\", \"state\": \"Massachusetts\", \"fips\": 25005.0, \"cases\": 8719, \"deaths\": 610}, {\"date\": \"2020-07-20T00:00:00\", \"county\": \"Suffolk\", \"state\": \"Massachusetts\", \"fips\": 25025.0, \"cases\": 20621, \"deaths\": 1035}, {\"date\": \"2020-07-21T00:00:00\", \"county\": \"Bristol\", \"state\": \"Massachusetts\", \"fips\": 25005.0, \"cases\": 8745, \"deaths\": 613}, {\"date\": \"2020-07-21T00:00:00\", \"county\": \"Suffolk\", \"state\": \"Massachusetts\", \"fips\": 25025.0, \"cases\": 20650, \"deaths\": 1039}, {\"date\": \"2020-07-22T00:00:00\", \"county\": \"Bristol\", \"state\": \"Massachusetts\", \"fips\": 25005.0, \"cases\": 8761, \"deaths\": 615}, {\"date\": \"2020-07-22T00:00:00\", \"county\": \"Suffolk\", \"state\": \"Massachusetts\", \"fips\": 25025.0, \"cases\": 20678, \"deaths\": 1039}, {\"date\": \"2020-07-23T00:00:00\", \"county\": \"Bristol\", \"state\": \"Massachusetts\", \"fips\": 25005.0, \"cases\": 8788, \"deaths\": 615}, {\"date\": \"2020-07-23T00:00:00\", \"county\": \"Suffolk\", \"state\": \"Massachusetts\", \"fips\": 25025.0, \"cases\": 20732, \"deaths\": 1042}, {\"date\": \"2020-07-24T00:00:00\", \"county\": \"Bristol\", \"state\": \"Massachusetts\", \"fips\": 25005.0, \"cases\": 8816, \"deaths\": 616}, {\"date\": \"2020-07-24T00:00:00\", \"county\": \"Suffolk\", \"state\": \"Massachusetts\", \"fips\": 25025.0, \"cases\": 20793, \"deaths\": 1044}, {\"date\": \"2020-07-25T00:00:00\", \"county\": \"Bristol\", \"state\": \"Massachusetts\", \"fips\": 25005.0, \"cases\": 8843, \"deaths\": 616}, {\"date\": \"2020-07-25T00:00:00\", \"county\": \"Suffolk\", \"state\": \"Massachusetts\", \"fips\": 25025.0, \"cases\": 20827, \"deaths\": 1046}, {\"date\": \"2020-07-26T00:00:00\", \"county\": \"Bristol\", \"state\": \"Massachusetts\", \"fips\": 25005.0, \"cases\": 8882, \"deaths\": 617}, {\"date\": \"2020-07-26T00:00:00\", \"county\": \"Suffolk\", \"state\": \"Massachusetts\", \"fips\": 25025.0, \"cases\": 20896, \"deaths\": 1048}, {\"date\": \"2020-07-27T00:00:00\", \"county\": \"Bristol\", \"state\": \"Massachusetts\", \"fips\": 25005.0, \"cases\": 8907, \"deaths\": 617}, {\"date\": \"2020-07-27T00:00:00\", \"county\": \"Suffolk\", \"state\": \"Massachusetts\", \"fips\": 25025.0, \"cases\": 20914, \"deaths\": 1048}, {\"date\": \"2020-07-28T00:00:00\", \"county\": \"Bristol\", \"state\": \"Massachusetts\", \"fips\": 25005.0, \"cases\": 8932, \"deaths\": 621}, {\"date\": \"2020-07-28T00:00:00\", \"county\": \"Suffolk\", \"state\": \"Massachusetts\", \"fips\": 25025.0, \"cases\": 20960, \"deaths\": 1052}, {\"date\": \"2020-07-29T00:00:00\", \"county\": \"Bristol\", \"state\": \"Massachusetts\", \"fips\": 25005.0, \"cases\": 8987, \"deaths\": 622}, {\"date\": \"2020-07-29T00:00:00\", \"county\": \"Suffolk\", \"state\": \"Massachusetts\", \"fips\": 25025.0, \"cases\": 21030, \"deaths\": 1054}, {\"date\": \"2020-07-30T00:00:00\", \"county\": \"Bristol\", \"state\": \"Massachusetts\", \"fips\": 25005.0, \"cases\": 9029, \"deaths\": 623}, {\"date\": \"2020-07-30T00:00:00\", \"county\": \"Suffolk\", \"state\": \"Massachusetts\", \"fips\": 25025.0, \"cases\": 21113, \"deaths\": 1055}, {\"date\": \"2020-07-31T00:00:00\", \"county\": \"Bristol\", \"state\": \"Massachusetts\", \"fips\": 25005.0, \"cases\": 9073, \"deaths\": 623}, {\"date\": \"2020-07-31T00:00:00\", \"county\": \"Suffolk\", \"state\": \"Massachusetts\", \"fips\": 25025.0, \"cases\": 21222, \"deaths\": 1055}, {\"date\": \"2020-08-01T00:00:00\", \"county\": \"Bristol\", \"state\": \"Massachusetts\", \"fips\": 25005.0, \"cases\": 9088, \"deaths\": 623}, {\"date\": \"2020-08-01T00:00:00\", \"county\": \"Suffolk\", \"state\": \"Massachusetts\", \"fips\": 25025.0, \"cases\": 21279, \"deaths\": 1057}, {\"date\": \"2020-08-02T00:00:00\", \"county\": \"Bristol\", \"state\": \"Massachusetts\", \"fips\": 25005.0, \"cases\": 9124, \"deaths\": 625}, {\"date\": \"2020-08-02T00:00:00\", \"county\": \"Suffolk\", \"state\": \"Massachusetts\", \"fips\": 25025.0, \"cases\": 21355, \"deaths\": 1058}, {\"date\": \"2020-08-03T00:00:00\", \"county\": \"Bristol\", \"state\": \"Massachusetts\", \"fips\": 25005.0, \"cases\": 9153, \"deaths\": 626}, {\"date\": \"2020-08-03T00:00:00\", \"county\": \"Suffolk\", \"state\": \"Massachusetts\", \"fips\": 25025.0, \"cases\": 21378, \"deaths\": 1059}, {\"date\": \"2020-08-04T00:00:00\", \"county\": \"Bristol\", \"state\": \"Massachusetts\", \"fips\": 25005.0, \"cases\": 9224, \"deaths\": 626}, {\"date\": \"2020-08-04T00:00:00\", \"county\": \"Suffolk\", \"state\": \"Massachusetts\", \"fips\": 25025.0, \"cases\": 21481, \"deaths\": 1062}, {\"date\": \"2020-08-05T00:00:00\", \"county\": \"Bristol\", \"state\": \"Massachusetts\", \"fips\": 25005.0, \"cases\": 9255, \"deaths\": 626}, {\"date\": \"2020-08-05T00:00:00\", \"county\": \"Suffolk\", \"state\": \"Massachusetts\", \"fips\": 25025.0, \"cases\": 21579, \"deaths\": 1063}, {\"date\": \"2020-08-06T00:00:00\", \"county\": \"Bristol\", \"state\": \"Massachusetts\", \"fips\": 25005.0, \"cases\": 9272, \"deaths\": 629}, {\"date\": \"2020-08-06T00:00:00\", \"county\": \"Suffolk\", \"state\": \"Massachusetts\", \"fips\": 25025.0, \"cases\": 21631, \"deaths\": 1066}, {\"date\": \"2020-08-07T00:00:00\", \"county\": \"Bristol\", \"state\": \"Massachusetts\", \"fips\": 25005.0, \"cases\": 9295, \"deaths\": 632}, {\"date\": \"2020-08-07T00:00:00\", \"county\": \"Suffolk\", \"state\": \"Massachusetts\", \"fips\": 25025.0, \"cases\": 21717, \"deaths\": 1071}, {\"date\": \"2020-08-08T00:00:00\", \"county\": \"Bristol\", \"state\": \"Massachusetts\", \"fips\": 25005.0, \"cases\": 9324, \"deaths\": 632}, {\"date\": \"2020-08-08T00:00:00\", \"county\": \"Suffolk\", \"state\": \"Massachusetts\", \"fips\": 25025.0, \"cases\": 21778, \"deaths\": 1073}, {\"date\": \"2020-08-09T00:00:00\", \"county\": \"Bristol\", \"state\": \"Massachusetts\", \"fips\": 25005.0, \"cases\": 9355, \"deaths\": 634}, {\"date\": \"2020-08-09T00:00:00\", \"county\": \"Suffolk\", \"state\": \"Massachusetts\", \"fips\": 25025.0, \"cases\": 21849, \"deaths\": 1074}, {\"date\": \"2020-08-10T00:00:00\", \"county\": \"Bristol\", \"state\": \"Massachusetts\", \"fips\": 25005.0, \"cases\": 9371, \"deaths\": 635}, {\"date\": \"2020-08-10T00:00:00\", \"county\": \"Suffolk\", \"state\": \"Massachusetts\", \"fips\": 25025.0, \"cases\": 21929, \"deaths\": 1074}, {\"date\": \"2020-08-11T00:00:00\", \"county\": \"Bristol\", \"state\": \"Massachusetts\", \"fips\": 25005.0, \"cases\": 9408, \"deaths\": 637}, {\"date\": \"2020-08-11T00:00:00\", \"county\": \"Suffolk\", \"state\": \"Massachusetts\", \"fips\": 25025.0, \"cases\": 22017, \"deaths\": 1076}, {\"date\": \"2020-08-12T00:00:00\", \"county\": \"Bristol\", \"state\": \"Massachusetts\", \"fips\": 25005.0, \"cases\": 9408, \"deaths\": 637}, {\"date\": \"2020-08-12T00:00:00\", \"county\": \"Suffolk\", \"state\": \"Massachusetts\", \"fips\": 25025.0, \"cases\": 22017, \"deaths\": 1076}, {\"date\": \"2020-08-13T00:00:00\", \"county\": \"Bristol\", \"state\": \"Massachusetts\", \"fips\": 25005.0, \"cases\": 9408, \"deaths\": 637}, {\"date\": \"2020-08-13T00:00:00\", \"county\": \"Suffolk\", \"state\": \"Massachusetts\", \"fips\": 25025.0, \"cases\": 22017, \"deaths\": 1076}, {\"date\": \"2020-08-14T00:00:00\", \"county\": \"Bristol\", \"state\": \"Massachusetts\", \"fips\": 25005.0, \"cases\": 9408, \"deaths\": 637}, {\"date\": \"2020-08-14T00:00:00\", \"county\": \"Suffolk\", \"state\": \"Massachusetts\", \"fips\": 25025.0, \"cases\": 22017, \"deaths\": 1076}, {\"date\": \"2020-08-15T00:00:00\", \"county\": \"Bristol\", \"state\": \"Massachusetts\", \"fips\": 25005.0, \"cases\": 9408, \"deaths\": 637}, {\"date\": \"2020-08-15T00:00:00\", \"county\": \"Suffolk\", \"state\": \"Massachusetts\", \"fips\": 25025.0, \"cases\": 22017, \"deaths\": 1076}, {\"date\": \"2020-08-16T00:00:00\", \"county\": \"Bristol\", \"state\": \"Massachusetts\", \"fips\": 25005.0, \"cases\": 9408, \"deaths\": 637}, {\"date\": \"2020-08-16T00:00:00\", \"county\": \"Suffolk\", \"state\": \"Massachusetts\", \"fips\": 25025.0, \"cases\": 22017, \"deaths\": 1076}, {\"date\": \"2020-08-17T00:00:00\", \"county\": \"Bristol\", \"state\": \"Massachusetts\", \"fips\": 25005.0, \"cases\": 9408, \"deaths\": 637}, {\"date\": \"2020-08-17T00:00:00\", \"county\": \"Suffolk\", \"state\": \"Massachusetts\", \"fips\": 25025.0, \"cases\": 22017, \"deaths\": 1076}, {\"date\": \"2020-08-18T00:00:00\", \"county\": \"Bristol\", \"state\": \"Massachusetts\", \"fips\": 25005.0, \"cases\": 9408, \"deaths\": 637}, {\"date\": \"2020-08-18T00:00:00\", \"county\": \"Suffolk\", \"state\": \"Massachusetts\", \"fips\": 25025.0, \"cases\": 22017, \"deaths\": 1076}, {\"date\": \"2020-08-19T00:00:00\", \"county\": \"Bristol\", \"state\": \"Massachusetts\", \"fips\": 25005.0, \"cases\": 9513, \"deaths\": 644}, {\"date\": \"2020-08-19T00:00:00\", \"county\": \"Suffolk\", \"state\": \"Massachusetts\", \"fips\": 25025.0, \"cases\": 22511, \"deaths\": 1090}, {\"date\": \"2020-08-20T00:00:00\", \"county\": \"Bristol\", \"state\": \"Massachusetts\", \"fips\": 25005.0, \"cases\": 9528, \"deaths\": 645}, {\"date\": \"2020-08-20T00:00:00\", \"county\": \"Suffolk\", \"state\": \"Massachusetts\", \"fips\": 25025.0, \"cases\": 22577, \"deaths\": 1091}, {\"date\": \"2020-08-21T00:00:00\", \"county\": \"Bristol\", \"state\": \"Massachusetts\", \"fips\": 25005.0, \"cases\": 9564, \"deaths\": 649}, {\"date\": \"2020-08-21T00:00:00\", \"county\": \"Suffolk\", \"state\": \"Massachusetts\", \"fips\": 25025.0, \"cases\": 22694, \"deaths\": 1092}, {\"date\": \"2020-08-22T00:00:00\", \"county\": \"Bristol\", \"state\": \"Massachusetts\", \"fips\": 25005.0, \"cases\": 9568, \"deaths\": 650}, {\"date\": \"2020-08-22T00:00:00\", \"county\": \"Suffolk\", \"state\": \"Massachusetts\", \"fips\": 25025.0, \"cases\": 22706, \"deaths\": 1093}, {\"date\": \"2020-08-23T00:00:00\", \"county\": \"Bristol\", \"state\": \"Massachusetts\", \"fips\": 25005.0, \"cases\": 9568, \"deaths\": 650}, {\"date\": \"2020-08-23T00:00:00\", \"county\": \"Suffolk\", \"state\": \"Massachusetts\", \"fips\": 25025.0, \"cases\": 22706, \"deaths\": 1093}, {\"date\": \"2020-08-24T00:00:00\", \"county\": \"Bristol\", \"state\": \"Massachusetts\", \"fips\": 25005.0, \"cases\": 9603, \"deaths\": 650}, {\"date\": \"2020-08-24T00:00:00\", \"county\": \"Suffolk\", \"state\": \"Massachusetts\", \"fips\": 25025.0, \"cases\": 22904, \"deaths\": 1095}, {\"date\": \"2020-08-25T00:00:00\", \"county\": \"Bristol\", \"state\": \"Massachusetts\", \"fips\": 25005.0, \"cases\": 9621, \"deaths\": 652}, {\"date\": \"2020-08-25T00:00:00\", \"county\": \"Suffolk\", \"state\": \"Massachusetts\", \"fips\": 25025.0, \"cases\": 22973, \"deaths\": 1097}, {\"date\": \"2020-08-26T00:00:00\", \"county\": \"Bristol\", \"state\": \"Massachusetts\", \"fips\": 25005.0, \"cases\": 9642, \"deaths\": 653}, {\"date\": \"2020-08-26T00:00:00\", \"county\": \"Suffolk\", \"state\": \"Massachusetts\", \"fips\": 25025.0, \"cases\": 23064, \"deaths\": 1101}, {\"date\": \"2020-08-27T00:00:00\", \"county\": \"Bristol\", \"state\": \"Massachusetts\", \"fips\": 25005.0, \"cases\": 9671, \"deaths\": 655}, {\"date\": \"2020-08-27T00:00:00\", \"county\": \"Suffolk\", \"state\": \"Massachusetts\", \"fips\": 25025.0, \"cases\": 23154, \"deaths\": 1105}, {\"date\": \"2020-08-28T00:00:00\", \"county\": \"Bristol\", \"state\": \"Massachusetts\", \"fips\": 25005.0, \"cases\": 9699, \"deaths\": 657}, {\"date\": \"2020-08-28T00:00:00\", \"county\": \"Suffolk\", \"state\": \"Massachusetts\", \"fips\": 25025.0, \"cases\": 23261, \"deaths\": 1106}, {\"date\": \"2020-08-29T00:00:00\", \"county\": \"Bristol\", \"state\": \"Massachusetts\", \"fips\": 25005.0, \"cases\": 9744, \"deaths\": 657}, {\"date\": \"2020-08-29T00:00:00\", \"county\": \"Suffolk\", \"state\": \"Massachusetts\", \"fips\": 25025.0, \"cases\": 23350, \"deaths\": 1107}, {\"date\": \"2020-08-30T00:00:00\", \"county\": \"Bristol\", \"state\": \"Massachusetts\", \"fips\": 25005.0, \"cases\": 9757, \"deaths\": 659}, {\"date\": \"2020-08-30T00:00:00\", \"county\": \"Suffolk\", \"state\": \"Massachusetts\", \"fips\": 25025.0, \"cases\": 23403, \"deaths\": 1107}, {\"date\": \"2020-08-31T00:00:00\", \"county\": \"Bristol\", \"state\": \"Massachusetts\", \"fips\": 25005.0, \"cases\": 9790, \"deaths\": 659}, {\"date\": \"2020-08-31T00:00:00\", \"county\": \"Suffolk\", \"state\": \"Massachusetts\", \"fips\": 25025.0, \"cases\": 23472, \"deaths\": 1109}, {\"date\": \"2020-09-01T00:00:00\", \"county\": \"Bristol\", \"state\": \"Massachusetts\", \"fips\": 25005.0, \"cases\": 9824, \"deaths\": 659}, {\"date\": \"2020-09-01T00:00:00\", \"county\": \"Suffolk\", \"state\": \"Massachusetts\", \"fips\": 25025.0, \"cases\": 23552, \"deaths\": 1110}, {\"date\": \"2020-09-02T00:00:00\", \"county\": \"Bristol\", \"state\": \"Massachusetts\", \"fips\": 25005.0, \"cases\": 9211, \"deaths\": 655}, {\"date\": \"2020-09-02T00:00:00\", \"county\": \"Suffolk\", \"state\": \"Massachusetts\", \"fips\": 25025.0, \"cases\": 22508, \"deaths\": 1104}, {\"date\": \"2020-09-03T00:00:00\", \"county\": \"Bristol\", \"state\": \"Massachusetts\", \"fips\": 25005.0, \"cases\": 9252, \"deaths\": 659}, {\"date\": \"2020-09-03T00:00:00\", \"county\": \"Suffolk\", \"state\": \"Massachusetts\", \"fips\": 25025.0, \"cases\": 22593, \"deaths\": 1106}, {\"date\": \"2020-09-04T00:00:00\", \"county\": \"Bristol\", \"state\": \"Massachusetts\", \"fips\": 25005.0, \"cases\": 9296, \"deaths\": 661}, {\"date\": \"2020-09-04T00:00:00\", \"county\": \"Suffolk\", \"state\": \"Massachusetts\", \"fips\": 25025.0, \"cases\": 22529, \"deaths\": 1107}, {\"date\": \"2020-09-05T00:00:00\", \"county\": \"Bristol\", \"state\": \"Massachusetts\", \"fips\": 25005.0, \"cases\": 9340, \"deaths\": 662}, {\"date\": \"2020-09-05T00:00:00\", \"county\": \"Suffolk\", \"state\": \"Massachusetts\", \"fips\": 25025.0, \"cases\": 22623, \"deaths\": 1110}, {\"date\": \"2020-09-06T00:00:00\", \"county\": \"Bristol\", \"state\": \"Massachusetts\", \"fips\": 25005.0, \"cases\": 9365, \"deaths\": 664}, {\"date\": \"2020-09-06T00:00:00\", \"county\": \"Suffolk\", \"state\": \"Massachusetts\", \"fips\": 25025.0, \"cases\": 22697, \"deaths\": 1110}, {\"date\": \"2020-09-07T00:00:00\", \"county\": \"Bristol\", \"state\": \"Massachusetts\", \"fips\": 25005.0, \"cases\": 9393, \"deaths\": 667}, {\"date\": \"2020-09-07T00:00:00\", \"county\": \"Suffolk\", \"state\": \"Massachusetts\", \"fips\": 25025.0, \"cases\": 22756, \"deaths\": 1111}, {\"date\": \"2020-09-08T00:00:00\", \"county\": \"Bristol\", \"state\": \"Massachusetts\", \"fips\": 25005.0, \"cases\": 9409, \"deaths\": 668}, {\"date\": \"2020-09-08T00:00:00\", \"county\": \"Suffolk\", \"state\": \"Massachusetts\", \"fips\": 25025.0, \"cases\": 22788, \"deaths\": 1111}, {\"date\": \"2020-09-09T00:00:00\", \"county\": \"Bristol\", \"state\": \"Massachusetts\", \"fips\": 25005.0, \"cases\": 9418, \"deaths\": 668}, {\"date\": \"2020-09-09T00:00:00\", \"county\": \"Suffolk\", \"state\": \"Massachusetts\", \"fips\": 25025.0, \"cases\": 22831, \"deaths\": 1111}, {\"date\": \"2020-09-10T00:00:00\", \"county\": \"Bristol\", \"state\": \"Massachusetts\", \"fips\": 25005.0, \"cases\": 9448, \"deaths\": 670}, {\"date\": \"2020-09-10T00:00:00\", \"county\": \"Suffolk\", \"state\": \"Massachusetts\", \"fips\": 25025.0, \"cases\": 22920, \"deaths\": 1113}]}}, {\"mode\": \"vega-lite\"});\n",
              "</script>"
            ]
          },
          "metadata": {
            "tags": []
          },
          "execution_count": 232
        }
      ]
    },
    {
      "cell_type": "code",
      "metadata": {
        "id": "II_DYpNko3Ls",
        "colab_type": "code",
        "colab": {
          "base_uri": "https://localhost:8080/",
          "height": 481
        },
        "outputId": "6227f847-c065-4534-dc3f-63b71348b664"
      },
      "source": [
        "alt.Chart(df_filtered).mark_line().encode(\n",
        "    x='date:O',\n",
        "    y='cases:Q',\n",
        "    color='county',\n",
        "    tooltip=['deaths']\n",
        ").transform_filter(\n",
        "    datum.date >'2020-04-06'\n",
        ").interactive()"
      ],
      "execution_count": 233,
      "outputs": [
        {
          "output_type": "execute_result",
          "data": {
            "text/plain": [
              "alt.Chart(...)"
            ],
            "text/html": [
              "\n",
              "<div id=\"altair-viz-97657d07a37c443f9651eccc3b53eee6\"></div>\n",
              "<script type=\"text/javascript\">\n",
              "  (function(spec, embedOpt){\n",
              "    let outputDiv = document.currentScript.previousElementSibling;\n",
              "    if (outputDiv.id !== \"altair-viz-97657d07a37c443f9651eccc3b53eee6\") {\n",
              "      outputDiv = document.getElementById(\"altair-viz-97657d07a37c443f9651eccc3b53eee6\");\n",
              "    }\n",
              "    const paths = {\n",
              "      \"vega\": \"https://cdn.jsdelivr.net/npm//vega@5?noext\",\n",
              "      \"vega-lib\": \"https://cdn.jsdelivr.net/npm//vega-lib?noext\",\n",
              "      \"vega-lite\": \"https://cdn.jsdelivr.net/npm//vega-lite@4.8.1?noext\",\n",
              "      \"vega-embed\": \"https://cdn.jsdelivr.net/npm//vega-embed@6?noext\",\n",
              "    };\n",
              "\n",
              "    function loadScript(lib) {\n",
              "      return new Promise(function(resolve, reject) {\n",
              "        var s = document.createElement('script');\n",
              "        s.src = paths[lib];\n",
              "        s.async = true;\n",
              "        s.onload = () => resolve(paths[lib]);\n",
              "        s.onerror = () => reject(`Error loading script: ${paths[lib]}`);\n",
              "        document.getElementsByTagName(\"head\")[0].appendChild(s);\n",
              "      });\n",
              "    }\n",
              "\n",
              "    function showError(err) {\n",
              "      outputDiv.innerHTML = `<div class=\"error\" style=\"color:red;\">${err}</div>`;\n",
              "      throw err;\n",
              "    }\n",
              "\n",
              "    function displayChart(vegaEmbed) {\n",
              "      vegaEmbed(outputDiv, spec, embedOpt)\n",
              "        .catch(err => showError(`Javascript Error: ${err.message}<br>This usually means there's a typo in your chart specification. See the javascript console for the full traceback.`));\n",
              "    }\n",
              "\n",
              "    if(typeof define === \"function\" && define.amd) {\n",
              "      requirejs.config({paths});\n",
              "      require([\"vega-embed\"], displayChart, err => showError(`Error loading script: ${err.message}`));\n",
              "    } else if (typeof vegaEmbed === \"function\") {\n",
              "      displayChart(vegaEmbed);\n",
              "    } else {\n",
              "      loadScript(\"vega\")\n",
              "        .then(() => loadScript(\"vega-lite\"))\n",
              "        .then(() => loadScript(\"vega-embed\"))\n",
              "        .catch(showError)\n",
              "        .then(() => displayChart(vegaEmbed));\n",
              "    }\n",
              "  })({\"config\": {\"view\": {\"continuousWidth\": 400, \"continuousHeight\": 300}}, \"data\": {\"name\": \"data-76c5b8a05186b494bd136f78a16ae898\"}, \"mark\": \"line\", \"encoding\": {\"color\": {\"type\": \"nominal\", \"field\": \"county\"}, \"tooltip\": [{\"type\": \"quantitative\", \"field\": \"deaths\"}], \"x\": {\"type\": \"ordinal\", \"field\": \"date\"}, \"y\": {\"type\": \"quantitative\", \"field\": \"cases\"}}, \"selection\": {\"selector008\": {\"type\": \"interval\", \"bind\": \"scales\", \"encodings\": [\"x\", \"y\"]}}, \"transform\": [{\"filter\": \"(datum.date > '2020-04-06')\"}], \"$schema\": \"https://vega.github.io/schema/vega-lite/v4.8.1.json\", \"datasets\": {\"data-76c5b8a05186b494bd136f78a16ae898\": [{\"date\": \"2020-02-01T00:00:00\", \"county\": \"Suffolk\", \"state\": \"Massachusetts\", \"fips\": 25025.0, \"cases\": 1, \"deaths\": 0}, {\"date\": \"2020-02-02T00:00:00\", \"county\": \"Suffolk\", \"state\": \"Massachusetts\", \"fips\": 25025.0, \"cases\": 1, \"deaths\": 0}, {\"date\": \"2020-02-03T00:00:00\", \"county\": \"Suffolk\", \"state\": \"Massachusetts\", \"fips\": 25025.0, \"cases\": 1, \"deaths\": 0}, {\"date\": \"2020-02-04T00:00:00\", \"county\": \"Suffolk\", \"state\": \"Massachusetts\", \"fips\": 25025.0, \"cases\": 1, \"deaths\": 0}, {\"date\": \"2020-02-05T00:00:00\", \"county\": \"Suffolk\", \"state\": \"Massachusetts\", \"fips\": 25025.0, \"cases\": 1, \"deaths\": 0}, {\"date\": \"2020-02-06T00:00:00\", \"county\": \"Suffolk\", \"state\": \"Massachusetts\", \"fips\": 25025.0, \"cases\": 1, \"deaths\": 0}, {\"date\": \"2020-02-07T00:00:00\", \"county\": \"Suffolk\", \"state\": \"Massachusetts\", \"fips\": 25025.0, \"cases\": 1, \"deaths\": 0}, {\"date\": \"2020-02-08T00:00:00\", \"county\": \"Suffolk\", \"state\": \"Massachusetts\", \"fips\": 25025.0, \"cases\": 1, \"deaths\": 0}, {\"date\": \"2020-02-09T00:00:00\", \"county\": \"Suffolk\", \"state\": \"Massachusetts\", \"fips\": 25025.0, \"cases\": 1, \"deaths\": 0}, {\"date\": \"2020-02-10T00:00:00\", \"county\": \"Suffolk\", \"state\": \"Massachusetts\", \"fips\": 25025.0, \"cases\": 1, \"deaths\": 0}, {\"date\": \"2020-02-11T00:00:00\", \"county\": \"Suffolk\", \"state\": \"Massachusetts\", \"fips\": 25025.0, \"cases\": 1, \"deaths\": 0}, {\"date\": \"2020-02-12T00:00:00\", \"county\": \"Suffolk\", \"state\": \"Massachusetts\", \"fips\": 25025.0, \"cases\": 1, \"deaths\": 0}, {\"date\": \"2020-02-13T00:00:00\", \"county\": \"Suffolk\", \"state\": \"Massachusetts\", \"fips\": 25025.0, \"cases\": 1, \"deaths\": 0}, {\"date\": \"2020-02-14T00:00:00\", \"county\": \"Suffolk\", \"state\": \"Massachusetts\", \"fips\": 25025.0, \"cases\": 1, \"deaths\": 0}, {\"date\": \"2020-02-15T00:00:00\", \"county\": \"Suffolk\", \"state\": \"Massachusetts\", \"fips\": 25025.0, \"cases\": 1, \"deaths\": 0}, {\"date\": \"2020-02-16T00:00:00\", \"county\": \"Suffolk\", \"state\": \"Massachusetts\", \"fips\": 25025.0, \"cases\": 1, \"deaths\": 0}, {\"date\": \"2020-02-17T00:00:00\", \"county\": \"Suffolk\", \"state\": \"Massachusetts\", \"fips\": 25025.0, \"cases\": 1, \"deaths\": 0}, {\"date\": \"2020-02-18T00:00:00\", \"county\": \"Suffolk\", \"state\": \"Massachusetts\", \"fips\": 25025.0, \"cases\": 1, \"deaths\": 0}, {\"date\": \"2020-02-19T00:00:00\", \"county\": \"Suffolk\", \"state\": \"Massachusetts\", \"fips\": 25025.0, \"cases\": 1, \"deaths\": 0}, {\"date\": \"2020-02-20T00:00:00\", \"county\": \"Suffolk\", \"state\": \"Massachusetts\", \"fips\": 25025.0, \"cases\": 1, \"deaths\": 0}, {\"date\": \"2020-02-21T00:00:00\", \"county\": \"Suffolk\", \"state\": \"Massachusetts\", \"fips\": 25025.0, \"cases\": 1, \"deaths\": 0}, {\"date\": \"2020-02-22T00:00:00\", \"county\": \"Suffolk\", \"state\": \"Massachusetts\", \"fips\": 25025.0, \"cases\": 1, \"deaths\": 0}, {\"date\": \"2020-02-23T00:00:00\", \"county\": \"Suffolk\", \"state\": \"Massachusetts\", \"fips\": 25025.0, \"cases\": 1, \"deaths\": 0}, {\"date\": \"2020-02-24T00:00:00\", \"county\": \"Suffolk\", \"state\": \"Massachusetts\", \"fips\": 25025.0, \"cases\": 1, \"deaths\": 0}, {\"date\": \"2020-02-25T00:00:00\", \"county\": \"Suffolk\", \"state\": \"Massachusetts\", \"fips\": 25025.0, \"cases\": 1, \"deaths\": 0}, {\"date\": \"2020-02-26T00:00:00\", \"county\": \"Suffolk\", \"state\": \"Massachusetts\", \"fips\": 25025.0, \"cases\": 1, \"deaths\": 0}, {\"date\": \"2020-02-27T00:00:00\", \"county\": \"Suffolk\", \"state\": \"Massachusetts\", \"fips\": 25025.0, \"cases\": 1, \"deaths\": 0}, {\"date\": \"2020-02-28T00:00:00\", \"county\": \"Suffolk\", \"state\": \"Massachusetts\", \"fips\": 25025.0, \"cases\": 1, \"deaths\": 0}, {\"date\": \"2020-02-29T00:00:00\", \"county\": \"Suffolk\", \"state\": \"Massachusetts\", \"fips\": 25025.0, \"cases\": 1, \"deaths\": 0}, {\"date\": \"2020-03-01T00:00:00\", \"county\": \"Suffolk\", \"state\": \"Massachusetts\", \"fips\": 25025.0, \"cases\": 1, \"deaths\": 0}, {\"date\": \"2020-03-02T00:00:00\", \"county\": \"Suffolk\", \"state\": \"Massachusetts\", \"fips\": 25025.0, \"cases\": 1, \"deaths\": 0}, {\"date\": \"2020-03-03T00:00:00\", \"county\": \"Suffolk\", \"state\": \"Massachusetts\", \"fips\": 25025.0, \"cases\": 1, \"deaths\": 0}, {\"date\": \"2020-03-04T00:00:00\", \"county\": \"Suffolk\", \"state\": \"Massachusetts\", \"fips\": 25025.0, \"cases\": 1, \"deaths\": 0}, {\"date\": \"2020-03-05T00:00:00\", \"county\": \"Suffolk\", \"state\": \"Massachusetts\", \"fips\": 25025.0, \"cases\": 1, \"deaths\": 0}, {\"date\": \"2020-03-06T00:00:00\", \"county\": \"Suffolk\", \"state\": \"Massachusetts\", \"fips\": 25025.0, \"cases\": 4, \"deaths\": 0}, {\"date\": \"2020-03-07T00:00:00\", \"county\": \"Suffolk\", \"state\": \"Massachusetts\", \"fips\": 25025.0, \"cases\": 4, \"deaths\": 0}, {\"date\": \"2020-03-08T00:00:00\", \"county\": \"Suffolk\", \"state\": \"Massachusetts\", \"fips\": 25025.0, \"cases\": 9, \"deaths\": 0}, {\"date\": \"2020-03-09T00:00:00\", \"county\": \"Suffolk\", \"state\": \"Massachusetts\", \"fips\": 25025.0, \"cases\": 10, \"deaths\": 0}, {\"date\": \"2020-03-10T00:00:00\", \"county\": \"Suffolk\", \"state\": \"Massachusetts\", \"fips\": 25025.0, \"cases\": 20, \"deaths\": 0}, {\"date\": \"2020-03-11T00:00:00\", \"county\": \"Suffolk\", \"state\": \"Massachusetts\", \"fips\": 25025.0, \"cases\": 20, \"deaths\": 0}, {\"date\": \"2020-03-12T00:00:00\", \"county\": \"Suffolk\", \"state\": \"Massachusetts\", \"fips\": 25025.0, \"cases\": 22, \"deaths\": 0}, {\"date\": \"2020-03-13T00:00:00\", \"county\": \"Suffolk\", \"state\": \"Massachusetts\", \"fips\": 25025.0, \"cases\": 26, \"deaths\": 0}, {\"date\": \"2020-03-14T00:00:00\", \"county\": \"Bristol\", \"state\": \"Massachusetts\", \"fips\": 25005.0, \"cases\": 1, \"deaths\": 0}, {\"date\": \"2020-03-14T00:00:00\", \"county\": \"Suffolk\", \"state\": \"Massachusetts\", \"fips\": 25025.0, \"cases\": 27, \"deaths\": 0}, {\"date\": \"2020-03-15T00:00:00\", \"county\": \"Bristol\", \"state\": \"Massachusetts\", \"fips\": 25005.0, \"cases\": 1, \"deaths\": 0}, {\"date\": \"2020-03-15T00:00:00\", \"county\": \"Suffolk\", \"state\": \"Massachusetts\", \"fips\": 25025.0, \"cases\": 31, \"deaths\": 0}, {\"date\": \"2020-03-16T00:00:00\", \"county\": \"Bristol\", \"state\": \"Massachusetts\", \"fips\": 25005.0, \"cases\": 2, \"deaths\": 0}, {\"date\": \"2020-03-16T00:00:00\", \"county\": \"Suffolk\", \"state\": \"Massachusetts\", \"fips\": 25025.0, \"cases\": 42, \"deaths\": 0}, {\"date\": \"2020-03-17T00:00:00\", \"county\": \"Bristol\", \"state\": \"Massachusetts\", \"fips\": 25005.0, \"cases\": 5, \"deaths\": 0}, {\"date\": \"2020-03-17T00:00:00\", \"county\": \"Suffolk\", \"state\": \"Massachusetts\", \"fips\": 25025.0, \"cases\": 42, \"deaths\": 0}, {\"date\": \"2020-03-18T00:00:00\", \"county\": \"Bristol\", \"state\": \"Massachusetts\", \"fips\": 25005.0, \"cases\": 5, \"deaths\": 0}, {\"date\": \"2020-03-18T00:00:00\", \"county\": \"Suffolk\", \"state\": \"Massachusetts\", \"fips\": 25025.0, \"cases\": 51, \"deaths\": 0}, {\"date\": \"2020-03-19T00:00:00\", \"county\": \"Bristol\", \"state\": \"Massachusetts\", \"fips\": 25005.0, \"cases\": 6, \"deaths\": 0}, {\"date\": \"2020-03-19T00:00:00\", \"county\": \"Suffolk\", \"state\": \"Massachusetts\", \"fips\": 25025.0, \"cases\": 72, \"deaths\": 0}, {\"date\": \"2020-03-20T00:00:00\", \"county\": \"Bristol\", \"state\": \"Massachusetts\", \"fips\": 25005.0, \"cases\": 6, \"deaths\": 0}, {\"date\": \"2020-03-20T00:00:00\", \"county\": \"Suffolk\", \"state\": \"Massachusetts\", \"fips\": 25025.0, \"cases\": 87, \"deaths\": 1}, {\"date\": \"2020-03-21T00:00:00\", \"county\": \"Bristol\", \"state\": \"Massachusetts\", \"fips\": 25005.0, \"cases\": 14, \"deaths\": 0}, {\"date\": \"2020-03-21T00:00:00\", \"county\": \"Suffolk\", \"state\": \"Massachusetts\", \"fips\": 25025.0, \"cases\": 108, \"deaths\": 1}, {\"date\": \"2020-03-22T00:00:00\", \"county\": \"Bristol\", \"state\": \"Massachusetts\", \"fips\": 25005.0, \"cases\": 24, \"deaths\": 0}, {\"date\": \"2020-03-22T00:00:00\", \"county\": \"Suffolk\", \"state\": \"Massachusetts\", \"fips\": 25025.0, \"cases\": 126, \"deaths\": 2}, {\"date\": \"2020-03-23T00:00:00\", \"county\": \"Bristol\", \"state\": \"Massachusetts\", \"fips\": 25005.0, \"cases\": 25, \"deaths\": 0}, {\"date\": \"2020-03-23T00:00:00\", \"county\": \"Suffolk\", \"state\": \"Massachusetts\", \"fips\": 25025.0, \"cases\": 154, \"deaths\": 3}, {\"date\": \"2020-03-24T00:00:00\", \"county\": \"Bristol\", \"state\": \"Massachusetts\", \"fips\": 25005.0, \"cases\": 31, \"deaths\": 0}, {\"date\": \"2020-03-24T00:00:00\", \"county\": \"Suffolk\", \"state\": \"Massachusetts\", \"fips\": 25025.0, \"cases\": 234, \"deaths\": 3}, {\"date\": \"2020-03-25T00:00:00\", \"county\": \"Bristol\", \"state\": \"Massachusetts\", \"fips\": 25005.0, \"cases\": 67, \"deaths\": 0}, {\"date\": \"2020-03-25T00:00:00\", \"county\": \"Suffolk\", \"state\": \"Massachusetts\", \"fips\": 25025.0, \"cases\": 342, \"deaths\": 3}, {\"date\": \"2020-03-26T00:00:00\", \"county\": \"Bristol\", \"state\": \"Massachusetts\", \"fips\": 25005.0, \"cases\": 90, \"deaths\": 0}, {\"date\": \"2020-03-26T00:00:00\", \"county\": \"Suffolk\", \"state\": \"Massachusetts\", \"fips\": 25025.0, \"cases\": 448, \"deaths\": 4}, {\"date\": \"2020-03-27T00:00:00\", \"county\": \"Bristol\", \"state\": \"Massachusetts\", \"fips\": 25005.0, \"cases\": 129, \"deaths\": 1}, {\"date\": \"2020-03-27T00:00:00\", \"county\": \"Suffolk\", \"state\": \"Massachusetts\", \"fips\": 25025.0, \"cases\": 631, \"deaths\": 4}, {\"date\": \"2020-03-28T00:00:00\", \"county\": \"Bristol\", \"state\": \"Massachusetts\", \"fips\": 25005.0, \"cases\": 179, \"deaths\": 1}, {\"date\": \"2020-03-28T00:00:00\", \"county\": \"Suffolk\", \"state\": \"Massachusetts\", \"fips\": 25025.0, \"cases\": 843, \"deaths\": 5}, {\"date\": \"2020-03-29T00:00:00\", \"county\": \"Bristol\", \"state\": \"Massachusetts\", \"fips\": 25005.0, \"cases\": 208, \"deaths\": 1}, {\"date\": \"2020-03-29T00:00:00\", \"county\": \"Suffolk\", \"state\": \"Massachusetts\", \"fips\": 25025.0, \"cases\": 940, \"deaths\": 5}, {\"date\": \"2020-03-30T00:00:00\", \"county\": \"Bristol\", \"state\": \"Massachusetts\", \"fips\": 25005.0, \"cases\": 263, \"deaths\": 2}, {\"date\": \"2020-03-30T00:00:00\", \"county\": \"Suffolk\", \"state\": \"Massachusetts\", \"fips\": 25025.0, \"cases\": 1115, \"deaths\": 7}, {\"date\": \"2020-03-31T00:00:00\", \"county\": \"Bristol\", \"state\": \"Massachusetts\", \"fips\": 25005.0, \"cases\": 306, \"deaths\": 2}, {\"date\": \"2020-03-31T00:00:00\", \"county\": \"Suffolk\", \"state\": \"Massachusetts\", \"fips\": 25025.0, \"cases\": 1373, \"deaths\": 8}, {\"date\": \"2020-04-01T00:00:00\", \"county\": \"Bristol\", \"state\": \"Massachusetts\", \"fips\": 25005.0, \"cases\": 366, \"deaths\": 3}, {\"date\": \"2020-04-01T00:00:00\", \"county\": \"Suffolk\", \"state\": \"Massachusetts\", \"fips\": 25025.0, \"cases\": 1624, \"deaths\": 15}, {\"date\": \"2020-04-02T00:00:00\", \"county\": \"Bristol\", \"state\": \"Massachusetts\", \"fips\": 25005.0, \"cases\": 424, \"deaths\": 3}, {\"date\": \"2020-04-02T00:00:00\", \"county\": \"Suffolk\", \"state\": \"Massachusetts\", \"fips\": 25025.0, \"cases\": 1896, \"deaths\": 21}, {\"date\": \"2020-04-03T00:00:00\", \"county\": \"Bristol\", \"state\": \"Massachusetts\", \"fips\": 25005.0, \"cases\": 517, \"deaths\": 4}, {\"date\": \"2020-04-03T00:00:00\", \"county\": \"Suffolk\", \"state\": \"Massachusetts\", \"fips\": 25025.0, \"cases\": 2183, \"deaths\": 23}, {\"date\": \"2020-04-04T00:00:00\", \"county\": \"Bristol\", \"state\": \"Massachusetts\", \"fips\": 25005.0, \"cases\": 601, \"deaths\": 5}, {\"date\": \"2020-04-04T00:00:00\", \"county\": \"Suffolk\", \"state\": \"Massachusetts\", \"fips\": 25025.0, \"cases\": 2429, \"deaths\": 28}, {\"date\": \"2020-04-05T00:00:00\", \"county\": \"Bristol\", \"state\": \"Massachusetts\", \"fips\": 25005.0, \"cases\": 659, \"deaths\": 8}, {\"date\": \"2020-04-05T00:00:00\", \"county\": \"Suffolk\", \"state\": \"Massachusetts\", \"fips\": 25025.0, \"cases\": 2658, \"deaths\": 29}, {\"date\": \"2020-04-06T00:00:00\", \"county\": \"Bristol\", \"state\": \"Massachusetts\", \"fips\": 25005.0, \"cases\": 722, \"deaths\": 8}, {\"date\": \"2020-04-06T00:00:00\", \"county\": \"Suffolk\", \"state\": \"Massachusetts\", \"fips\": 25025.0, \"cases\": 2929, \"deaths\": 33}, {\"date\": \"2020-04-07T00:00:00\", \"county\": \"Bristol\", \"state\": \"Massachusetts\", \"fips\": 25005.0, \"cases\": 768, \"deaths\": 16}, {\"date\": \"2020-04-07T00:00:00\", \"county\": \"Suffolk\", \"state\": \"Massachusetts\", \"fips\": 25025.0, \"cases\": 3245, \"deaths\": 42}, {\"date\": \"2020-04-08T00:00:00\", \"county\": \"Bristol\", \"state\": \"Massachusetts\", \"fips\": 25005.0, \"cases\": 835, \"deaths\": 23}, {\"date\": \"2020-04-08T00:00:00\", \"county\": \"Suffolk\", \"state\": \"Massachusetts\", \"fips\": 25025.0, \"cases\": 3600, \"deaths\": 50}, {\"date\": \"2020-04-09T00:00:00\", \"county\": \"Bristol\", \"state\": \"Massachusetts\", \"fips\": 25005.0, \"cases\": 994, \"deaths\": 28}, {\"date\": \"2020-04-09T00:00:00\", \"county\": \"Suffolk\", \"state\": \"Massachusetts\", \"fips\": 25025.0, \"cases\": 4041, \"deaths\": 56}, {\"date\": \"2020-04-10T00:00:00\", \"county\": \"Bristol\", \"state\": \"Massachusetts\", \"fips\": 25005.0, \"cases\": 1086, \"deaths\": 33}, {\"date\": \"2020-04-10T00:00:00\", \"county\": \"Suffolk\", \"state\": \"Massachusetts\", \"fips\": 25025.0, \"cases\": 4534, \"deaths\": 73}, {\"date\": \"2020-04-11T00:00:00\", \"county\": \"Bristol\", \"state\": \"Massachusetts\", \"fips\": 25005.0, \"cases\": 1191, \"deaths\": 39}, {\"date\": \"2020-04-11T00:00:00\", \"county\": \"Suffolk\", \"state\": \"Massachusetts\", \"fips\": 25025.0, \"cases\": 4926, \"deaths\": 81}, {\"date\": \"2020-04-12T00:00:00\", \"county\": \"Bristol\", \"state\": \"Massachusetts\", \"fips\": 25005.0, \"cases\": 1327, \"deaths\": 43}, {\"date\": \"2020-04-12T00:00:00\", \"county\": \"Suffolk\", \"state\": \"Massachusetts\", \"fips\": 25025.0, \"cases\": 5359, \"deaths\": 88}, {\"date\": \"2020-04-13T00:00:00\", \"county\": \"Bristol\", \"state\": \"Massachusetts\", \"fips\": 25005.0, \"cases\": 1394, \"deaths\": 46}, {\"date\": \"2020-04-13T00:00:00\", \"county\": \"Suffolk\", \"state\": \"Massachusetts\", \"fips\": 25025.0, \"cases\": 5579, \"deaths\": 106}, {\"date\": \"2020-04-14T00:00:00\", \"county\": \"Bristol\", \"state\": \"Massachusetts\", \"fips\": 25005.0, \"cases\": 1435, \"deaths\": 53}, {\"date\": \"2020-04-14T00:00:00\", \"county\": \"Suffolk\", \"state\": \"Massachusetts\", \"fips\": 25025.0, \"cases\": 5872, \"deaths\": 120}, {\"date\": \"2020-04-15T00:00:00\", \"county\": \"Bristol\", \"state\": \"Massachusetts\", \"fips\": 25005.0, \"cases\": 1508, \"deaths\": 56}, {\"date\": \"2020-04-15T00:00:00\", \"county\": \"Suffolk\", \"state\": \"Massachusetts\", \"fips\": 25025.0, \"cases\": 6279, \"deaths\": 147}, {\"date\": \"2020-04-16T00:00:00\", \"county\": \"Bristol\", \"state\": \"Massachusetts\", \"fips\": 25005.0, \"cases\": 1605, \"deaths\": 63}, {\"date\": \"2020-04-16T00:00:00\", \"county\": \"Suffolk\", \"state\": \"Massachusetts\", \"fips\": 25025.0, \"cases\": 6820, \"deaths\": 166}, {\"date\": \"2020-04-17T00:00:00\", \"county\": \"Bristol\", \"state\": \"Massachusetts\", \"fips\": 25005.0, \"cases\": 1659, \"deaths\": 75}, {\"date\": \"2020-04-17T00:00:00\", \"county\": \"Suffolk\", \"state\": \"Massachusetts\", \"fips\": 25025.0, \"cases\": 7272, \"deaths\": 190}, {\"date\": \"2020-04-18T00:00:00\", \"county\": \"Bristol\", \"state\": \"Massachusetts\", \"fips\": 25005.0, \"cases\": 1698, \"deaths\": 83}, {\"date\": \"2020-04-18T00:00:00\", \"county\": \"Suffolk\", \"state\": \"Massachusetts\", \"fips\": 25025.0, \"cases\": 7696, \"deaths\": 214}, {\"date\": \"2020-04-19T00:00:00\", \"county\": \"Bristol\", \"state\": \"Massachusetts\", \"fips\": 25005.0, \"cases\": 1731, \"deaths\": 87}, {\"date\": \"2020-04-19T00:00:00\", \"county\": \"Suffolk\", \"state\": \"Massachusetts\", \"fips\": 25025.0, \"cases\": 8074, \"deaths\": 238}, {\"date\": \"2020-04-20T00:00:00\", \"county\": \"Bristol\", \"state\": \"Massachusetts\", \"fips\": 25005.0, \"cases\": 1779, \"deaths\": 88}, {\"date\": \"2020-04-20T00:00:00\", \"county\": \"Suffolk\", \"state\": \"Massachusetts\", \"fips\": 25025.0, \"cases\": 8314, \"deaths\": 263}, {\"date\": \"2020-04-21T00:00:00\", \"county\": \"Bristol\", \"state\": \"Massachusetts\", \"fips\": 25005.0, \"cases\": 1852, \"deaths\": 96}, {\"date\": \"2020-04-21T00:00:00\", \"county\": \"Suffolk\", \"state\": \"Massachusetts\", \"fips\": 25025.0, \"cases\": 8669, \"deaths\": 285}, {\"date\": \"2020-04-22T00:00:00\", \"county\": \"Bristol\", \"state\": \"Massachusetts\", \"fips\": 25005.0, \"cases\": 1908, \"deaths\": 104}, {\"date\": \"2020-04-22T00:00:00\", \"county\": \"Suffolk\", \"state\": \"Massachusetts\", \"fips\": 25025.0, \"cases\": 9060, \"deaths\": 318}, {\"date\": \"2020-04-23T00:00:00\", \"county\": \"Bristol\", \"state\": \"Massachusetts\", \"fips\": 25005.0, \"cases\": 2181, \"deaths\": 109}, {\"date\": \"2020-04-23T00:00:00\", \"county\": \"Suffolk\", \"state\": \"Massachusetts\", \"fips\": 25025.0, \"cases\": 9739, \"deaths\": 346}, {\"date\": \"2020-04-24T00:00:00\", \"county\": \"Bristol\", \"state\": \"Massachusetts\", \"fips\": 25005.0, \"cases\": 2697, \"deaths\": 126}, {\"date\": \"2020-04-24T00:00:00\", \"county\": \"Suffolk\", \"state\": \"Massachusetts\", \"fips\": 25025.0, \"cases\": 10724, \"deaths\": 372}, {\"date\": \"2020-04-25T00:00:00\", \"county\": \"Bristol\", \"state\": \"Massachusetts\", \"fips\": 25005.0, \"cases\": 2829, \"deaths\": 130}, {\"date\": \"2020-04-25T00:00:00\", \"county\": \"Suffolk\", \"state\": \"Massachusetts\", \"fips\": 25025.0, \"cases\": 11218, \"deaths\": 391}, {\"date\": \"2020-04-26T00:00:00\", \"county\": \"Bristol\", \"state\": \"Massachusetts\", \"fips\": 25005.0, \"cases\": 2923, \"deaths\": 134}, {\"date\": \"2020-04-26T00:00:00\", \"county\": \"Suffolk\", \"state\": \"Massachusetts\", \"fips\": 25025.0, \"cases\": 11543, \"deaths\": 424}, {\"date\": \"2020-04-27T00:00:00\", \"county\": \"Bristol\", \"state\": \"Massachusetts\", \"fips\": 25005.0, \"cases\": 3068, \"deaths\": 137}, {\"date\": \"2020-04-27T00:00:00\", \"county\": \"Suffolk\", \"state\": \"Massachusetts\", \"fips\": 25025.0, \"cases\": 11883, \"deaths\": 448}, {\"date\": \"2020-04-28T00:00:00\", \"county\": \"Bristol\", \"state\": \"Massachusetts\", \"fips\": 25005.0, \"cases\": 3270, \"deaths\": 155}, {\"date\": \"2020-04-28T00:00:00\", \"county\": \"Suffolk\", \"state\": \"Massachusetts\", \"fips\": 25025.0, \"cases\": 12140, \"deaths\": 469}, {\"date\": \"2020-04-29T00:00:00\", \"county\": \"Bristol\", \"state\": \"Massachusetts\", \"fips\": 25005.0, \"cases\": 3429, \"deaths\": 165}, {\"date\": \"2020-04-29T00:00:00\", \"county\": \"Suffolk\", \"state\": \"Massachusetts\", \"fips\": 25025.0, \"cases\": 12539, \"deaths\": 504}, {\"date\": \"2020-04-30T00:00:00\", \"county\": \"Bristol\", \"state\": \"Massachusetts\", \"fips\": 25005.0, \"cases\": 3580, \"deaths\": 172}, {\"date\": \"2020-04-30T00:00:00\", \"county\": \"Suffolk\", \"state\": \"Massachusetts\", \"fips\": 25025.0, \"cases\": 12890, \"deaths\": 524}, {\"date\": \"2020-05-01T00:00:00\", \"county\": \"Bristol\", \"state\": \"Massachusetts\", \"fips\": 25005.0, \"cases\": 3792, \"deaths\": 182}, {\"date\": \"2020-05-01T00:00:00\", \"county\": \"Suffolk\", \"state\": \"Massachusetts\", \"fips\": 25025.0, \"cases\": 13295, \"deaths\": 550}, {\"date\": \"2020-05-02T00:00:00\", \"county\": \"Bristol\", \"state\": \"Massachusetts\", \"fips\": 25005.0, \"cases\": 3916, \"deaths\": 187}, {\"date\": \"2020-05-02T00:00:00\", \"county\": \"Suffolk\", \"state\": \"Massachusetts\", \"fips\": 25025.0, \"cases\": 13606, \"deaths\": 569}, {\"date\": \"2020-05-03T00:00:00\", \"county\": \"Bristol\", \"state\": \"Massachusetts\", \"fips\": 25005.0, \"cases\": 4019, \"deaths\": 198}, {\"date\": \"2020-05-03T00:00:00\", \"county\": \"Suffolk\", \"state\": \"Massachusetts\", \"fips\": 25025.0, \"cases\": 13777, \"deaths\": 588}, {\"date\": \"2020-05-04T00:00:00\", \"county\": \"Bristol\", \"state\": \"Massachusetts\", \"fips\": 25005.0, \"cases\": 4103, \"deaths\": 205}, {\"date\": \"2020-05-04T00:00:00\", \"county\": \"Suffolk\", \"state\": \"Massachusetts\", \"fips\": 25025.0, \"cases\": 13941, \"deaths\": 596}, {\"date\": \"2020-05-05T00:00:00\", \"county\": \"Bristol\", \"state\": \"Massachusetts\", \"fips\": 25005.0, \"cases\": 4235, \"deaths\": 210}, {\"date\": \"2020-05-05T00:00:00\", \"county\": \"Suffolk\", \"state\": \"Massachusetts\", \"fips\": 25025.0, \"cases\": 14173, \"deaths\": 609}, {\"date\": \"2020-05-06T00:00:00\", \"county\": \"Bristol\", \"state\": \"Massachusetts\", \"fips\": 25005.0, \"cases\": 4380, \"deaths\": 223}, {\"date\": \"2020-05-06T00:00:00\", \"county\": \"Suffolk\", \"state\": \"Massachusetts\", \"fips\": 25025.0, \"cases\": 14476, \"deaths\": 642}, {\"date\": \"2020-05-07T00:00:00\", \"county\": \"Bristol\", \"state\": \"Massachusetts\", \"fips\": 25005.0, \"cases\": 4529, \"deaths\": 232}, {\"date\": \"2020-05-07T00:00:00\", \"county\": \"Suffolk\", \"state\": \"Massachusetts\", \"fips\": 25025.0, \"cases\": 14732, \"deaths\": 663}, {\"date\": \"2020-05-08T00:00:00\", \"county\": \"Bristol\", \"state\": \"Massachusetts\", \"fips\": 25005.0, \"cases\": 4670, \"deaths\": 252}, {\"date\": \"2020-05-08T00:00:00\", \"county\": \"Suffolk\", \"state\": \"Massachusetts\", \"fips\": 25025.0, \"cases\": 14944, \"deaths\": 683}, {\"date\": \"2020-05-09T00:00:00\", \"county\": \"Bristol\", \"state\": \"Massachusetts\", \"fips\": 25005.0, \"cases\": 4847, \"deaths\": 260}, {\"date\": \"2020-05-09T00:00:00\", \"county\": \"Suffolk\", \"state\": \"Massachusetts\", \"fips\": 25025.0, \"cases\": 15119, \"deaths\": 703}, {\"date\": \"2020-05-10T00:00:00\", \"county\": \"Bristol\", \"state\": \"Massachusetts\", \"fips\": 25005.0, \"cases\": 4931, \"deaths\": 266}, {\"date\": \"2020-05-10T00:00:00\", \"county\": \"Suffolk\", \"state\": \"Massachusetts\", \"fips\": 25025.0, \"cases\": 15279, \"deaths\": 718}, {\"date\": \"2020-05-11T00:00:00\", \"county\": \"Bristol\", \"state\": \"Massachusetts\", \"fips\": 25005.0, \"cases\": 4999, \"deaths\": 274}, {\"date\": \"2020-05-11T00:00:00\", \"county\": \"Suffolk\", \"state\": \"Massachusetts\", \"fips\": 25025.0, \"cases\": 15356, \"deaths\": 731}, {\"date\": \"2020-05-12T00:00:00\", \"county\": \"Bristol\", \"state\": \"Massachusetts\", \"fips\": 25005.0, \"cases\": 5125, \"deaths\": 278}, {\"date\": \"2020-05-12T00:00:00\", \"county\": \"Suffolk\", \"state\": \"Massachusetts\", \"fips\": 25025.0, \"cases\": 15454, \"deaths\": 732}, {\"date\": \"2020-05-13T00:00:00\", \"county\": \"Bristol\", \"state\": \"Massachusetts\", \"fips\": 25005.0, \"cases\": 5249, \"deaths\": 288}, {\"date\": \"2020-05-13T00:00:00\", \"county\": \"Suffolk\", \"state\": \"Massachusetts\", \"fips\": 25025.0, \"cases\": 15587, \"deaths\": 749}, {\"date\": \"2020-05-14T00:00:00\", \"county\": \"Bristol\", \"state\": \"Massachusetts\", \"fips\": 25005.0, \"cases\": 5440, \"deaths\": 297}, {\"date\": \"2020-05-14T00:00:00\", \"county\": \"Suffolk\", \"state\": \"Massachusetts\", \"fips\": 25025.0, \"cases\": 15881, \"deaths\": 759}, {\"date\": \"2020-05-15T00:00:00\", \"county\": \"Bristol\", \"state\": \"Massachusetts\", \"fips\": 25005.0, \"cases\": 5590, \"deaths\": 303}, {\"date\": \"2020-05-15T00:00:00\", \"county\": \"Suffolk\", \"state\": \"Massachusetts\", \"fips\": 25025.0, \"cases\": 15996, \"deaths\": 768}, {\"date\": \"2020-05-16T00:00:00\", \"county\": \"Bristol\", \"state\": \"Massachusetts\", \"fips\": 25005.0, \"cases\": 5748, \"deaths\": 313}, {\"date\": \"2020-05-16T00:00:00\", \"county\": \"Suffolk\", \"state\": \"Massachusetts\", \"fips\": 25025.0, \"cases\": 16346, \"deaths\": 778}, {\"date\": \"2020-05-17T00:00:00\", \"county\": \"Bristol\", \"state\": \"Massachusetts\", \"fips\": 25005.0, \"cases\": 5870, \"deaths\": 320}, {\"date\": \"2020-05-17T00:00:00\", \"county\": \"Suffolk\", \"state\": \"Massachusetts\", \"fips\": 25025.0, \"cases\": 16479, \"deaths\": 787}, {\"date\": \"2020-05-18T00:00:00\", \"county\": \"Bristol\", \"state\": \"Massachusetts\", \"fips\": 25005.0, \"cases\": 5996, \"deaths\": 324}, {\"date\": \"2020-05-18T00:00:00\", \"county\": \"Suffolk\", \"state\": \"Massachusetts\", \"fips\": 25025.0, \"cases\": 16671, \"deaths\": 793}, {\"date\": \"2020-05-19T00:00:00\", \"county\": \"Bristol\", \"state\": \"Massachusetts\", \"fips\": 25005.0, \"cases\": 6080, \"deaths\": 330}, {\"date\": \"2020-05-19T00:00:00\", \"county\": \"Suffolk\", \"state\": \"Massachusetts\", \"fips\": 25025.0, \"cases\": 16825, \"deaths\": 797}, {\"date\": \"2020-05-20T00:00:00\", \"county\": \"Bristol\", \"state\": \"Massachusetts\", \"fips\": 25005.0, \"cases\": 6165, \"deaths\": 338}, {\"date\": \"2020-05-20T00:00:00\", \"county\": \"Suffolk\", \"state\": \"Massachusetts\", \"fips\": 25025.0, \"cases\": 16962, \"deaths\": 807}, {\"date\": \"2020-05-21T00:00:00\", \"county\": \"Bristol\", \"state\": \"Massachusetts\", \"fips\": 25005.0, \"cases\": 6286, \"deaths\": 345}, {\"date\": \"2020-05-21T00:00:00\", \"county\": \"Suffolk\", \"state\": \"Massachusetts\", \"fips\": 25025.0, \"cases\": 17089, \"deaths\": 813}, {\"date\": \"2020-05-22T00:00:00\", \"county\": \"Bristol\", \"state\": \"Massachusetts\", \"fips\": 25005.0, \"cases\": 6362, \"deaths\": 353}, {\"date\": \"2020-05-22T00:00:00\", \"county\": \"Suffolk\", \"state\": \"Massachusetts\", \"fips\": 25025.0, \"cases\": 17180, \"deaths\": 818}, {\"date\": \"2020-05-23T00:00:00\", \"county\": \"Bristol\", \"state\": \"Massachusetts\", \"fips\": 25005.0, \"cases\": 6426, \"deaths\": 362}, {\"date\": \"2020-05-23T00:00:00\", \"county\": \"Suffolk\", \"state\": \"Massachusetts\", \"fips\": 25025.0, \"cases\": 17291, \"deaths\": 827}, {\"date\": \"2020-05-24T00:00:00\", \"county\": \"Bristol\", \"state\": \"Massachusetts\", \"fips\": 25005.0, \"cases\": 6596, \"deaths\": 369}, {\"date\": \"2020-05-24T00:00:00\", \"county\": \"Suffolk\", \"state\": \"Massachusetts\", \"fips\": 25025.0, \"cases\": 17417, \"deaths\": 838}, {\"date\": \"2020-05-25T00:00:00\", \"county\": \"Bristol\", \"state\": \"Massachusetts\", \"fips\": 25005.0, \"cases\": 6681, \"deaths\": 375}, {\"date\": \"2020-05-25T00:00:00\", \"county\": \"Suffolk\", \"state\": \"Massachusetts\", \"fips\": 25025.0, \"cases\": 17480, \"deaths\": 839}, {\"date\": \"2020-05-26T00:00:00\", \"county\": \"Bristol\", \"state\": \"Massachusetts\", \"fips\": 25005.0, \"cases\": 6733, \"deaths\": 382}, {\"date\": \"2020-05-26T00:00:00\", \"county\": \"Suffolk\", \"state\": \"Massachusetts\", \"fips\": 25025.0, \"cases\": 17533, \"deaths\": 844}, {\"date\": \"2020-05-27T00:00:00\", \"county\": \"Bristol\", \"state\": \"Massachusetts\", \"fips\": 25005.0, \"cases\": 6779, \"deaths\": 390}, {\"date\": \"2020-05-27T00:00:00\", \"county\": \"Suffolk\", \"state\": \"Massachusetts\", \"fips\": 25025.0, \"cases\": 17596, \"deaths\": 850}, {\"date\": \"2020-05-28T00:00:00\", \"county\": \"Bristol\", \"state\": \"Massachusetts\", \"fips\": 25005.0, \"cases\": 6852, \"deaths\": 399}, {\"date\": \"2020-05-28T00:00:00\", \"county\": \"Suffolk\", \"state\": \"Massachusetts\", \"fips\": 25025.0, \"cases\": 17698, \"deaths\": 852}, {\"date\": \"2020-05-29T00:00:00\", \"county\": \"Bristol\", \"state\": \"Massachusetts\", \"fips\": 25005.0, \"cases\": 6930, \"deaths\": 404}, {\"date\": \"2020-05-29T00:00:00\", \"county\": \"Suffolk\", \"state\": \"Massachusetts\", \"fips\": 25025.0, \"cases\": 17786, \"deaths\": 861}, {\"date\": \"2020-05-30T00:00:00\", \"county\": \"Bristol\", \"state\": \"Massachusetts\", \"fips\": 25005.0, \"cases\": 7089, \"deaths\": 410}, {\"date\": \"2020-05-30T00:00:00\", \"county\": \"Suffolk\", \"state\": \"Massachusetts\", \"fips\": 25025.0, \"cases\": 17873, \"deaths\": 868}, {\"date\": \"2020-05-31T00:00:00\", \"county\": \"Bristol\", \"state\": \"Massachusetts\", \"fips\": 25005.0, \"cases\": 7159, \"deaths\": 415}, {\"date\": \"2020-05-31T00:00:00\", \"county\": \"Suffolk\", \"state\": \"Massachusetts\", \"fips\": 25025.0, \"cases\": 17936, \"deaths\": 871}, {\"date\": \"2020-06-01T00:00:00\", \"county\": \"Bristol\", \"state\": \"Massachusetts\", \"fips\": 25005.0, \"cases\": 7348, \"deaths\": 429}, {\"date\": \"2020-06-01T00:00:00\", \"county\": \"Suffolk\", \"state\": \"Massachusetts\", \"fips\": 25025.0, \"cases\": 18581, \"deaths\": 896}, {\"date\": \"2020-06-02T00:00:00\", \"county\": \"Bristol\", \"state\": \"Massachusetts\", \"fips\": 25005.0, \"cases\": 7380, \"deaths\": 435}, {\"date\": \"2020-06-02T00:00:00\", \"county\": \"Suffolk\", \"state\": \"Massachusetts\", \"fips\": 25025.0, \"cases\": 18636, \"deaths\": 902}, {\"date\": \"2020-06-03T00:00:00\", \"county\": \"Bristol\", \"state\": \"Massachusetts\", \"fips\": 25005.0, \"cases\": 7453, \"deaths\": 441}, {\"date\": \"2020-06-03T00:00:00\", \"county\": \"Suffolk\", \"state\": \"Massachusetts\", \"fips\": 25025.0, \"cases\": 18733, \"deaths\": 908}, {\"date\": \"2020-06-04T00:00:00\", \"county\": \"Bristol\", \"state\": \"Massachusetts\", \"fips\": 25005.0, \"cases\": 7508, \"deaths\": 452}, {\"date\": \"2020-06-04T00:00:00\", \"county\": \"Suffolk\", \"state\": \"Massachusetts\", \"fips\": 25025.0, \"cases\": 18790, \"deaths\": 913}, {\"date\": \"2020-06-05T00:00:00\", \"county\": \"Bristol\", \"state\": \"Massachusetts\", \"fips\": 25005.0, \"cases\": 7573, \"deaths\": 455}, {\"date\": \"2020-06-05T00:00:00\", \"county\": \"Suffolk\", \"state\": \"Massachusetts\", \"fips\": 25025.0, \"cases\": 18858, \"deaths\": 922}, {\"date\": \"2020-06-06T00:00:00\", \"county\": \"Bristol\", \"state\": \"Massachusetts\", \"fips\": 25005.0, \"cases\": 7635, \"deaths\": 467}, {\"date\": \"2020-06-06T00:00:00\", \"county\": \"Suffolk\", \"state\": \"Massachusetts\", \"fips\": 25025.0, \"cases\": 18955, \"deaths\": 923}, {\"date\": \"2020-06-07T00:00:00\", \"county\": \"Bristol\", \"state\": \"Massachusetts\", \"fips\": 25005.0, \"cases\": 7683, \"deaths\": 469}, {\"date\": \"2020-06-07T00:00:00\", \"county\": \"Suffolk\", \"state\": \"Massachusetts\", \"fips\": 25025.0, \"cases\": 19001, \"deaths\": 924}, {\"date\": \"2020-06-08T00:00:00\", \"county\": \"Bristol\", \"state\": \"Massachusetts\", \"fips\": 25005.0, \"cases\": 7698, \"deaths\": 473}, {\"date\": \"2020-06-08T00:00:00\", \"county\": \"Suffolk\", \"state\": \"Massachusetts\", \"fips\": 25025.0, \"cases\": 19028, \"deaths\": 931}, {\"date\": \"2020-06-09T00:00:00\", \"county\": \"Bristol\", \"state\": \"Massachusetts\", \"fips\": 25005.0, \"cases\": 7728, \"deaths\": 481}, {\"date\": \"2020-06-09T00:00:00\", \"county\": \"Suffolk\", \"state\": \"Massachusetts\", \"fips\": 25025.0, \"cases\": 19067, \"deaths\": 935}, {\"date\": \"2020-06-10T00:00:00\", \"county\": \"Bristol\", \"state\": \"Massachusetts\", \"fips\": 25005.0, \"cases\": 7754, \"deaths\": 487}, {\"date\": \"2020-06-10T00:00:00\", \"county\": \"Suffolk\", \"state\": \"Massachusetts\", \"fips\": 25025.0, \"cases\": 19099, \"deaths\": 936}, {\"date\": \"2020-06-11T00:00:00\", \"county\": \"Bristol\", \"state\": \"Massachusetts\", \"fips\": 25005.0, \"cases\": 7793, \"deaths\": 492}, {\"date\": \"2020-06-11T00:00:00\", \"county\": \"Suffolk\", \"state\": \"Massachusetts\", \"fips\": 25025.0, \"cases\": 19195, \"deaths\": 938}, {\"date\": \"2020-06-12T00:00:00\", \"county\": \"Bristol\", \"state\": \"Massachusetts\", \"fips\": 25005.0, \"cases\": 7872, \"deaths\": 496}, {\"date\": \"2020-06-12T00:00:00\", \"county\": \"Suffolk\", \"state\": \"Massachusetts\", \"fips\": 25025.0, \"cases\": 19249, \"deaths\": 941}, {\"date\": \"2020-06-13T00:00:00\", \"county\": \"Bristol\", \"state\": \"Massachusetts\", \"fips\": 25005.0, \"cases\": 7906, \"deaths\": 507}, {\"date\": \"2020-06-13T00:00:00\", \"county\": \"Suffolk\", \"state\": \"Massachusetts\", \"fips\": 25025.0, \"cases\": 19299, \"deaths\": 943}, {\"date\": \"2020-06-14T00:00:00\", \"county\": \"Bristol\", \"state\": \"Massachusetts\", \"fips\": 25005.0, \"cases\": 7933, \"deaths\": 516}, {\"date\": \"2020-06-14T00:00:00\", \"county\": \"Suffolk\", \"state\": \"Massachusetts\", \"fips\": 25025.0, \"cases\": 19335, \"deaths\": 950}, {\"date\": \"2020-06-15T00:00:00\", \"county\": \"Bristol\", \"state\": \"Massachusetts\", \"fips\": 25005.0, \"cases\": 7925, \"deaths\": 518}, {\"date\": \"2020-06-15T00:00:00\", \"county\": \"Suffolk\", \"state\": \"Massachusetts\", \"fips\": 25025.0, \"cases\": 19334, \"deaths\": 951}, {\"date\": \"2020-06-16T00:00:00\", \"county\": \"Bristol\", \"state\": \"Massachusetts\", \"fips\": 25005.0, \"cases\": 7940, \"deaths\": 520}, {\"date\": \"2020-06-16T00:00:00\", \"county\": \"Suffolk\", \"state\": \"Massachusetts\", \"fips\": 25025.0, \"cases\": 19367, \"deaths\": 952}, {\"date\": \"2020-06-17T00:00:00\", \"county\": \"Bristol\", \"state\": \"Massachusetts\", \"fips\": 25005.0, \"cases\": 7956, \"deaths\": 528}, {\"date\": \"2020-06-17T00:00:00\", \"county\": \"Suffolk\", \"state\": \"Massachusetts\", \"fips\": 25025.0, \"cases\": 19434, \"deaths\": 959}, {\"date\": \"2020-06-18T00:00:00\", \"county\": \"Bristol\", \"state\": \"Massachusetts\", \"fips\": 25005.0, \"cases\": 7979, \"deaths\": 534}, {\"date\": \"2020-06-18T00:00:00\", \"county\": \"Suffolk\", \"state\": \"Massachusetts\", \"fips\": 25025.0, \"cases\": 19477, \"deaths\": 963}, {\"date\": \"2020-06-19T00:00:00\", \"county\": \"Bristol\", \"state\": \"Massachusetts\", \"fips\": 25005.0, \"cases\": 8002, \"deaths\": 537}, {\"date\": \"2020-06-19T00:00:00\", \"county\": \"Suffolk\", \"state\": \"Massachusetts\", \"fips\": 25025.0, \"cases\": 19493, \"deaths\": 971}, {\"date\": \"2020-06-20T00:00:00\", \"county\": \"Bristol\", \"state\": \"Massachusetts\", \"fips\": 25005.0, \"cases\": 8028, \"deaths\": 539}, {\"date\": \"2020-06-20T00:00:00\", \"county\": \"Suffolk\", \"state\": \"Massachusetts\", \"fips\": 25025.0, \"cases\": 19528, \"deaths\": 973}, {\"date\": \"2020-06-21T00:00:00\", \"county\": \"Bristol\", \"state\": \"Massachusetts\", \"fips\": 25005.0, \"cases\": 8035, \"deaths\": 542}, {\"date\": \"2020-06-21T00:00:00\", \"county\": \"Suffolk\", \"state\": \"Massachusetts\", \"fips\": 25025.0, \"cases\": 19551, \"deaths\": 978}, {\"date\": \"2020-06-22T00:00:00\", \"county\": \"Bristol\", \"state\": \"Massachusetts\", \"fips\": 25005.0, \"cases\": 8057, \"deaths\": 546}, {\"date\": \"2020-06-22T00:00:00\", \"county\": \"Suffolk\", \"state\": \"Massachusetts\", \"fips\": 25025.0, \"cases\": 19567, \"deaths\": 979}, {\"date\": \"2020-06-23T00:00:00\", \"county\": \"Bristol\", \"state\": \"Massachusetts\", \"fips\": 25005.0, \"cases\": 8081, \"deaths\": 548}, {\"date\": \"2020-06-23T00:00:00\", \"county\": \"Suffolk\", \"state\": \"Massachusetts\", \"fips\": 25025.0, \"cases\": 19601, \"deaths\": 976}, {\"date\": \"2020-06-24T00:00:00\", \"county\": \"Bristol\", \"state\": \"Massachusetts\", \"fips\": 25005.0, \"cases\": 8086, \"deaths\": 555}, {\"date\": \"2020-06-24T00:00:00\", \"county\": \"Suffolk\", \"state\": \"Massachusetts\", \"fips\": 25025.0, \"cases\": 19628, \"deaths\": 984}, {\"date\": \"2020-06-25T00:00:00\", \"county\": \"Bristol\", \"state\": \"Massachusetts\", \"fips\": 25005.0, \"cases\": 8107, \"deaths\": 558}, {\"date\": \"2020-06-25T00:00:00\", \"county\": \"Suffolk\", \"state\": \"Massachusetts\", \"fips\": 25025.0, \"cases\": 19664, \"deaths\": 990}, {\"date\": \"2020-06-26T00:00:00\", \"county\": \"Bristol\", \"state\": \"Massachusetts\", \"fips\": 25005.0, \"cases\": 8142, \"deaths\": 565}, {\"date\": \"2020-06-26T00:00:00\", \"county\": \"Suffolk\", \"state\": \"Massachusetts\", \"fips\": 25025.0, \"cases\": 19707, \"deaths\": 997}, {\"date\": \"2020-06-27T00:00:00\", \"county\": \"Bristol\", \"state\": \"Massachusetts\", \"fips\": 25005.0, \"cases\": 8176, \"deaths\": 567}, {\"date\": \"2020-06-27T00:00:00\", \"county\": \"Suffolk\", \"state\": \"Massachusetts\", \"fips\": 25025.0, \"cases\": 19764, \"deaths\": 1004}, {\"date\": \"2020-06-28T00:00:00\", \"county\": \"Bristol\", \"state\": \"Massachusetts\", \"fips\": 25005.0, \"cases\": 8198, \"deaths\": 568}, {\"date\": \"2020-06-28T00:00:00\", \"county\": \"Suffolk\", \"state\": \"Massachusetts\", \"fips\": 25025.0, \"cases\": 19795, \"deaths\": 1004}, {\"date\": \"2020-06-29T00:00:00\", \"county\": \"Bristol\", \"state\": \"Massachusetts\", \"fips\": 25005.0, \"cases\": 8208, \"deaths\": 575}, {\"date\": \"2020-06-29T00:00:00\", \"county\": \"Suffolk\", \"state\": \"Massachusetts\", \"fips\": 25025.0, \"cases\": 19795, \"deaths\": 1007}, {\"date\": \"2020-06-30T00:00:00\", \"county\": \"Bristol\", \"state\": \"Massachusetts\", \"fips\": 25005.0, \"cases\": 8225, \"deaths\": 574}, {\"date\": \"2020-06-30T00:00:00\", \"county\": \"Suffolk\", \"state\": \"Massachusetts\", \"fips\": 25025.0, \"cases\": 19819, \"deaths\": 1002}, {\"date\": \"2020-07-01T00:00:00\", \"county\": \"Bristol\", \"state\": \"Massachusetts\", \"fips\": 25005.0, \"cases\": 8236, \"deaths\": 575}, {\"date\": \"2020-07-01T00:00:00\", \"county\": \"Suffolk\", \"state\": \"Massachusetts\", \"fips\": 25025.0, \"cases\": 19853, \"deaths\": 1004}, {\"date\": \"2020-07-02T00:00:00\", \"county\": \"Bristol\", \"state\": \"Massachusetts\", \"fips\": 25005.0, \"cases\": 8264, \"deaths\": 587}, {\"date\": \"2020-07-02T00:00:00\", \"county\": \"Suffolk\", \"state\": \"Massachusetts\", \"fips\": 25025.0, \"cases\": 19892, \"deaths\": 1008}, {\"date\": \"2020-07-03T00:00:00\", \"county\": \"Bristol\", \"state\": \"Massachusetts\", \"fips\": 25005.0, \"cases\": 8295, \"deaths\": 587}, {\"date\": \"2020-07-03T00:00:00\", \"county\": \"Suffolk\", \"state\": \"Massachusetts\", \"fips\": 25025.0, \"cases\": 19936, \"deaths\": 1009}, {\"date\": \"2020-07-04T00:00:00\", \"county\": \"Bristol\", \"state\": \"Massachusetts\", \"fips\": 25005.0, \"cases\": 8311, \"deaths\": 590}, {\"date\": \"2020-07-04T00:00:00\", \"county\": \"Suffolk\", \"state\": \"Massachusetts\", \"fips\": 25025.0, \"cases\": 19972, \"deaths\": 1008}, {\"date\": \"2020-07-05T00:00:00\", \"county\": \"Bristol\", \"state\": \"Massachusetts\", \"fips\": 25005.0, \"cases\": 8321, \"deaths\": 590}, {\"date\": \"2020-07-05T00:00:00\", \"county\": \"Suffolk\", \"state\": \"Massachusetts\", \"fips\": 25025.0, \"cases\": 19985, \"deaths\": 1007}, {\"date\": \"2020-07-06T00:00:00\", \"county\": \"Bristol\", \"state\": \"Massachusetts\", \"fips\": 25005.0, \"cases\": 8331, \"deaths\": 592}, {\"date\": \"2020-07-06T00:00:00\", \"county\": \"Suffolk\", \"state\": \"Massachusetts\", \"fips\": 25025.0, \"cases\": 20014, \"deaths\": 1008}, {\"date\": \"2020-07-07T00:00:00\", \"county\": \"Bristol\", \"state\": \"Massachusetts\", \"fips\": 25005.0, \"cases\": 8348, \"deaths\": 592}, {\"date\": \"2020-07-07T00:00:00\", \"county\": \"Suffolk\", \"state\": \"Massachusetts\", \"fips\": 25025.0, \"cases\": 20048, \"deaths\": 1008}, {\"date\": \"2020-07-08T00:00:00\", \"county\": \"Bristol\", \"state\": \"Massachusetts\", \"fips\": 25005.0, \"cases\": 8365, \"deaths\": 592}, {\"date\": \"2020-07-08T00:00:00\", \"county\": \"Suffolk\", \"state\": \"Massachusetts\", \"fips\": 25025.0, \"cases\": 20120, \"deaths\": 1012}, {\"date\": \"2020-07-09T00:00:00\", \"county\": \"Bristol\", \"state\": \"Massachusetts\", \"fips\": 25005.0, \"cases\": 8399, \"deaths\": 594}, {\"date\": \"2020-07-09T00:00:00\", \"county\": \"Suffolk\", \"state\": \"Massachusetts\", \"fips\": 25025.0, \"cases\": 20172, \"deaths\": 1013}, {\"date\": \"2020-07-10T00:00:00\", \"county\": \"Bristol\", \"state\": \"Massachusetts\", \"fips\": 25005.0, \"cases\": 8426, \"deaths\": 596}, {\"date\": \"2020-07-10T00:00:00\", \"county\": \"Suffolk\", \"state\": \"Massachusetts\", \"fips\": 25025.0, \"cases\": 20228, \"deaths\": 1016}, {\"date\": \"2020-07-11T00:00:00\", \"county\": \"Bristol\", \"state\": \"Massachusetts\", \"fips\": 25005.0, \"cases\": 8442, \"deaths\": 598}, {\"date\": \"2020-07-11T00:00:00\", \"county\": \"Suffolk\", \"state\": \"Massachusetts\", \"fips\": 25025.0, \"cases\": 20272, \"deaths\": 1018}, {\"date\": \"2020-07-12T00:00:00\", \"county\": \"Bristol\", \"state\": \"Massachusetts\", \"fips\": 25005.0, \"cases\": 8460, \"deaths\": 601}, {\"date\": \"2020-07-12T00:00:00\", \"county\": \"Suffolk\", \"state\": \"Massachusetts\", \"fips\": 25025.0, \"cases\": 20301, \"deaths\": 1020}, {\"date\": \"2020-07-13T00:00:00\", \"county\": \"Bristol\", \"state\": \"Massachusetts\", \"fips\": 25005.0, \"cases\": 8491, \"deaths\": 601}, {\"date\": \"2020-07-13T00:00:00\", \"county\": \"Suffolk\", \"state\": \"Massachusetts\", \"fips\": 25025.0, \"cases\": 20342, \"deaths\": 1020}, {\"date\": \"2020-07-14T00:00:00\", \"county\": \"Bristol\", \"state\": \"Massachusetts\", \"fips\": 25005.0, \"cases\": 8527, \"deaths\": 601}, {\"date\": \"2020-07-14T00:00:00\", \"county\": \"Suffolk\", \"state\": \"Massachusetts\", \"fips\": 25025.0, \"cases\": 20386, \"deaths\": 1022}, {\"date\": \"2020-07-15T00:00:00\", \"county\": \"Bristol\", \"state\": \"Massachusetts\", \"fips\": 25005.0, \"cases\": 8558, \"deaths\": 603}, {\"date\": \"2020-07-15T00:00:00\", \"county\": \"Suffolk\", \"state\": \"Massachusetts\", \"fips\": 25025.0, \"cases\": 20411, \"deaths\": 1024}, {\"date\": \"2020-07-16T00:00:00\", \"county\": \"Bristol\", \"state\": \"Massachusetts\", \"fips\": 25005.0, \"cases\": 8593, \"deaths\": 603}, {\"date\": \"2020-07-16T00:00:00\", \"county\": \"Suffolk\", \"state\": \"Massachusetts\", \"fips\": 25025.0, \"cases\": 20445, \"deaths\": 1027}, {\"date\": \"2020-07-17T00:00:00\", \"county\": \"Bristol\", \"state\": \"Massachusetts\", \"fips\": 25005.0, \"cases\": 8637, \"deaths\": 607}, {\"date\": \"2020-07-17T00:00:00\", \"county\": \"Suffolk\", \"state\": \"Massachusetts\", \"fips\": 25025.0, \"cases\": 20499, \"deaths\": 1030}, {\"date\": \"2020-07-18T00:00:00\", \"county\": \"Bristol\", \"state\": \"Massachusetts\", \"fips\": 25005.0, \"cases\": 8653, \"deaths\": 608}, {\"date\": \"2020-07-18T00:00:00\", \"county\": \"Suffolk\", \"state\": \"Massachusetts\", \"fips\": 25025.0, \"cases\": 20555, \"deaths\": 1035}, {\"date\": \"2020-07-19T00:00:00\", \"county\": \"Bristol\", \"state\": \"Massachusetts\", \"fips\": 25005.0, \"cases\": 8681, \"deaths\": 609}, {\"date\": \"2020-07-19T00:00:00\", \"county\": \"Suffolk\", \"state\": \"Massachusetts\", \"fips\": 25025.0, \"cases\": 20601, \"deaths\": 1035}, {\"date\": \"2020-07-20T00:00:00\", \"county\": \"Bristol\", \"state\": \"Massachusetts\", \"fips\": 25005.0, \"cases\": 8719, \"deaths\": 610}, {\"date\": \"2020-07-20T00:00:00\", \"county\": \"Suffolk\", \"state\": \"Massachusetts\", \"fips\": 25025.0, \"cases\": 20621, \"deaths\": 1035}, {\"date\": \"2020-07-21T00:00:00\", \"county\": \"Bristol\", \"state\": \"Massachusetts\", \"fips\": 25005.0, \"cases\": 8745, \"deaths\": 613}, {\"date\": \"2020-07-21T00:00:00\", \"county\": \"Suffolk\", \"state\": \"Massachusetts\", \"fips\": 25025.0, \"cases\": 20650, \"deaths\": 1039}, {\"date\": \"2020-07-22T00:00:00\", \"county\": \"Bristol\", \"state\": \"Massachusetts\", \"fips\": 25005.0, \"cases\": 8761, \"deaths\": 615}, {\"date\": \"2020-07-22T00:00:00\", \"county\": \"Suffolk\", \"state\": \"Massachusetts\", \"fips\": 25025.0, \"cases\": 20678, \"deaths\": 1039}, {\"date\": \"2020-07-23T00:00:00\", \"county\": \"Bristol\", \"state\": \"Massachusetts\", \"fips\": 25005.0, \"cases\": 8788, \"deaths\": 615}, {\"date\": \"2020-07-23T00:00:00\", \"county\": \"Suffolk\", \"state\": \"Massachusetts\", \"fips\": 25025.0, \"cases\": 20732, \"deaths\": 1042}, {\"date\": \"2020-07-24T00:00:00\", \"county\": \"Bristol\", \"state\": \"Massachusetts\", \"fips\": 25005.0, \"cases\": 8816, \"deaths\": 616}, {\"date\": \"2020-07-24T00:00:00\", \"county\": \"Suffolk\", \"state\": \"Massachusetts\", \"fips\": 25025.0, \"cases\": 20793, \"deaths\": 1044}, {\"date\": \"2020-07-25T00:00:00\", \"county\": \"Bristol\", \"state\": \"Massachusetts\", \"fips\": 25005.0, \"cases\": 8843, \"deaths\": 616}, {\"date\": \"2020-07-25T00:00:00\", \"county\": \"Suffolk\", \"state\": \"Massachusetts\", \"fips\": 25025.0, \"cases\": 20827, \"deaths\": 1046}, {\"date\": \"2020-07-26T00:00:00\", \"county\": \"Bristol\", \"state\": \"Massachusetts\", \"fips\": 25005.0, \"cases\": 8882, \"deaths\": 617}, {\"date\": \"2020-07-26T00:00:00\", \"county\": \"Suffolk\", \"state\": \"Massachusetts\", \"fips\": 25025.0, \"cases\": 20896, \"deaths\": 1048}, {\"date\": \"2020-07-27T00:00:00\", \"county\": \"Bristol\", \"state\": \"Massachusetts\", \"fips\": 25005.0, \"cases\": 8907, \"deaths\": 617}, {\"date\": \"2020-07-27T00:00:00\", \"county\": \"Suffolk\", \"state\": \"Massachusetts\", \"fips\": 25025.0, \"cases\": 20914, \"deaths\": 1048}, {\"date\": \"2020-07-28T00:00:00\", \"county\": \"Bristol\", \"state\": \"Massachusetts\", \"fips\": 25005.0, \"cases\": 8932, \"deaths\": 621}, {\"date\": \"2020-07-28T00:00:00\", \"county\": \"Suffolk\", \"state\": \"Massachusetts\", \"fips\": 25025.0, \"cases\": 20960, \"deaths\": 1052}, {\"date\": \"2020-07-29T00:00:00\", \"county\": \"Bristol\", \"state\": \"Massachusetts\", \"fips\": 25005.0, \"cases\": 8987, \"deaths\": 622}, {\"date\": \"2020-07-29T00:00:00\", \"county\": \"Suffolk\", \"state\": \"Massachusetts\", \"fips\": 25025.0, \"cases\": 21030, \"deaths\": 1054}, {\"date\": \"2020-07-30T00:00:00\", \"county\": \"Bristol\", \"state\": \"Massachusetts\", \"fips\": 25005.0, \"cases\": 9029, \"deaths\": 623}, {\"date\": \"2020-07-30T00:00:00\", \"county\": \"Suffolk\", \"state\": \"Massachusetts\", \"fips\": 25025.0, \"cases\": 21113, \"deaths\": 1055}, {\"date\": \"2020-07-31T00:00:00\", \"county\": \"Bristol\", \"state\": \"Massachusetts\", \"fips\": 25005.0, \"cases\": 9073, \"deaths\": 623}, {\"date\": \"2020-07-31T00:00:00\", \"county\": \"Suffolk\", \"state\": \"Massachusetts\", \"fips\": 25025.0, \"cases\": 21222, \"deaths\": 1055}, {\"date\": \"2020-08-01T00:00:00\", \"county\": \"Bristol\", \"state\": \"Massachusetts\", \"fips\": 25005.0, \"cases\": 9088, \"deaths\": 623}, {\"date\": \"2020-08-01T00:00:00\", \"county\": \"Suffolk\", \"state\": \"Massachusetts\", \"fips\": 25025.0, \"cases\": 21279, \"deaths\": 1057}, {\"date\": \"2020-08-02T00:00:00\", \"county\": \"Bristol\", \"state\": \"Massachusetts\", \"fips\": 25005.0, \"cases\": 9124, \"deaths\": 625}, {\"date\": \"2020-08-02T00:00:00\", \"county\": \"Suffolk\", \"state\": \"Massachusetts\", \"fips\": 25025.0, \"cases\": 21355, \"deaths\": 1058}, {\"date\": \"2020-08-03T00:00:00\", \"county\": \"Bristol\", \"state\": \"Massachusetts\", \"fips\": 25005.0, \"cases\": 9153, \"deaths\": 626}, {\"date\": \"2020-08-03T00:00:00\", \"county\": \"Suffolk\", \"state\": \"Massachusetts\", \"fips\": 25025.0, \"cases\": 21378, \"deaths\": 1059}, {\"date\": \"2020-08-04T00:00:00\", \"county\": \"Bristol\", \"state\": \"Massachusetts\", \"fips\": 25005.0, \"cases\": 9224, \"deaths\": 626}, {\"date\": \"2020-08-04T00:00:00\", \"county\": \"Suffolk\", \"state\": \"Massachusetts\", \"fips\": 25025.0, \"cases\": 21481, \"deaths\": 1062}, {\"date\": \"2020-08-05T00:00:00\", \"county\": \"Bristol\", \"state\": \"Massachusetts\", \"fips\": 25005.0, \"cases\": 9255, \"deaths\": 626}, {\"date\": \"2020-08-05T00:00:00\", \"county\": \"Suffolk\", \"state\": \"Massachusetts\", \"fips\": 25025.0, \"cases\": 21579, \"deaths\": 1063}, {\"date\": \"2020-08-06T00:00:00\", \"county\": \"Bristol\", \"state\": \"Massachusetts\", \"fips\": 25005.0, \"cases\": 9272, \"deaths\": 629}, {\"date\": \"2020-08-06T00:00:00\", \"county\": \"Suffolk\", \"state\": \"Massachusetts\", \"fips\": 25025.0, \"cases\": 21631, \"deaths\": 1066}, {\"date\": \"2020-08-07T00:00:00\", \"county\": \"Bristol\", \"state\": \"Massachusetts\", \"fips\": 25005.0, \"cases\": 9295, \"deaths\": 632}, {\"date\": \"2020-08-07T00:00:00\", \"county\": \"Suffolk\", \"state\": \"Massachusetts\", \"fips\": 25025.0, \"cases\": 21717, \"deaths\": 1071}, {\"date\": \"2020-08-08T00:00:00\", \"county\": \"Bristol\", \"state\": \"Massachusetts\", \"fips\": 25005.0, \"cases\": 9324, \"deaths\": 632}, {\"date\": \"2020-08-08T00:00:00\", \"county\": \"Suffolk\", \"state\": \"Massachusetts\", \"fips\": 25025.0, \"cases\": 21778, \"deaths\": 1073}, {\"date\": \"2020-08-09T00:00:00\", \"county\": \"Bristol\", \"state\": \"Massachusetts\", \"fips\": 25005.0, \"cases\": 9355, \"deaths\": 634}, {\"date\": \"2020-08-09T00:00:00\", \"county\": \"Suffolk\", \"state\": \"Massachusetts\", \"fips\": 25025.0, \"cases\": 21849, \"deaths\": 1074}, {\"date\": \"2020-08-10T00:00:00\", \"county\": \"Bristol\", \"state\": \"Massachusetts\", \"fips\": 25005.0, \"cases\": 9371, \"deaths\": 635}, {\"date\": \"2020-08-10T00:00:00\", \"county\": \"Suffolk\", \"state\": \"Massachusetts\", \"fips\": 25025.0, \"cases\": 21929, \"deaths\": 1074}, {\"date\": \"2020-08-11T00:00:00\", \"county\": \"Bristol\", \"state\": \"Massachusetts\", \"fips\": 25005.0, \"cases\": 9408, \"deaths\": 637}, {\"date\": \"2020-08-11T00:00:00\", \"county\": \"Suffolk\", \"state\": \"Massachusetts\", \"fips\": 25025.0, \"cases\": 22017, \"deaths\": 1076}, {\"date\": \"2020-08-12T00:00:00\", \"county\": \"Bristol\", \"state\": \"Massachusetts\", \"fips\": 25005.0, \"cases\": 9408, \"deaths\": 637}, {\"date\": \"2020-08-12T00:00:00\", \"county\": \"Suffolk\", \"state\": \"Massachusetts\", \"fips\": 25025.0, \"cases\": 22017, \"deaths\": 1076}, {\"date\": \"2020-08-13T00:00:00\", \"county\": \"Bristol\", \"state\": \"Massachusetts\", \"fips\": 25005.0, \"cases\": 9408, \"deaths\": 637}, {\"date\": \"2020-08-13T00:00:00\", \"county\": \"Suffolk\", \"state\": \"Massachusetts\", \"fips\": 25025.0, \"cases\": 22017, \"deaths\": 1076}, {\"date\": \"2020-08-14T00:00:00\", \"county\": \"Bristol\", \"state\": \"Massachusetts\", \"fips\": 25005.0, \"cases\": 9408, \"deaths\": 637}, {\"date\": \"2020-08-14T00:00:00\", \"county\": \"Suffolk\", \"state\": \"Massachusetts\", \"fips\": 25025.0, \"cases\": 22017, \"deaths\": 1076}, {\"date\": \"2020-08-15T00:00:00\", \"county\": \"Bristol\", \"state\": \"Massachusetts\", \"fips\": 25005.0, \"cases\": 9408, \"deaths\": 637}, {\"date\": \"2020-08-15T00:00:00\", \"county\": \"Suffolk\", \"state\": \"Massachusetts\", \"fips\": 25025.0, \"cases\": 22017, \"deaths\": 1076}, {\"date\": \"2020-08-16T00:00:00\", \"county\": \"Bristol\", \"state\": \"Massachusetts\", \"fips\": 25005.0, \"cases\": 9408, \"deaths\": 637}, {\"date\": \"2020-08-16T00:00:00\", \"county\": \"Suffolk\", \"state\": \"Massachusetts\", \"fips\": 25025.0, \"cases\": 22017, \"deaths\": 1076}, {\"date\": \"2020-08-17T00:00:00\", \"county\": \"Bristol\", \"state\": \"Massachusetts\", \"fips\": 25005.0, \"cases\": 9408, \"deaths\": 637}, {\"date\": \"2020-08-17T00:00:00\", \"county\": \"Suffolk\", \"state\": \"Massachusetts\", \"fips\": 25025.0, \"cases\": 22017, \"deaths\": 1076}, {\"date\": \"2020-08-18T00:00:00\", \"county\": \"Bristol\", \"state\": \"Massachusetts\", \"fips\": 25005.0, \"cases\": 9408, \"deaths\": 637}, {\"date\": \"2020-08-18T00:00:00\", \"county\": \"Suffolk\", \"state\": \"Massachusetts\", \"fips\": 25025.0, \"cases\": 22017, \"deaths\": 1076}, {\"date\": \"2020-08-19T00:00:00\", \"county\": \"Bristol\", \"state\": \"Massachusetts\", \"fips\": 25005.0, \"cases\": 9513, \"deaths\": 644}, {\"date\": \"2020-08-19T00:00:00\", \"county\": \"Suffolk\", \"state\": \"Massachusetts\", \"fips\": 25025.0, \"cases\": 22511, \"deaths\": 1090}, {\"date\": \"2020-08-20T00:00:00\", \"county\": \"Bristol\", \"state\": \"Massachusetts\", \"fips\": 25005.0, \"cases\": 9528, \"deaths\": 645}, {\"date\": \"2020-08-20T00:00:00\", \"county\": \"Suffolk\", \"state\": \"Massachusetts\", \"fips\": 25025.0, \"cases\": 22577, \"deaths\": 1091}, {\"date\": \"2020-08-21T00:00:00\", \"county\": \"Bristol\", \"state\": \"Massachusetts\", \"fips\": 25005.0, \"cases\": 9564, \"deaths\": 649}, {\"date\": \"2020-08-21T00:00:00\", \"county\": \"Suffolk\", \"state\": \"Massachusetts\", \"fips\": 25025.0, \"cases\": 22694, \"deaths\": 1092}, {\"date\": \"2020-08-22T00:00:00\", \"county\": \"Bristol\", \"state\": \"Massachusetts\", \"fips\": 25005.0, \"cases\": 9568, \"deaths\": 650}, {\"date\": \"2020-08-22T00:00:00\", \"county\": \"Suffolk\", \"state\": \"Massachusetts\", \"fips\": 25025.0, \"cases\": 22706, \"deaths\": 1093}, {\"date\": \"2020-08-23T00:00:00\", \"county\": \"Bristol\", \"state\": \"Massachusetts\", \"fips\": 25005.0, \"cases\": 9568, \"deaths\": 650}, {\"date\": \"2020-08-23T00:00:00\", \"county\": \"Suffolk\", \"state\": \"Massachusetts\", \"fips\": 25025.0, \"cases\": 22706, \"deaths\": 1093}, {\"date\": \"2020-08-24T00:00:00\", \"county\": \"Bristol\", \"state\": \"Massachusetts\", \"fips\": 25005.0, \"cases\": 9603, \"deaths\": 650}, {\"date\": \"2020-08-24T00:00:00\", \"county\": \"Suffolk\", \"state\": \"Massachusetts\", \"fips\": 25025.0, \"cases\": 22904, \"deaths\": 1095}, {\"date\": \"2020-08-25T00:00:00\", \"county\": \"Bristol\", \"state\": \"Massachusetts\", \"fips\": 25005.0, \"cases\": 9621, \"deaths\": 652}, {\"date\": \"2020-08-25T00:00:00\", \"county\": \"Suffolk\", \"state\": \"Massachusetts\", \"fips\": 25025.0, \"cases\": 22973, \"deaths\": 1097}, {\"date\": \"2020-08-26T00:00:00\", \"county\": \"Bristol\", \"state\": \"Massachusetts\", \"fips\": 25005.0, \"cases\": 9642, \"deaths\": 653}, {\"date\": \"2020-08-26T00:00:00\", \"county\": \"Suffolk\", \"state\": \"Massachusetts\", \"fips\": 25025.0, \"cases\": 23064, \"deaths\": 1101}, {\"date\": \"2020-08-27T00:00:00\", \"county\": \"Bristol\", \"state\": \"Massachusetts\", \"fips\": 25005.0, \"cases\": 9671, \"deaths\": 655}, {\"date\": \"2020-08-27T00:00:00\", \"county\": \"Suffolk\", \"state\": \"Massachusetts\", \"fips\": 25025.0, \"cases\": 23154, \"deaths\": 1105}, {\"date\": \"2020-08-28T00:00:00\", \"county\": \"Bristol\", \"state\": \"Massachusetts\", \"fips\": 25005.0, \"cases\": 9699, \"deaths\": 657}, {\"date\": \"2020-08-28T00:00:00\", \"county\": \"Suffolk\", \"state\": \"Massachusetts\", \"fips\": 25025.0, \"cases\": 23261, \"deaths\": 1106}, {\"date\": \"2020-08-29T00:00:00\", \"county\": \"Bristol\", \"state\": \"Massachusetts\", \"fips\": 25005.0, \"cases\": 9744, \"deaths\": 657}, {\"date\": \"2020-08-29T00:00:00\", \"county\": \"Suffolk\", \"state\": \"Massachusetts\", \"fips\": 25025.0, \"cases\": 23350, \"deaths\": 1107}, {\"date\": \"2020-08-30T00:00:00\", \"county\": \"Bristol\", \"state\": \"Massachusetts\", \"fips\": 25005.0, \"cases\": 9757, \"deaths\": 659}, {\"date\": \"2020-08-30T00:00:00\", \"county\": \"Suffolk\", \"state\": \"Massachusetts\", \"fips\": 25025.0, \"cases\": 23403, \"deaths\": 1107}, {\"date\": \"2020-08-31T00:00:00\", \"county\": \"Bristol\", \"state\": \"Massachusetts\", \"fips\": 25005.0, \"cases\": 9790, \"deaths\": 659}, {\"date\": \"2020-08-31T00:00:00\", \"county\": \"Suffolk\", \"state\": \"Massachusetts\", \"fips\": 25025.0, \"cases\": 23472, \"deaths\": 1109}, {\"date\": \"2020-09-01T00:00:00\", \"county\": \"Bristol\", \"state\": \"Massachusetts\", \"fips\": 25005.0, \"cases\": 9824, \"deaths\": 659}, {\"date\": \"2020-09-01T00:00:00\", \"county\": \"Suffolk\", \"state\": \"Massachusetts\", \"fips\": 25025.0, \"cases\": 23552, \"deaths\": 1110}, {\"date\": \"2020-09-02T00:00:00\", \"county\": \"Bristol\", \"state\": \"Massachusetts\", \"fips\": 25005.0, \"cases\": 9211, \"deaths\": 655}, {\"date\": \"2020-09-02T00:00:00\", \"county\": \"Suffolk\", \"state\": \"Massachusetts\", \"fips\": 25025.0, \"cases\": 22508, \"deaths\": 1104}, {\"date\": \"2020-09-03T00:00:00\", \"county\": \"Bristol\", \"state\": \"Massachusetts\", \"fips\": 25005.0, \"cases\": 9252, \"deaths\": 659}, {\"date\": \"2020-09-03T00:00:00\", \"county\": \"Suffolk\", \"state\": \"Massachusetts\", \"fips\": 25025.0, \"cases\": 22593, \"deaths\": 1106}, {\"date\": \"2020-09-04T00:00:00\", \"county\": \"Bristol\", \"state\": \"Massachusetts\", \"fips\": 25005.0, \"cases\": 9296, \"deaths\": 661}, {\"date\": \"2020-09-04T00:00:00\", \"county\": \"Suffolk\", \"state\": \"Massachusetts\", \"fips\": 25025.0, \"cases\": 22529, \"deaths\": 1107}, {\"date\": \"2020-09-05T00:00:00\", \"county\": \"Bristol\", \"state\": \"Massachusetts\", \"fips\": 25005.0, \"cases\": 9340, \"deaths\": 662}, {\"date\": \"2020-09-05T00:00:00\", \"county\": \"Suffolk\", \"state\": \"Massachusetts\", \"fips\": 25025.0, \"cases\": 22623, \"deaths\": 1110}, {\"date\": \"2020-09-06T00:00:00\", \"county\": \"Bristol\", \"state\": \"Massachusetts\", \"fips\": 25005.0, \"cases\": 9365, \"deaths\": 664}, {\"date\": \"2020-09-06T00:00:00\", \"county\": \"Suffolk\", \"state\": \"Massachusetts\", \"fips\": 25025.0, \"cases\": 22697, \"deaths\": 1110}, {\"date\": \"2020-09-07T00:00:00\", \"county\": \"Bristol\", \"state\": \"Massachusetts\", \"fips\": 25005.0, \"cases\": 9393, \"deaths\": 667}, {\"date\": \"2020-09-07T00:00:00\", \"county\": \"Suffolk\", \"state\": \"Massachusetts\", \"fips\": 25025.0, \"cases\": 22756, \"deaths\": 1111}, {\"date\": \"2020-09-08T00:00:00\", \"county\": \"Bristol\", \"state\": \"Massachusetts\", \"fips\": 25005.0, \"cases\": 9409, \"deaths\": 668}, {\"date\": \"2020-09-08T00:00:00\", \"county\": \"Suffolk\", \"state\": \"Massachusetts\", \"fips\": 25025.0, \"cases\": 22788, \"deaths\": 1111}, {\"date\": \"2020-09-09T00:00:00\", \"county\": \"Bristol\", \"state\": \"Massachusetts\", \"fips\": 25005.0, \"cases\": 9418, \"deaths\": 668}, {\"date\": \"2020-09-09T00:00:00\", \"county\": \"Suffolk\", \"state\": \"Massachusetts\", \"fips\": 25025.0, \"cases\": 22831, \"deaths\": 1111}, {\"date\": \"2020-09-10T00:00:00\", \"county\": \"Bristol\", \"state\": \"Massachusetts\", \"fips\": 25005.0, \"cases\": 9448, \"deaths\": 670}, {\"date\": \"2020-09-10T00:00:00\", \"county\": \"Suffolk\", \"state\": \"Massachusetts\", \"fips\": 25025.0, \"cases\": 22920, \"deaths\": 1113}]}}, {\"mode\": \"vega-lite\"});\n",
              "</script>"
            ]
          },
          "metadata": {
            "tags": []
          },
          "execution_count": 233
        }
      ]
    },
    {
      "cell_type": "code",
      "metadata": {
        "id": "pFJzhq6Qpvdz",
        "colab_type": "code",
        "colab": {}
      },
      "source": [
        ""
      ],
      "execution_count": null,
      "outputs": []
    }
  ]
}